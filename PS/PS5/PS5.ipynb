{
 "cells": [
  {
   "cell_type": "markdown",
   "id": "19cf054b-c741-478c-b510-4d3850507e78",
   "metadata": {},
   "source": [
    "# INFO 370 PS5\n",
    "*Name: Brian Park*"
   ]
  },
  {
   "cell_type": "markdown",
   "id": "383b4665-d2ad-4a38-b222-f7127f16c757",
   "metadata": {},
   "source": [
    "List your collaborators here:\n",
    "1. Jae Sang Woo"
   ]
  },
  {
   "cell_type": "code",
   "execution_count": 1028,
   "id": "d6454382-ff91-46de-8e7d-dcbf60f07429",
   "metadata": {},
   "outputs": [],
   "source": [
    "import pandas as pd\n",
    "import numpy as np\n",
    "import matplotlib.pyplot as plt\n",
    "import seaborn as sns\n",
    "import statsmodels.formula.api as smf"
   ]
  },
  {
   "cell_type": "markdown",
   "id": "a449ac61-dc14-4f4e-a0f6-085968a9ab4c",
   "metadata": {
    "tags": []
   },
   "source": [
    "## 1. When will we hit 2C of global warming?"
   ]
  },
  {
   "cell_type": "markdown",
   "id": "48c9444b-1c43-4d87-9e82-0f46509d1afd",
   "metadata": {},
   "source": [
    "1. (1pt) Load data. Ensure it looks good.\n",
    "2. (2pt) Make a plot of the temperature anomaly for all years in the dataset. Describe what you see–how has global temperature behaved through the last 170 years? Hint: you may want to rename the data variables to something simpler"
   ]
  },
  {
   "cell_type": "code",
   "execution_count": 1029,
   "id": "53d71ee7-e471-4f50-9ec9-34f71bf21488",
   "metadata": {},
   "outputs": [
    {
     "data": {
      "text/html": [
       "<div>\n",
       "<style scoped>\n",
       "    .dataframe tbody tr th:only-of-type {\n",
       "        vertical-align: middle;\n",
       "    }\n",
       "\n",
       "    .dataframe tbody tr th {\n",
       "        vertical-align: top;\n",
       "    }\n",
       "\n",
       "    .dataframe thead th {\n",
       "        text-align: right;\n",
       "    }\n",
       "</style>\n",
       "<table border=\"1\" class=\"dataframe\">\n",
       "  <thead>\n",
       "    <tr style=\"text-align: right;\">\n",
       "      <th></th>\n",
       "      <th>Time</th>\n",
       "      <th>Anomaly</th>\n",
       "      <th>LowerCL</th>\n",
       "      <th>UpperCL</th>\n",
       "    </tr>\n",
       "  </thead>\n",
       "  <tbody>\n",
       "    <tr>\n",
       "      <th>0</th>\n",
       "      <td>1850</td>\n",
       "      <td>-0.417659</td>\n",
       "      <td>-0.589203</td>\n",
       "      <td>-0.246115</td>\n",
       "    </tr>\n",
       "    <tr>\n",
       "      <th>1</th>\n",
       "      <td>1851</td>\n",
       "      <td>-0.233350</td>\n",
       "      <td>-0.411868</td>\n",
       "      <td>-0.054832</td>\n",
       "    </tr>\n",
       "    <tr>\n",
       "      <th>2</th>\n",
       "      <td>1852</td>\n",
       "      <td>-0.229399</td>\n",
       "      <td>-0.409382</td>\n",
       "      <td>-0.049416</td>\n",
       "    </tr>\n",
       "    <tr>\n",
       "      <th>3</th>\n",
       "      <td>1853</td>\n",
       "      <td>-0.270354</td>\n",
       "      <td>-0.430009</td>\n",
       "      <td>-0.110700</td>\n",
       "    </tr>\n",
       "    <tr>\n",
       "      <th>4</th>\n",
       "      <td>1854</td>\n",
       "      <td>-0.291630</td>\n",
       "      <td>-0.432824</td>\n",
       "      <td>-0.150436</td>\n",
       "    </tr>\n",
       "  </tbody>\n",
       "</table>\n",
       "</div>"
      ],
      "text/plain": [
       "   Time   Anomaly   LowerCL   UpperCL\n",
       "0  1850 -0.417659 -0.589203 -0.246115\n",
       "1  1851 -0.233350 -0.411868 -0.054832\n",
       "2  1852 -0.229399 -0.409382 -0.049416\n",
       "3  1853 -0.270354 -0.430009 -0.110700\n",
       "4  1854 -0.291630 -0.432824 -0.150436"
      ]
     },
     "execution_count": 1029,
     "metadata": {},
     "output_type": "execute_result"
    }
   ],
   "source": [
    "#1-1\n",
    "df = pd.read_csv(\"../data/hadcrut-5.0.1.0-annual.csv.bz2\", sep=\",\")\n",
    "dfCrut = df.rename(columns = {'Anomaly (deg C)': 'Anomaly',\n",
    "                             'Lower confidence limit (2.5%)': 'LowerCL',\n",
    "                             'Upper confidence limit (97.5%)': 'UpperCL'}, \n",
    "                   inplace = False)\n",
    "dfCrut.head()"
   ]
  },
  {
   "cell_type": "code",
   "execution_count": 1030,
   "id": "d1494518-8888-4cd8-bbe2-7f6107b0e258",
   "metadata": {},
   "outputs": [
    {
     "data": {
      "image/png": "[encoded data removed]",
      "text/plain": [
       "<Figure size 432x288 with 1 Axes>"
      ]
     },
     "metadata": {
      "needs_background": "light"
     },
     "output_type": "display_data"
    }
   ],
   "source": [
    "#1-2\n",
    "_ = plt.plot('Time', 'Anomaly', data = dfCrut)"
   ]
  },
  {
   "cell_type": "markdown",
   "id": "c9df2f0f-d07f-44bf-8506-b34cf46a09e7",
   "metadata": {},
   "source": [
    "According to the plot above, the global temperature has continually increased overall over the last 170 years."
   ]
  },
  {
   "cell_type": "markdown",
   "id": "fac1fc55-4dca-4086-b3ab-1e70df4013a9",
   "metadata": {},
   "source": [
    "1. (2pt) Compute the baseline anomaly (for 1850-1900).\n",
    "2. (3pt) Make a plot that shows the last 60 years of data, overlied with the regression line. In your opinion–does the regression line describe the trend well? Hint: you can add regression line to the plot with matplotlib, but I recommend you to check out sns.regplot instead.\n",
    "3. (2pt) But we have a problem with these data–the anomaly figures reported there are computed w.r.t. the 1961-1990 period. Create a new variable that describes the temperature anomaly above the pre-industrial baseline that you computed above in Q1.1. Hint: should be -0.06 in year 1850.\n",
    "4. (4pt) Estimate a linear regression model where you describe the anomaly (measured above baseline in q3) as a function of years. How large is R2? What does this number tell you? Note: in terms of interpeting the coefficients below, I recommend to use years relative to 2000, i.e. 1999 = −1, 2000 = 0, 2001 = 1 etc.\n",
    "5. (4pt) Interpret the coefficients. What does the slope mean? Is it statistically significant?\n",
    "6. (6pt) What does the intercept mean if (a) you use years as is (1999, 2000, 2001, . . . )? (b) you use years relative to 2000 (-1, 0, 1, . . . )? Is it statistically significant? \n",
    "7. (4pt) Use the intercept and slope, and compute how much above the pre-industrial baseline is the world now, in 2022.\n",
    "8. (9pt) Now use the slope and intercept to find which year will the trend hit 1.5C, and when will it hit 2C. Hint: we should hit 1.5 degrees ∼ 2038, and 2C around the time of your retirement.\n",
    "9. (4pt) Now think about these two threshold years you computed. What do you think, might the thresholds be actually crossed earlier or later than what you computed, or maybe not at all? What does it depend on? Can you improve your model to make your predictions better?"
   ]
  },
  {
   "cell_type": "code",
   "execution_count": 1031,
   "id": "4de3efb8-4097-4cca-b670-7ad95f56e6f9",
   "metadata": {},
   "outputs": [
    {
     "data": {
      "text/plain": [
       "-0.3565021707254903"
      ]
     },
     "execution_count": 1031,
     "metadata": {},
     "output_type": "execute_result"
    }
   ],
   "source": [
    "#1-1\n",
    "dfF50 = dfCrut[dfCrut['Time'] <= 1900]\n",
    "bLine = np.mean(dfF50['Anomaly'])\n",
    "bLine"
   ]
  },
  {
   "cell_type": "markdown",
   "id": "0dd9412f-7d58-4a5a-8bf6-78ef58ea500d",
   "metadata": {},
   "source": [
    "The baseline anomaly from 1850 to 1900 is about -0.3565°C."
   ]
  },
  {
   "cell_type": "code",
   "execution_count": 1032,
   "id": "2d462ff4-279c-41b1-ab00-d467df552cf6",
   "metadata": {},
   "outputs": [
    {
     "data": {
      "image/png": "[encoded data removed]",
      "text/plain": [
       "<Figure size 432x288 with 1 Axes>"
      ]
     },
     "metadata": {
      "needs_background": "light"
     },
     "output_type": "display_data"
    }
   ],
   "source": [
    "#1-2\n",
    "dfL60 = dfCrut[dfCrut['Time'] >= (np.max(dfCrut['Time']) - 59)]\n",
    "\n",
    "_ = sns.regplot(x = \"Time\", y = \"Anomaly\", scatter_kws = {\"color\":\"blue\", \n",
    "                                                          \"alpha\":0.3, \n",
    "                                                          \"edgecolor\":\"black\"},\n",
    "                line_kws={\"color\":\"red\"}, data=dfL60)\n",
    "_ = plt.show()"
   ]
  },
  {
   "cell_type": "markdown",
   "id": "8716c9c6-81dd-46cb-a4a6-17ca359121b0",
   "metadata": {},
   "source": [
    "The regression line well describes an upward trend and the dots are aligned well along the regression line."
   ]
  },
  {
   "cell_type": "code",
   "execution_count": 1033,
   "id": "3ed4db91-6eef-4eac-b7b1-1824f8734a85",
   "metadata": {},
   "outputs": [
    {
     "data": {
      "text/html": [
       "<div>\n",
       "<style scoped>\n",
       "    .dataframe tbody tr th:only-of-type {\n",
       "        vertical-align: middle;\n",
       "    }\n",
       "\n",
       "    .dataframe tbody tr th {\n",
       "        vertical-align: top;\n",
       "    }\n",
       "\n",
       "    .dataframe thead th {\n",
       "        text-align: right;\n",
       "    }\n",
       "</style>\n",
       "<table border=\"1\" class=\"dataframe\">\n",
       "  <thead>\n",
       "    <tr style=\"text-align: right;\">\n",
       "      <th></th>\n",
       "      <th>Time</th>\n",
       "      <th>Anomaly</th>\n",
       "      <th>LowerCL</th>\n",
       "      <th>UpperCL</th>\n",
       "      <th>aboveBLine</th>\n",
       "    </tr>\n",
       "  </thead>\n",
       "  <tbody>\n",
       "    <tr>\n",
       "      <th>0</th>\n",
       "      <td>1850</td>\n",
       "      <td>-0.417659</td>\n",
       "      <td>-0.589203</td>\n",
       "      <td>-0.246115</td>\n",
       "      <td>-0.061157</td>\n",
       "    </tr>\n",
       "    <tr>\n",
       "      <th>1</th>\n",
       "      <td>1851</td>\n",
       "      <td>-0.233350</td>\n",
       "      <td>-0.411868</td>\n",
       "      <td>-0.054832</td>\n",
       "      <td>0.123152</td>\n",
       "    </tr>\n",
       "    <tr>\n",
       "      <th>2</th>\n",
       "      <td>1852</td>\n",
       "      <td>-0.229399</td>\n",
       "      <td>-0.409382</td>\n",
       "      <td>-0.049416</td>\n",
       "      <td>0.127103</td>\n",
       "    </tr>\n",
       "    <tr>\n",
       "      <th>3</th>\n",
       "      <td>1853</td>\n",
       "      <td>-0.270354</td>\n",
       "      <td>-0.430009</td>\n",
       "      <td>-0.110700</td>\n",
       "      <td>0.086148</td>\n",
       "    </tr>\n",
       "    <tr>\n",
       "      <th>4</th>\n",
       "      <td>1854</td>\n",
       "      <td>-0.291630</td>\n",
       "      <td>-0.432824</td>\n",
       "      <td>-0.150436</td>\n",
       "      <td>0.064872</td>\n",
       "    </tr>\n",
       "  </tbody>\n",
       "</table>\n",
       "</div>"
      ],
      "text/plain": [
       "   Time   Anomaly   LowerCL   UpperCL  aboveBLine\n",
       "0  1850 -0.417659 -0.589203 -0.246115   -0.061157\n",
       "1  1851 -0.233350 -0.411868 -0.054832    0.123152\n",
       "2  1852 -0.229399 -0.409382 -0.049416    0.127103\n",
       "3  1853 -0.270354 -0.430009 -0.110700    0.086148\n",
       "4  1854 -0.291630 -0.432824 -0.150436    0.064872"
      ]
     },
     "execution_count": 1033,
     "metadata": {},
     "output_type": "execute_result"
    }
   ],
   "source": [
    "#1-3\n",
    "dfCrut[\"aboveBLine\"] = dfCrut[\"Anomaly\"] - bLine\n",
    "dfCrut.head()"
   ]
  },
  {
   "cell_type": "code",
   "execution_count": 1034,
   "id": "1e56003d-39e2-47c1-97b7-380157a46731",
   "metadata": {},
   "outputs": [
    {
     "data": {
      "text/html": [
       "<table class=\"simpletable\">\n",
       "<caption>OLS Regression Results</caption>\n",
       "<tr>\n",
       "  <th>Dep. Variable:</th>       <td>aboveBLine</td>    <th>  R-squared:         </th> <td>   0.920</td>\n",
       "</tr>\n",
       "<tr>\n",
       "  <th>Model:</th>                   <td>OLS</td>       <th>  Adj. R-squared:    </th> <td>   0.918</td>\n",
       "</tr>\n",
       "<tr>\n",
       "  <th>Method:</th>             <td>Least Squares</td>  <th>  F-statistic:       </th> <td>   665.3</td>\n",
       "</tr>\n",
       "<tr>\n",
       "  <th>Date:</th>             <td>Mon, 14 Nov 2022</td> <th>  Prob (F-statistic):</th> <td>1.80e-33</td>\n",
       "</tr>\n",
       "<tr>\n",
       "  <th>Time:</th>                 <td>05:36:26</td>     <th>  Log-Likelihood:    </th> <td>  55.935</td>\n",
       "</tr>\n",
       "<tr>\n",
       "  <th>No. Observations:</th>      <td>    60</td>      <th>  AIC:               </th> <td>  -107.9</td>\n",
       "</tr>\n",
       "<tr>\n",
       "  <th>Df Residuals:</th>          <td>    58</td>      <th>  BIC:               </th> <td>  -103.7</td>\n",
       "</tr>\n",
       "<tr>\n",
       "  <th>Df Model:</th>              <td>     1</td>      <th>                     </th>     <td> </td>   \n",
       "</tr>\n",
       "<tr>\n",
       "  <th>Covariance Type:</th>      <td>nonrobust</td>    <th>                     </th>     <td> </td>   \n",
       "</tr>\n",
       "</table>\n",
       "<table class=\"simpletable\">\n",
       "<tr>\n",
       "      <td></td>         <th>coef</th>     <th>std err</th>      <th>t</th>      <th>P>|t|</th>  <th>[0.025</th>    <th>0.975]</th>  \n",
       "</tr>\n",
       "<tr>\n",
       "  <th>Intercept</th> <td>    0.7996</td> <td>    0.014</td> <td>   58.663</td> <td> 0.000</td> <td>    0.772</td> <td>    0.827</td>\n",
       "</tr>\n",
       "<tr>\n",
       "  <th>diffTime</th>  <td>    0.0186</td> <td>    0.001</td> <td>   25.794</td> <td> 0.000</td> <td>    0.017</td> <td>    0.020</td>\n",
       "</tr>\n",
       "</table>\n",
       "<table class=\"simpletable\">\n",
       "<tr>\n",
       "  <th>Omnibus:</th>       <td> 2.154</td> <th>  Durbin-Watson:     </th> <td>   1.718</td>\n",
       "</tr>\n",
       "<tr>\n",
       "  <th>Prob(Omnibus):</th> <td> 0.341</td> <th>  Jarque-Bera (JB):  </th> <td>   1.385</td>\n",
       "</tr>\n",
       "<tr>\n",
       "  <th>Skew:</th>          <td> 0.061</td> <th>  Prob(JB):          </th> <td>   0.500</td>\n",
       "</tr>\n",
       "<tr>\n",
       "  <th>Kurtosis:</th>      <td> 2.266</td> <th>  Cond. No.          </th> <td>    20.6</td>\n",
       "</tr>\n",
       "</table><br/><br/>Notes:<br/>[1] Standard Errors assume that the covariance matrix of the errors is correctly specified."
      ],
      "text/plain": [
       "<class 'statsmodels.iolib.summary.Summary'>\n",
       "\"\"\"\n",
       "                            OLS Regression Results                            \n",
       "==============================================================================\n",
       "Dep. Variable:             aboveBLine   R-squared:                       0.920\n",
       "Model:                            OLS   Adj. R-squared:                  0.918\n",
       "Method:                 Least Squares   F-statistic:                     665.3\n",
       "Date:                Mon, 14 Nov 2022   Prob (F-statistic):           1.80e-33\n",
       "Time:                        05:36:26   Log-Likelihood:                 55.935\n",
       "No. Observations:                  60   AIC:                            -107.9\n",
       "Df Residuals:                      58   BIC:                            -103.7\n",
       "Df Model:                           1                                         \n",
       "Covariance Type:            nonrobust                                         \n",
       "==============================================================================\n",
       "                 coef    std err          t      P>|t|      [0.025      0.975]\n",
       "------------------------------------------------------------------------------\n",
       "Intercept      0.7996      0.014     58.663      0.000       0.772       0.827\n",
       "diffTime       0.0186      0.001     25.794      0.000       0.017       0.020\n",
       "==============================================================================\n",
       "Omnibus:                        2.154   Durbin-Watson:                   1.718\n",
       "Prob(Omnibus):                  0.341   Jarque-Bera (JB):                1.385\n",
       "Skew:                           0.061   Prob(JB):                        0.500\n",
       "Kurtosis:                       2.266   Cond. No.                         20.6\n",
       "==============================================================================\n",
       "\n",
       "Notes:\n",
       "[1] Standard Errors assume that the covariance matrix of the errors is correctly specified.\n",
       "\"\"\""
      ]
     },
     "execution_count": 1034,
     "metadata": {},
     "output_type": "execute_result"
    }
   ],
   "source": [
    "#1-4\n",
    "dfCrut[\"diffTime\"] = dfCrut[\"Time\"] - 2000\n",
    "dfL60 = dfCrut[dfCrut['Time'] >= (np.max(dfCrut['Time']) - 59)]\n",
    "m = smf.ols(\"aboveBLine ~ diffTime\", data = dfL60).fit()\n",
    "m.summary()"
   ]
  },
  {
   "cell_type": "markdown",
   "id": "876c8f28-4309-4b0b-a518-b7822523e396",
   "metadata": {},
   "source": [
    "R2 is 0.920, indicating that 92% of the explanatory validity of the variance of the dependent variable is explained by the variance of the independent variable. R2 simply means that this model has 92% explanatory power. The higher the R2 value is, the closer the data is aligned with the regression line."
   ]
  },
  {
   "cell_type": "code",
   "execution_count": 1035,
   "id": "c1aeb472-4044-4b63-9803-0b609c4c9858",
   "metadata": {},
   "outputs": [],
   "source": [
    "#1-5-β0"
   ]
  },
  {
   "cell_type": "markdown",
   "id": "ff533502-9b65-447b-aedd-b97a3f400bea",
   "metadata": {},
   "source": [
    "0.7996 (β0 coefficient) represents that the temperature anomaly above the pre-industrial baseline increases by 0.7996°C in the year 2000. It is statistically significant because its p-value is less than 5%."
   ]
  },
  {
   "cell_type": "code",
   "execution_count": 1036,
   "id": "4084302d-35d7-44a0-9788-604a547b241c",
   "metadata": {},
   "outputs": [],
   "source": [
    "#1-5-β1-slope"
   ]
  },
  {
   "cell_type": "markdown",
   "id": "77f1a9a2-399c-4e6b-bf56-f7a59c34b9db",
   "metadata": {},
   "source": [
    "With each passing year, the temperature anomaly above the pre-industrial baseline increases by 0.0186°C. It is statistically significant because its p-value is less than 5%."
   ]
  },
  {
   "cell_type": "code",
   "execution_count": 1037,
   "id": "953fdcd6-788d-45dd-8c57-7b2c67b819d8",
   "metadata": {},
   "outputs": [
    {
     "data": {
      "text/html": [
       "<table class=\"simpletable\">\n",
       "<caption>OLS Regression Results</caption>\n",
       "<tr>\n",
       "  <th>Dep. Variable:</th>       <td>aboveBLine</td>    <th>  R-squared:         </th> <td>   0.920</td>\n",
       "</tr>\n",
       "<tr>\n",
       "  <th>Model:</th>                   <td>OLS</td>       <th>  Adj. R-squared:    </th> <td>   0.918</td>\n",
       "</tr>\n",
       "<tr>\n",
       "  <th>Method:</th>             <td>Least Squares</td>  <th>  F-statistic:       </th> <td>   665.3</td>\n",
       "</tr>\n",
       "<tr>\n",
       "  <th>Date:</th>             <td>Mon, 14 Nov 2022</td> <th>  Prob (F-statistic):</th> <td>1.80e-33</td>\n",
       "</tr>\n",
       "<tr>\n",
       "  <th>Time:</th>                 <td>05:36:26</td>     <th>  Log-Likelihood:    </th> <td>  55.935</td>\n",
       "</tr>\n",
       "<tr>\n",
       "  <th>No. Observations:</th>      <td>    60</td>      <th>  AIC:               </th> <td>  -107.9</td>\n",
       "</tr>\n",
       "<tr>\n",
       "  <th>Df Residuals:</th>          <td>    58</td>      <th>  BIC:               </th> <td>  -103.7</td>\n",
       "</tr>\n",
       "<tr>\n",
       "  <th>Df Model:</th>              <td>     1</td>      <th>                     </th>     <td> </td>   \n",
       "</tr>\n",
       "<tr>\n",
       "  <th>Covariance Type:</th>      <td>nonrobust</td>    <th>                     </th>     <td> </td>   \n",
       "</tr>\n",
       "</table>\n",
       "<table class=\"simpletable\">\n",
       "<tr>\n",
       "      <td></td>         <th>coef</th>     <th>std err</th>      <th>t</th>      <th>P>|t|</th>  <th>[0.025</th>    <th>0.975]</th>  \n",
       "</tr>\n",
       "<tr>\n",
       "  <th>Intercept</th> <td>  -36.4592</td> <td>    1.439</td> <td>  -25.335</td> <td> 0.000</td> <td>  -39.340</td> <td>  -33.578</td>\n",
       "</tr>\n",
       "<tr>\n",
       "  <th>Time</th>      <td>    0.0186</td> <td>    0.001</td> <td>   25.794</td> <td> 0.000</td> <td>    0.017</td> <td>    0.020</td>\n",
       "</tr>\n",
       "</table>\n",
       "<table class=\"simpletable\">\n",
       "<tr>\n",
       "  <th>Omnibus:</th>       <td> 2.154</td> <th>  Durbin-Watson:     </th> <td>   1.718</td>\n",
       "</tr>\n",
       "<tr>\n",
       "  <th>Prob(Omnibus):</th> <td> 0.341</td> <th>  Jarque-Bera (JB):  </th> <td>   1.385</td>\n",
       "</tr>\n",
       "<tr>\n",
       "  <th>Skew:</th>          <td> 0.061</td> <th>  Prob(JB):          </th> <td>   0.500</td>\n",
       "</tr>\n",
       "<tr>\n",
       "  <th>Kurtosis:</th>      <td> 2.266</td> <th>  Cond. No.          </th> <td>2.29e+05</td>\n",
       "</tr>\n",
       "</table><br/><br/>Notes:<br/>[1] Standard Errors assume that the covariance matrix of the errors is correctly specified.<br/>[2] The condition number is large, 2.29e+05. This might indicate that there are<br/>strong multicollinearity or other numerical problems."
      ],
      "text/plain": [
       "<class 'statsmodels.iolib.summary.Summary'>\n",
       "\"\"\"\n",
       "                            OLS Regression Results                            \n",
       "==============================================================================\n",
       "Dep. Variable:             aboveBLine   R-squared:                       0.920\n",
       "Model:                            OLS   Adj. R-squared:                  0.918\n",
       "Method:                 Least Squares   F-statistic:                     665.3\n",
       "Date:                Mon, 14 Nov 2022   Prob (F-statistic):           1.80e-33\n",
       "Time:                        05:36:26   Log-Likelihood:                 55.935\n",
       "No. Observations:                  60   AIC:                            -107.9\n",
       "Df Residuals:                      58   BIC:                            -103.7\n",
       "Df Model:                           1                                         \n",
       "Covariance Type:            nonrobust                                         \n",
       "==============================================================================\n",
       "                 coef    std err          t      P>|t|      [0.025      0.975]\n",
       "------------------------------------------------------------------------------\n",
       "Intercept    -36.4592      1.439    -25.335      0.000     -39.340     -33.578\n",
       "Time           0.0186      0.001     25.794      0.000       0.017       0.020\n",
       "==============================================================================\n",
       "Omnibus:                        2.154   Durbin-Watson:                   1.718\n",
       "Prob(Omnibus):                  0.341   Jarque-Bera (JB):                1.385\n",
       "Skew:                           0.061   Prob(JB):                        0.500\n",
       "Kurtosis:                       2.266   Cond. No.                     2.29e+05\n",
       "==============================================================================\n",
       "\n",
       "Notes:\n",
       "[1] Standard Errors assume that the covariance matrix of the errors is correctly specified.\n",
       "[2] The condition number is large, 2.29e+05. This might indicate that there are\n",
       "strong multicollinearity or other numerical problems.\n",
       "\"\"\""
      ]
     },
     "execution_count": 1037,
     "metadata": {},
     "output_type": "execute_result"
    }
   ],
   "source": [
    "#1-6-a\n",
    "m = smf.ols(\"aboveBLine ~ Time\", data = dfL60).fit()\n",
    "m.summary()"
   ]
  },
  {
   "cell_type": "markdown",
   "id": "c7f1c565-1f28-489d-8b1f-5a83e8c1d9a4",
   "metadata": {},
   "source": [
    "-36.4592 (β0 coefficient) represents that the temperature anomaly above the pre-industrial baseline decreased by 36.4592°C in the year 0. It is statistically significant because its p-value is less than 5%."
   ]
  },
  {
   "cell_type": "code",
   "execution_count": 1038,
   "id": "355d27dc-0c11-4a1c-b641-d9d56bc21037",
   "metadata": {},
   "outputs": [
    {
     "data": {
      "text/html": [
       "<table class=\"simpletable\">\n",
       "<caption>OLS Regression Results</caption>\n",
       "<tr>\n",
       "  <th>Dep. Variable:</th>       <td>aboveBLine</td>    <th>  R-squared:         </th> <td>   0.920</td>\n",
       "</tr>\n",
       "<tr>\n",
       "  <th>Model:</th>                   <td>OLS</td>       <th>  Adj. R-squared:    </th> <td>   0.918</td>\n",
       "</tr>\n",
       "<tr>\n",
       "  <th>Method:</th>             <td>Least Squares</td>  <th>  F-statistic:       </th> <td>   665.3</td>\n",
       "</tr>\n",
       "<tr>\n",
       "  <th>Date:</th>             <td>Mon, 14 Nov 2022</td> <th>  Prob (F-statistic):</th> <td>1.80e-33</td>\n",
       "</tr>\n",
       "<tr>\n",
       "  <th>Time:</th>                 <td>05:36:26</td>     <th>  Log-Likelihood:    </th> <td>  55.935</td>\n",
       "</tr>\n",
       "<tr>\n",
       "  <th>No. Observations:</th>      <td>    60</td>      <th>  AIC:               </th> <td>  -107.9</td>\n",
       "</tr>\n",
       "<tr>\n",
       "  <th>Df Residuals:</th>          <td>    58</td>      <th>  BIC:               </th> <td>  -103.7</td>\n",
       "</tr>\n",
       "<tr>\n",
       "  <th>Df Model:</th>              <td>     1</td>      <th>                     </th>     <td> </td>   \n",
       "</tr>\n",
       "<tr>\n",
       "  <th>Covariance Type:</th>      <td>nonrobust</td>    <th>                     </th>     <td> </td>   \n",
       "</tr>\n",
       "</table>\n",
       "<table class=\"simpletable\">\n",
       "<tr>\n",
       "      <td></td>         <th>coef</th>     <th>std err</th>      <th>t</th>      <th>P>|t|</th>  <th>[0.025</th>    <th>0.975]</th>  \n",
       "</tr>\n",
       "<tr>\n",
       "  <th>Intercept</th> <td>    0.7996</td> <td>    0.014</td> <td>   58.663</td> <td> 0.000</td> <td>    0.772</td> <td>    0.827</td>\n",
       "</tr>\n",
       "<tr>\n",
       "  <th>diffTime</th>  <td>    0.0186</td> <td>    0.001</td> <td>   25.794</td> <td> 0.000</td> <td>    0.017</td> <td>    0.020</td>\n",
       "</tr>\n",
       "</table>\n",
       "<table class=\"simpletable\">\n",
       "<tr>\n",
       "  <th>Omnibus:</th>       <td> 2.154</td> <th>  Durbin-Watson:     </th> <td>   1.718</td>\n",
       "</tr>\n",
       "<tr>\n",
       "  <th>Prob(Omnibus):</th> <td> 0.341</td> <th>  Jarque-Bera (JB):  </th> <td>   1.385</td>\n",
       "</tr>\n",
       "<tr>\n",
       "  <th>Skew:</th>          <td> 0.061</td> <th>  Prob(JB):          </th> <td>   0.500</td>\n",
       "</tr>\n",
       "<tr>\n",
       "  <th>Kurtosis:</th>      <td> 2.266</td> <th>  Cond. No.          </th> <td>    20.6</td>\n",
       "</tr>\n",
       "</table><br/><br/>Notes:<br/>[1] Standard Errors assume that the covariance matrix of the errors is correctly specified."
      ],
      "text/plain": [
       "<class 'statsmodels.iolib.summary.Summary'>\n",
       "\"\"\"\n",
       "                            OLS Regression Results                            \n",
       "==============================================================================\n",
       "Dep. Variable:             aboveBLine   R-squared:                       0.920\n",
       "Model:                            OLS   Adj. R-squared:                  0.918\n",
       "Method:                 Least Squares   F-statistic:                     665.3\n",
       "Date:                Mon, 14 Nov 2022   Prob (F-statistic):           1.80e-33\n",
       "Time:                        05:36:26   Log-Likelihood:                 55.935\n",
       "No. Observations:                  60   AIC:                            -107.9\n",
       "Df Residuals:                      58   BIC:                            -103.7\n",
       "Df Model:                           1                                         \n",
       "Covariance Type:            nonrobust                                         \n",
       "==============================================================================\n",
       "                 coef    std err          t      P>|t|      [0.025      0.975]\n",
       "------------------------------------------------------------------------------\n",
       "Intercept      0.7996      0.014     58.663      0.000       0.772       0.827\n",
       "diffTime       0.0186      0.001     25.794      0.000       0.017       0.020\n",
       "==============================================================================\n",
       "Omnibus:                        2.154   Durbin-Watson:                   1.718\n",
       "Prob(Omnibus):                  0.341   Jarque-Bera (JB):                1.385\n",
       "Skew:                           0.061   Prob(JB):                        0.500\n",
       "Kurtosis:                       2.266   Cond. No.                         20.6\n",
       "==============================================================================\n",
       "\n",
       "Notes:\n",
       "[1] Standard Errors assume that the covariance matrix of the errors is correctly specified.\n",
       "\"\"\""
      ]
     },
     "execution_count": 1038,
     "metadata": {},
     "output_type": "execute_result"
    }
   ],
   "source": [
    "#1-6-b\n",
    "m = smf.ols(\"aboveBLine ~ diffTime\", data = dfL60).fit()\n",
    "m.summary()"
   ]
  },
  {
   "cell_type": "markdown",
   "id": "9fee885e-a129-4975-9456-a84f3f87e77e",
   "metadata": {},
   "source": [
    "0.7996 (β0 coefficient) represents that the temperature anomaly above the pre-industrial baseline increases by 0.7996°C in the year 2000. It is statistically significant because its p-value is less than 5%."
   ]
  },
  {
   "cell_type": "code",
   "execution_count": 1039,
   "id": "3d326484-6111-4938-932a-165f5d2d6a57",
   "metadata": {},
   "outputs": [
    {
     "data": {
      "text/plain": [
       "1.2087999999999999"
      ]
     },
     "execution_count": 1039,
     "metadata": {},
     "output_type": "execute_result"
    }
   ],
   "source": [
    "#1-7\n",
    "def temp(diff):\n",
    "    hatC = 0.7996 + (diff * 0.0186)\n",
    "    return hatC\n",
    "temp(2022 - 2000)"
   ]
  },
  {
   "cell_type": "code",
   "execution_count": 1040,
   "id": "30ca3dfc-34f4-467a-8009-6b06aef91292",
   "metadata": {},
   "outputs": [
    {
     "data": {
      "text/plain": [
       "(2037.6559139784947, 2064.537634408602)"
      ]
     },
     "execution_count": 1040,
     "metadata": {},
     "output_type": "execute_result"
    }
   ],
   "source": [
    "#1-8\n",
    "def year(temp):\n",
    "    return 2000 + ((temp - 0.7996) / 0.0186)\n",
    "year(1.5), year(2)"
   ]
  },
  {
   "cell_type": "markdown",
   "id": "db7a87db-02a2-48e1-8dc8-6ea524050d96",
   "metadata": {},
   "source": [
    "In 2038, it will hit 1.5°C. In 2065, it will hit 2°C."
   ]
  },
  {
   "cell_type": "code",
   "execution_count": 1041,
   "id": "3c76a949-f646-4daa-aab1-23db5374e813",
   "metadata": {},
   "outputs": [],
   "source": [
    "#1-9"
   ]
  },
  {
   "cell_type": "markdown",
   "id": "1d59c57d-895d-4112-9bff-bb316744da09",
   "metadata": {},
   "source": [
    "This is just the model predicting the temperature growth in the future based on the data we have so far. I believe that if we bring this model within multiple regression with more possible variables affecting the tempearture growth, the two thresholds will be crossed earlier as global warming is worsening. Also, I think that analyzing the model with more other variables will bring more accurate predictions."
   ]
  },
  {
   "cell_type": "markdown",
   "id": "60d79e38-976d-4a4f-b5d0-0000e3452271",
   "metadata": {},
   "source": [
    "## 2. How Is Basketball Game Score Calculated? "
   ]
  },
  {
   "cell_type": "markdown",
   "id": "47115efe-4f88-4ec9-bbec-a1ccfc72cb0a",
   "metadata": {},
   "source": [
    "1. (1pt) Load data (harden-21-22.csv). Do basic checks.\n",
    "2. (3pt) These data also include games where he did not play. Find how many games did 4 James Harden actually play in this season. Hint: there are no general ways how to do this. But just look at the data and figure it out based on what do you see there. It can be coded in different ways, but first you have to see how the relevant data looks like.\n",
    "3. (5pt) Clean the data and ensure the relevant variables are of numeric type so we can use those in the regression models. It is your task to find what is wrong with the data in its present form (it is downloaded directly from basketball-reference.com), and fix these issues. Hint: a good way to transform text to number is pd.to_numeric. Hint 2: you do not have to convert variables you are not using.\n",
    "4. (6pt) Analyze the game score GmSc. What is its distribution? Which distribution does the histogram resemble? Range? Mean? Standard deviation?\n",
    "5. (7pt) First, let’s run a simple regression model explaining game score GmSc by field goal attempts FGA: GmScg = β0 + β1 · FGAg + ϵg (1) where g indexes games. Display the results and answer the following questions: (a) What is the interpretation of Intercept (β0)? (b) What is the interpretation of FGA (β1)? Is it statistically significant?\n",
    "6. (10pt) Next, let’s analyse how is game score related to field goals (FG) and field goal attempts (FGA). Estimate the model GmScg = β0 + β1 · FGg + β2 · FGAg + ϵg. (2) If done correctly, you should see results approximately 9.0, 3.0, -0.6 here. Answer the following questions: (a) What is the interpretation of FG? Is it statistically significant? (b) What is the interpretation of FGA (β2)? Is it statistically significant? (c) How do you explain the fact that model 1 shows positive and model 2 shows a negative estimate for FGA? There is a very easy an intuitive explanation that everyone will understand, including those who have no clue about stats. Can you phrase it in that way? Hint: try to understand what exactly is the difference between interpreting slope for  simple regression and multiple regression. (d) What is the R 2 of the model? How does it compare to the model 1? What do you conclude from this comparison?\n",
    "7. (7pt) Now include all the independent numerical variables, i.e. FG, FGA, 3P, 3PA, FT, FTA, ORB, DRB, AST, STL, BLK, TOV, PF into the model. Estimate it, and discuss the results. Answer the following questions: (a) How do standard errors and t-values look like in this model? (b) What is R 2 of this model? What does it tell you about how game score is calculated? (c) What do the results tell about turnover (TOV )? Is it good or bad for the team? Suggestion: check out patsy Q() quoting to include non-valid variable names.\n",
    "8. (6pt) Finally, consult the game score explanation at https://www.nbastuffer.com/analytics101/ game-score/. Did you recover the same formula?"
   ]
  },
  {
   "cell_type": "code",
   "execution_count": 1042,
   "id": "7899c93b-ccde-4af0-941f-4f29bb96d223",
   "metadata": {},
   "outputs": [
    {
     "data": {
      "text/html": [
       "<div>\n",
       "<style scoped>\n",
       "    .dataframe tbody tr th:only-of-type {\n",
       "        vertical-align: middle;\n",
       "    }\n",
       "\n",
       "    .dataframe tbody tr th {\n",
       "        vertical-align: top;\n",
       "    }\n",
       "\n",
       "    .dataframe thead th {\n",
       "        text-align: right;\n",
       "    }\n",
       "</style>\n",
       "<table border=\"1\" class=\"dataframe\">\n",
       "  <thead>\n",
       "    <tr style=\"text-align: right;\">\n",
       "      <th></th>\n",
       "      <th>Rk</th>\n",
       "      <th>G</th>\n",
       "      <th>Date</th>\n",
       "      <th>Age</th>\n",
       "      <th>Tm</th>\n",
       "      <th>Unnamed: 5</th>\n",
       "      <th>Opp</th>\n",
       "      <th>Unnamed: 7</th>\n",
       "      <th>GS</th>\n",
       "      <th>MP</th>\n",
       "      <th>...</th>\n",
       "      <th>DRB</th>\n",
       "      <th>TRB</th>\n",
       "      <th>AST</th>\n",
       "      <th>STL</th>\n",
       "      <th>BLK</th>\n",
       "      <th>TOV</th>\n",
       "      <th>PF</th>\n",
       "      <th>PTS</th>\n",
       "      <th>GmSc</th>\n",
       "      <th>+/-</th>\n",
       "    </tr>\n",
       "  </thead>\n",
       "  <tbody>\n",
       "    <tr>\n",
       "      <th>0</th>\n",
       "      <td>1</td>\n",
       "      <td>1.0</td>\n",
       "      <td>2021-10-19</td>\n",
       "      <td>32-054</td>\n",
       "      <td>BRK</td>\n",
       "      <td>@</td>\n",
       "      <td>MIL</td>\n",
       "      <td>L (-23)</td>\n",
       "      <td>1</td>\n",
       "      <td>30:38</td>\n",
       "      <td>...</td>\n",
       "      <td>5</td>\n",
       "      <td>8</td>\n",
       "      <td>8</td>\n",
       "      <td>1</td>\n",
       "      <td>2</td>\n",
       "      <td>4</td>\n",
       "      <td>3</td>\n",
       "      <td>20</td>\n",
       "      <td>17.6</td>\n",
       "      <td>-20</td>\n",
       "    </tr>\n",
       "    <tr>\n",
       "      <th>1</th>\n",
       "      <td>2</td>\n",
       "      <td>2.0</td>\n",
       "      <td>2021-10-22</td>\n",
       "      <td>32-057</td>\n",
       "      <td>BRK</td>\n",
       "      <td>@</td>\n",
       "      <td>PHI</td>\n",
       "      <td>W (+5)</td>\n",
       "      <td>1</td>\n",
       "      <td>38:25</td>\n",
       "      <td>...</td>\n",
       "      <td>6</td>\n",
       "      <td>7</td>\n",
       "      <td>8</td>\n",
       "      <td>2</td>\n",
       "      <td>0</td>\n",
       "      <td>5</td>\n",
       "      <td>0</td>\n",
       "      <td>20</td>\n",
       "      <td>15.6</td>\n",
       "      <td>-1</td>\n",
       "    </tr>\n",
       "    <tr>\n",
       "      <th>2</th>\n",
       "      <td>3</td>\n",
       "      <td>3.0</td>\n",
       "      <td>2021-10-24</td>\n",
       "      <td>32-059</td>\n",
       "      <td>BRK</td>\n",
       "      <td>NaN</td>\n",
       "      <td>CHO</td>\n",
       "      <td>L (-16)</td>\n",
       "      <td>1</td>\n",
       "      <td>33:09</td>\n",
       "      <td>...</td>\n",
       "      <td>5</td>\n",
       "      <td>7</td>\n",
       "      <td>8</td>\n",
       "      <td>1</td>\n",
       "      <td>1</td>\n",
       "      <td>8</td>\n",
       "      <td>5</td>\n",
       "      <td>15</td>\n",
       "      <td>6.4</td>\n",
       "      <td>-15</td>\n",
       "    </tr>\n",
       "    <tr>\n",
       "      <th>3</th>\n",
       "      <td>4</td>\n",
       "      <td>4.0</td>\n",
       "      <td>2021-10-25</td>\n",
       "      <td>32-060</td>\n",
       "      <td>BRK</td>\n",
       "      <td>NaN</td>\n",
       "      <td>WAS</td>\n",
       "      <td>W (+14)</td>\n",
       "      <td>1</td>\n",
       "      <td>30:25</td>\n",
       "      <td>...</td>\n",
       "      <td>5</td>\n",
       "      <td>6</td>\n",
       "      <td>9</td>\n",
       "      <td>1</td>\n",
       "      <td>1</td>\n",
       "      <td>2</td>\n",
       "      <td>1</td>\n",
       "      <td>14</td>\n",
       "      <td>11.9</td>\n",
       "      <td>+6</td>\n",
       "    </tr>\n",
       "    <tr>\n",
       "      <th>4</th>\n",
       "      <td>5</td>\n",
       "      <td>5.0</td>\n",
       "      <td>2021-10-27</td>\n",
       "      <td>32-062</td>\n",
       "      <td>BRK</td>\n",
       "      <td>NaN</td>\n",
       "      <td>MIA</td>\n",
       "      <td>L (-13)</td>\n",
       "      <td>1</td>\n",
       "      <td>35:36</td>\n",
       "      <td>...</td>\n",
       "      <td>7</td>\n",
       "      <td>7</td>\n",
       "      <td>7</td>\n",
       "      <td>1</td>\n",
       "      <td>1</td>\n",
       "      <td>4</td>\n",
       "      <td>3</td>\n",
       "      <td>14</td>\n",
       "      <td>10.7</td>\n",
       "      <td>-12</td>\n",
       "    </tr>\n",
       "  </tbody>\n",
       "</table>\n",
       "<p>5 rows × 30 columns</p>\n",
       "</div>"
      ],
      "text/plain": [
       "   Rk    G        Date     Age   Tm Unnamed: 5  Opp Unnamed: 7 GS     MP  ...  \\\n",
       "0   1  1.0  2021-10-19  32-054  BRK          @  MIL    L (-23)  1  30:38  ...   \n",
       "1   2  2.0  2021-10-22  32-057  BRK          @  PHI     W (+5)  1  38:25  ...   \n",
       "2   3  3.0  2021-10-24  32-059  BRK        NaN  CHO    L (-16)  1  33:09  ...   \n",
       "3   4  4.0  2021-10-25  32-060  BRK        NaN  WAS    W (+14)  1  30:25  ...   \n",
       "4   5  5.0  2021-10-27  32-062  BRK        NaN  MIA    L (-13)  1  35:36  ...   \n",
       "\n",
       "  DRB TRB AST STL BLK TOV PF PTS  GmSc  +/-  \n",
       "0   5   8   8   1   2   4  3  20  17.6  -20  \n",
       "1   6   7   8   2   0   5  0  20  15.6   -1  \n",
       "2   5   7   8   1   1   8  5  15   6.4  -15  \n",
       "3   5   6   9   1   1   2  1  14  11.9   +6  \n",
       "4   7   7   7   1   1   4  3  14  10.7  -12  \n",
       "\n",
       "[5 rows x 30 columns]"
      ]
     },
     "execution_count": 1042,
     "metadata": {},
     "output_type": "execute_result"
    }
   ],
   "source": [
    "#2-1\n",
    "dfHD = pd.read_csv(\"../data/harden-21-22.csv.bz2\", sep=\",\")\n",
    "dfHD.head()"
   ]
  },
  {
   "cell_type": "code",
   "execution_count": 1043,
   "id": "c9c0ea3e-0f42-40da-855c-ca60bccc4850",
   "metadata": {},
   "outputs": [
    {
     "data": {
      "text/plain": [
       "65"
      ]
     },
     "execution_count": 1043,
     "metadata": {},
     "output_type": "execute_result"
    }
   ],
   "source": [
    "#2-2\n",
    "dfHD.shape[0] - dfHD[dfHD[\"GS\"] != \"1\"].shape[0]"
   ]
  },
  {
   "cell_type": "markdown",
   "id": "40bbdcb7-6c76-4ca0-a3b6-88cebdb8d49f",
   "metadata": {},
   "source": [
    "I considered the variable GS that has no \"1\"s as those games that James Harden did not play. After computation, I found 18 games that James Harden did not play. Therefore, he played only 65 games out of 83 games."
   ]
  },
  {
   "cell_type": "code",
   "execution_count": 1044,
   "id": "7eb0580c-a084-4373-bef3-00145a4738c0",
   "metadata": {},
   "outputs": [],
   "source": [
    "#2-3\n",
    "dfHD = dfHD[dfHD[\"GS\"] == \"1\"]\n",
    "dfHD.GmSc = pd.to_numeric(dfHD.GmSc, errors = 'ignore')\n",
    "dfHD.FGA = pd.to_numeric(dfHD.FGA, errors = 'ignore')\n",
    "dfHD.FG = pd.to_numeric(dfHD.FG, errors = 'ignore')"
   ]
  },
  {
   "cell_type": "code",
   "execution_count": 1045,
   "id": "61538d6d-d963-46e7-87b4-eb32d8c1a967",
   "metadata": {},
   "outputs": [
    {
     "data": {
      "image/png": "[encoded data removed]",
      "text/plain": [
       "<Figure size 432x288 with 1 Axes>"
      ]
     },
     "metadata": {
      "needs_background": "light"
     },
     "output_type": "display_data"
    }
   ],
   "source": [
    "#2-4\n",
    "_ = plt.hist(dfHD.GmSc, bins = 25)"
   ]
  },
  {
   "cell_type": "markdown",
   "id": "f6d02b69-a155-4603-b0c0-b0eb7dc29d25",
   "metadata": {},
   "source": [
    "The histogram is fairly similar to a normal distribution with the highest peak in the center."
   ]
  },
  {
   "cell_type": "code",
   "execution_count": 1046,
   "id": "6bf6b128-0e6b-41a4-879e-2988e44d461f",
   "metadata": {},
   "outputs": [
    {
     "data": {
      "text/plain": [
       "((1.1, 37.8), 19.61384615384615, 8.168944511861358)"
      ]
     },
     "execution_count": 1046,
     "metadata": {},
     "output_type": "execute_result"
    }
   ],
   "source": [
    "#2-4\n",
    "ranges = (np.min(GmSc), np.max(GmSc))\n",
    "mean = np.mean(GmSc)\n",
    "std = np.std(GmSc)\n",
    "ranges, mean, std"
   ]
  },
  {
   "cell_type": "code",
   "execution_count": 1047,
   "id": "4f28d2e9-529e-4b56-b5cf-76433d17931b",
   "metadata": {},
   "outputs": [
    {
     "data": {
      "text/html": [
       "<table class=\"simpletable\">\n",
       "<caption>OLS Regression Results</caption>\n",
       "<tr>\n",
       "  <th>Dep. Variable:</th>          <td>GmSc</td>       <th>  R-squared:         </th> <td>   0.133</td>\n",
       "</tr>\n",
       "<tr>\n",
       "  <th>Model:</th>                   <td>OLS</td>       <th>  Adj. R-squared:    </th> <td>   0.119</td>\n",
       "</tr>\n",
       "<tr>\n",
       "  <th>Method:</th>             <td>Least Squares</td>  <th>  F-statistic:       </th> <td>   9.678</td>\n",
       "</tr>\n",
       "<tr>\n",
       "  <th>Date:</th>             <td>Mon, 14 Nov 2022</td> <th>  Prob (F-statistic):</th>  <td>0.00280</td>\n",
       "</tr>\n",
       "<tr>\n",
       "  <th>Time:</th>                 <td>05:36:26</td>     <th>  Log-Likelihood:    </th> <td> -224.11</td>\n",
       "</tr>\n",
       "<tr>\n",
       "  <th>No. Observations:</th>      <td>    65</td>      <th>  AIC:               </th> <td>   452.2</td>\n",
       "</tr>\n",
       "<tr>\n",
       "  <th>Df Residuals:</th>          <td>    63</td>      <th>  BIC:               </th> <td>   456.6</td>\n",
       "</tr>\n",
       "<tr>\n",
       "  <th>Df Model:</th>              <td>     1</td>      <th>                     </th>     <td> </td>   \n",
       "</tr>\n",
       "<tr>\n",
       "  <th>Covariance Type:</th>      <td>nonrobust</td>    <th>                     </th>     <td> </td>   \n",
       "</tr>\n",
       "</table>\n",
       "<table class=\"simpletable\">\n",
       "<tr>\n",
       "      <td></td>         <th>coef</th>     <th>std err</th>      <th>t</th>      <th>P>|t|</th>  <th>[0.025</th>    <th>0.975]</th>  \n",
       "</tr>\n",
       "<tr>\n",
       "  <th>Intercept</th> <td>    8.8748</td> <td>    3.582</td> <td>    2.477</td> <td> 0.016</td> <td>    1.716</td> <td>   16.034</td>\n",
       "</tr>\n",
       "<tr>\n",
       "  <th>FGA</th>       <td>    0.7037</td> <td>    0.226</td> <td>    3.111</td> <td> 0.003</td> <td>    0.252</td> <td>    1.156</td>\n",
       "</tr>\n",
       "</table>\n",
       "<table class=\"simpletable\">\n",
       "<tr>\n",
       "  <th>Omnibus:</th>       <td> 0.246</td> <th>  Durbin-Watson:     </th> <td>   1.902</td>\n",
       "</tr>\n",
       "<tr>\n",
       "  <th>Prob(Omnibus):</th> <td> 0.884</td> <th>  Jarque-Bera (JB):  </th> <td>   0.198</td>\n",
       "</tr>\n",
       "<tr>\n",
       "  <th>Skew:</th>          <td>-0.127</td> <th>  Prob(JB):          </th> <td>   0.906</td>\n",
       "</tr>\n",
       "<tr>\n",
       "  <th>Kurtosis:</th>      <td> 2.905</td> <th>  Cond. No.          </th> <td>    59.4</td>\n",
       "</tr>\n",
       "</table><br/><br/>Notes:<br/>[1] Standard Errors assume that the covariance matrix of the errors is correctly specified."
      ],
      "text/plain": [
       "<class 'statsmodels.iolib.summary.Summary'>\n",
       "\"\"\"\n",
       "                            OLS Regression Results                            \n",
       "==============================================================================\n",
       "Dep. Variable:                   GmSc   R-squared:                       0.133\n",
       "Model:                            OLS   Adj. R-squared:                  0.119\n",
       "Method:                 Least Squares   F-statistic:                     9.678\n",
       "Date:                Mon, 14 Nov 2022   Prob (F-statistic):            0.00280\n",
       "Time:                        05:36:26   Log-Likelihood:                -224.11\n",
       "No. Observations:                  65   AIC:                             452.2\n",
       "Df Residuals:                      63   BIC:                             456.6\n",
       "Df Model:                           1                                         \n",
       "Covariance Type:            nonrobust                                         \n",
       "==============================================================================\n",
       "                 coef    std err          t      P>|t|      [0.025      0.975]\n",
       "------------------------------------------------------------------------------\n",
       "Intercept      8.8748      3.582      2.477      0.016       1.716      16.034\n",
       "FGA            0.7037      0.226      3.111      0.003       0.252       1.156\n",
       "==============================================================================\n",
       "Omnibus:                        0.246   Durbin-Watson:                   1.902\n",
       "Prob(Omnibus):                  0.884   Jarque-Bera (JB):                0.198\n",
       "Skew:                          -0.127   Prob(JB):                        0.906\n",
       "Kurtosis:                       2.905   Cond. No.                         59.4\n",
       "==============================================================================\n",
       "\n",
       "Notes:\n",
       "[1] Standard Errors assume that the covariance matrix of the errors is correctly specified.\n",
       "\"\"\""
      ]
     },
     "execution_count": 1047,
     "metadata": {},
     "output_type": "execute_result"
    }
   ],
   "source": [
    "#2-5\n",
    "m = smf.ols(\"GmSc ~ FGA\", data = dfHD).fit()\n",
    "m.summary()"
   ]
  },
  {
   "cell_type": "code",
   "execution_count": 1048,
   "id": "2e2943d5-f462-470d-a070-d4fd19b7f03f",
   "metadata": {},
   "outputs": [],
   "source": [
    "#2-5-a-β0"
   ]
  },
  {
   "cell_type": "markdown",
   "id": "74769a6e-4b09-4d8c-861e-c1776fb565e5",
   "metadata": {},
   "source": [
    "James Harden scored 8.8748 points when he had no attempts for field goals."
   ]
  },
  {
   "cell_type": "code",
   "execution_count": 1049,
   "id": "1fdcde4c-3824-46e2-90cd-171400832cdd",
   "metadata": {},
   "outputs": [],
   "source": [
    "#2-5-b"
   ]
  },
  {
   "cell_type": "markdown",
   "id": "ec1c9374-8282-4578-8f6f-32483f4f0d63",
   "metadata": {},
   "source": [
    "James Harden scored 0.7037 more points for every field goal attempt. It is statistically significant because its p-value is less than 0.05."
   ]
  },
  {
   "cell_type": "code",
   "execution_count": 1050,
   "id": "5e35118c-d90b-40b1-bee5-980838b5fc7f",
   "metadata": {},
   "outputs": [
    {
     "data": {
      "text/html": [
       "<table class=\"simpletable\">\n",
       "<caption>OLS Regression Results</caption>\n",
       "<tr>\n",
       "  <th>Dep. Variable:</th>          <td>GmSc</td>       <th>  R-squared:         </th> <td>   0.594</td>\n",
       "</tr>\n",
       "<tr>\n",
       "  <th>Model:</th>                   <td>OLS</td>       <th>  Adj. R-squared:    </th> <td>   0.581</td>\n",
       "</tr>\n",
       "<tr>\n",
       "  <th>Method:</th>             <td>Least Squares</td>  <th>  F-statistic:       </th> <td>   45.30</td>\n",
       "</tr>\n",
       "<tr>\n",
       "  <th>Date:</th>             <td>Mon, 14 Nov 2022</td> <th>  Prob (F-statistic):</th> <td>7.49e-13</td>\n",
       "</tr>\n",
       "<tr>\n",
       "  <th>Time:</th>                 <td>05:36:26</td>     <th>  Log-Likelihood:    </th> <td> -199.48</td>\n",
       "</tr>\n",
       "<tr>\n",
       "  <th>No. Observations:</th>      <td>    65</td>      <th>  AIC:               </th> <td>   405.0</td>\n",
       "</tr>\n",
       "<tr>\n",
       "  <th>Df Residuals:</th>          <td>    62</td>      <th>  BIC:               </th> <td>   411.5</td>\n",
       "</tr>\n",
       "<tr>\n",
       "  <th>Df Model:</th>              <td>     2</td>      <th>                     </th>     <td> </td>   \n",
       "</tr>\n",
       "<tr>\n",
       "  <th>Covariance Type:</th>      <td>nonrobust</td>    <th>                     </th>     <td> </td>   \n",
       "</tr>\n",
       "</table>\n",
       "<table class=\"simpletable\">\n",
       "<tr>\n",
       "      <td></td>         <th>coef</th>     <th>std err</th>      <th>t</th>      <th>P>|t|</th>  <th>[0.025</th>    <th>0.975]</th>  \n",
       "</tr>\n",
       "<tr>\n",
       "  <th>Intercept</th> <td>    8.9917</td> <td>    2.472</td> <td>    3.637</td> <td> 0.001</td> <td>    4.049</td> <td>   13.934</td>\n",
       "</tr>\n",
       "<tr>\n",
       "  <th>FG</th>        <td>    3.0427</td> <td>    0.363</td> <td>    8.383</td> <td> 0.000</td> <td>    2.317</td> <td>    3.768</td>\n",
       "</tr>\n",
       "<tr>\n",
       "  <th>FGA</th>       <td>   -0.5523</td> <td>    0.216</td> <td>   -2.553</td> <td> 0.013</td> <td>   -0.985</td> <td>   -0.120</td>\n",
       "</tr>\n",
       "</table>\n",
       "<table class=\"simpletable\">\n",
       "<tr>\n",
       "  <th>Omnibus:</th>       <td> 0.422</td> <th>  Durbin-Watson:     </th> <td>   1.943</td>\n",
       "</tr>\n",
       "<tr>\n",
       "  <th>Prob(Omnibus):</th> <td> 0.810</td> <th>  Jarque-Bera (JB):  </th> <td>   0.069</td>\n",
       "</tr>\n",
       "<tr>\n",
       "  <th>Skew:</th>          <td>-0.025</td> <th>  Prob(JB):          </th> <td>   0.966</td>\n",
       "</tr>\n",
       "<tr>\n",
       "  <th>Kurtosis:</th>      <td> 3.151</td> <th>  Cond. No.          </th> <td>    64.3</td>\n",
       "</tr>\n",
       "</table><br/><br/>Notes:<br/>[1] Standard Errors assume that the covariance matrix of the errors is correctly specified."
      ],
      "text/plain": [
       "<class 'statsmodels.iolib.summary.Summary'>\n",
       "\"\"\"\n",
       "                            OLS Regression Results                            \n",
       "==============================================================================\n",
       "Dep. Variable:                   GmSc   R-squared:                       0.594\n",
       "Model:                            OLS   Adj. R-squared:                  0.581\n",
       "Method:                 Least Squares   F-statistic:                     45.30\n",
       "Date:                Mon, 14 Nov 2022   Prob (F-statistic):           7.49e-13\n",
       "Time:                        05:36:26   Log-Likelihood:                -199.48\n",
       "No. Observations:                  65   AIC:                             405.0\n",
       "Df Residuals:                      62   BIC:                             411.5\n",
       "Df Model:                           2                                         \n",
       "Covariance Type:            nonrobust                                         \n",
       "==============================================================================\n",
       "                 coef    std err          t      P>|t|      [0.025      0.975]\n",
       "------------------------------------------------------------------------------\n",
       "Intercept      8.9917      2.472      3.637      0.001       4.049      13.934\n",
       "FG             3.0427      0.363      8.383      0.000       2.317       3.768\n",
       "FGA           -0.5523      0.216     -2.553      0.013      -0.985      -0.120\n",
       "==============================================================================\n",
       "Omnibus:                        0.422   Durbin-Watson:                   1.943\n",
       "Prob(Omnibus):                  0.810   Jarque-Bera (JB):                0.069\n",
       "Skew:                          -0.025   Prob(JB):                        0.966\n",
       "Kurtosis:                       3.151   Cond. No.                         64.3\n",
       "==============================================================================\n",
       "\n",
       "Notes:\n",
       "[1] Standard Errors assume that the covariance matrix of the errors is correctly specified.\n",
       "\"\"\""
      ]
     },
     "execution_count": 1050,
     "metadata": {},
     "output_type": "execute_result"
    }
   ],
   "source": [
    "#2-6\n",
    "m = smf.ols(\"GmSc ~ FG + FGA\", data = dfHD).fit()\n",
    "m.summary()"
   ]
  },
  {
   "cell_type": "code",
   "execution_count": 1051,
   "id": "30c90164-ab65-47d3-93a1-ff5211bceffc",
   "metadata": {},
   "outputs": [],
   "source": [
    "#2-6-a"
   ]
  },
  {
   "cell_type": "markdown",
   "id": "9d5ce84c-e9ee-4d7e-b992-6ebf3c7c3266",
   "metadata": {},
   "source": [
    "James Harden with one more field goal scores 3.0427 points more if the number of field goal attempts remains the same. It is statistically significant because its p-value is very close to 0 and less than 0.05."
   ]
  },
  {
   "cell_type": "code",
   "execution_count": 1052,
   "id": "94a468d3-a85a-40de-89ef-6f1c11b4f388",
   "metadata": {},
   "outputs": [],
   "source": [
    "#2-6-b"
   ]
  },
  {
   "cell_type": "markdown",
   "id": "e6d14092-84a4-4eaa-95b8-2e15f8a17924",
   "metadata": {},
   "source": [
    "James Harden with one more field goal attempt scores 0.5523 points less if the number of field goals remains the same. It is statistically significant because its p-value is very close to 0 and less than 0.05."
   ]
  },
  {
   "cell_type": "code",
   "execution_count": 1053,
   "id": "9bd0adb5-2210-4ad7-80dd-6f452e7d0828",
   "metadata": {},
   "outputs": [],
   "source": [
    "#2-6-c"
   ]
  },
  {
   "cell_type": "markdown",
   "id": "45068941-0122-4f78-9fe1-a227ae6076f0",
   "metadata": {},
   "source": [
    "When the FGA variable is modeled within multiple regression, some other variables or FG may be correlated with the FGA, which may lead model 2 to have a negative estimate for FGA."
   ]
  },
  {
   "cell_type": "code",
   "execution_count": 1054,
   "id": "79ede6bb-cd53-41cb-9d77-ba7d229e3a5f",
   "metadata": {},
   "outputs": [],
   "source": [
    "#2-6-d"
   ]
  },
  {
   "cell_type": "markdown",
   "id": "c5ae9305-3759-4c40-b345-64d4f1b9a3ad",
   "metadata": {},
   "source": [
    "The R2 of model 1 is 0.133 whereas the R2 of model 2 is 0.594. Model 2 has a higher R2 than model 1. The R2 of model 2 represents that 59.4% of the explanatory validity of the variance of the dependent variable is explained by the variance of the independent variable while the R1 of model 1 represents that 13.3% of the explanatory validity of the variance of the dependent variable is explained by the variance of the independent variable. Therefore, in other words, model 2 simply has more explanatory power compared to model 1."
   ]
  },
  {
   "cell_type": "code",
   "execution_count": 1055,
   "id": "61468b61-e93a-4298-b18a-0c02789f65f9",
   "metadata": {},
   "outputs": [
    {
     "data": {
      "text/html": [
       "<table class=\"simpletable\">\n",
       "<caption>OLS Regression Results</caption>\n",
       "<tr>\n",
       "  <th>Dep. Variable:</th>          <td>GmSc</td>       <th>  R-squared:         </th> <td>   1.000</td> \n",
       "</tr>\n",
       "<tr>\n",
       "  <th>Model:</th>                   <td>OLS</td>       <th>  Adj. R-squared:    </th> <td>   1.000</td> \n",
       "</tr>\n",
       "<tr>\n",
       "  <th>Method:</th>             <td>Least Squares</td>  <th>  F-statistic:       </th> <td>2.998e+30</td>\n",
       "</tr>\n",
       "<tr>\n",
       "  <th>Date:</th>             <td>Mon, 14 Nov 2022</td> <th>  Prob (F-statistic):</th>  <td>  0.00</td>  \n",
       "</tr>\n",
       "<tr>\n",
       "  <th>Time:</th>                 <td>05:36:27</td>     <th>  Log-Likelihood:    </th> <td>  2007.5</td> \n",
       "</tr>\n",
       "<tr>\n",
       "  <th>No. Observations:</th>      <td>    65</td>      <th>  AIC:               </th> <td>  -3987.</td> \n",
       "</tr>\n",
       "<tr>\n",
       "  <th>Df Residuals:</th>          <td>    51</td>      <th>  BIC:               </th> <td>  -3957.</td> \n",
       "</tr>\n",
       "<tr>\n",
       "  <th>Df Model:</th>              <td>    13</td>      <th>                     </th>     <td> </td>    \n",
       "</tr>\n",
       "<tr>\n",
       "  <th>Covariance Type:</th>      <td>nonrobust</td>    <th>                     </th>     <td> </td>    \n",
       "</tr>\n",
       "</table>\n",
       "<table class=\"simpletable\">\n",
       "<tr>\n",
       "      <td></td>         <th>coef</th>     <th>std err</th>      <th>t</th>      <th>P>|t|</th>  <th>[0.025</th>    <th>0.975]</th>  \n",
       "</tr>\n",
       "<tr>\n",
       "  <th>Intercept</th> <td>  3.02e-14</td> <td>  9.3e-15</td> <td>    3.249</td> <td> 0.002</td> <td> 1.15e-14</td> <td> 4.89e-14</td>\n",
       "</tr>\n",
       "<tr>\n",
       "  <th>FG</th>        <td>    2.4000</td> <td> 9.09e-16</td> <td> 2.64e+15</td> <td> 0.000</td> <td>    2.400</td> <td>    2.400</td>\n",
       "</tr>\n",
       "<tr>\n",
       "  <th>FGA</th>       <td>   -0.7000</td> <td> 6.01e-16</td> <td>-1.17e+15</td> <td> 0.000</td> <td>   -0.700</td> <td>   -0.700</td>\n",
       "</tr>\n",
       "<tr>\n",
       "  <th>Q('3P')</th>   <td>    1.0000</td> <td> 1.56e-15</td> <td> 6.42e+14</td> <td> 0.000</td> <td>    1.000</td> <td>    1.000</td>\n",
       "</tr>\n",
       "<tr>\n",
       "  <th>Q('3PA')</th>  <td>-1.193e-15</td> <td> 1.02e-15</td> <td>   -1.167</td> <td> 0.249</td> <td>-3.25e-15</td> <td> 8.59e-16</td>\n",
       "</tr>\n",
       "<tr>\n",
       "  <th>FT</th>        <td>    1.4000</td> <td> 1.73e-15</td> <td> 8.07e+14</td> <td> 0.000</td> <td>    1.400</td> <td>    1.400</td>\n",
       "</tr>\n",
       "<tr>\n",
       "  <th>FTA</th>       <td>   -0.4000</td> <td> 1.43e-15</td> <td>-2.79e+14</td> <td> 0.000</td> <td>   -0.400</td> <td>   -0.400</td>\n",
       "</tr>\n",
       "<tr>\n",
       "  <th>ORB</th>       <td>    0.7000</td> <td> 1.31e-15</td> <td> 5.36e+14</td> <td> 0.000</td> <td>    0.700</td> <td>    0.700</td>\n",
       "</tr>\n",
       "<tr>\n",
       "  <th>DRB</th>       <td>    0.3000</td> <td> 6.16e-16</td> <td> 4.87e+14</td> <td> 0.000</td> <td>    0.300</td> <td>    0.300</td>\n",
       "</tr>\n",
       "<tr>\n",
       "  <th>AST</th>       <td>    0.7000</td> <td> 4.96e-16</td> <td> 1.41e+15</td> <td> 0.000</td> <td>    0.700</td> <td>    0.700</td>\n",
       "</tr>\n",
       "<tr>\n",
       "  <th>STL</th>       <td>    1.0000</td> <td> 1.41e-15</td> <td> 7.08e+14</td> <td> 0.000</td> <td>    1.000</td> <td>    1.000</td>\n",
       "</tr>\n",
       "<tr>\n",
       "  <th>BLK</th>       <td>    0.7000</td> <td> 1.99e-15</td> <td> 3.51e+14</td> <td> 0.000</td> <td>    0.700</td> <td>    0.700</td>\n",
       "</tr>\n",
       "<tr>\n",
       "  <th>TOV</th>       <td>   -1.0000</td> <td> 8.34e-16</td> <td> -1.2e+15</td> <td> 0.000</td> <td>   -1.000</td> <td>   -1.000</td>\n",
       "</tr>\n",
       "<tr>\n",
       "  <th>PF</th>        <td>   -0.4000</td> <td>  1.1e-15</td> <td>-3.65e+14</td> <td> 0.000</td> <td>   -0.400</td> <td>   -0.400</td>\n",
       "</tr>\n",
       "</table>\n",
       "<table class=\"simpletable\">\n",
       "<tr>\n",
       "  <th>Omnibus:</th>       <td> 1.045</td> <th>  Durbin-Watson:     </th> <td>   1.667</td>\n",
       "</tr>\n",
       "<tr>\n",
       "  <th>Prob(Omnibus):</th> <td> 0.593</td> <th>  Jarque-Bera (JB):  </th> <td>   1.075</td>\n",
       "</tr>\n",
       "<tr>\n",
       "  <th>Skew:</th>          <td>-0.196</td> <th>  Prob(JB):          </th> <td>   0.584</td>\n",
       "</tr>\n",
       "<tr>\n",
       "  <th>Kurtosis:</th>      <td> 2.507</td> <th>  Cond. No.          </th> <td>    182.</td>\n",
       "</tr>\n",
       "</table><br/><br/>Notes:<br/>[1] Standard Errors assume that the covariance matrix of the errors is correctly specified."
      ],
      "text/plain": [
       "<class 'statsmodels.iolib.summary.Summary'>\n",
       "\"\"\"\n",
       "                            OLS Regression Results                            \n",
       "==============================================================================\n",
       "Dep. Variable:                   GmSc   R-squared:                       1.000\n",
       "Model:                            OLS   Adj. R-squared:                  1.000\n",
       "Method:                 Least Squares   F-statistic:                 2.998e+30\n",
       "Date:                Mon, 14 Nov 2022   Prob (F-statistic):               0.00\n",
       "Time:                        05:36:27   Log-Likelihood:                 2007.5\n",
       "No. Observations:                  65   AIC:                            -3987.\n",
       "Df Residuals:                      51   BIC:                            -3957.\n",
       "Df Model:                          13                                         \n",
       "Covariance Type:            nonrobust                                         \n",
       "==============================================================================\n",
       "                 coef    std err          t      P>|t|      [0.025      0.975]\n",
       "------------------------------------------------------------------------------\n",
       "Intercept    3.02e-14    9.3e-15      3.249      0.002    1.15e-14    4.89e-14\n",
       "FG             2.4000   9.09e-16   2.64e+15      0.000       2.400       2.400\n",
       "FGA           -0.7000   6.01e-16  -1.17e+15      0.000      -0.700      -0.700\n",
       "Q('3P')        1.0000   1.56e-15   6.42e+14      0.000       1.000       1.000\n",
       "Q('3PA')   -1.193e-15   1.02e-15     -1.167      0.249   -3.25e-15    8.59e-16\n",
       "FT             1.4000   1.73e-15   8.07e+14      0.000       1.400       1.400\n",
       "FTA           -0.4000   1.43e-15  -2.79e+14      0.000      -0.400      -0.400\n",
       "ORB            0.7000   1.31e-15   5.36e+14      0.000       0.700       0.700\n",
       "DRB            0.3000   6.16e-16   4.87e+14      0.000       0.300       0.300\n",
       "AST            0.7000   4.96e-16   1.41e+15      0.000       0.700       0.700\n",
       "STL            1.0000   1.41e-15   7.08e+14      0.000       1.000       1.000\n",
       "BLK            0.7000   1.99e-15   3.51e+14      0.000       0.700       0.700\n",
       "TOV           -1.0000   8.34e-16   -1.2e+15      0.000      -1.000      -1.000\n",
       "PF            -0.4000    1.1e-15  -3.65e+14      0.000      -0.400      -0.400\n",
       "==============================================================================\n",
       "Omnibus:                        1.045   Durbin-Watson:                   1.667\n",
       "Prob(Omnibus):                  0.593   Jarque-Bera (JB):                1.075\n",
       "Skew:                          -0.196   Prob(JB):                        0.584\n",
       "Kurtosis:                       2.507   Cond. No.                         182.\n",
       "==============================================================================\n",
       "\n",
       "Notes:\n",
       "[1] Standard Errors assume that the covariance matrix of the errors is correctly specified.\n",
       "\"\"\""
      ]
     },
     "execution_count": 1055,
     "metadata": {},
     "output_type": "execute_result"
    }
   ],
   "source": [
    "#2-7\n",
    "dfHD[\"3P\"] = pd.to_numeric(dfHD[\"3P\"], errors = 'ignore')\n",
    "dfHD[\"3PA\"] = pd.to_numeric(dfHD[\"3PA\"], errors = 'ignore')\n",
    "dfHD.FT = pd.to_numeric(dfHD.FT, errors = 'ignore')\n",
    "dfHD.FTA = pd.to_numeric(dfHD.FTA, errors = 'ignore')\n",
    "dfHD.ORB = pd.to_numeric(dfHD.ORB, errors = 'ignore')\n",
    "dfHD.DRB = pd.to_numeric(dfHD.DRB, errors = 'ignore')\n",
    "dfHD.AST = pd.to_numeric(dfHD.AST, errors = 'ignore')\n",
    "dfHD.STL = pd.to_numeric(dfHD.STL, errors = 'ignore')\n",
    "dfHD.BLK = pd.to_numeric(dfHD.BLK, errors = 'ignore')\n",
    "dfHD.TOV = pd.to_numeric(dfHD.TOV, errors = 'ignore')\n",
    "dfHD.PF = pd.to_numeric(dfHD.PF, errors = 'ignore')\n",
    "\n",
    "m = smf.ols(\"GmSc ~ FG + FGA + Q('3P') + Q('3PA') + FT + FTA + ORB + DRB + \\\n",
    "            AST + STL + BLK + TOV + PF\", data = dfHD).fit()\n",
    "m.summary()"
   ]
  },
  {
   "cell_type": "code",
   "execution_count": 1056,
   "id": "f139e9bd-9469-4bfe-9836-abfa9f79e5fb",
   "metadata": {},
   "outputs": [],
   "source": [
    "#2-7-a"
   ]
  },
  {
   "cell_type": "markdown",
   "id": "47fca283-f3c0-48e2-b967-a42bb532361c",
   "metadata": {},
   "source": [
    "In this model, all standard errors are very small values whereas most t values are very large numbers. This shows that the model is less likely to have errors and most variables are statistically significant."
   ]
  },
  {
   "cell_type": "code",
   "execution_count": 1057,
   "id": "c2500c6a-7f66-4cc7-bca3-aa356195faf3",
   "metadata": {},
   "outputs": [],
   "source": [
    "#2-7-b"
   ]
  },
  {
   "cell_type": "markdown",
   "id": "733d6343-4b56-4947-ac3a-5ba0d056ee42",
   "metadata": {},
   "source": [
    "The R2 of this model is 1, meaning that the relationship between the model and its dependent variables is highly correlated. 1 is a very surprising result because it has 100% explanatory power and is considered to be highly reliable. Applying to game score, Harden's game score (GmSc) is highly reliable computed by different numerical variables."
   ]
  },
  {
   "cell_type": "code",
   "execution_count": 1058,
   "id": "30905206-5931-4b1f-9d3f-10c467871cd0",
   "metadata": {},
   "outputs": [],
   "source": [
    "#2-7-c"
   ]
  },
  {
   "cell_type": "markdown",
   "id": "ec99635a-6a19-49a2-b157-7ac87785a3b4",
   "metadata": {},
   "source": [
    "TOV is bad for the team because the model shows that Harden scored 1 point less with every turnover."
   ]
  },
  {
   "cell_type": "code",
   "execution_count": 1059,
   "id": "fe34c41d-fc47-44a3-a995-c4852f1e8a17",
   "metadata": {},
   "outputs": [],
   "source": [
    "#2-8\n",
    "def Gmsc():\n",
    "    GmSc = (B0) + 0.4 * (FG) + 0.7 * (ORB) + 0.3 * (DRB) + (STL) + \\\n",
    "    0.7 * (AST) + 0.7 * (BLK) - 0.7 * (FGA) - 0.4 * (FTA) - 0.4 * (PF) - (TOV)\n",
    "    return GmSc"
   ]
  },
  {
   "cell_type": "markdown",
   "id": "98eef0b9-6190-4ce8-9a94-23db4062a714",
   "metadata": {},
   "source": [
    "I almost recovered the same formula except for FG which has a different value of the coefficient."
   ]
  },
  {
   "cell_type": "markdown",
   "id": "a2aabf78-faf0-4932-90fa-35672823ace6",
   "metadata": {},
   "source": [
    "## 3. Interpret regression results in the literature"
   ]
  },
  {
   "cell_type": "markdown",
   "id": "17586caa-37ce-4d25-b324-444f24476420",
   "metadata": {},
   "source": [
    "1. (3pt) Do those who have a partner have better mental health (as measured by PHQ-9)? Is the effect statistically significant?\n",
    "2. (3pt) What is the effect of COVID exposure? Is it improving or worsening mental health? Is the effect statistically significant?\n",
    "3. (3pt) How is Financial distress related to mental health? Is the effect statistically significant?"
   ]
  },
  {
   "cell_type": "code",
   "execution_count": 1060,
   "id": "350ce336-2a5d-44fc-83b9-0225e2cdb892",
   "metadata": {},
   "outputs": [],
   "source": [
    "#3-1"
   ]
  },
  {
   "cell_type": "markdown",
   "id": "1f3e01c7-12df-491e-95e5-4b71c0303100",
   "metadata": {},
   "source": [
    "Yes, those with a partner have a 0.47 decrease in PHQ-9, indicating better mental health. It is not statistically significant because its p-value is greater than 0.05."
   ]
  },
  {
   "cell_type": "code",
   "execution_count": 1061,
   "id": "cb013310-858a-409c-89e5-2ef36df8396d",
   "metadata": {},
   "outputs": [],
   "source": [
    "#3-2"
   ]
  },
  {
   "cell_type": "markdown",
   "id": "f7ec200d-7100-4d40-8fe5-b38a60347ffb",
   "metadata": {},
   "source": [
    "People affected by COVID exposure have a 0.24 increase in PHQ-9, representing that it is worsening mental health. This effect is not also statistically significant because its p-value is greater than 0.05."
   ]
  },
  {
   "cell_type": "code",
   "execution_count": 1062,
   "id": "fc2e2c33-5fad-4482-9916-84b10a5c0276",
   "metadata": {},
   "outputs": [],
   "source": [
    "#3-3"
   ]
  },
  {
   "cell_type": "markdown",
   "id": "e3db7190-37c2-4c48-920d-b76b028a5b25",
   "metadata": {},
   "source": [
    "Financial distress is surely related to mental health because people having financial distress have a 2.32 increase in PHQ-9, worsening mental health. This effect is statistically significant because its p-value is less than 0.05."
   ]
  },
  {
   "cell_type": "markdown",
   "id": "6fe287b4-080f-438c-863a-f23972e2e7fd",
   "metadata": {
    "tags": []
   },
   "source": [
    "### Finally tell us how many hours did you spend on this PS."
   ]
  },
  {
   "cell_type": "markdown",
   "id": "151f3022-1219-4ecc-9494-2a43efeed6e6",
   "metadata": {},
   "source": [
    "I spent 9 hours on this PS."
   ]
  }
 ],
 "metadata": {
  "kernelspec": {
   "display_name": "Python 3 (ipykernel)",
   "language": "python",
   "name": "python3"
  },
  "language_info": {
   "codemirror_mode": {
    "name": "ipython",
    "version": 3
   },
   "file_extension": ".py",
   "mimetype": "text/x-python",
   "name": "python",
   "nbconvert_exporter": "python",
   "pygments_lexer": "ipython3",
   "version": "3.9.7"
  }
 },
 "nbformat": 4,
 "nbformat_minor": 5
}
