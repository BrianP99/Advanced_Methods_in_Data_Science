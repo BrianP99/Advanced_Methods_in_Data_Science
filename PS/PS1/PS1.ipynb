{
 "cells": [
  {
   "cell_type": "markdown",
   "id": "61dc46d2-fdf7-43d0-9075-b821eab3531f",
   "metadata": {},
   "source": [
    "# INFO 370 PS 1\n",
    "*Name: Brian Park*"
   ]
  },
  {
   "cell_type": "markdown",
   "id": "fa840d8c-5acf-458f-b39c-b47961fdbc11",
   "metadata": {},
   "source": [
    "## 1. Base python (17pt)"
   ]
  },
  {
   "cell_type": "markdown",
   "id": "e732d3f1-a4d8-476f-b8e8-3ca1bc6bdeda",
   "metadata": {},
   "source": [
    "### 1-1 Lists (3pt)"
   ]
  },
  {
   "cell_type": "markdown",
   "id": "996486a9-c833-49cd-91bb-8ec276fcc298",
   "metadata": {},
   "source": [
    "#### 1. Create a list ‘movies‘ that contains the names of at least six movies you like"
   ]
  },
  {
   "cell_type": "code",
   "execution_count": 138,
   "id": "d0109cf7-32b3-4267-9289-25494543e1e4",
   "metadata": {},
   "outputs": [
    {
     "name": "stdout",
     "output_type": "stream",
     "text": [
      "['Avengers: Endgame', 'Pirates of the Caribbean', 'Iron Man', 'About Time', 'Train to Busan', 'Top Gun: Maverick']\n"
     ]
    }
   ],
   "source": [
    "movies = ['Avengers: Endgame', 'Pirates of the Caribbean', 'Iron Man', 'About Time', 'Train to Busan', 'Top Gun: Maverick']\n",
    "print(movies)"
   ]
  },
  {
   "cell_type": "markdown",
   "id": "503e7bb4-a8a1-4b09-980f-1322111acd05",
   "metadata": {},
   "source": [
    "#### 2. Use slicing to create a list of three first movies in the list"
   ]
  },
  {
   "cell_type": "code",
   "execution_count": 139,
   "id": "33857ac6-ef71-476a-ac4a-b4a37902855c",
   "metadata": {},
   "outputs": [
    {
     "name": "stdout",
     "output_type": "stream",
     "text": [
      "['Avengers: Endgame', 'Pirates of the Caribbean', 'Iron Man']\n"
     ]
    }
   ],
   "source": [
    "threeM = movies[0:3]\n",
    "print(threeM)"
   ]
  },
  {
   "cell_type": "markdown",
   "id": "a59cdfe3-ce13-4aa1-a8b1-e06a770579d7",
   "metadata": {},
   "source": [
    "#### 3. Use slicing and list concatenation to create a list of the first two and the last two movies"
   ]
  },
  {
   "cell_type": "code",
   "execution_count": 140,
   "id": "f64e9ae0-7c0b-452c-97cc-1f9082f5f7a4",
   "metadata": {},
   "outputs": [
    {
     "name": "stdout",
     "output_type": "stream",
     "text": [
      "['Avengers: Endgame', 'Pirates of the Caribbean', 'Train to Busan', 'Top Gun: Maverick']\n"
     ]
    }
   ],
   "source": [
    "firstTwo = movies[:2]\n",
    "lastTwo = movies[-2:]\n",
    "newList = firstTwo + lastTwo\n",
    "print(newList)"
   ]
  },
  {
   "cell_type": "markdown",
   "id": "01eceee0-636a-4578-8682-14ff82943cb2",
   "metadata": {},
   "source": [
    "### 1-2 Loops (4pt)"
   ]
  },
  {
   "cell_type": "markdown",
   "id": "89bece93-53d5-43ad-9657-c27c33c4d704",
   "metadata": {},
   "source": [
    "#### 1. Create a list ‘numbers‘ that is the numbers 70 through 79 in the following manner: create an empty list and add numbers to it in a loop (do not use list comprehension or ‘list‘ function here!)"
   ]
  },
  {
   "cell_type": "code",
   "execution_count": 141,
   "id": "a4e52e60-a0c3-4505-96aa-dba1a7878c15",
   "metadata": {},
   "outputs": [
    {
     "data": {
      "text/plain": [
       "[70, 71, 72, 73, 74, 75, 76, 77, 78, 79]"
      ]
     },
     "execution_count": 141,
     "metadata": {},
     "output_type": "execute_result"
    }
   ],
   "source": [
    "nums = []\n",
    "for i in range(70, 80):\n",
    "    nums.append(i)\n",
    "nums"
   ]
  },
  {
   "cell_type": "markdown",
   "id": "bd2d32ab-e399-4dec-b2a3-22048804de57",
   "metadata": {},
   "source": [
    "#### 2. Use loop to compute sum of all integers from 1 till 100."
   ]
  },
  {
   "cell_type": "code",
   "execution_count": 142,
   "id": "ec5eaef9-bca5-4b8a-aefe-ef95135456a3",
   "metadata": {},
   "outputs": [
    {
     "data": {
      "text/plain": [
       "5050"
      ]
     },
     "execution_count": 142,
     "metadata": {},
     "output_type": "execute_result"
    }
   ],
   "source": [
    "sum = 0\n",
    "for i in range(1, 101):\n",
    "    sum += i\n",
    "sum"
   ]
  },
  {
   "cell_type": "markdown",
   "id": "1108e8ea-71e0-48a2-ad79-094fe0cd06a5",
   "metadata": {},
   "source": [
    "#### 3. Assign people to seats. Consider names Adam, Ashin, Inukai, Tanaka, and Ikki; and seats 33, 12, 45, 2 and 17. Print seat assignments by assigning each name to the corresponding seat. "
   ]
  },
  {
   "cell_type": "code",
   "execution_count": 143,
   "id": "31d30d69-a2ca-4f86-9745-4f4b3389f95f",
   "metadata": {},
   "outputs": [
    {
     "name": "stdout",
     "output_type": "stream",
     "text": [
      "Adam: 33\n",
      "Ashin: 12\n",
      "Inukai: 45\n",
      "Tanaka: 2\n",
      "Ikki: 17\n"
     ]
    }
   ],
   "source": [
    "names = ['Adam', 'Ashin', 'Inukai', 'Tanaka', 'Ikki']\n",
    "seats = [33, 12, 45, 2, 17]\n",
    "\n",
    "for i in range(5):\n",
    "    print(names[i] + \": \" + str(seats[i]))"
   ]
  },
  {
   "cell_type": "markdown",
   "id": "1c80f4e4-1a01-4fa4-b5a5-07f2c61fb518",
   "metadata": {},
   "source": [
    "### 1-3 Comprehensions (4pt)"
   ]
  },
  {
   "cell_type": "markdown",
   "id": "f3de95cd-57e1-4916-ab8d-eda6c85f1953",
   "metadata": {},
   "source": [
    "#### 1. Use list comprehension to create a list of squares of numbers 1..10 (i.e. 1, 4, 9, ..., 100)"
   ]
  },
  {
   "cell_type": "code",
   "execution_count": 144,
   "id": "131cda58-1a0a-417d-9ad2-f28ebf42bd92",
   "metadata": {},
   "outputs": [
    {
     "data": {
      "text/plain": [
       "[1, 4, 9, 16, 25, 36, 49, 64, 81, 100]"
      ]
     },
     "execution_count": 144,
     "metadata": {},
     "output_type": "execute_result"
    }
   ],
   "source": [
    "sqList = [i*i for i in range(1, 11)]\n",
    "sqList"
   ]
  },
  {
   "cell_type": "markdown",
   "id": "42766e3f-8e93-4199-89ee-42a5e2b18dc3",
   "metadata": {},
   "source": [
    "#### 2. Use dict comprehension to create a dict of numbers 1..10 and their squares (i.e. 1:1, 2:4, ..., 10:100)."
   ]
  },
  {
   "cell_type": "code",
   "execution_count": 145,
   "id": "31908d46-d381-4ce0-a906-bf962e216ff7",
   "metadata": {},
   "outputs": [
    {
     "data": {
      "text/plain": [
       "{1: 1, 2: 4, 3: 9, 4: 16, 5: 25, 6: 36, 7: 49, 8: 64, 9: 81, 10: 100}"
      ]
     },
     "execution_count": 145,
     "metadata": {},
     "output_type": "execute_result"
    }
   ],
   "source": [
    "sqDict = {i: i*i for i in range(1, 11)}\n",
    "sqDict"
   ]
  },
  {
   "cell_type": "markdown",
   "id": "eff49f94-f5ca-4b5b-9b09-f07fc0d5fb3c",
   "metadata": {},
   "source": [
    "### 1-4 Functions and data transformations (6pt)"
   ]
  },
  {
   "cell_type": "markdown",
   "id": "51157ed4-1b48-46e2-8511-d261fd95b770",
   "metadata": {},
   "source": [
    "#### 1. Write a function that takes in time in the numeric form (i.e. not a string) of HHMM (hoursminutes), and returns it in the numeric form of HH.HH (hours + fractions of hours)."
   ]
  },
  {
   "cell_type": "code",
   "execution_count": 146,
   "id": "ff211cad-7e8d-414f-9a76-36cc4cee4401",
   "metadata": {},
   "outputs": [
    {
     "data": {
      "text/plain": [
       "(10.25, 3.75)"
      ]
     },
     "execution_count": 146,
     "metadata": {},
     "output_type": "execute_result"
    }
   ],
   "source": [
    "def func(time):\n",
    "    hour = time // 100\n",
    "    minute = time % 100\n",
    "    return (hour + (minute / 60))\n",
    "func(1015), func(345)"
   ]
  },
  {
   "cell_type": "markdown",
   "id": "db142105-0f66-4587-8445-9c1ebd45cbd0",
   "metadata": {},
   "source": [
    "## 2.  Work with NYC flights data (63pt)"
   ]
  },
  {
   "cell_type": "markdown",
   "id": "de291b2a-1d49-4ec5-ac34-2094151475af",
   "metadata": {},
   "source": [
    "### 2-1 Setup (4pt)"
   ]
  },
  {
   "cell_type": "code",
   "execution_count": 147,
   "id": "3b032488-59a4-4a42-8595-ef87f0b31c96",
   "metadata": {},
   "outputs": [],
   "source": [
    "import numpy as np\n",
    "import pandas as pd"
   ]
  },
  {
   "cell_type": "markdown",
   "id": "dc499c5a-7633-43d4-8d15-4070a93f8546",
   "metadata": {},
   "source": [
    "#### 1. Load the data"
   ]
  },
  {
   "cell_type": "code",
   "execution_count": 148,
   "id": "512c227c-d21d-4484-a455-65df252679be",
   "metadata": {},
   "outputs": [],
   "source": [
    "dfNYC = pd.read_csv(\"../data/nycflights13.csv.bz2\", sep = \"\\t\")"
   ]
  },
  {
   "cell_type": "markdown",
   "id": "3341d576-0d14-4273-926d-8e5ba090df3a",
   "metadata": {},
   "source": [
    "#### 2. Do basic checks:"
   ]
  },
  {
   "cell_type": "markdown",
   "id": "62a4ae80-31fb-43cc-b771-599fc4bcbf8b",
   "metadata": {},
   "source": [
    "##### (a). How many variables (columns) is there in the data? Ensure you know the variables in the data. Keep the documentation nearby."
   ]
  },
  {
   "cell_type": "code",
   "execution_count": 149,
   "id": "dab6eaf7-1565-42e3-8321-dd3c33f10146",
   "metadata": {},
   "outputs": [
    {
     "data": {
      "text/plain": [
       "(336776, 19)"
      ]
     },
     "execution_count": 149,
     "metadata": {},
     "output_type": "execute_result"
    }
   ],
   "source": [
    "dfNYC.shape"
   ]
  },
  {
   "cell_type": "markdown",
   "id": "348c1411-0a5d-44d6-a817-f41ffcdfea4a",
   "metadata": {},
   "source": [
    "There are 19 variables in the dataset."
   ]
  },
  {
   "cell_type": "markdown",
   "id": "6831fb43-71be-4a9d-be21-8e03fc75801e",
   "metadata": {
    "tags": []
   },
   "source": [
    "##### (b). How many rows of data is there?"
   ]
  },
  {
   "cell_type": "markdown",
   "id": "ca925a83-ddcd-4656-83c0-095fb977967d",
   "metadata": {},
   "source": [
    "There are 336,776 rows in the dataset."
   ]
  },
  {
   "cell_type": "markdown",
   "id": "45216e1b-92e2-4c73-9668-5e219b298c63",
   "metadata": {},
   "source": [
    "##### (c). Print the first few lines of data. Does it look reasonable?"
   ]
  },
  {
   "cell_type": "code",
   "execution_count": 150,
   "id": "53e0b079-1a0f-4e21-8432-edbc00983852",
   "metadata": {},
   "outputs": [
    {
     "name": "stdout",
     "output_type": "stream",
     "text": [
      "   year  month  day  dep_time  sched_dep_time  dep_delay  arr_time  \\\n",
      "0  2013      1    1     517.0             515        2.0     830.0   \n",
      "1  2013      1    1     533.0             529        4.0     850.0   \n",
      "2  2013      1    1     542.0             540        2.0     923.0   \n",
      "3  2013      1    1     544.0             545       -1.0    1004.0   \n",
      "4  2013      1    1     554.0             600       -6.0     812.0   \n",
      "\n",
      "   sched_arr_time  arr_delay carrier  flight tailnum origin dest  air_time  \\\n",
      "0             819       11.0      UA    1545  N14228    EWR  IAH     227.0   \n",
      "1             830       20.0      UA    1714  N24211    LGA  IAH     227.0   \n",
      "2             850       33.0      AA    1141  N619AA    JFK  MIA     160.0   \n",
      "3            1022      -18.0      B6     725  N804JB    JFK  BQN     183.0   \n",
      "4             837      -25.0      DL     461  N668DN    LGA  ATL     116.0   \n",
      "\n",
      "   distance  hour  minute             time_hour  \n",
      "0      1400     5      15  2013-01-01T10:00:00Z  \n",
      "1      1416     5      29  2013-01-01T10:00:00Z  \n",
      "2      1089     5      40  2013-01-01T10:00:00Z  \n",
      "3      1576     5      45  2013-01-01T10:00:00Z  \n",
      "4       762     6       0  2013-01-01T11:00:00Z  \n"
     ]
    }
   ],
   "source": [
    "print(dfNYC.head())"
   ]
  },
  {
   "cell_type": "markdown",
   "id": "77d391fb-2026-4eaf-88c0-ab03de33cbae",
   "metadata": {},
   "source": [
    "It quite looks reasonable but is sometimes hard to understand by just looking at the dataframe only with variables and without context."
   ]
  },
  {
   "cell_type": "markdown",
   "id": "9d8c20c4-c384-4cd2-895c-3ad63c44bd6c",
   "metadata": {},
   "source": [
    "### 2-2 Basic data exploration (19pt)"
   ]
  },
  {
   "cell_type": "markdown",
   "id": "40f46123-28a4-4c1d-8d30-77411f87958c",
   "metadata": {},
   "source": [
    "#### 1. How many flights out of NYC where there in 2013?"
   ]
  },
  {
   "cell_type": "code",
   "execution_count": 151,
   "id": "2b523a99-76b2-4ae9-9c26-a9f5913cc09b",
   "metadata": {},
   "outputs": [
    {
     "data": {
      "text/plain": [
       "336776"
      ]
     },
     "execution_count": 151,
     "metadata": {},
     "output_type": "execute_result"
    }
   ],
   "source": [
    "ftNYC = dfNYC[(dfNYC.year == 2013) & (dfNYC.origin.isin([\"JFK\", \"LGA\", \"EWR\"]))]\n",
    "ftNYC.shape[0]"
   ]
  },
  {
   "cell_type": "markdown",
   "id": "a4dcdbfd-939c-4ae7-8fb6-7589714811aa",
   "metadata": {},
   "source": [
    "There are 336,776 flights out of NYC in 2013."
   ]
  },
  {
   "cell_type": "markdown",
   "id": "499bae42-6de6-4c8f-9444-c39ff3dc3505",
   "metadata": {},
   "source": [
    "#### 2. How many NYC airports are included in this data? Which airports are these?"
   ]
  },
  {
   "cell_type": "code",
   "execution_count": 152,
   "id": "dbedb1e2-7e63-4544-bf3a-1e6628870469",
   "metadata": {},
   "outputs": [
    {
     "data": {
      "text/plain": [
       "array(['EWR', 'LGA', 'JFK'], dtype=object)"
      ]
     },
     "execution_count": 152,
     "metadata": {},
     "output_type": "execute_result"
    }
   ],
   "source": [
    "dfNYC.origin.unique()"
   ]
  },
  {
   "cell_type": "markdown",
   "id": "08df238b-6a9d-446c-be15-f82132b8f19c",
   "metadata": {},
   "source": [
    "The data includes a total of 3 NYC airports: EWR, LGA, and JFK."
   ]
  },
  {
   "cell_type": "markdown",
   "id": "ccf22d52-2bf7-43e5-983e-626b57d5f8e0",
   "metadata": {},
   "source": [
    "#### 3. Into how many airports did the airlines fly from NYC in 2013?"
   ]
  },
  {
   "cell_type": "code",
   "execution_count": 153,
   "id": "5dea52df-ea83-4fe6-ac0f-af069799d6d4",
   "metadata": {},
   "outputs": [
    {
     "data": {
      "text/plain": [
       "105"
      ]
     },
     "execution_count": 153,
     "metadata": {},
     "output_type": "execute_result"
    }
   ],
   "source": [
    "dfNYC[(dfNYC.year == 2013)].dest.nunique()"
   ]
  },
  {
   "cell_type": "markdown",
   "id": "64c6c67d-14f6-4b7d-a4b7-d8d7d5e2ed51",
   "metadata": {},
   "source": [
    "The airlines flew into 105 airports from NYC in 2013."
   ]
  },
  {
   "cell_type": "markdown",
   "id": "2bd5ee80-2bc8-4c0b-bea4-3d14b0655e5d",
   "metadata": {},
   "source": [
    "#### 4. How many flights were there from NYC to Seattle (airport code SEA)?"
   ]
  },
  {
   "cell_type": "code",
   "execution_count": 154,
   "id": "fd1b91a5-8b22-4d4c-b078-993de491df24",
   "metadata": {},
   "outputs": [
    {
     "data": {
      "text/plain": [
       "3923"
      ]
     },
     "execution_count": 154,
     "metadata": {},
     "output_type": "execute_result"
    }
   ],
   "source": [
    "dfNYC[(dfNYC.dest == \"SEA\")].shape[0]"
   ]
  },
  {
   "cell_type": "markdown",
   "id": "905c2fbc-31b6-42fb-b9c8-f249745ffbfe",
   "metadata": {},
   "source": [
    "There were 3,923 flights from NYC to Seattle."
   ]
  },
  {
   "cell_type": "markdown",
   "id": "f14d5931-b7ee-4ec1-a2ac-8d811d324e72",
   "metadata": {},
   "source": [
    "#### 5. Were there any flights from NYC to Spokane (GEG)?"
   ]
  },
  {
   "cell_type": "code",
   "execution_count": 155,
   "id": "496034ff-9ccb-43c8-b001-e28959cce623",
   "metadata": {},
   "outputs": [
    {
     "data": {
      "text/plain": [
       "0"
      ]
     },
     "execution_count": 155,
     "metadata": {},
     "output_type": "execute_result"
    }
   ],
   "source": [
    "dfNYC[(dfNYC.dest == \"GEG\")].shape[0]"
   ]
  },
  {
   "cell_type": "markdown",
   "id": "8c8c1ada-dc50-4b37-83d0-f35261659b82",
   "metadata": {},
   "source": [
    "Based on the computation above, there were no flights from NYC to Spokane."
   ]
  },
  {
   "cell_type": "markdown",
   "id": "59cf8348-2c9f-4037-a06f-c6cbbc4d0a11",
   "metadata": {},
   "source": [
    "#### 6. What is the typical delay of the flights in this data?"
   ]
  },
  {
   "cell_type": "code",
   "execution_count": 156,
   "id": "d1ae0113-d657-4eb7-8f01-c759dfbf94fb",
   "metadata": {},
   "outputs": [
    {
     "data": {
      "text/plain": [
       "12.6"
      ]
     },
     "execution_count": 156,
     "metadata": {},
     "output_type": "execute_result"
    }
   ],
   "source": [
    "newNYC = dfNYC.dropna(axis = 0, subset = [\"dep_delay\"])\n",
    "round(newNYC[\"dep_delay\"].mean(), 1)"
   ]
  },
  {
   "cell_type": "markdown",
   "id": "bfba7d17-282e-4a85-9d19-c1d8432d892e",
   "metadata": {},
   "source": [
    "I calculated the average value of departure delays (dep_delay) when asked about the typical delay."
   ]
  },
  {
   "cell_type": "markdown",
   "id": "2ac93231-4287-4b89-8a7a-6e08ae7feb91",
   "metadata": {},
   "source": [
    "#### 7. Did you remember to check how good is the delay variable? Are there missings? Are there any implausible or invalid entries? Go and check this if you haven’t done it already"
   ]
  },
  {
   "cell_type": "code",
   "execution_count": 157,
   "id": "48922b4f-bd6b-4077-91ca-ae65bc6fdf27",
   "metadata": {},
   "outputs": [
    {
     "data": {
      "text/plain": [
       "year                 0\n",
       "month                0\n",
       "day                  0\n",
       "dep_time          8255\n",
       "sched_dep_time       0\n",
       "dep_delay         8255\n",
       "arr_time          8713\n",
       "sched_arr_time       0\n",
       "arr_delay         9430\n",
       "carrier              0\n",
       "flight               0\n",
       "tailnum           2512\n",
       "origin               0\n",
       "dest                 0\n",
       "air_time          9430\n",
       "distance             0\n",
       "hour                 0\n",
       "minute               0\n",
       "time_hour            0\n",
       "dtype: int64"
      ]
     },
     "execution_count": 157,
     "metadata": {},
     "output_type": "execute_result"
    }
   ],
   "source": [
    "dfNYC.isna().sum()"
   ]
  },
  {
   "cell_type": "markdown",
   "id": "f4d51cb7-cc0c-443a-893a-77629bafbf30",
   "metadata": {},
   "source": [
    "I remember to use \".isna().sum()\" operation which allows us to check how many missing values are in each variable. Based on the computation above, there is a lot of missing values in the delay variables."
   ]
  },
  {
   "cell_type": "markdown",
   "id": "95084b63-6ecf-46f9-937f-c8e3eda9d75b",
   "metadata": {},
   "source": [
    "#### 8. Where was there room for interpretation with these questions (and answers)? How would that affect decisions based on this data?"
   ]
  },
  {
   "cell_type": "markdown",
   "id": "66dac210-b207-4a68-a50d-d589d61d60d5",
   "metadata": {},
   "source": [
    "I tried to understand those questions correctly to find the best answers by mostly looking at variable names and linking them with the questions. However, I've spent much time making decisions about my answers because of some ambiguity in those questions."
   ]
  },
  {
   "cell_type": "markdown",
   "id": "bb141efd-277c-4e7a-9553-6fa7ff9606a7",
   "metadata": {},
   "source": [
    "### 2-3 Let’s fly to Atlanta! (15pt)"
   ]
  },
  {
   "cell_type": "markdown",
   "id": "8d12c007-d80b-453f-8d3c-8fa59ca05d3c",
   "metadata": {},
   "source": [
    "#### 1. How many flights were there from NYC airports to Atlanta in 2013?"
   ]
  },
  {
   "cell_type": "code",
   "execution_count": 158,
   "id": "46a8b885-4a2d-45ad-86dd-87723b65fb2b",
   "metadata": {},
   "outputs": [
    {
     "data": {
      "text/plain": [
       "17215"
      ]
     },
     "execution_count": 158,
     "metadata": {},
     "output_type": "execute_result"
    }
   ],
   "source": [
    "toAtl = dfNYC[(dfNYC.dest == \"ATL\")]\n",
    "toAtl.shape[0]"
   ]
  },
  {
   "cell_type": "markdown",
   "id": "2f260f71-533e-4095-9563-b478163f42a1",
   "metadata": {},
   "source": [
    "There were 17,215 flights from NYC airports to Atlanta in 2013."
   ]
  },
  {
   "cell_type": "markdown",
   "id": "66a2593e-dc12-493b-aa6c-959ba5e20e6a",
   "metadata": {},
   "source": [
    "#### 2. How many airlines fly from NYC to Atlanta?"
   ]
  },
  {
   "cell_type": "code",
   "execution_count": 159,
   "id": "57fede6a-3351-4bd0-bf9b-27b5bff05930",
   "metadata": {},
   "outputs": [
    {
     "data": {
      "text/plain": [
       "7"
      ]
     },
     "execution_count": 159,
     "metadata": {},
     "output_type": "execute_result"
    }
   ],
   "source": [
    "toAtl.carrier.nunique()"
   ]
  },
  {
   "cell_type": "markdown",
   "id": "cbff4817-4529-4629-84e0-2d631895133b",
   "metadata": {},
   "source": [
    "There were 7 airlines flying from NYC to Atlanta."
   ]
  },
  {
   "cell_type": "markdown",
   "id": "c4d2023f-ae0d-45f3-80b8-81dc2c6e1786",
   "metadata": {},
   "source": [
    "#### 3. Which are these airlines (just find the 2-letter abbreviations, but you can also check out Bureau of Transportation Statistics https://www.bts.gov/topics/airlines-and-airports/airline-codes)? How many times did each of these go to Atlanta?"
   ]
  },
  {
   "cell_type": "code",
   "execution_count": 160,
   "id": "e543f555-a85f-4f6e-8201-e9a277d64c06",
   "metadata": {},
   "outputs": [
    {
     "data": {
      "text/plain": [
       "array(['DL', 'MQ', 'FL', 'EV', '9E', 'WN', 'UA'], dtype=object)"
      ]
     },
     "execution_count": 160,
     "metadata": {},
     "output_type": "execute_result"
    }
   ],
   "source": [
    "toAtl.carrier.unique()"
   ]
  },
  {
   "cell_type": "code",
   "execution_count": 161,
   "id": "4efae2c8-ab75-420c-a73f-529b030fdaf6",
   "metadata": {},
   "outputs": [
    {
     "data": {
      "text/plain": [
       "DL    10571\n",
       "FL     2337\n",
       "MQ     2322\n",
       "EV     1764\n",
       "UA      103\n",
       "9E       59\n",
       "WN       59\n",
       "Name: carrier, dtype: int64"
      ]
     },
     "execution_count": 161,
     "metadata": {},
     "output_type": "execute_result"
    }
   ],
   "source": [
    "toAtl.carrier.value_counts()"
   ]
  },
  {
   "cell_type": "markdown",
   "id": "9caf9666-1457-41a7-89ba-b3fe058f80cd",
   "metadata": {},
   "source": [
    "Those 7 airlines are 'DL', 'MQ', 'FL', 'EV', '9E', 'WN', and 'UA'. Based on the result above, DL flew 10,571 times, FL flew 2,337 times, MQ flew 2,322 times, EV flew 1,764 times, UA flew 103 times, 9E flew 59 times, and WN flew 59 times to Atlanta."
   ]
  },
  {
   "cell_type": "markdown",
   "id": "b29bc428-be75-484b-96fb-eabd3bbd066e",
   "metadata": {},
   "source": [
    "#### 4.What was the average flight duration to Atlanta? Use arrival and departure time, and compute the flight time yourself! Do not use the airtime variable! Compare your results with direct flights you find in flight schedules (such as expedia or kayak). Is your result similar to the schedules? Comment/explain."
   ]
  },
  {
   "cell_type": "code",
   "execution_count": 162,
   "id": "dc7d2af2-e1eb-481a-9c4d-10495f869db1",
   "metadata": {},
   "outputs": [
    {
     "data": {
      "text/plain": [
       "2.1665609751279304"
      ]
     },
     "execution_count": 162,
     "metadata": {},
     "output_type": "execute_result"
    }
   ],
   "source": [
    "toAtl = dfNYC[dfNYC.dest == \"ATL\"].copy()\n",
    "toAtl = toAtl.dropna(axis = 0, subset = [\"arr_time\", \"dep_time\"])\n",
    "toAtl[\"duration\"] = func(toAtl.arr_time) - func(toAtl.dep_time)\n",
    "toAtl[\"duration\"].mean()"
   ]
  },
  {
   "cell_type": "markdown",
   "id": "8c81e1bf-2b69-4fd6-b922-ff8b48f64c04",
   "metadata": {},
   "source": [
    "I dropped all rows that have null values either in \"dep_time\" or \"arr_time\" to calculate the accurate average value. After that, I used the function made in 1-4 to convert it into the numeric form of HH.HH. As a result, the average flight duration to Atlanta was about 2.17 hours."
   ]
  },
  {
   "cell_type": "markdown",
   "id": "ed6c24f4-a312-4928-9061-8a5b5cb74c97",
   "metadata": {},
   "source": [
    "I looked up the direct flight schedule from LGA to Atlanta on Kayak. The duration for most of the direct flights took slightly more than 2 hours but never took more than 3 hours which was quite similar to my results."
   ]
  },
  {
   "cell_type": "markdown",
   "id": "98175ba9-6cec-4384-811e-279dcfa0afa2",
   "metadata": {},
   "source": [
    "#### 5. You may see that some of the flight durations are negative. Why? Can you fix this issue?"
   ]
  },
  {
   "cell_type": "code",
   "execution_count": 163,
   "id": "e1b94ac2-18f5-4d5e-bde0-80c99da0f37f",
   "metadata": {},
   "outputs": [
    {
     "data": {
      "text/html": [
       "<div>\n",
       "<style scoped>\n",
       "    .dataframe tbody tr th:only-of-type {\n",
       "        vertical-align: middle;\n",
       "    }\n",
       "\n",
       "    .dataframe tbody tr th {\n",
       "        vertical-align: top;\n",
       "    }\n",
       "\n",
       "    .dataframe thead th {\n",
       "        text-align: right;\n",
       "    }\n",
       "</style>\n",
       "<table border=\"1\" class=\"dataframe\">\n",
       "  <thead>\n",
       "    <tr style=\"text-align: right;\">\n",
       "      <th></th>\n",
       "      <th>year</th>\n",
       "      <th>month</th>\n",
       "      <th>day</th>\n",
       "      <th>dep_time</th>\n",
       "      <th>sched_dep_time</th>\n",
       "      <th>dep_delay</th>\n",
       "      <th>arr_time</th>\n",
       "      <th>sched_arr_time</th>\n",
       "      <th>arr_delay</th>\n",
       "      <th>carrier</th>\n",
       "      <th>flight</th>\n",
       "      <th>tailnum</th>\n",
       "      <th>origin</th>\n",
       "      <th>dest</th>\n",
       "      <th>air_time</th>\n",
       "      <th>distance</th>\n",
       "      <th>hour</th>\n",
       "      <th>minute</th>\n",
       "      <th>time_hour</th>\n",
       "      <th>duration</th>\n",
       "    </tr>\n",
       "  </thead>\n",
       "  <tbody>\n",
       "    <tr>\n",
       "      <th>1768</th>\n",
       "      <td>2013</td>\n",
       "      <td>1</td>\n",
       "      <td>2</td>\n",
       "      <td>2259.0</td>\n",
       "      <td>2100</td>\n",
       "      <td>119.0</td>\n",
       "      <td>122.0</td>\n",
       "      <td>2332</td>\n",
       "      <td>110.0</td>\n",
       "      <td>DL</td>\n",
       "      <td>1247</td>\n",
       "      <td>N362NW</td>\n",
       "      <td>LGA</td>\n",
       "      <td>ATL</td>\n",
       "      <td>124.0</td>\n",
       "      <td>762</td>\n",
       "      <td>21</td>\n",
       "      <td>0</td>\n",
       "      <td>2013-01-03T02:00:00Z</td>\n",
       "      <td>-21.616667</td>\n",
       "    </tr>\n",
       "    <tr>\n",
       "      <th>21768</th>\n",
       "      <td>2013</td>\n",
       "      <td>1</td>\n",
       "      <td>25</td>\n",
       "      <td>2122.0</td>\n",
       "      <td>2000</td>\n",
       "      <td>82.0</td>\n",
       "      <td>30.0</td>\n",
       "      <td>2243</td>\n",
       "      <td>107.0</td>\n",
       "      <td>DL</td>\n",
       "      <td>1147</td>\n",
       "      <td>N639DL</td>\n",
       "      <td>LGA</td>\n",
       "      <td>ATL</td>\n",
       "      <td>109.0</td>\n",
       "      <td>762</td>\n",
       "      <td>20</td>\n",
       "      <td>0</td>\n",
       "      <td>2013-01-26T01:00:00Z</td>\n",
       "      <td>-20.866667</td>\n",
       "    </tr>\n",
       "    <tr>\n",
       "      <th>25958</th>\n",
       "      <td>2013</td>\n",
       "      <td>1</td>\n",
       "      <td>30</td>\n",
       "      <td>2233.0</td>\n",
       "      <td>2000</td>\n",
       "      <td>153.0</td>\n",
       "      <td>110.0</td>\n",
       "      <td>2243</td>\n",
       "      <td>147.0</td>\n",
       "      <td>DL</td>\n",
       "      <td>1147</td>\n",
       "      <td>N618DL</td>\n",
       "      <td>LGA</td>\n",
       "      <td>ATL</td>\n",
       "      <td>136.0</td>\n",
       "      <td>762</td>\n",
       "      <td>20</td>\n",
       "      <td>0</td>\n",
       "      <td>2013-01-31T01:00:00Z</td>\n",
       "      <td>-21.383333</td>\n",
       "    </tr>\n",
       "    <tr>\n",
       "      <th>26864</th>\n",
       "      <td>2013</td>\n",
       "      <td>1</td>\n",
       "      <td>31</td>\n",
       "      <td>2112.0</td>\n",
       "      <td>2000</td>\n",
       "      <td>72.0</td>\n",
       "      <td>8.0</td>\n",
       "      <td>2243</td>\n",
       "      <td>85.0</td>\n",
       "      <td>DL</td>\n",
       "      <td>1147</td>\n",
       "      <td>N697DL</td>\n",
       "      <td>LGA</td>\n",
       "      <td>ATL</td>\n",
       "      <td>127.0</td>\n",
       "      <td>762</td>\n",
       "      <td>20</td>\n",
       "      <td>0</td>\n",
       "      <td>2013-02-01T01:00:00Z</td>\n",
       "      <td>-21.066667</td>\n",
       "    </tr>\n",
       "    <tr>\n",
       "      <th>26883</th>\n",
       "      <td>2013</td>\n",
       "      <td>1</td>\n",
       "      <td>31</td>\n",
       "      <td>2139.0</td>\n",
       "      <td>1815</td>\n",
       "      <td>204.0</td>\n",
       "      <td>5.0</td>\n",
       "      <td>2050</td>\n",
       "      <td>195.0</td>\n",
       "      <td>DL</td>\n",
       "      <td>926</td>\n",
       "      <td>N309DE</td>\n",
       "      <td>EWR</td>\n",
       "      <td>ATL</td>\n",
       "      <td>126.0</td>\n",
       "      <td>746</td>\n",
       "      <td>18</td>\n",
       "      <td>15</td>\n",
       "      <td>2013-01-31T23:00:00Z</td>\n",
       "      <td>-21.566667</td>\n",
       "    </tr>\n",
       "  </tbody>\n",
       "</table>\n",
       "</div>"
      ],
      "text/plain": [
       "       year  month  day  dep_time  sched_dep_time  dep_delay  arr_time  \\\n",
       "1768   2013      1    2    2259.0            2100      119.0     122.0   \n",
       "21768  2013      1   25    2122.0            2000       82.0      30.0   \n",
       "25958  2013      1   30    2233.0            2000      153.0     110.0   \n",
       "26864  2013      1   31    2112.0            2000       72.0       8.0   \n",
       "26883  2013      1   31    2139.0            1815      204.0       5.0   \n",
       "\n",
       "       sched_arr_time  arr_delay carrier  flight tailnum origin dest  \\\n",
       "1768             2332      110.0      DL    1247  N362NW    LGA  ATL   \n",
       "21768            2243      107.0      DL    1147  N639DL    LGA  ATL   \n",
       "25958            2243      147.0      DL    1147  N618DL    LGA  ATL   \n",
       "26864            2243       85.0      DL    1147  N697DL    LGA  ATL   \n",
       "26883            2050      195.0      DL     926  N309DE    EWR  ATL   \n",
       "\n",
       "       air_time  distance  hour  minute             time_hour   duration  \n",
       "1768      124.0       762    21       0  2013-01-03T02:00:00Z -21.616667  \n",
       "21768     109.0       762    20       0  2013-01-26T01:00:00Z -20.866667  \n",
       "25958     136.0       762    20       0  2013-01-31T01:00:00Z -21.383333  \n",
       "26864     127.0       762    20       0  2013-02-01T01:00:00Z -21.066667  \n",
       "26883     126.0       746    18      15  2013-01-31T23:00:00Z -21.566667  "
      ]
     },
     "execution_count": 163,
     "metadata": {},
     "output_type": "execute_result"
    }
   ],
   "source": [
    "toAtl[toAtl.duration < 0].head()"
   ]
  },
  {
   "cell_type": "markdown",
   "id": "e31459c6-1659-484c-8809-834e92631027",
   "metadata": {},
   "source": [
    "This is because those flights depart at night and arrive the next day morning where the value of arr_time becomes smaller than that of dep_time and generates negative flight durations. We can fix this issue by simply adding 2400 to arr_time to avoid the value of dep_time becoming larger than that of arr_time."
   ]
  },
  {
   "cell_type": "markdown",
   "id": "cd48be36-72f8-4804-9cbc-1b560887c043",
   "metadata": {},
   "source": [
    "#### 6. What percentage of flights to Atlanta were delayed at arrival by more than 15 minutes?"
   ]
  },
  {
   "cell_type": "code",
   "execution_count": 164,
   "id": "506bc5ed-122f-4e6e-8645-ccd1c0451870",
   "metadata": {},
   "outputs": [
    {
     "data": {
      "text/plain": [
       "'25.2%'"
      ]
     },
     "execution_count": 164,
     "metadata": {},
     "output_type": "execute_result"
    }
   ],
   "source": [
    "delayArr = toAtl[toAtl.arr_delay > 15].shape[0]\n",
    "str(round(((delayArr * 100) / (toAtl.shape[0])), 1)) + \"%\""
   ]
  },
  {
   "cell_type": "markdown",
   "id": "e7233491-dd34-4d76-bb68-daa0ae9cfa96",
   "metadata": {},
   "source": [
    "25.2% of flights to Atlanta were delayed at arrival by more than 15 minutes."
   ]
  },
  {
   "cell_type": "markdown",
   "id": "c1c7c631-82c5-4ca6-893a-f3de122a8b05",
   "metadata": {},
   "source": [
    "### 2-4 What are these planes? (17pt)"
   ]
  },
  {
   "cell_type": "markdown",
   "id": "23c1b860-5df6-43d4-b79e-5da291cbade1",
   "metadata": {},
   "source": [
    "#### 1. Load the planes data. What are the variables? How many planes do we have?"
   ]
  },
  {
   "cell_type": "code",
   "execution_count": 165,
   "id": "79e56d7b-1ff6-471a-8c4b-80a95fb51e9c",
   "metadata": {},
   "outputs": [
    {
     "data": {
      "text/plain": [
       "Index(['tailnum', 'year', 'type', 'manufacturer', 'model', 'engines', 'seats',\n",
       "       'speed', 'engine'],\n",
       "      dtype='object')"
      ]
     },
     "execution_count": 165,
     "metadata": {},
     "output_type": "execute_result"
    }
   ],
   "source": [
    "dfPlns = pd.read_csv(\"../data/planes.csv.bz2\", sep = \"\\t\")\n",
    "dfPlns.columns"
   ]
  },
  {
   "cell_type": "markdown",
   "id": "b1df5319-51db-4442-8d26-d855c3ec8c28",
   "metadata": {},
   "source": [
    "The data has 'tailnum', 'year', 'type', 'manufacturer', 'model', 'engines', 'seats',\n",
    "       'speed', 'engine' as variables."
   ]
  },
  {
   "cell_type": "code",
   "execution_count": 166,
   "id": "ea204777-67f1-489d-b6d5-3e396e7d0a96",
   "metadata": {},
   "outputs": [
    {
     "data": {
      "text/plain": [
       "3322"
      ]
     },
     "execution_count": 166,
     "metadata": {},
     "output_type": "execute_result"
    }
   ],
   "source": [
    "dfPlns.shape[0]"
   ]
  },
  {
   "cell_type": "markdown",
   "id": "e9ba87be-a289-4fdf-9366-e07fce620671",
   "metadata": {},
   "source": [
    "There are 3,322 planes in the data."
   ]
  },
  {
   "cell_type": "markdown",
   "id": "6668427c-5577-4779-806e-d40cc4a24d92",
   "metadata": {},
   "source": [
    "#### 2. What would be the merge key, the variable that can connect a flight in the flights data with a plane in the planes data?"
   ]
  },
  {
   "cell_type": "markdown",
   "id": "51a571da-d24b-4f62-bbc0-4684bce08c97",
   "metadata": {},
   "source": [
    "'tailnum' is the merge key and the variable being shared in both datasets that have a unique model number of airplanes that can connect two datasets to each other."
   ]
  },
  {
   "cell_type": "markdown",
   "id": "22f464d0-d528-46f4-ba1b-d979956b31c1",
   "metadata": {},
   "source": [
    "#### 3. Merge the two datasets. Do you want to do inner, full, left, right merge in order to answer the next two questions below?"
   ]
  },
  {
   "cell_type": "code",
   "execution_count": 167,
   "id": "4a8a477b-ff95-4249-8263-0d2c01c0ebf8",
   "metadata": {},
   "outputs": [
    {
     "data": {
      "text/html": [
       "<div>\n",
       "<style scoped>\n",
       "    .dataframe tbody tr th:only-of-type {\n",
       "        vertical-align: middle;\n",
       "    }\n",
       "\n",
       "    .dataframe tbody tr th {\n",
       "        vertical-align: top;\n",
       "    }\n",
       "\n",
       "    .dataframe thead th {\n",
       "        text-align: right;\n",
       "    }\n",
       "</style>\n",
       "<table border=\"1\" class=\"dataframe\">\n",
       "  <thead>\n",
       "    <tr style=\"text-align: right;\">\n",
       "      <th></th>\n",
       "      <th>year_x</th>\n",
       "      <th>month</th>\n",
       "      <th>day</th>\n",
       "      <th>dep_time</th>\n",
       "      <th>sched_dep_time</th>\n",
       "      <th>dep_delay</th>\n",
       "      <th>arr_time</th>\n",
       "      <th>sched_arr_time</th>\n",
       "      <th>arr_delay</th>\n",
       "      <th>carrier</th>\n",
       "      <th>...</th>\n",
       "      <th>time_hour</th>\n",
       "      <th>duration</th>\n",
       "      <th>year_y</th>\n",
       "      <th>type</th>\n",
       "      <th>manufacturer</th>\n",
       "      <th>model</th>\n",
       "      <th>engines</th>\n",
       "      <th>seats</th>\n",
       "      <th>speed</th>\n",
       "      <th>engine</th>\n",
       "    </tr>\n",
       "  </thead>\n",
       "  <tbody>\n",
       "    <tr>\n",
       "      <th>6075</th>\n",
       "      <td>2013</td>\n",
       "      <td>4</td>\n",
       "      <td>13</td>\n",
       "      <td>753.0</td>\n",
       "      <td>759</td>\n",
       "      <td>-6.0</td>\n",
       "      <td>1030.0</td>\n",
       "      <td>1030</td>\n",
       "      <td>0.0</td>\n",
       "      <td>DL</td>\n",
       "      <td>...</td>\n",
       "      <td>2013-04-13T11:00:00Z</td>\n",
       "      <td>2.616667</td>\n",
       "      <td>1998.0</td>\n",
       "      <td>Fixed wing multi engine</td>\n",
       "      <td>BOEING</td>\n",
       "      <td>757-232</td>\n",
       "      <td>2</td>\n",
       "      <td>178</td>\n",
       "      <td>NaN</td>\n",
       "      <td>Turbo-fan</td>\n",
       "    </tr>\n",
       "    <tr>\n",
       "      <th>872</th>\n",
       "      <td>2013</td>\n",
       "      <td>1</td>\n",
       "      <td>29</td>\n",
       "      <td>857.0</td>\n",
       "      <td>900</td>\n",
       "      <td>-3.0</td>\n",
       "      <td>1122.0</td>\n",
       "      <td>1135</td>\n",
       "      <td>-13.0</td>\n",
       "      <td>DL</td>\n",
       "      <td>...</td>\n",
       "      <td>2013-01-29T14:00:00Z</td>\n",
       "      <td>2.416667</td>\n",
       "      <td>2008.0</td>\n",
       "      <td>Fixed wing multi engine</td>\n",
       "      <td>BOEING</td>\n",
       "      <td>737-732</td>\n",
       "      <td>2</td>\n",
       "      <td>149</td>\n",
       "      <td>NaN</td>\n",
       "      <td>Turbo-fan</td>\n",
       "    </tr>\n",
       "    <tr>\n",
       "      <th>13761</th>\n",
       "      <td>2013</td>\n",
       "      <td>2</td>\n",
       "      <td>16</td>\n",
       "      <td>1656.0</td>\n",
       "      <td>1700</td>\n",
       "      <td>-4.0</td>\n",
       "      <td>1911.0</td>\n",
       "      <td>1943</td>\n",
       "      <td>-32.0</td>\n",
       "      <td>DL</td>\n",
       "      <td>...</td>\n",
       "      <td>2013-02-16T22:00:00Z</td>\n",
       "      <td>2.250000</td>\n",
       "      <td>1999.0</td>\n",
       "      <td>Fixed wing multi engine</td>\n",
       "      <td>AIRBUS INDUSTRIE</td>\n",
       "      <td>A320-212</td>\n",
       "      <td>2</td>\n",
       "      <td>182</td>\n",
       "      <td>NaN</td>\n",
       "      <td>Turbo-fan</td>\n",
       "    </tr>\n",
       "  </tbody>\n",
       "</table>\n",
       "<p>3 rows × 28 columns</p>\n",
       "</div>"
      ],
      "text/plain": [
       "       year_x  month  day  dep_time  sched_dep_time  dep_delay  arr_time  \\\n",
       "6075     2013      4   13     753.0             759       -6.0    1030.0   \n",
       "872      2013      1   29     857.0             900       -3.0    1122.0   \n",
       "13761    2013      2   16    1656.0            1700       -4.0    1911.0   \n",
       "\n",
       "       sched_arr_time  arr_delay carrier  ...             time_hour  duration  \\\n",
       "6075             1030        0.0      DL  ...  2013-04-13T11:00:00Z  2.616667   \n",
       "872              1135      -13.0      DL  ...  2013-01-29T14:00:00Z  2.416667   \n",
       "13761            1943      -32.0      DL  ...  2013-02-16T22:00:00Z  2.250000   \n",
       "\n",
       "       year_y                     type      manufacturer     model  engines  \\\n",
       "6075   1998.0  Fixed wing multi engine            BOEING   757-232        2   \n",
       "872    2008.0  Fixed wing multi engine            BOEING   737-732        2   \n",
       "13761  1999.0  Fixed wing multi engine  AIRBUS INDUSTRIE  A320-212        2   \n",
       "\n",
       "       seats speed     engine  \n",
       "6075     178   NaN  Turbo-fan  \n",
       "872      149   NaN  Turbo-fan  \n",
       "13761    182   NaN  Turbo-fan  \n",
       "\n",
       "[3 rows x 28 columns]"
      ]
     },
     "execution_count": 167,
     "metadata": {},
     "output_type": "execute_result"
    }
   ],
   "source": [
    "newAtl = pd.merge(toAtl, dfPlns, on='tailnum', how='inner')\n",
    "newAtl.sample(3)"
   ]
  },
  {
   "cell_type": "markdown",
   "id": "f745dc88-70d7-4f30-9914-f342bf794400",
   "metadata": {},
   "source": [
    "For question 4, I used inner join because we only need flights flying to Atlanta that don't have the data about number seats in the plane. Other than these flights, we can exclude them all."
   ]
  },
  {
   "cell_type": "code",
   "execution_count": 168,
   "id": "50514f18-74f5-426e-ad00-df5834a8f6ab",
   "metadata": {},
   "outputs": [],
   "source": [
    "newAtl = pd.merge(toAtl, dfPlns, on='tailnum', how='inner')"
   ]
  },
  {
   "cell_type": "markdown",
   "id": "348b93bf-96b1-4b5f-a7c8-369d600282f6",
   "metadata": {},
   "source": [
    "For question 5, I also want to use inner join to filter out only flights flying to Atlanta and display their number of seats."
   ]
  },
  {
   "cell_type": "markdown",
   "id": "5bf46cdf-08fc-46a5-a310-3809f7436767",
   "metadata": {},
   "source": [
    "#### 4. How many flights to Atlanta do we have where we don’t have the data about number seats in the plane?"
   ]
  },
  {
   "cell_type": "code",
   "execution_count": 169,
   "id": "e0cb321e-a66c-4815-8cba-e2c93e0f8302",
   "metadata": {},
   "outputs": [
    {
     "data": {
      "text/plain": [
       "0"
      ]
     },
     "execution_count": 169,
     "metadata": {},
     "output_type": "execute_result"
    }
   ],
   "source": [
    "newAtl.seats.isna().sum()"
   ]
  },
  {
   "cell_type": "markdown",
   "id": "46d6accf-28ca-4e47-831c-cf78f664340b",
   "metadata": {},
   "source": [
    "There are 0 fligths to Atlanta that don't have the data about number seats."
   ]
  },
  {
   "cell_type": "markdown",
   "id": "abdc544c-7780-4b62-ac3f-bb0e9d10e83a",
   "metadata": {},
   "source": [
    "#### 5. What was the largest plane in terms of seats that flew from NYC to Atlanta? (or what were the largest planes if there were several equally large planes.) Tell us it’s number of seats, manufacturer and model."
   ]
  },
  {
   "cell_type": "code",
   "execution_count": 170,
   "id": "14930c20-c6cc-4ede-9b94-b47a7d184e60",
   "metadata": {},
   "outputs": [
    {
     "data": {
      "text/html": [
       "<div>\n",
       "<style scoped>\n",
       "    .dataframe tbody tr th:only-of-type {\n",
       "        vertical-align: middle;\n",
       "    }\n",
       "\n",
       "    .dataframe tbody tr th {\n",
       "        vertical-align: top;\n",
       "    }\n",
       "\n",
       "    .dataframe thead th {\n",
       "        text-align: right;\n",
       "    }\n",
       "</style>\n",
       "<table border=\"1\" class=\"dataframe\">\n",
       "  <thead>\n",
       "    <tr style=\"text-align: right;\">\n",
       "      <th></th>\n",
       "      <th>seats</th>\n",
       "      <th>manufacturer</th>\n",
       "      <th>model</th>\n",
       "    </tr>\n",
       "  </thead>\n",
       "  <tbody>\n",
       "    <tr>\n",
       "      <th>14083</th>\n",
       "      <td>450</td>\n",
       "      <td>BOEING</td>\n",
       "      <td>747-451</td>\n",
       "    </tr>\n",
       "  </tbody>\n",
       "</table>\n",
       "</div>"
      ],
      "text/plain": [
       "       seats manufacturer    model\n",
       "14083    450       BOEING  747-451"
      ]
     },
     "execution_count": 170,
     "metadata": {},
     "output_type": "execute_result"
    }
   ],
   "source": [
    "merged = newAtl.sort_values(by=['seats'], ascending = False).head(1)\n",
    "merged[[\"seats\", \"manufacturer\", \"model\"]]"
   ]
  },
  {
   "cell_type": "markdown",
   "id": "819773b2-5cf5-4f3f-9092-78bed7431fbd",
   "metadata": {},
   "source": [
    "The largest plane has 450 seats and is manufactured by BOEING and its model number is 747-451."
   ]
  },
  {
   "cell_type": "markdown",
   "id": "8219c0d0-9fca-4b61-8dc5-2ff647364c69",
   "metadata": {},
   "source": [
    "### 2-5 Think about all this (8pt)"
   ]
  },
  {
   "cell_type": "markdown",
   "id": "af77b8ed-b230-4c92-a0a1-cfee210f9b51",
   "metadata": {},
   "source": [
    "#### 1. What are your main concerns related to the analysis above? Were questions, answers, methodology your were able to use, and data good enough?"
   ]
  },
  {
   "cell_type": "markdown",
   "id": "e0bb1677-b002-4b6c-ba7c-8b2e08cf0eec",
   "metadata": {},
   "source": [
    "I think that the data was quite good enough to do several basic analyses. However, I found some ambiguity in the data and questions that should need more explanations to be able to find more clarifying analysis. In doing so, my main concern was to misunderstand the questions due to the lack of context that could mislead to the wrong analysis."
   ]
  },
  {
   "cell_type": "markdown",
   "id": "80df4d4c-c9a2-4a7f-be04-3ba71bfe5908",
   "metadata": {},
   "source": [
    "#### 2. Can you envision any business-relevant analysis you might do using this data? Hint: it does not have to be freight business, e.g. journalism is business too."
   ]
  },
  {
   "cell_type": "markdown",
   "id": "ff2145e4-270f-4ae0-9646-b3067839b665",
   "metadata": {},
   "source": [
    "With this data, I think that we can analyze which airlines or planes flown to certain airports have frequently been delayed. This could bring a business insight to compaines or airlines manufacturing the planes and providing their services by improving their flaws to be more prepared for the flights."
   ]
  },
  {
   "cell_type": "markdown",
   "id": "18960e8b-fae2-4302-91c3-6f363f4928c9",
   "metadata": {},
   "source": [
    "#### 3. Do you see any ethical concerns with your analysis? Is it possible that as a result you put someone in a worse situation, even it they do not deserve it?"
   ]
  },
  {
   "cell_type": "markdown",
   "id": "9e26f03b-4ee9-4493-baa6-ac58e48eb78a",
   "metadata": {},
   "source": [
    "One ethical concern could be passengers may not know the planes they were on were tracked by us or analysts without their consent. This could possible put someone in trouble if their flights schedule wanted to be hidden from others."
   ]
  },
  {
   "cell_type": "markdown",
   "id": "67fdacb7-fcf4-490e-bc65-07807e855e3d",
   "metadata": {},
   "source": [
    "## How much time did you spend?"
   ]
  },
  {
   "cell_type": "markdown",
   "id": "2fff185c-5c76-4ad2-b2af-6826a447b515",
   "metadata": {},
   "source": [
    "I almost spend 4 hours to finish this assignment."
   ]
  }
 ],
 "metadata": {
  "kernelspec": {
   "display_name": "Python 3 (ipykernel)",
   "language": "python",
   "name": "python3"
  },
  "language_info": {
   "codemirror_mode": {
    "name": "ipython",
    "version": 3
   },
   "file_extension": ".py",
   "mimetype": "text/x-python",
   "name": "python",
   "nbconvert_exporter": "python",
   "pygments_lexer": "ipython3",
   "version": "3.9.7"
  }
 },
 "nbformat": 4,
 "nbformat_minor": 5
}
