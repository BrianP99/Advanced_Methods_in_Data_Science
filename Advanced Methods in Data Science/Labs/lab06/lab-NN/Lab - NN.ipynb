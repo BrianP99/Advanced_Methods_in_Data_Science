{
 "cells": [
  {
   "cell_type": "markdown",
   "id": "36333990",
   "metadata": {},
   "source": [
    "# INFO 371 Lab - Artificial Neural Networks\n",
    "\n",
    "This lab asks you to play with using Multi-Layer Perceptron models (aka: neural networks) and examining how your architecture choices affect your accuracy. Like with the trees lab, we will use the Wisconsin\n",
    "Diagnostic Breast Cancer (WDBC) data for categorization. \n",
    "\n",
    "The aim of this lab is to give you some experience with neural networks.  Try to get as good accuracy as possible (while also minimizing overfitting)!"
   ]
  },
  {
   "cell_type": "code",
   "execution_count": 258,
   "id": "3d24d70b",
   "metadata": {},
   "outputs": [],
   "source": [
    "import pandas as pd\n",
    "import numpy as np\n",
    "from sklearn.dummy import DummyClassifier\n",
    "from sklearn.model_selection import train_test_split\n",
    "from sklearn.metrics import accuracy_score\n",
    "from sklearn.neural_network import MLPClassifier\n",
    "from sklearn.ensemble import RandomForestClassifier\n",
    "import random"
   ]
  },
  {
   "cell_type": "markdown",
   "id": "7865efc5",
   "metadata": {},
   "source": [
    "## Classification \n",
    "In this task you work with WDBC data.  As a reminder, your task is to\n",
    "predict __diagnosis__ (''M'' = cancer, ''B'' = no cancer).  \n",
    "\n",
    "\n",
    "1. Load wdbc data and ensure it looks good.\n",
    "\n",
    "\n",
    "2. Create your feature matrix $X$ and label vector $y$.  The former should contain all 30 features,  everything, except __diagnosis__ and __id__.  The latter should be __diagnosis__, converted to either logical or numeric variable (otherwise sklearn will fail).\n",
    "\n",
    "\n",
    "3.  Split your data into training and validation chunks (or do cross validation below, but that is slower).\n"
   ]
  },
  {
   "cell_type": "code",
   "execution_count": 259,
   "id": "fabd5d07",
   "metadata": {},
   "outputs": [
    {
     "data": {
      "text/html": [
       "<div>\n",
       "<style scoped>\n",
       "    .dataframe tbody tr th:only-of-type {\n",
       "        vertical-align: middle;\n",
       "    }\n",
       "\n",
       "    .dataframe tbody tr th {\n",
       "        vertical-align: top;\n",
       "    }\n",
       "\n",
       "    .dataframe thead th {\n",
       "        text-align: right;\n",
       "    }\n",
       "</style>\n",
       "<table border=\"1\" class=\"dataframe\">\n",
       "  <thead>\n",
       "    <tr style=\"text-align: right;\">\n",
       "      <th></th>\n",
       "      <th>id</th>\n",
       "      <th>diagnosis</th>\n",
       "      <th>radius.mean</th>\n",
       "      <th>texture.mean</th>\n",
       "      <th>perimeter.mean</th>\n",
       "      <th>area.mean</th>\n",
       "      <th>smoothness.mean</th>\n",
       "      <th>compactness.mean</th>\n",
       "      <th>concavity.mean</th>\n",
       "      <th>concpoints.mean</th>\n",
       "      <th>...</th>\n",
       "      <th>radius.worst</th>\n",
       "      <th>texture.worst</th>\n",
       "      <th>perimeter.worst</th>\n",
       "      <th>area.worst</th>\n",
       "      <th>smoothness.worst</th>\n",
       "      <th>compactness.worst</th>\n",
       "      <th>concavity.worst</th>\n",
       "      <th>concpoints.worst</th>\n",
       "      <th>symmetry.worst</th>\n",
       "      <th>fracdim.worst</th>\n",
       "    </tr>\n",
       "  </thead>\n",
       "  <tbody>\n",
       "    <tr>\n",
       "      <th>0</th>\n",
       "      <td>842302</td>\n",
       "      <td>M</td>\n",
       "      <td>17.99</td>\n",
       "      <td>10.38</td>\n",
       "      <td>122.80</td>\n",
       "      <td>1001.0</td>\n",
       "      <td>0.11840</td>\n",
       "      <td>0.27760</td>\n",
       "      <td>0.3001</td>\n",
       "      <td>0.14710</td>\n",
       "      <td>...</td>\n",
       "      <td>25.38</td>\n",
       "      <td>17.33</td>\n",
       "      <td>184.60</td>\n",
       "      <td>2019.0</td>\n",
       "      <td>0.1622</td>\n",
       "      <td>0.6656</td>\n",
       "      <td>0.7119</td>\n",
       "      <td>0.2654</td>\n",
       "      <td>0.4601</td>\n",
       "      <td>0.11890</td>\n",
       "    </tr>\n",
       "    <tr>\n",
       "      <th>1</th>\n",
       "      <td>842517</td>\n",
       "      <td>M</td>\n",
       "      <td>20.57</td>\n",
       "      <td>17.77</td>\n",
       "      <td>132.90</td>\n",
       "      <td>1326.0</td>\n",
       "      <td>0.08474</td>\n",
       "      <td>0.07864</td>\n",
       "      <td>0.0869</td>\n",
       "      <td>0.07017</td>\n",
       "      <td>...</td>\n",
       "      <td>24.99</td>\n",
       "      <td>23.41</td>\n",
       "      <td>158.80</td>\n",
       "      <td>1956.0</td>\n",
       "      <td>0.1238</td>\n",
       "      <td>0.1866</td>\n",
       "      <td>0.2416</td>\n",
       "      <td>0.1860</td>\n",
       "      <td>0.2750</td>\n",
       "      <td>0.08902</td>\n",
       "    </tr>\n",
       "    <tr>\n",
       "      <th>2</th>\n",
       "      <td>84300903</td>\n",
       "      <td>M</td>\n",
       "      <td>19.69</td>\n",
       "      <td>21.25</td>\n",
       "      <td>130.00</td>\n",
       "      <td>1203.0</td>\n",
       "      <td>0.10960</td>\n",
       "      <td>0.15990</td>\n",
       "      <td>0.1974</td>\n",
       "      <td>0.12790</td>\n",
       "      <td>...</td>\n",
       "      <td>23.57</td>\n",
       "      <td>25.53</td>\n",
       "      <td>152.50</td>\n",
       "      <td>1709.0</td>\n",
       "      <td>0.1444</td>\n",
       "      <td>0.4245</td>\n",
       "      <td>0.4504</td>\n",
       "      <td>0.2430</td>\n",
       "      <td>0.3613</td>\n",
       "      <td>0.08758</td>\n",
       "    </tr>\n",
       "    <tr>\n",
       "      <th>3</th>\n",
       "      <td>84348301</td>\n",
       "      <td>M</td>\n",
       "      <td>11.42</td>\n",
       "      <td>20.38</td>\n",
       "      <td>77.58</td>\n",
       "      <td>386.1</td>\n",
       "      <td>0.14250</td>\n",
       "      <td>0.28390</td>\n",
       "      <td>0.2414</td>\n",
       "      <td>0.10520</td>\n",
       "      <td>...</td>\n",
       "      <td>14.91</td>\n",
       "      <td>26.50</td>\n",
       "      <td>98.87</td>\n",
       "      <td>567.7</td>\n",
       "      <td>0.2098</td>\n",
       "      <td>0.8663</td>\n",
       "      <td>0.6869</td>\n",
       "      <td>0.2575</td>\n",
       "      <td>0.6638</td>\n",
       "      <td>0.17300</td>\n",
       "    </tr>\n",
       "    <tr>\n",
       "      <th>4</th>\n",
       "      <td>84358402</td>\n",
       "      <td>M</td>\n",
       "      <td>20.29</td>\n",
       "      <td>14.34</td>\n",
       "      <td>135.10</td>\n",
       "      <td>1297.0</td>\n",
       "      <td>0.10030</td>\n",
       "      <td>0.13280</td>\n",
       "      <td>0.1980</td>\n",
       "      <td>0.10430</td>\n",
       "      <td>...</td>\n",
       "      <td>22.54</td>\n",
       "      <td>16.67</td>\n",
       "      <td>152.20</td>\n",
       "      <td>1575.0</td>\n",
       "      <td>0.1374</td>\n",
       "      <td>0.2050</td>\n",
       "      <td>0.4000</td>\n",
       "      <td>0.1625</td>\n",
       "      <td>0.2364</td>\n",
       "      <td>0.07678</td>\n",
       "    </tr>\n",
       "  </tbody>\n",
       "</table>\n",
       "<p>5 rows × 32 columns</p>\n",
       "</div>"
      ],
      "text/plain": [
       "         id diagnosis  radius.mean  texture.mean  perimeter.mean  area.mean  \\\n",
       "0    842302         M        17.99         10.38          122.80     1001.0   \n",
       "1    842517         M        20.57         17.77          132.90     1326.0   \n",
       "2  84300903         M        19.69         21.25          130.00     1203.0   \n",
       "3  84348301         M        11.42         20.38           77.58      386.1   \n",
       "4  84358402         M        20.29         14.34          135.10     1297.0   \n",
       "\n",
       "   smoothness.mean  compactness.mean  concavity.mean  concpoints.mean  ...  \\\n",
       "0          0.11840           0.27760          0.3001          0.14710  ...   \n",
       "1          0.08474           0.07864          0.0869          0.07017  ...   \n",
       "2          0.10960           0.15990          0.1974          0.12790  ...   \n",
       "3          0.14250           0.28390          0.2414          0.10520  ...   \n",
       "4          0.10030           0.13280          0.1980          0.10430  ...   \n",
       "\n",
       "   radius.worst  texture.worst  perimeter.worst  area.worst  smoothness.worst  \\\n",
       "0         25.38          17.33           184.60      2019.0            0.1622   \n",
       "1         24.99          23.41           158.80      1956.0            0.1238   \n",
       "2         23.57          25.53           152.50      1709.0            0.1444   \n",
       "3         14.91          26.50            98.87       567.7            0.2098   \n",
       "4         22.54          16.67           152.20      1575.0            0.1374   \n",
       "\n",
       "   compactness.worst  concavity.worst  concpoints.worst  symmetry.worst  \\\n",
       "0             0.6656           0.7119            0.2654          0.4601   \n",
       "1             0.1866           0.2416            0.1860          0.2750   \n",
       "2             0.4245           0.4504            0.2430          0.3613   \n",
       "3             0.8663           0.6869            0.2575          0.6638   \n",
       "4             0.2050           0.4000            0.1625          0.2364   \n",
       "\n",
       "   fracdim.worst  \n",
       "0        0.11890  \n",
       "1        0.08902  \n",
       "2        0.08758  \n",
       "3        0.17300  \n",
       "4        0.07678  \n",
       "\n",
       "[5 rows x 32 columns]"
      ]
     },
     "execution_count": 259,
     "metadata": {},
     "output_type": "execute_result"
    }
   ],
   "source": [
    "#code goes here\n",
    "#1\n",
    "df = pd.read_csv(\"wdbc.csv.bz2\")\n",
    "df.head(5)"
   ]
  },
  {
   "cell_type": "code",
   "execution_count": 260,
   "id": "18462229",
   "metadata": {
    "scrolled": true
   },
   "outputs": [
    {
     "name": "stdout",
     "output_type": "stream",
     "text": [
      "(569, 32)\n",
      "id                   0\n",
      "diagnosis            0\n",
      "radius.mean          0\n",
      "texture.mean         0\n",
      "perimeter.mean       0\n",
      "area.mean            0\n",
      "smoothness.mean      0\n",
      "compactness.mean     0\n",
      "concavity.mean       0\n",
      "concpoints.mean      0\n",
      "symmetry.mean        0\n",
      "fracdim.mean         0\n",
      "radius.se            0\n",
      "texture.se           0\n",
      "perimeter.se         0\n",
      "area.se              0\n",
      "smoothness.se        0\n",
      "compactness.se       0\n",
      "concavity.se         0\n",
      "concpoints.se        0\n",
      "symmetry.se          0\n",
      "fracdim.se           0\n",
      "radius.worst         0\n",
      "texture.worst        0\n",
      "perimeter.worst      0\n",
      "area.worst           0\n",
      "smoothness.worst     0\n",
      "compactness.worst    0\n",
      "concavity.worst      0\n",
      "concpoints.worst     0\n",
      "symmetry.worst       0\n",
      "fracdim.worst        0\n",
      "dtype: int64\n"
     ]
    }
   ],
   "source": [
    "print(df.shape)\n",
    "print(df.isna().sum())"
   ]
  },
  {
   "cell_type": "code",
   "execution_count": 261,
   "id": "2e76916c",
   "metadata": {},
   "outputs": [],
   "source": [
    "#2\n",
    "X = df.loc[:, ~df.columns.isin(['diagnosis', 'id'])] \n",
    "y = df.diagnosis.to_frame()\n",
    "\n",
    "y.diagnosis = np.where(y.diagnosis == 'M', 1, 0)"
   ]
  },
  {
   "cell_type": "code",
   "execution_count": 262,
   "id": "e07be4e9",
   "metadata": {},
   "outputs": [],
   "source": [
    "#3\n",
    "X_train, X_test, y_train, y_test = train_test_split(X, y, test_size = 0.20)"
   ]
  },
  {
   "cell_type": "markdown",
   "id": "69a686ef",
   "metadata": {},
   "source": [
    "Now everything should be ready for us to train some Neural Networks.  Your\n",
    "task is to analyze the effect of changing the __hidden_layer_sizes__ hyperparameter of [MLPClassifier](https://scikit-learn.org/stable/modules/neural_networks_supervised.html). \n",
    "\n",
    "\n",
    "4. Get a baseline testing and training accuracy for your model using the default paramters.\n",
    "\n",
    "\n",
    "5. Experiment with different numers of layers (and number of nodes at each layer) to try to get the best possible accuracy. The __hidden_layer_sizes__ parameter accepts a set where the length is the number of hidden layers and each element is the number of nodes in each layer. For example if I set as hidden_layer_sizes=(5, 2, 3) then my neural network will have 3 hidden layers where the first layer has 5 nodes, the second 2 nodes, and the third has 3 nodes. \n",
    "\n",
    "\n",
    "6. Report on what the best \"architecture\" you got. Tell us how manuy layers you used and the total number of nodes you used to get your best accuracy. \n",
    "\n",
    "\n",
    "7. Does your model overfit? Back up your claim with evidence. \n",
    "        Hint: you need to examine test/train accuracy as you vary the complexity of the model.\n",
    "\n",
    "\n",
    "8. Finally, compare the best accuracy you achieved using neural networks with a similar accuracy using a default Random Forest model. Which model gives you better accuracy? Which model is more prone to overfitting with this dataset? \n",
    "\n"
   ]
  },
  {
   "cell_type": "code",
   "execution_count": 263,
   "id": "5c076b0d",
   "metadata": {},
   "outputs": [
    {
     "name": "stdout",
     "output_type": "stream",
     "text": [
      "0.6373626373626373 0.5877192982456141\n"
     ]
    }
   ],
   "source": [
    "#code goes here\n",
    "#4\n",
    "m = DummyClassifier(strategy = \"most_frequent\")\n",
    "m.fit(X_train, y_train)\n",
    "y_pred_train= m.predict(X_train)\n",
    "y_pred_test = m.predict(X_test)\n",
    "\n",
    "print((accuracy_score(y_train, y_pred_train)), (accuracy_score(y_test, y_pred_test)))"
   ]
  },
  {
   "cell_type": "code",
   "execution_count": 264,
   "id": "1b0f9cc2",
   "metadata": {
    "scrolled": true
   },
   "outputs": [
    {
     "name": "stdout",
     "output_type": "stream",
     "text": [
      "hidden_layer_sizes = (35, 46): \n",
      "0.9385964912280702\n"
     ]
    }
   ],
   "source": [
    "#5\n",
    "best_lyr = ()\n",
    "best_acc = 0\n",
    "lyrs = [(random.randint(1, 101),), (random.randint(1, 101),), \n",
    "        (random.randint(1, 101), random.randint(1, 101)), (random.randint(1, 101), random.randint(1, 101)), \n",
    "        (random.randint(1, 101), random.randint(1, 101), random.randint(1, 101)), \n",
    "        (random.randint(1, 101), random.randint(1, 101), random.randint(1, 101)),\n",
    "       (random.randint(1, 101), random.randint(1, 101), random.randint(1, 101), random.randint(1, 101)),\n",
    "       (random.randint(1, 101), random.randint(1, 101), random.randint(1, 101), random.randint(1, 101))]\n",
    "for l in lyrs:\n",
    "    clf = MLPClassifier(hidden_layer_sizes = l, max_iter=1000)\n",
    "    clf.fit(X_train, y_train.values.ravel())\n",
    "    score = clf.score(X_test, y_test)\n",
    "    if(best_acc < score):\n",
    "        best_lyr = l\n",
    "        best_acc = score\n",
    "\n",
    "print(\"hidden_layer_sizes = \" + str(best_lyr) + \": \")\n",
    "print(best_acc)"
   ]
  },
  {
   "cell_type": "code",
   "execution_count": 265,
   "id": "4ee03a29",
   "metadata": {},
   "outputs": [
    {
     "name": "stdout",
     "output_type": "stream",
     "text": [
      "The best architecture: (35, 46)\n",
      "The total number of layers: 2\n",
      "The total number of nodes: 81\n"
     ]
    }
   ],
   "source": [
    "#6\n",
    "print(\"The best architecture: \" + str(best_lyr))\n",
    "print(\"The total number of layers: \" + str(len(best_lyr)))\n",
    "\n",
    "ttl = 0\n",
    "for n in best_lyr:\n",
    "    ttl += n\n",
    "print(\"The total number of nodes: \" + str(ttl))"
   ]
  },
  {
   "cell_type": "code",
   "execution_count": 266,
   "id": "e0eb8a94",
   "metadata": {},
   "outputs": [
    {
     "name": "stdout",
     "output_type": "stream",
     "text": [
      "0.9296703296703297 0.9385964912280702\n"
     ]
    }
   ],
   "source": [
    "#7\n",
    "clf = MLPClassifier(hidden_layer_sizes = best_lyr, max_iter=1000)\n",
    "clf.fit(X_train, y_train.values.ravel())\n",
    "print(clf.score(X_train, y_train), clf.score(X_test, y_test))"
   ]
  },
  {
   "cell_type": "markdown",
   "id": "c0649d09",
   "metadata": {},
   "source": [
    "According to the training/testing accuracy, it does not seem that the model is overfitting, as both the training and testing accuracy are comparatively high, with the testing accuracy performing better than the training accuracy."
   ]
  },
  {
   "cell_type": "code",
   "execution_count": 267,
   "id": "3d33ece8",
   "metadata": {
    "scrolled": true
   },
   "outputs": [
    {
     "name": "stdout",
     "output_type": "stream",
     "text": [
      "1.0 0.9649122807017544\n"
     ]
    }
   ],
   "source": [
    "#8\n",
    "clf_r = RandomForestClassifier()\n",
    "clf_r.fit(X_train, y_train.values.ravel())\n",
    "print(clf_r.score(X_train, y_train), clf_r.score(X_test, y_test))"
   ]
  },
  {
   "cell_type": "markdown",
   "id": "0b81fdf9",
   "metadata": {},
   "source": [
    "While the Random Forest model achieved higher accuracy overall on this dataset, it is more prone to overfitting, given the model has a higher training accuracy compared to the testing accuracy."
   ]
  }
 ],
 "metadata": {
  "kernelspec": {
   "display_name": "Python 3 (ipykernel)",
   "language": "python",
   "name": "python3"
  },
  "language_info": {
   "codemirror_mode": {
    "name": "ipython",
    "version": 3
   },
   "file_extension": ".py",
   "mimetype": "text/x-python",
   "name": "python",
   "nbconvert_exporter": "python",
   "pygments_lexer": "ipython3",
   "version": "3.9.13"
  }
 },
 "nbformat": 4,
 "nbformat_minor": 5
}
