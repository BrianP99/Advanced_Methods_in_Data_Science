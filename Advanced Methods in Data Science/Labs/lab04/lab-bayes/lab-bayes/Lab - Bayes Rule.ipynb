{
 "cells": [
  {
   "cell_type": "markdown",
   "id": "4a6f54ce",
   "metadata": {},
   "source": [
    "# INFO371 Lab: Bayes theorem\n",
    "\n",
    "Your task is to use Bayes theorem, and predict whether a\n",
    "representative was a democrat or republican depending on how did they\n",
    "voted for bill \\#8 in the dataset.  This is in preparation for using the Naive Bayes estimator next class.\n",
    "\n",
    "## Data\n",
    "The data **house-votes-84-yeas** contains votes for 16 bills by 435 Representatives in 1984. The US Congress consists of two chambers: The House of Representatives (or just ''House''), and Senate.  There are 435 members---Representatives (or just Rep-s) in the House.  Almost all Reps are members of either Democratic or Republican party.\n",
    "\n",
    "The first variable is the party membership (_republican or _democrat_), and the 16 following ones are whether the representative voted _yea_ for the corresponding bill. The word \"Yea\" indicates \"yes\" or \"affirmative\" for votes. \n",
    "\n",
    "The variables **yea1--yea16** are coded in a way that ''1''\n",
    "means voting **yea**, and ''0'' means usually **nay** but\n",
    "sometimes also missing/abstaining vote. We are using votes for bill 8 (column **yea8**) to predict the party membership **party**. \n",
    "\n",
    "---\n",
    "## Implement the Bayes Classifier\n",
    "\n",
    "The task in this lab is to compute the probability that a\n",
    "Representative is democrat, depending on how did she vote for bill 8:\n",
    "\n",
    "$Pr(party = D|vote_8)$. \n",
    "\n",
    "### Compute Priors\n",
    "\n",
    "We are using the Bayes theorem to compute:\n",
    "\n",
    "\n",
    "$Pr(party = D|vote = V) = \\frac{Pr(vote = V|party = D) * Pr(party = D)} {Pr(vote = V)}$\n",
    "    \n",
    "where $D$ means the representative is a democrat, and $V$ means how she\n",
    "voted for a particular bill (yea or not).  We focus on a single\n",
    "bill, **yea8**.\n",
    "\n",
    "\n",
    "* Compute the priors, $Pr(party = D)$ and $Pr(party = R)$, the percentage of democrats and republicans in your data.  \n",
    "\n",
    "\n",
    "* extract the data corresponding to the bill (the column **yea8** in\n",
    "  your data matrix.  Let's call it $x_8$ below.\n",
    "  \n",
    "  \n",
    "* We also need the normalizers $Pr(vote = 1)$ and $Pr(vote = 0)$, the probabilities that representatives voted **yea** or not for that bill.\n"
   ]
  },
  {
   "cell_type": "code",
   "execution_count": 2,
   "id": "bcde040e",
   "metadata": {},
   "outputs": [],
   "source": [
    "# code goes here\n",
    "import pandas as pd\n",
    "import numpy as np\n",
    "from sklearn.metrics import accuracy_score\n",
    "from sklearn.metrics import confusion_matrix\n",
    "from sklearn.dummy import DummyClassifier\n",
    "from sklearn.model_selection import train_test_split\n",
    "\n",
    "hv = pd.read_csv(\"house-votes-84-yeas.csv.bz2\", sep=\"\\t\")"
   ]
  },
  {
   "cell_type": "code",
   "execution_count": 3,
   "id": "7df09f5b",
   "metadata": {},
   "outputs": [
    {
     "name": "stdout",
     "output_type": "stream",
     "text": [
      "0.6137931034482759\n",
      "0.38620689655172413\n"
     ]
    }
   ],
   "source": [
    "#1\n",
    "PrD = hv.party[hv.party == \"democrat\"].count() / hv.shape[0]\n",
    "PrR = hv.party[hv.party == \"republican\"].count() / hv.shape[0]\n",
    "\n",
    "print(PrD)\n",
    "print(PrR)"
   ]
  },
  {
   "cell_type": "code",
   "execution_count": 4,
   "id": "c18a6995",
   "metadata": {},
   "outputs": [],
   "source": [
    "#2\n",
    "x8 = hv[[\"party\", \"yea8\"]]"
   ]
  },
  {
   "cell_type": "code",
   "execution_count": 5,
   "id": "d62905b4",
   "metadata": {},
   "outputs": [
    {
     "name": "stdout",
     "output_type": "stream",
     "text": [
      "0.5563218390804597\n",
      "0.4436781609195402\n"
     ]
    }
   ],
   "source": [
    "#3\n",
    "Pr1 = x8.yea8[x8.yea8 == 1].count() / x8.shape[0]\n",
    "Pr0 = x8.yea8[x8.yea8 == 0].count() / x8.shape[0]\n",
    "\n",
    "print(Pr1)\n",
    "print(Pr0)"
   ]
  },
  {
   "cell_type": "markdown",
   "id": "2c3c5c17",
   "metadata": {},
   "source": [
    "Now we need the four conditional probabilities:  \n",
    "$Pr(vote = Y|party = D)$, $Pr(vote = N|party = D)$, $Pr(vote = Y|party=R)$, and $Pr(vote=N|party=R)$ for the bill.\n",
    "\n",
    "\n",
    "* Compute these conditional probabilities --- percentage of yeas and non-yeas for democrats, republicans. A good way to do it is to split the data into two---republicans and democrats, and find the mean vote values for these groups."
   ]
  },
  {
   "cell_type": "code",
   "execution_count": 6,
   "id": "a8d6b373",
   "metadata": {},
   "outputs": [
    {
     "name": "stdout",
     "output_type": "stream",
     "text": [
      "0.8164794007490636 0.18352059925093633 0.14285714285714285 0.8571428571428571\n"
     ]
    }
   ],
   "source": [
    "# code goes here\n",
    "#4\n",
    "x8d = x8[x8.party == \"democrat\"]\n",
    "x8r = x8[x8.party == \"republican\"]\n",
    "\n",
    "PrYD = (x8d.yea8[x8d.yea8 == 1].count() / x8.shape[0]) / PrD\n",
    "PrND = (x8d.yea8[x8d.yea8 == 0].count() / x8.shape[0]) / PrD\n",
    "\n",
    "PrYR = (x8r.yea8[x8r.yea8 == 1].count() / x8.shape[0]) / PrR\n",
    "PrNR = (x8r.yea8[x8r.yea8 == 0].count() / x8.shape[0]) / PrR\n",
    "\n",
    "print(PrYD, PrND, PrYR, PrNR)"
   ]
  },
  {
   "cell_type": "markdown",
   "id": "a30bac57",
   "metadata": {},
   "source": [
    "## Predict using Bayes theorem\n",
    "\n",
    "Now you have all the probabilities you need.  Next, let's use Bayes\n",
    "theorem (see equation in the \"Computure Priors\" section above) and compute, for each representative, that probability that they are a democrat, and the probability that they are a republican, given their vote.\n",
    "\n",
    "\n",
    "* Compute the probability of interest $Pr(party = D|vote_8)$. Use the plain Bayes theorem here and the conditional probablities you calculated above.  Do not compute it using the counts directly (that will not scale to naive bayes!).\n",
    "  \n",
    "  Note: you have to pick the correct conditional probability.  For\n",
    "  instance, when computing the probability that the representative is a\n",
    "  democrat, you have to choose either\n",
    "  $Pr(vote=Y|party=D)$ or\n",
    "  $Pr(vote=N|party=D)$, and the correct normalizer, either\n",
    "  $Pr(vote=Y)$ or $Pr(vote =N)$, \n",
    "  depending on whether she voted yea or nay. \n",
    "  \n",
    "  \n",
    "* Categorize the representatives to democrats and republicans using threshold\n",
    "  0.5.  It means those representatives who have $Pr(party = D|vote = V) > 0.5$ will be considered democrats and the way around.\n",
    "  \n",
    "  \n",
    "* Print the confusion matrix and accuracy. (Note: it may help to use the confusion_matrix fucntion from sklearn.metrics) \n",
    "\n",
    "\n",
    "* Compare your accuracy with accuracy of the naive model that predict every representative to the majority class.  How much better is your classifier?\n",
    "\n",
    "\n",
    "* Repeat the process with other bills.  Which bill will give you the best accuracy?  Which one the worst? \n",
    "\n",
    "  Hint: you may want to write  a function and loop over columns of the dataset.\n",
    "  \n",
    "  Hint2: Bills 2, 10, 16 will give the lowest accuracy."
   ]
  },
  {
   "cell_type": "code",
   "execution_count": 7,
   "id": "8a8b22e3",
   "metadata": {},
   "outputs": [
    {
     "name": "stdout",
     "output_type": "stream",
     "text": [
      "0.9008264462809917 0.2538860103626943 0.09917355371900827 0.7461139896373057\n"
     ]
    }
   ],
   "source": [
    "# code goes here \n",
    "#5 \n",
    "PrDY = PrYD * PrD / Pr1\n",
    "PrDN = PrND * PrD / Pr0\n",
    "PrRY = PrYR * PrR / Pr1\n",
    "PrRN = PrNR * PrR / Pr0\n",
    "\n",
    "print(PrDY, PrDN, PrRY, PrRN) #the first two probs are Pr(party = D\\vote8)"
   ]
  },
  {
   "cell_type": "code",
   "execution_count": 8,
   "id": "744c3752",
   "metadata": {},
   "outputs": [],
   "source": [
    "#6\n",
    "x8n = x8.copy()\n",
    "x8n[\"pr\"] = np.where((x8n[\"party\"] == \"democrat\") & (x8n[\"yea8\"] == 1), PrDY,\n",
    "                         np.where((x8n[\"party\"] == \"democrat\") & (x8n[\"yea8\"] == 0), PrDN,\n",
    "                                  np.where((x8n[\"party\"] == \"republican\") & (x8n[\"yea8\"] == 1), PrRY, PrRN)))\n",
    "x8n[\"new_party\"] = np.where(x8n[\"pr\"] > 0.5, \"democrat\", \"republican\")"
   ]
  },
  {
   "cell_type": "code",
   "execution_count": 9,
   "id": "2ccd4bf3",
   "metadata": {},
   "outputs": [
    {
     "name": "stdout",
     "output_type": "stream",
     "text": [
      "[[218  49]\n",
      " [144  24]]\n",
      "\n",
      "0.5563218390804597\n"
     ]
    }
   ],
   "source": [
    "#7\n",
    "cm = confusion_matrix(x8n[\"party\"], x8n[\"new_party\"])\n",
    "accuracy = accuracy_score(x8n[\"party\"], x8n[\"new_party\"])\n",
    "print(cm)\n",
    "print()\n",
    "print(accuracy)"
   ]
  },
  {
   "cell_type": "code",
   "execution_count": 10,
   "id": "c8bdba93",
   "metadata": {},
   "outputs": [
    {
     "data": {
      "text/plain": [
       "0.5977011494252874"
      ]
     },
     "execution_count": 10,
     "metadata": {},
     "output_type": "execute_result"
    }
   ],
   "source": [
    "#8\n",
    "X_train, X_test, y_train, y_test = train_test_split(x8[\"yea8\"], x8[\"party\"], test_size=0.2)\n",
    "d = DummyClassifier()\n",
    "d.fit(X_train, y_train)\n",
    "d.score(X_test, y_test)"
   ]
  },
  {
   "cell_type": "markdown",
   "id": "f045c2b9",
   "metadata": {},
   "source": [
    "My dummy classifier achieves an improvement of approximately 5-15% in accuracy compared to the accuracy derived from the confusion matrix."
   ]
  },
  {
   "cell_type": "code",
   "execution_count": 11,
   "id": "b9558831",
   "metadata": {},
   "outputs": [
    {
     "name": "stdout",
     "output_type": "stream",
     "text": [
      "Accuracy of bill 1: 0.5701149425287356\n",
      "Accuracy of bill 2: 0.0\n",
      "Accuracy of bill 3: 0.41839080459770117\n",
      "Accuracy of bill 4: 0.40689655172413797\n",
      "Accuracy of bill 5: 0.4873563218390805\n",
      "Accuracy of bill 6: 0.6252873563218391\n",
      "Accuracy of bill 7: 0.4505747126436782\n",
      "Accuracy of bill 8: 0.44367816091954027\n",
      "Accuracy of bill 9: 0.5241379310344827\n",
      "Accuracy of bill 10: 0.0\n",
      "Accuracy of bill 11: 0.6551724137931034\n",
      "Accuracy of bill 12: 0.3931034482758621\n",
      "Accuracy of bill 13: 0.48045977011494256\n",
      "Accuracy of bill 14: 0.5701149425287356\n",
      "Accuracy of bill 15: 0.6\n",
      "Accuracy of bill 16: 0.0\n"
     ]
    }
   ],
   "source": [
    "#9\n",
    "def nm(col):\n",
    "    PrD = hv.party[hv.party == \"democrat\"].count() / hv.shape[0]\n",
    "    PrR = hv.party[hv.party == \"republican\"].count() / hv.shape[0]\n",
    "    new_df = hv[[\"party\", col]]\n",
    "    Pr1 = new_df[col][new_df[col] == 1].count() / new_df.shape[0]\n",
    "    Pr0 = new_df[col][new_df[col] == 0].count() / new_df.shape[0]\n",
    "    \n",
    "    demo_df = new_df[new_df.party == \"democrat\"]\n",
    "    rep_df = new_df[new_df.party == \"republican\"]\n",
    "\n",
    "    PrYD = (demo_df[col][demo_df[col] == 1].count() / new_df.shape[0]) / PrD\n",
    "    PrND = (demo_df[col][demo_df[col] == 0].count() / new_df.shape[0]) / PrD\n",
    "\n",
    "    PrYR = (rep_df[col][rep_df[col] == 1].count() / new_df.shape[0]) / PrR\n",
    "    PrNR = (rep_df[col][rep_df[col] == 0].count() / new_df.shape[0]) / PrR\n",
    "\n",
    "    PrDY = PrYD * PrD / Pr1\n",
    "    PrDN = PrND * PrD / Pr0\n",
    "    PrRY = PrYR * PrR / Pr1\n",
    "    PrRN = PrNR * PrR / Pr0\n",
    "    \n",
    "    new_new_df= new_df.copy()\n",
    "    new_new_df[\"pr\"] = np.where((new_new_df[\"party\"] == \"democrat\") & (new_new_df[col] == 1), PrDY,\n",
    "                         np.where((new_new_df[\"party\"] == \"democrat\") & (new_new_df[col] == 0), PrDN,\n",
    "                                  np.where((new_new_df[\"party\"] == \"republican\") & (new_new_df[col] == 1), PrRY, PrRN)))\n",
    "    new_new_df[\"new_party\"]  = np.where(new_new_df[\"pr\"] > 0.5, \"democrat\", \"republican\")\n",
    "    \n",
    "    accuracy = accuracy_score(new_new_df[\"party\"], new_new_df[\"new_party\"])\n",
    "    return 1 - accuracy\n",
    "\n",
    "cols = list(hv.columns)\n",
    "for i in range (1, 17):\n",
    "    print(\"Accuracy of bill \" + str(i) + \": \" + str(nm(cols[i])))"
   ]
  }
 ],
 "metadata": {
  "kernelspec": {
   "display_name": "Python 3",
   "language": "python",
   "name": "python3"
  },
  "language_info": {
   "codemirror_mode": {
    "name": "ipython",
    "version": 3
   },
   "file_extension": ".py",
   "mimetype": "text/x-python",
   "name": "python",
   "nbconvert_exporter": "python",
   "pygments_lexer": "ipython3",
   "version": "3.8.8"
  }
 },
 "nbformat": 4,
 "nbformat_minor": 5
}
