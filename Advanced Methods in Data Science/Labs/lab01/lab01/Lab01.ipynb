{
 "cells": [
  {
   "cell_type": "markdown",
   "id": "02f115d7",
   "metadata": {},
   "source": [
    "# Lab 01 - Hill Climbing Optimizaton for Linear Regression \n",
    "\n",
    "## Instructions\n",
    "\n",
    "The goal of this lab is to give you hands on experience working with hill climbing search algorithms. In this lab you will be working with a random datatset I generated based off of a line. Your goal will be to try to figure out what line I used (i.e. you are looking to try to figure out what the slope and intcept are for the line that best fits this dataset). \n",
    "\n",
    "We will be using hill climbing for this (as opposed to the slightly more complicated Gradient Descent). We will talk more in class about gradient descent, but its very important that you understand hill climbing first. \n",
    "\n",
    "## Dataset Description \n",
    "You will be working with a small dataset (`random.csv`) made up of 1000 randomly generated points. The dataset has two columns `x` and `y`. The `x` column is your input and the `y` column is your output. Your goal is to uncover the function `f(x) = mx+b` given the traing data `x` and labels `y`. "
   ]
  },
  {
   "cell_type": "code",
   "execution_count": 77,
   "id": "d3c92fe4",
   "metadata": {},
   "outputs": [],
   "source": [
    "#this code loads in the python packages you are going to need for this lab\n",
    "\n",
    "import pandas as pd\n",
    "import numpy as np\n",
    "from sklearn.metrics import mean_squared_error\n",
    "import matplotlib.pyplot as plt\n",
    "from sklearn import linear_model"
   ]
  },
  {
   "cell_type": "code",
   "execution_count": 78,
   "id": "60924c31",
   "metadata": {
    "scrolled": false
   },
   "outputs": [
    {
     "data": {
      "text/html": [
       "<div>\n",
       "<style scoped>\n",
       "    .dataframe tbody tr th:only-of-type {\n",
       "        vertical-align: middle;\n",
       "    }\n",
       "\n",
       "    .dataframe tbody tr th {\n",
       "        vertical-align: top;\n",
       "    }\n",
       "\n",
       "    .dataframe thead th {\n",
       "        text-align: right;\n",
       "    }\n",
       "</style>\n",
       "<table border=\"1\" class=\"dataframe\">\n",
       "  <thead>\n",
       "    <tr style=\"text-align: right;\">\n",
       "      <th></th>\n",
       "      <th>x</th>\n",
       "      <th>y</th>\n",
       "    </tr>\n",
       "  </thead>\n",
       "  <tbody>\n",
       "    <tr>\n",
       "      <th>0</th>\n",
       "      <td>5.02</td>\n",
       "      <td>28.083458</td>\n",
       "    </tr>\n",
       "    <tr>\n",
       "      <th>1</th>\n",
       "      <td>1.87</td>\n",
       "      <td>22.790723</td>\n",
       "    </tr>\n",
       "    <tr>\n",
       "      <th>2</th>\n",
       "      <td>6.48</td>\n",
       "      <td>31.312447</td>\n",
       "    </tr>\n",
       "    <tr>\n",
       "      <th>3</th>\n",
       "      <td>9.30</td>\n",
       "      <td>34.002755</td>\n",
       "    </tr>\n",
       "    <tr>\n",
       "      <th>4</th>\n",
       "      <td>1.75</td>\n",
       "      <td>20.577190</td>\n",
       "    </tr>\n",
       "  </tbody>\n",
       "</table>\n",
       "</div>"
      ],
      "text/plain": [
       "      x          y\n",
       "0  5.02  28.083458\n",
       "1  1.87  22.790723\n",
       "2  6.48  31.312447\n",
       "3  9.30  34.002755\n",
       "4  1.75  20.577190"
      ]
     },
     "execution_count": 78,
     "metadata": {},
     "output_type": "execute_result"
    }
   ],
   "source": [
    "#this code loads in your dataset as a pandas dataframe \n",
    "data = pd.read_csv(\"random.csv\")\n",
    "\n",
    "#this code shows you just the first couple of lines of your dataset \n",
    "data.head()"
   ]
  },
  {
   "cell_type": "markdown",
   "id": "22d13c2b",
   "metadata": {},
   "source": [
    "## Hill Climbing Step-by-Step\n",
    "\n",
    "Before we jump into implementing hill climbing all on our own, lets work through the first couple of steps. \n",
    "\n",
    "let's pretend your first guess as to the correct line for this data is `f(x) = 2x + 17` meaning your guess is that the slope `m` is 2 and the intercept `b` is 17. \n",
    "\n",
    "1. What would the predicted outputs be given this function? i.e. plug in the x values from your data into the function to get the predicited y values\n",
    "\n",
    "\n",
    "2. Store these predicitons in an array, and then calculate and print the error for this guess using mean squared error. Note: you should use the function `mean_squared_error` from the sklearn package. \n",
    "\n",
    "\n",
    "3. Given this starting line, there are 8 possible neighbors lines from this starting line: \n",
    "    * m and b+1\n",
    "    * m and b-1\n",
    "    * m+1 and b+1\n",
    "    * m+1 and b-1\n",
    "    * m+1 and b\n",
    "    * m-1 and b+1\n",
    "    * m-1 and b-1\n",
    "    * m-1 and b\n",
    "  \n",
    "  \n",
    "  What is the error for each of these \"neighbor\" lines?\n",
    "  \n",
    "  \n",
    "4. Given starting point `f(x) = 2x + 17`, which neighbor line should you chose as your next step?\n",
    "\n",
    "\n",
    "5. Now from this line you chose in Question 4, what are your neighbors? and what is the error for each of these neighbor lines? \n",
    "\n",
    "\n",
    "6. Now repeat step 5 once again (i.e. chose one of the lines, find all the neighbors of that new line, and print the errors for each new line)"
   ]
  },
  {
   "cell_type": "code",
   "execution_count": 79,
   "id": "72f2411e",
   "metadata": {},
   "outputs": [],
   "source": [
    "#your code goes here"
   ]
  },
  {
   "cell_type": "code",
   "execution_count": 80,
   "id": "b11b53d8",
   "metadata": {},
   "outputs": [
    {
     "data": {
      "text/plain": [
       "array([27.04, 20.74, 29.96, 35.6 , 20.5 , 24.9 , 24.38, 33.8 , 28.46,\n",
       "       20.76, 28.32, 26.8 , 28.02, 21.1 , 33.14, 33.16, 24.98, 25.92,\n",
       "       26.64, 36.48, 34.16, 27.42, 23.58, 29.58, 22.72, 24.64, 23.18,\n",
       "       20.24, 28.96, 21.3 , 35.76, 24.38, 27.52, 26.12, 32.3 , 26.3 ,\n",
       "       27.76, 31.6 , 24.9 , 28.66, 20.64, 28.84, 29.8 , 22.22, 22.74,\n",
       "       32.14, 23.16, 25.94, 19.44, 24.18, 19.54, 30.42, 27.42, 30.38,\n",
       "       19.28, 35.56, 35.84, 33.74, 23.88, 29.14, 21.26, 36.24, 35.58,\n",
       "       31.76, 33.94, 32.78, 23.78, 31.04, 20.  , 21.04, 31.94, 35.54,\n",
       "       26.68, 28.06, 27.96, 22.7 , 28.28, 26.86, 34.74, 31.44, 35.48,\n",
       "       34.66, 25.36, 36.82, 19.46, 31.9 , 35.5 , 34.7 , 28.06, 24.7 ,\n",
       "       29.94, 36.66, 24.  , 21.22, 22.02, 29.56, 20.32, 29.14, 19.7 ,\n",
       "       32.52, 25.66, 32.02, 29.02, 20.04, 30.2 , 22.4 , 24.38, 26.86,\n",
       "       32.6 , 25.06, 24.24, 21.18, 35.04, 27.64, 29.8 , 24.6 , 21.58,\n",
       "       32.06, 31.18, 23.46, 27.46, 26.78, 24.08, 36.22, 35.54, 28.46,\n",
       "       21.06, 33.52, 23.46, 31.24, 25.88, 36.7 , 36.72, 23.36, 20.28,\n",
       "       31.42, 19.34, 29.06, 20.02, 22.92, 21.6 , 19.06, 32.5 , 24.82,\n",
       "       28.3 , 26.8 , 32.56, 21.02, 27.28, 26.16, 36.02, 19.8 , 30.6 ,\n",
       "       34.28, 29.1 , 35.7 , 24.56, 30.38, 33.52, 29.46, 29.18, 28.82,\n",
       "       26.4 , 29.6 , 24.54, 20.5 , 22.  , 24.44, 29.66, 29.58, 31.28,\n",
       "       30.08, 28.3 , 19.6 , 32.28, 28.34, 22.66, 34.98, 36.56, 30.9 ,\n",
       "       24.78, 27.04, 26.32, 24.46, 34.42, 34.74, 22.22, 22.96, 31.34,\n",
       "       26.26, 19.68, 23.76, 21.8 , 28.64, 27.66, 29.62, 36.66, 19.36,\n",
       "       28.04, 32.78, 24.98, 20.22, 22.92, 21.76, 35.26, 34.2 , 26.18,\n",
       "       19.78, 24.12, 23.32, 33.74, 31.32, 23.82, 30.22, 36.44, 27.88,\n",
       "       28.8 , 19.26, 24.82, 36.18, 31.18, 25.82, 20.42, 26.7 , 20.84,\n",
       "       29.64, 20.5 , 23.46, 27.82, 28.54, 36.78, 36.28, 28.34, 23.72,\n",
       "       23.3 , 25.02, 32.46, 25.36, 19.74, 35.92, 35.  , 34.2 , 32.92,\n",
       "       33.72, 19.26, 24.  , 32.28, 35.6 , 19.48, 36.44, 36.12, 34.18,\n",
       "       20.62, 33.02, 29.64, 33.7 , 21.68, 23.6 , 36.92, 31.9 , 27.42,\n",
       "       19.46, 24.94, 23.  , 20.94, 33.16, 27.32, 34.88, 34.36, 31.98,\n",
       "       36.04, 36.4 , 34.66, 30.42, 36.  , 26.6 , 33.46, 29.48, 30.86,\n",
       "       29.62, 21.82, 31.62, 26.22, 27.48, 27.14, 23.18, 26.58, 19.62,\n",
       "       19.6 , 27.84, 36.98, 25.28, 28.32, 22.58, 23.62, 33.76, 28.1 ,\n",
       "       21.36, 34.72, 21.7 , 22.2 , 33.02, 26.66, 34.4 , 20.6 , 20.42,\n",
       "       33.74, 36.68, 36.04, 22.46, 34.6 , 33.78, 21.54, 24.52, 21.24,\n",
       "       32.8 , 28.68, 26.9 , 31.76, 19.9 , 33.56, 27.14, 26.9 , 22.32,\n",
       "       29.1 , 25.24, 34.92, 32.48, 33.34, 32.22, 23.34, 31.02, 35.96,\n",
       "       36.6 , 34.44, 19.82, 28.48, 34.94, 27.22, 28.78, 35.1 , 29.66,\n",
       "       33.48, 36.96, 20.52, 20.74, 24.88, 22.72, 28.66, 32.68, 26.  ,\n",
       "       28.86, 22.32, 30.42, 23.66, 34.38, 28.92, 25.24, 19.06, 31.  ,\n",
       "       35.4 , 28.8 , 33.92, 34.56, 28.26, 19.86, 30.9 , 25.74, 22.86,\n",
       "       30.68, 23.98, 36.52, 23.06, 27.64, 36.1 , 22.3 , 29.14, 19.04,\n",
       "       27.9 , 19.5 , 20.1 , 36.44, 21.08, 30.14, 36.46, 32.8 , 31.76,\n",
       "       34.36, 24.84, 26.98, 36.88, 34.58, 21.1 , 21.3 , 31.24, 31.8 ,\n",
       "       31.36, 29.6 , 24.88, 31.42, 36.3 , 22.64, 36.66, 27.2 , 19.32,\n",
       "       34.74, 23.66, 34.62, 29.48, 21.52, 22.64, 26.16, 29.56, 29.78,\n",
       "       25.68, 23.62, 31.84, 35.4 , 28.04, 19.02, 26.08, 20.98, 36.68,\n",
       "       24.42, 27.24, 19.7 , 30.  , 32.78, 33.4 , 21.94, 25.94, 21.74,\n",
       "       26.74, 36.98, 36.52, 21.48, 19.08, 32.9 , 31.1 , 23.  , 23.58,\n",
       "       26.5 , 25.62, 19.7 , 28.6 , 27.16, 35.3 , 20.7 , 21.7 , 26.7 ,\n",
       "       35.1 , 20.98, 27.44, 31.8 , 23.08, 23.22, 34.92, 30.66, 35.76,\n",
       "       30.94, 23.1 , 20.1 , 25.34, 21.52, 36.26, 21.46, 33.44, 36.58,\n",
       "       25.68, 22.56, 31.14, 35.6 , 26.66, 32.68, 34.32, 20.5 , 25.76,\n",
       "       27.84, 27.4 , 24.4 , 30.8 , 34.58, 26.72, 23.68, 25.48, 25.98,\n",
       "       23.46, 22.8 , 34.5 , 34.44, 22.66, 24.88, 27.82, 27.62, 28.06,\n",
       "       32.5 , 21.26, 26.46, 32.78, 27.78, 20.88, 24.84, 28.  , 26.54,\n",
       "       23.34, 27.96, 22.02, 27.3 , 22.18, 22.92, 23.34, 25.3 , 33.08,\n",
       "       26.66, 29.82, 28.24, 35.18, 34.44, 23.56, 22.5 , 32.1 , 35.38,\n",
       "       23.86, 22.82, 28.6 , 34.24, 24.82, 35.02, 35.02, 36.46, 31.56,\n",
       "       26.62, 30.56, 31.36, 34.36, 19.22, 23.56, 23.2 , 26.2 , 33.72,\n",
       "       24.26, 34.36, 28.48, 35.58, 25.58, 22.52, 19.26, 27.84, 26.92,\n",
       "       34.58, 21.52, 19.5 , 36.76, 35.06, 24.92, 27.38, 19.64, 25.38,\n",
       "       27.92, 20.44, 34.14, 27.08, 27.16, 31.72, 29.  , 31.84, 24.44,\n",
       "       28.76, 31.62, 34.18, 23.18, 21.56, 22.66, 29.96, 25.24, 23.18,\n",
       "       29.82, 33.74, 26.26, 27.72, 24.38, 23.64, 34.76, 32.46, 27.64,\n",
       "       36.82, 25.08, 21.56, 24.66, 29.52, 23.24, 30.72, 31.94, 28.1 ,\n",
       "       33.06, 31.32, 33.7 , 21.42, 32.66, 27.98, 34.94, 27.78, 22.44,\n",
       "       24.1 , 21.06, 30.6 , 29.04, 27.66, 35.12, 27.7 , 25.02, 24.44,\n",
       "       36.56, 29.6 , 35.92, 30.62, 31.26, 34.02, 30.76, 32.36, 24.2 ,\n",
       "       30.6 , 30.94, 27.42, 30.46, 29.22, 29.9 , 21.64, 34.92, 36.14,\n",
       "       25.5 , 20.66, 23.66, 24.28, 34.74, 32.6 , 29.4 , 31.8 , 26.8 ,\n",
       "       25.7 , 28.68, 30.5 , 36.9 , 36.84, 23.08, 24.44, 19.1 , 35.64,\n",
       "       20.76, 25.92, 29.28, 22.7 , 29.7 , 30.98, 26.66, 20.06, 34.96,\n",
       "       20.08, 35.6 , 31.82, 25.48, 29.32, 21.76, 21.78, 34.7 , 36.28,\n",
       "       28.8 , 34.36, 28.92, 19.24, 20.22, 27.16, 26.28, 20.44, 35.22,\n",
       "       20.86, 24.42, 24.48, 24.82, 35.78, 23.6 , 31.98, 32.72, 27.62,\n",
       "       27.54, 30.82, 30.46, 27.8 , 31.12, 20.  , 33.44, 26.48, 32.84,\n",
       "       30.74, 35.02, 34.24, 23.18, 24.22, 32.74, 23.36, 29.46, 31.5 ,\n",
       "       27.64, 27.16, 32.44, 20.54, 29.96, 29.06, 36.36, 20.12, 36.18,\n",
       "       22.36, 23.72, 35.26, 35.34, 33.32, 22.5 , 31.68, 33.32, 20.46,\n",
       "       33.06, 26.84, 23.38, 22.36, 28.  , 31.84, 34.32, 21.34, 22.38,\n",
       "       35.2 , 35.98, 20.42, 27.5 , 26.84, 25.74, 34.22, 20.84, 19.46,\n",
       "       22.26, 30.08, 29.52, 22.3 , 36.4 , 30.32, 29.52, 36.88, 25.74,\n",
       "       24.72, 27.34, 34.42, 30.98, 35.76, 32.66, 34.86, 25.06, 33.32,\n",
       "       33.74, 33.68, 33.5 , 32.68, 26.36, 30.74, 30.2 , 22.2 , 36.76,\n",
       "       29.62, 22.36, 33.26, 31.64, 24.44, 26.38, 21.72, 28.72, 36.94,\n",
       "       35.3 , 34.16, 21.42, 22.74, 26.26, 29.64, 30.02, 35.68, 35.14,\n",
       "       30.24, 20.32, 26.62, 23.12, 25.08, 20.88, 29.7 , 36.18, 22.76,\n",
       "       23.26, 20.8 , 29.82, 21.4 , 19.4 , 31.14, 36.9 , 34.4 , 19.46,\n",
       "       30.54, 20.42, 30.16, 26.34, 32.1 , 35.34, 29.34, 32.06, 32.34,\n",
       "       29.1 , 23.26, 24.12, 20.7 , 22.58, 35.88, 29.  , 22.08, 24.06,\n",
       "       28.8 , 26.1 , 22.2 , 36.56, 29.82, 28.6 , 24.78, 25.18, 36.1 ,\n",
       "       26.58, 25.76, 33.8 , 28.56, 36.98, 22.38, 21.32, 36.18, 36.84,\n",
       "       21.72, 32.98, 27.5 , 34.44, 25.94, 34.42, 28.08, 24.44, 21.34,\n",
       "       35.68, 36.28, 28.18, 24.84, 28.94, 32.78, 25.42, 20.88, 24.46,\n",
       "       33.88, 29.52, 34.44, 23.3 , 19.18, 20.82, 22.88, 31.46, 24.2 ,\n",
       "       29.18, 24.2 , 19.96, 20.44, 36.8 , 20.4 , 36.1 , 36.44, 29.34,\n",
       "       34.1 , 34.2 , 28.4 , 19.94, 36.14, 34.74, 27.08, 24.72, 28.74,\n",
       "       36.78, 32.44, 36.54, 36.24, 32.34, 27.88, 20.86, 24.42, 33.92,\n",
       "       19.5 , 28.9 , 23.08, 24.6 , 24.54, 30.36, 36.8 , 30.04, 21.74,\n",
       "       20.88, 24.6 , 29.36, 30.96, 31.74, 31.1 , 23.42, 23.14, 19.98,\n",
       "       34.14, 36.46, 21.66, 35.7 , 33.52, 33.88, 20.06, 22.74, 27.02,\n",
       "       35.66, 34.46, 24.32, 34.8 , 27.9 , 22.32, 32.  , 31.94, 31.36,\n",
       "       22.94, 25.02, 30.8 , 33.98, 20.72, 29.02, 25.38, 23.24, 26.24,\n",
       "       30.66, 29.08, 35.68, 24.48, 29.04, 31.2 , 27.22, 24.02, 33.06,\n",
       "       20.18, 27.18, 29.22, 32.52, 26.94, 27.34, 35.86, 26.62, 35.76,\n",
       "       25.24, 31.22, 33.32, 35.16, 24.04, 33.18, 25.86, 31.24, 31.2 ,\n",
       "       26.58, 32.96, 21.62, 30.6 , 32.08, 30.7 , 24.92, 25.8 , 29.12,\n",
       "       28.24, 24.4 , 22.18, 30.92, 24.42, 35.94, 22.92, 36.  , 34.3 ,\n",
       "       20.24, 25.76, 35.1 , 26.48, 28.16, 26.5 , 32.1 , 20.56, 28.26,\n",
       "       23.96, 21.32, 26.82, 31.16, 31.26, 26.14, 31.66, 29.74, 24.26,\n",
       "       33.72])"
      ]
     },
     "execution_count": 80,
     "metadata": {},
     "output_type": "execute_result"
    }
   ],
   "source": [
    "#1\n",
    "x_val = data.x.values\n",
    "y_val = data.y.values\n",
    "\n",
    "m = 2\n",
    "b = 17\n",
    "\n",
    "def func():\n",
    "    y_pred = m*x_val + b\n",
    "    return y_pred\n",
    "\n",
    "func()"
   ]
  },
  {
   "cell_type": "code",
   "execution_count": 81,
   "id": "76ecb1ec",
   "metadata": {},
   "outputs": [
    {
     "data": {
      "text/plain": [
       "8.625431198202563"
      ]
     },
     "execution_count": 81,
     "metadata": {},
     "output_type": "execute_result"
    }
   ],
   "source": [
    "#2\n",
    "arr = [func()]\n",
    "\n",
    "mean_squared_error([y_val], arr)"
   ]
  },
  {
   "cell_type": "code",
   "execution_count": 82,
   "id": "6861cb4d",
   "metadata": {},
   "outputs": [
    {
     "data": {
      "text/plain": [
       "(5.244227036902563,\n",
       " 14.006635359502564,\n",
       " 29.825160820382365,\n",
       " 16.252769142982363,\n",
       " 22.038964981682366,\n",
       " 56.47853525342276,\n",
       " 87.57574357602277,\n",
       " 71.02713941472277)"
      ]
     },
     "execution_count": 82,
     "metadata": {},
     "output_type": "execute_result"
    }
   ],
   "source": [
    "#3\n",
    "def err1(m, b):\n",
    "    y_pred = m*x_val + b\n",
    "    return mean_squared_error([y_val], [y_pred])\n",
    "\n",
    "err1(m, b+1),\\\n",
    "err1(m, b-1),\\\n",
    "err1(m+1, b+1),\\\n",
    "err1(m+1, b-1),\\\n",
    "err1(m+1, b),\\\n",
    "err1(m-1, b+1),\\\n",
    "err1(m-1, b-1),\\\n",
    "err1(m-1, b)"
   ]
  },
  {
   "cell_type": "code",
   "execution_count": 83,
   "id": "71ee3d0d",
   "metadata": {},
   "outputs": [],
   "source": [
    "#4"
   ]
  },
  {
   "cell_type": "markdown",
   "id": "26000eb5",
   "metadata": {},
   "source": [
    "Based on the result above, the neighbor line with m and b+1 has the lowest error which I should choose for the next step."
   ]
  },
  {
   "cell_type": "code",
   "execution_count": 84,
   "id": "cada65fc",
   "metadata": {},
   "outputs": [],
   "source": [
    "#5-possible neighbors"
   ]
  },
  {
   "cell_type": "markdown",
   "id": "40cc4dd7",
   "metadata": {},
   "source": [
    "- m and b+2\n",
    "- m and b\n",
    "- m+1 and b+2\n",
    "- m+1 and b+1\n",
    "- m+1 and b\n",
    "- m-1 and b+2\n",
    "- m-1 and b+1\n",
    "- m-1 and b"
   ]
  },
  {
   "cell_type": "code",
   "execution_count": 85,
   "id": "0c6406bd",
   "metadata": {},
   "outputs": [
    {
     "data": {
      "text/plain": [
       "(3.8630228756025637,\n",
       " 8.625431198202563,\n",
       " 39.61135665908236,\n",
       " 29.825160820382365,\n",
       " 22.038964981682366,\n",
       " 43.92993109212276,\n",
       " 56.47853525342276,\n",
       " 71.02713941472277)"
      ]
     },
     "execution_count": 85,
     "metadata": {},
     "output_type": "execute_result"
    }
   ],
   "source": [
    "#errors of each neighbor line\n",
    "def err2(m, b):\n",
    "    y_pred = m*(x_val) + b\n",
    "    return mean_squared_error([y_val], [y_pred])\n",
    "\n",
    "err2(m, b+2),\\\n",
    "err2(m, b),\\\n",
    "err2(m+1, b+2),\\\n",
    "err2(m+1, b+1),\\\n",
    "err2(m+1, b),\\\n",
    "err2(m-1, b+2),\\\n",
    "err2(m-1, b+1),\\\n",
    "err2(m-1, b)"
   ]
  },
  {
   "cell_type": "code",
   "execution_count": 86,
   "id": "3cc39996",
   "metadata": {},
   "outputs": [],
   "source": [
    "#6-possible neighbors"
   ]
  },
  {
   "cell_type": "markdown",
   "id": "14676672",
   "metadata": {},
   "source": [
    "- m and b+3\n",
    "- m and b+1\n",
    "- m+1 and b+3\n",
    "- m+1 and b+2\n",
    "- m+1 and b+1\n",
    "- m-1 and b+3\n",
    "- m-1 and b+2\n",
    "- m-1 and b+1"
   ]
  },
  {
   "cell_type": "code",
   "execution_count": 87,
   "id": "8b82c070",
   "metadata": {},
   "outputs": [
    {
     "data": {
      "text/plain": [
       "(4.481818714302563,\n",
       " 5.244227036902563,\n",
       " 51.397552497782364,\n",
       " 39.61135665908236,\n",
       " 29.825160820382365,\n",
       " 33.38132693082276,\n",
       " 43.92993109212276,\n",
       " 56.47853525342276)"
      ]
     },
     "execution_count": 87,
     "metadata": {},
     "output_type": "execute_result"
    }
   ],
   "source": [
    "#errors of each neighbor line\n",
    "def err3(m, b):\n",
    "    y_pred = m*x_val + b\n",
    "    return mean_squared_error([y_val], [y_pred])\n",
    "\n",
    "err3(m, b+3),\\\n",
    "err3(m, b+1),\\\n",
    "err3(m+1, b+3),\\\n",
    "err3(m+1, b+2),\\\n",
    "err3(m+1, b+1),\\\n",
    "err3(m-1, b+3),\\\n",
    "err3(m-1, b+2),\\\n",
    "err3(m-1, b+1)"
   ]
  },
  {
   "cell_type": "markdown",
   "id": "1891bd6c",
   "metadata": {},
   "source": [
    "## Hill Climbing as an Algorithm\n",
    "\n",
    "Now we are reading to translate our approach into a proper algorithm. Let's write a function instead to do the hill clibming we just did step-by-step in the previous section. \n",
    "\n",
    "7. Fill out the function and variables in the code block below. The function takes in the following parameters: \n",
    "    * x_val: the x values of your dataset (hint: use something like `data[\"x\"].values` to get just the x column of your dataset \n",
    "    * y_val: the y values of your dataset\n",
    "    * m: the starting slope value (the default is 2 to match our example in the begining of the lab) \n",
    "    * b: the starting intercept value (the defualt is 17 to match our example in the begining of the lab) \n",
    "    * max_iter: the maximum number of iterations for the algorithm to run (the default is 100)\n",
    "\n",
    "this function will return two values: `m_pred` and `b_pred` which are the algorithms guesses as to the best slope and intercept for the given dataset. "
   ]
  },
  {
   "cell_type": "code",
   "execution_count": 88,
   "id": "95e15532",
   "metadata": {},
   "outputs": [],
   "source": [
    "#7\n",
    "def hill_climb(x_val, y_val, m = 2, b = 17, max_iter = 100): \n",
    "    \n",
    "    #these lines give us our starting error\n",
    "    y_pred = m*x_val + b\n",
    "    error = mean_squared_error(y_val, y_pred)\n",
    "    \n",
    "    #these variables store our current guess for the best slope and intercept\n",
    "    m_pred = m\n",
    "    b_pred = b\n",
    "    \n",
    "    for i in range(0, max_iter):\n",
    "        #put your code here inside this loop for hill climbing\n",
    "        for i in range(0, 9):\n",
    "            nbr = [[m, b], [m, b+1], [m, b-1], [m+1, b+1], [m+1, b-1], [m+1, b], [m-1, b+1], [m-1, b-1], [m-1, b]]\n",
    "            y_pred = nbr[i][0]*x_val + nbr[i][1]\n",
    "            err = mean_squared_error(y_val, y_pred)\n",
    "            if err < error:\n",
    "                error = err\n",
    "                m_pred = nbr[i][0]\n",
    "                b_pred = nbr[i][1]\n",
    "        if error == 0: #stop if error is 0\n",
    "            break\n",
    "        m = m_pred\n",
    "        b = b_pred\n",
    "    \n",
    "    #this line is our return statement, make sure it stays out of the for loop\n",
    "    return m_pred, b_pred, error"
   ]
  },
  {
   "cell_type": "markdown",
   "id": "5c45298a",
   "metadata": {},
   "source": [
    "## Double Checking your Work \n",
    "\n",
    "8. Test your funtion out by printing the predicited slope and intercept returned by your function given default parameters\n",
    "\n",
    "\n",
    "9. print the mean squared error for this predicited line. Is this score lower, higher, or the smae as the error you got in question 2? Does this make sense? \n",
    "\n",
    "\n",
    "10. Create a scatter plot showing the datapoints of the dataset and draws a line showing the predicited line generated by your function. Does your guess look correct? \n",
    "\n",
    "\n",
    "11. Finally, run the following code to check your answer versus what is returned by python's linear regression model: \n",
    "\n",
    "```model_ols =  linear_model.LinearRegression()\n",
    "model_ols.fit(data[\"x\"].values.reshape(len(data[\"x\"].values), 1),data[\"y\"].values) \n",
    "print(\"slope:\", model_ols.coef_[0])\n",
    "print(\"intercept:\", model_ols.intercept_) ```"
   ]
  },
  {
   "cell_type": "code",
   "execution_count": 89,
   "id": "358fd1f8",
   "metadata": {},
   "outputs": [
    {
     "name": "stdout",
     "output_type": "stream",
     "text": [
      "2\n",
      "19\n"
     ]
    }
   ],
   "source": [
    "#8\n",
    "slope, intercept, error = hill_climb(x_val, y_val)\n",
    "\n",
    "print(slope) #slope\n",
    "print(intercept) #intercept"
   ]
  },
  {
   "cell_type": "code",
   "execution_count": 90,
   "id": "633bfe07",
   "metadata": {},
   "outputs": [
    {
     "name": "stdout",
     "output_type": "stream",
     "text": [
      "3.8630228756025637\n"
     ]
    }
   ],
   "source": [
    "#9\n",
    "print(error)"
   ]
  },
  {
   "cell_type": "markdown",
   "id": "c7b3be94",
   "metadata": {},
   "source": [
    "This score is lower than the error computed in question 2. This result should make sense because the purpose of  hill climbing search is to find the best-predicted line within the lowest error by checking all possible neighbor lines."
   ]
  },
  {
   "cell_type": "code",
   "execution_count": 91,
   "id": "26260b94",
   "metadata": {
    "scrolled": false
   },
   "outputs": [
    {
     "data": {
      "text/plain": [
       "[<matplotlib.lines.Line2D at 0x1ea3915c550>]"
      ]
     },
     "execution_count": 91,
     "metadata": {},
     "output_type": "execute_result"
    },
    {
     "data": {
      "image/png": "[encoded data removed]",
      "text/plain": [
       "<Figure size 432x288 with 1 Axes>"
      ]
     },
     "metadata": {
      "needs_background": "light"
     },
     "output_type": "display_data"
    }
   ],
   "source": [
    "#10\n",
    "plt.scatter(x_val, y_val, color = \"red\")\n",
    "plt.plot(x_val, slope * x_val + intercept, color=\"blue\")"
   ]
  },
  {
   "cell_type": "markdown",
   "id": "e0bd848f",
   "metadata": {},
   "source": [
    "Based on the plot above, my guess looks correct because the predicted line fairly aligns with the datapoints."
   ]
  },
  {
   "cell_type": "code",
   "execution_count": 92,
   "id": "8f6b6d74",
   "metadata": {},
   "outputs": [
    {
     "name": "stdout",
     "output_type": "stream",
     "text": [
      "slope: 2.002285135819146\n",
      "intercept: 19.17784256777664\n"
     ]
    }
   ],
   "source": [
    "#11\n",
    "model_ols =  linear_model.LinearRegression()\n",
    "model_ols.fit(data[\"x\"].values.reshape(len(data[\"x\"].values), 1),data[\"y\"].values) \n",
    "print(\"slope:\", model_ols.coef_[0])\n",
    "print(\"intercept:\", model_ols.intercept_)"
   ]
  },
  {
   "cell_type": "markdown",
   "id": "464e029b",
   "metadata": {},
   "source": [
    "My prediction fairly matches the result computed by python's linear regression model."
   ]
  }
 ],
 "metadata": {
  "kernelspec": {
   "display_name": "Python 3",
   "language": "python",
   "name": "python3"
  },
  "language_info": {
   "codemirror_mode": {
    "name": "ipython",
    "version": 3
   },
   "file_extension": ".py",
   "mimetype": "text/x-python",
   "name": "python",
   "nbconvert_exporter": "python",
   "pygments_lexer": "ipython3",
   "version": "3.8.8"
  }
 },
 "nbformat": 4,
 "nbformat_minor": 5
}
