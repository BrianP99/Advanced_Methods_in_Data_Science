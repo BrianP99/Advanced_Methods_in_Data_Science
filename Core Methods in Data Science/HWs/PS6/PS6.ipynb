{
 "cells": [
  {
   "cell_type": "markdown",
   "id": "11550f8a-9b90-4b1d-a2eb-cde76ff53ff5",
   "metadata": {},
   "source": [
    "# INFO 370 PS6\n",
    "*Name: Brian Park*"
   ]
  },
  {
   "cell_type": "markdown",
   "id": "009978aa-9a0e-4dcd-9fba-7f919dc97391",
   "metadata": {},
   "source": [
    "List your collaborators here:\n",
    "1. Jae Sang Woo"
   ]
  },
  {
   "cell_type": "code",
   "execution_count": 375,
   "id": "ebb51746-d99a-4c5a-91db-8cbc4e1df4eb",
   "metadata": {},
   "outputs": [],
   "source": [
    "import pandas as pd\n",
    "import numpy as np\n",
    "import matplotlib.pyplot as plt\n",
    "import statsmodels.formula.api as smf"
   ]
  },
  {
   "cell_type": "markdown",
   "id": "7b1efc92-1b8c-41e7-95bf-afa2633d71ab",
   "metadata": {},
   "source": [
    "## 1. Who will win the elections?"
   ]
  },
  {
   "cell_type": "markdown",
   "id": "5f62b5fe-63d5-432a-abe9-d7a0de4c63ca",
   "metadata": {},
   "source": [
    "1. (1pt) Load data, and do the basic checks. You are going to work with 2020 data. However, some important information for 2020 is missing. First, we check how does missing data look like, and thereafter we fill it with the most recent values that are there.\n",
    "2. (3pt) print out lines 6264–6271 (i.e. these index values of the data frame). For simplicity, let’s look only at variables fips, county, year and income. You can select certain df lines using .loc[] attribute, see Python Notes 3.3.4.\n",
    "3. (3pt) You see that for a number of cases here, income is missing. Explain, how would you fill in the income. Which values do you expect to see instead of NA-s in lines 6266, 6267, 6268 and 6269?\n",
    "4. (7pt) Fill the missings with the most recent values that exist in the data. Ensure you do this right and do not fill missings with values from other counties. Hint: check out DataFrame.fillna method.\n",
    "5. (3pt) Print out the same lines you did above in 1.2. Does it look now what you expected? Hint: If you did this correctly, then even after filling in NA-s there are a few missing cases left. Now it is time to select the neccesary data and create the features you need for the analysis below.\n",
    "6. (10pt) Make a new data frame that only contains 2020 data, and that contains a binary variable: the democrats won in that county in 2020. Hint: You have to build that variable using two lines of data in the original data frame by FIPS after the data is ordered by year. The original data contains two lines for each county, one for democrats and one for republicans. They contain the party-specific number of votes but are otherwise similar. You may extract the rows for democrats, the rows for republicans, and then just compare these two rows county-wise to see who won there. Note that it is not enough to just check if democrats/republicans got more than 50% of votes. However, when you extract the vote numbers, it will be a series with an index. You may want to either reset the index (see examples in Combining data into data frames) in Python Notes, or convert the series into a numpy array with the .values attribute.\n",
    "7. (6pt) Create auxiliary variables: population density (population divided by land area); and percentage of college graduates. These can be made of different variables, and as none of these are changing fast, it should not have much of an impact.\n",
    "8. (4pt) But are “younger” counties with more births voting differently that “old” counties with a lots of deaths? Compute (estimate) yearly birth rate and death rate as number of births per 1000 of population.\n",
    "9. (2pt) Ensure that the variables you are going to use are in a reasonable range! Hint: there are values that do not make sense. Use min and max to check what is the range in data, and then find offending values and remove those.\n",
    "10. (8pt) Estimate logistic regression model where you explain democrats’ winning with population density, education level, income, and census region.\n",
    "11. (5pt) Why do we use logistic regression here, instead of linear regression?\n",
    "12. (8pt) Interpret the results. Which results are statistically significant?"
   ]
  },
  {
   "cell_type": "code",
   "execution_count": 376,
   "id": "fb0c8e25-7384-47c0-ad5f-34cb665f9dc0",
   "metadata": {},
   "outputs": [
    {
     "data": {
      "text/html": [
       "<div>\n",
       "<style scoped>\n",
       "    .dataframe tbody tr th:only-of-type {\n",
       "        vertical-align: middle;\n",
       "    }\n",
       "\n",
       "    .dataframe tbody tr th {\n",
       "        vertical-align: top;\n",
       "    }\n",
       "\n",
       "    .dataframe thead th {\n",
       "        text-align: right;\n",
       "    }\n",
       "</style>\n",
       "<table border=\"1\" class=\"dataframe\">\n",
       "  <thead>\n",
       "    <tr style=\"text-align: right;\">\n",
       "      <th></th>\n",
       "      <th>FIPS</th>\n",
       "      <th>year</th>\n",
       "      <th>state</th>\n",
       "      <th>state2</th>\n",
       "      <th>county</th>\n",
       "      <th>office</th>\n",
       "      <th>candidate</th>\n",
       "      <th>party</th>\n",
       "      <th>candidatevotes</th>\n",
       "      <th>totalvotes</th>\n",
       "      <th>...</th>\n",
       "      <th>EDU600209D</th>\n",
       "      <th>POP010210D</th>\n",
       "      <th>POP220210D</th>\n",
       "      <th>POP250210D</th>\n",
       "      <th>POP320210D</th>\n",
       "      <th>POP400210D</th>\n",
       "      <th>PST110209D</th>\n",
       "      <th>BIRTHS2020</th>\n",
       "      <th>DEATHS2020</th>\n",
       "      <th>region</th>\n",
       "    </tr>\n",
       "  </thead>\n",
       "  <tbody>\n",
       "    <tr>\n",
       "      <th>0</th>\n",
       "      <td>1001</td>\n",
       "      <td>2000</td>\n",
       "      <td>Alabama</td>\n",
       "      <td>AL</td>\n",
       "      <td>Autauga</td>\n",
       "      <td>President</td>\n",
       "      <td>Al Gore</td>\n",
       "      <td>democrat</td>\n",
       "      <td>4942.0</td>\n",
       "      <td>17208</td>\n",
       "      <td>...</td>\n",
       "      <td>31469</td>\n",
       "      <td>54571</td>\n",
       "      <td>42855</td>\n",
       "      <td>9643</td>\n",
       "      <td>474</td>\n",
       "      <td>1310</td>\n",
       "      <td>7085</td>\n",
       "      <td>143.0</td>\n",
       "      <td>168.0</td>\n",
       "      <td>south</td>\n",
       "    </tr>\n",
       "    <tr>\n",
       "      <th>1</th>\n",
       "      <td>1001</td>\n",
       "      <td>2000</td>\n",
       "      <td>Alabama</td>\n",
       "      <td>AL</td>\n",
       "      <td>Autauga</td>\n",
       "      <td>President</td>\n",
       "      <td>George W. Bush</td>\n",
       "      <td>republican</td>\n",
       "      <td>11993.0</td>\n",
       "      <td>17208</td>\n",
       "      <td>...</td>\n",
       "      <td>31469</td>\n",
       "      <td>54571</td>\n",
       "      <td>42855</td>\n",
       "      <td>9643</td>\n",
       "      <td>474</td>\n",
       "      <td>1310</td>\n",
       "      <td>7085</td>\n",
       "      <td>143.0</td>\n",
       "      <td>168.0</td>\n",
       "      <td>south</td>\n",
       "    </tr>\n",
       "    <tr>\n",
       "      <th>2</th>\n",
       "      <td>1001</td>\n",
       "      <td>2004</td>\n",
       "      <td>Alabama</td>\n",
       "      <td>AL</td>\n",
       "      <td>Autauga</td>\n",
       "      <td>President</td>\n",
       "      <td>John Kerry</td>\n",
       "      <td>democrat</td>\n",
       "      <td>4758.0</td>\n",
       "      <td>20081</td>\n",
       "      <td>...</td>\n",
       "      <td>31469</td>\n",
       "      <td>54571</td>\n",
       "      <td>42855</td>\n",
       "      <td>9643</td>\n",
       "      <td>474</td>\n",
       "      <td>1310</td>\n",
       "      <td>7085</td>\n",
       "      <td>143.0</td>\n",
       "      <td>168.0</td>\n",
       "      <td>south</td>\n",
       "    </tr>\n",
       "    <tr>\n",
       "      <th>3</th>\n",
       "      <td>1001</td>\n",
       "      <td>2004</td>\n",
       "      <td>Alabama</td>\n",
       "      <td>AL</td>\n",
       "      <td>Autauga</td>\n",
       "      <td>President</td>\n",
       "      <td>George W. Bush</td>\n",
       "      <td>republican</td>\n",
       "      <td>15196.0</td>\n",
       "      <td>20081</td>\n",
       "      <td>...</td>\n",
       "      <td>31469</td>\n",
       "      <td>54571</td>\n",
       "      <td>42855</td>\n",
       "      <td>9643</td>\n",
       "      <td>474</td>\n",
       "      <td>1310</td>\n",
       "      <td>7085</td>\n",
       "      <td>143.0</td>\n",
       "      <td>168.0</td>\n",
       "      <td>south</td>\n",
       "    </tr>\n",
       "    <tr>\n",
       "      <th>4</th>\n",
       "      <td>1001</td>\n",
       "      <td>2008</td>\n",
       "      <td>Alabama</td>\n",
       "      <td>AL</td>\n",
       "      <td>Autauga</td>\n",
       "      <td>President</td>\n",
       "      <td>Barack Obama</td>\n",
       "      <td>democrat</td>\n",
       "      <td>6093.0</td>\n",
       "      <td>23641</td>\n",
       "      <td>...</td>\n",
       "      <td>31469</td>\n",
       "      <td>54571</td>\n",
       "      <td>42855</td>\n",
       "      <td>9643</td>\n",
       "      <td>474</td>\n",
       "      <td>1310</td>\n",
       "      <td>7085</td>\n",
       "      <td>143.0</td>\n",
       "      <td>168.0</td>\n",
       "      <td>south</td>\n",
       "    </tr>\n",
       "  </tbody>\n",
       "</table>\n",
       "<p>5 rows × 24 columns</p>\n",
       "</div>"
      ],
      "text/plain": [
       "   FIPS  year    state state2   county     office       candidate       party  \\\n",
       "0  1001  2000  Alabama     AL  Autauga  President         Al Gore    democrat   \n",
       "1  1001  2000  Alabama     AL  Autauga  President  George W. Bush  republican   \n",
       "2  1001  2004  Alabama     AL  Autauga  President      John Kerry    democrat   \n",
       "3  1001  2004  Alabama     AL  Autauga  President  George W. Bush  republican   \n",
       "4  1001  2008  Alabama     AL  Autauga  President    Barack Obama    democrat   \n",
       "\n",
       "   candidatevotes  totalvotes  ...  EDU600209D  POP010210D  POP220210D  \\\n",
       "0          4942.0       17208  ...       31469       54571       42855   \n",
       "1         11993.0       17208  ...       31469       54571       42855   \n",
       "2          4758.0       20081  ...       31469       54571       42855   \n",
       "3         15196.0       20081  ...       31469       54571       42855   \n",
       "4          6093.0       23641  ...       31469       54571       42855   \n",
       "\n",
       "   POP250210D  POP320210D  POP400210D  PST110209D  BIRTHS2020  DEATHS2020  \\\n",
       "0        9643         474        1310        7085       143.0       168.0   \n",
       "1        9643         474        1310        7085       143.0       168.0   \n",
       "2        9643         474        1310        7085       143.0       168.0   \n",
       "3        9643         474        1310        7085       143.0       168.0   \n",
       "4        9643         474        1310        7085       143.0       168.0   \n",
       "\n",
       "   region  \n",
       "0   south  \n",
       "1   south  \n",
       "2   south  \n",
       "3   south  \n",
       "4   south  \n",
       "\n",
       "[5 rows x 24 columns]"
      ]
     },
     "execution_count": 376,
     "metadata": {},
     "output_type": "execute_result"
    }
   ],
   "source": [
    "#1-1\n",
    "elec = pd.read_csv(\"../data/us-elections_2000-2020.csv.bz2\", sep=\"\\t\")\n",
    "elec.head()"
   ]
  },
  {
   "cell_type": "code",
   "execution_count": 377,
   "id": "c8cdd806-b5d2-4b9c-b9ad-89504038eade",
   "metadata": {},
   "outputs": [
    {
     "data": {
      "text/plain": [
       "FIPS                 0\n",
       "year                 0\n",
       "state                0\n",
       "state2               0\n",
       "county               0\n",
       "office               0\n",
       "candidate            0\n",
       "party                0\n",
       "candidatevotes       4\n",
       "totalvotes           0\n",
       "income            6762\n",
       "population        6762\n",
       "LND010200D           0\n",
       "EDU695209D           0\n",
       "EDU600209D           0\n",
       "POP010210D           0\n",
       "POP220210D           0\n",
       "POP250210D           0\n",
       "POP320210D           0\n",
       "POP400210D           0\n",
       "PST110209D           0\n",
       "BIRTHS2020          20\n",
       "DEATHS2020          20\n",
       "region               0\n",
       "dtype: int64"
      ]
     },
     "execution_count": 377,
     "metadata": {},
     "output_type": "execute_result"
    }
   ],
   "source": [
    "#1-1\n",
    "elec.isna().sum()"
   ]
  },
  {
   "cell_type": "code",
   "execution_count": 378,
   "id": "e6ea4676-7a85-40a6-9108-976dab49b6be",
   "metadata": {},
   "outputs": [
    {
     "data": {
      "text/plain": [
       "(37390, 24)"
      ]
     },
     "execution_count": 378,
     "metadata": {},
     "output_type": "execute_result"
    }
   ],
   "source": [
    "#1-1\n",
    "elec.shape"
   ]
  },
  {
   "cell_type": "code",
   "execution_count": 379,
   "id": "4b26727e-3b4a-4333-91c6-564ec899b747",
   "metadata": {},
   "outputs": [
    {
     "name": "stdout",
     "output_type": "stream",
     "text": [
      "       FIPS        county  year   income\n",
      "6264  15007         Kauai  2016  44958.0\n",
      "6265  15007         Kauai  2016  44958.0\n",
      "6266  15007  Kauai County  2020      NaN\n",
      "6267  15007  Kauai County  2020      NaN\n",
      "6268  15009          Maui  2000      NaN\n",
      "6269  15009          Maui  2000      NaN\n",
      "6270  15009          Maui  2004      NaN\n",
      "6271  15009          Maui  2004      NaN\n"
     ]
    }
   ],
   "source": [
    "#1-2\n",
    "print(elec.loc[6264:6271, ['FIPS', 'county', 'year', 'income']])"
   ]
  },
  {
   "cell_type": "code",
   "execution_count": 380,
   "id": "f9f22ca6-5997-4dfc-9e76-bb96dc7018ec",
   "metadata": {},
   "outputs": [],
   "source": [
    "#1-3"
   ]
  },
  {
   "cell_type": "markdown",
   "id": "a05fb8f6-74ec-4e98-a0f9-b2dc4916f453",
   "metadata": {},
   "source": [
    "Since the most recent year before 2020 is 2016, I would fill the income in 2020 with the value in 2016. However, all the income values in Maui are missing. I expect 44958.0 for line 6266 and 6277 whereas N/A for line 6268 and 6269."
   ]
  },
  {
   "cell_type": "code",
   "execution_count": 381,
   "id": "c4b2af51-e181-4c41-ad9b-eec0d182868c",
   "metadata": {
    "tags": []
   },
   "outputs": [],
   "source": [
    "#1-4\n",
    "newElec = elec.copy()\n",
    "newElec = newElec.fillna(method ='ffill', limit = 2)"
   ]
  },
  {
   "cell_type": "code",
   "execution_count": 382,
   "id": "72bf676f-f7a5-40a4-9de5-27fbfebde2c2",
   "metadata": {},
   "outputs": [
    {
     "name": "stdout",
     "output_type": "stream",
     "text": [
      "       FIPS        county  year   income\n",
      "6264  15007         Kauai  2016  44958.0\n",
      "6265  15007         Kauai  2016  44958.0\n",
      "6266  15007  Kauai County  2020  44958.0\n",
      "6267  15007  Kauai County  2020  44958.0\n",
      "6268  15009          Maui  2000      NaN\n",
      "6269  15009          Maui  2000      NaN\n",
      "6270  15009          Maui  2004      NaN\n",
      "6271  15009          Maui  2004      NaN\n"
     ]
    }
   ],
   "source": [
    "#1-5\n",
    "print(newElec.loc[6264:6271, ['FIPS', 'county', 'year', 'income']])"
   ]
  },
  {
   "cell_type": "markdown",
   "id": "4924f86d-dbcf-4309-aced-9441e688f021",
   "metadata": {},
   "source": [
    "Yes, it looks like what I expected that incomes in Kauai county are filled with their most recent ones whereas Maui's incomes are still NaN."
   ]
  },
  {
   "cell_type": "code",
   "execution_count": 383,
   "id": "6c61bdb0-4026-4a89-9cd4-3ff14d313914",
   "metadata": {},
   "outputs": [
    {
     "data": {
      "text/html": [
       "<div>\n",
       "<style scoped>\n",
       "    .dataframe tbody tr th:only-of-type {\n",
       "        vertical-align: middle;\n",
       "    }\n",
       "\n",
       "    .dataframe tbody tr th {\n",
       "        vertical-align: top;\n",
       "    }\n",
       "\n",
       "    .dataframe thead th {\n",
       "        text-align: right;\n",
       "    }\n",
       "</style>\n",
       "<table border=\"1\" class=\"dataframe\">\n",
       "  <thead>\n",
       "    <tr style=\"text-align: right;\">\n",
       "      <th></th>\n",
       "      <th>index</th>\n",
       "      <th>candidatevotes</th>\n",
       "      <th>candidatevotes</th>\n",
       "      <th>D</th>\n",
       "    </tr>\n",
       "  </thead>\n",
       "  <tbody>\n",
       "    <tr>\n",
       "      <th>0</th>\n",
       "      <td>0</td>\n",
       "      <td>7503.0</td>\n",
       "      <td>19838.0</td>\n",
       "      <td>0</td>\n",
       "    </tr>\n",
       "    <tr>\n",
       "      <th>1</th>\n",
       "      <td>0</td>\n",
       "      <td>7503.0</td>\n",
       "      <td>19838.0</td>\n",
       "      <td>0</td>\n",
       "    </tr>\n",
       "    <tr>\n",
       "      <th>2</th>\n",
       "      <td>1</td>\n",
       "      <td>24578.0</td>\n",
       "      <td>83544.0</td>\n",
       "      <td>0</td>\n",
       "    </tr>\n",
       "    <tr>\n",
       "      <th>3</th>\n",
       "      <td>1</td>\n",
       "      <td>24578.0</td>\n",
       "      <td>83544.0</td>\n",
       "      <td>0</td>\n",
       "    </tr>\n",
       "    <tr>\n",
       "      <th>4</th>\n",
       "      <td>2</td>\n",
       "      <td>4816.0</td>\n",
       "      <td>5622.0</td>\n",
       "      <td>0</td>\n",
       "    </tr>\n",
       "    <tr>\n",
       "      <th>5</th>\n",
       "      <td>2</td>\n",
       "      <td>4816.0</td>\n",
       "      <td>5622.0</td>\n",
       "      <td>0</td>\n",
       "    </tr>\n",
       "  </tbody>\n",
       "</table>\n",
       "</div>"
      ],
      "text/plain": [
       "   index  candidatevotes  candidatevotes  D\n",
       "0      0          7503.0         19838.0  0\n",
       "1      0          7503.0         19838.0  0\n",
       "2      1         24578.0         83544.0  0\n",
       "3      1         24578.0         83544.0  0\n",
       "4      2          4816.0          5622.0  0\n",
       "5      2          4816.0          5622.0  0"
      ]
     },
     "execution_count": 383,
     "metadata": {},
     "output_type": "execute_result"
    }
   ],
   "source": [
    "#1-6\n",
    "elec2020 = newElec[newElec.year == 2020].reset_index(drop = True)\n",
    "demo2020 = elec2020[elec2020.party == \"democrat\"]\n",
    "rep2020 = elec2020[elec2020.party == \"republican\"]\n",
    "\n",
    "demoVotes = demo2020.reset_index(drop=True).candidatevotes\n",
    "repVotes = rep2020.reset_index(drop=True).candidatevotes\n",
    "\n",
    "temp = pd.concat([demoVotes, repVotes], axis = 1).reset_index()\n",
    "temp[\"D\"] = np.where(temp.iloc[:, 1] < temp.iloc[:, 2], 0, 1)\n",
    "temp = temp.iloc[np.arange(len(temp)).repeat(2)].reset_index(drop = True)\n",
    "temp.head(6)"
   ]
  },
  {
   "cell_type": "code",
   "execution_count": 384,
   "id": "0961dacc-ef67-42e7-a46b-484abc473a5e",
   "metadata": {},
   "outputs": [
    {
     "data": {
      "text/html": [
       "<div>\n",
       "<style scoped>\n",
       "    .dataframe tbody tr th:only-of-type {\n",
       "        vertical-align: middle;\n",
       "    }\n",
       "\n",
       "    .dataframe tbody tr th {\n",
       "        vertical-align: top;\n",
       "    }\n",
       "\n",
       "    .dataframe thead th {\n",
       "        text-align: right;\n",
       "    }\n",
       "</style>\n",
       "<table border=\"1\" class=\"dataframe\">\n",
       "  <thead>\n",
       "    <tr style=\"text-align: right;\">\n",
       "      <th></th>\n",
       "      <th>FIPS</th>\n",
       "      <th>year</th>\n",
       "      <th>state</th>\n",
       "      <th>state2</th>\n",
       "      <th>county</th>\n",
       "      <th>office</th>\n",
       "      <th>candidate</th>\n",
       "      <th>party</th>\n",
       "      <th>candidatevotes</th>\n",
       "      <th>totalvotes</th>\n",
       "      <th>...</th>\n",
       "      <th>POP010210D</th>\n",
       "      <th>POP220210D</th>\n",
       "      <th>POP250210D</th>\n",
       "      <th>POP320210D</th>\n",
       "      <th>POP400210D</th>\n",
       "      <th>PST110209D</th>\n",
       "      <th>BIRTHS2020</th>\n",
       "      <th>DEATHS2020</th>\n",
       "      <th>region</th>\n",
       "      <th>D</th>\n",
       "    </tr>\n",
       "  </thead>\n",
       "  <tbody>\n",
       "    <tr>\n",
       "      <th>1</th>\n",
       "      <td>1001</td>\n",
       "      <td>2020</td>\n",
       "      <td>Alabama</td>\n",
       "      <td>AL</td>\n",
       "      <td>Autauga County</td>\n",
       "      <td>President</td>\n",
       "      <td>Joshep Biden</td>\n",
       "      <td>democrat</td>\n",
       "      <td>7503.0</td>\n",
       "      <td>27770</td>\n",
       "      <td>...</td>\n",
       "      <td>54571</td>\n",
       "      <td>42855</td>\n",
       "      <td>9643</td>\n",
       "      <td>474</td>\n",
       "      <td>1310</td>\n",
       "      <td>7085</td>\n",
       "      <td>143.0</td>\n",
       "      <td>168.0</td>\n",
       "      <td>south</td>\n",
       "      <td>0</td>\n",
       "    </tr>\n",
       "    <tr>\n",
       "      <th>3</th>\n",
       "      <td>1003</td>\n",
       "      <td>2020</td>\n",
       "      <td>Alabama</td>\n",
       "      <td>AL</td>\n",
       "      <td>Baldwin County</td>\n",
       "      <td>President</td>\n",
       "      <td>Joshep Biden</td>\n",
       "      <td>democrat</td>\n",
       "      <td>24578.0</td>\n",
       "      <td>109679</td>\n",
       "      <td>...</td>\n",
       "      <td>182265</td>\n",
       "      <td>156153</td>\n",
       "      <td>17105</td>\n",
       "      <td>1348</td>\n",
       "      <td>7992</td>\n",
       "      <td>39463</td>\n",
       "      <td>527.0</td>\n",
       "      <td>661.0</td>\n",
       "      <td>south</td>\n",
       "      <td>0</td>\n",
       "    </tr>\n",
       "    <tr>\n",
       "      <th>5</th>\n",
       "      <td>1005</td>\n",
       "      <td>2020</td>\n",
       "      <td>Alabama</td>\n",
       "      <td>AL</td>\n",
       "      <td>Barbour County</td>\n",
       "      <td>President</td>\n",
       "      <td>Joshep Biden</td>\n",
       "      <td>democrat</td>\n",
       "      <td>4816.0</td>\n",
       "      <td>10518</td>\n",
       "      <td>...</td>\n",
       "      <td>27457</td>\n",
       "      <td>13180</td>\n",
       "      <td>12875</td>\n",
       "      <td>107</td>\n",
       "      <td>1387</td>\n",
       "      <td>699</td>\n",
       "      <td>64.0</td>\n",
       "      <td>109.0</td>\n",
       "      <td>south</td>\n",
       "      <td>0</td>\n",
       "    </tr>\n",
       "    <tr>\n",
       "      <th>7</th>\n",
       "      <td>1007</td>\n",
       "      <td>2020</td>\n",
       "      <td>Alabama</td>\n",
       "      <td>AL</td>\n",
       "      <td>Bibb County</td>\n",
       "      <td>President</td>\n",
       "      <td>Joshep Biden</td>\n",
       "      <td>democrat</td>\n",
       "      <td>1986.0</td>\n",
       "      <td>9595</td>\n",
       "      <td>...</td>\n",
       "      <td>22915</td>\n",
       "      <td>17381</td>\n",
       "      <td>5047</td>\n",
       "      <td>22</td>\n",
       "      <td>406</td>\n",
       "      <td>1698</td>\n",
       "      <td>62.0</td>\n",
       "      <td>90.0</td>\n",
       "      <td>south</td>\n",
       "      <td>0</td>\n",
       "    </tr>\n",
       "    <tr>\n",
       "      <th>9</th>\n",
       "      <td>1009</td>\n",
       "      <td>2020</td>\n",
       "      <td>Alabama</td>\n",
       "      <td>AL</td>\n",
       "      <td>Blount County</td>\n",
       "      <td>President</td>\n",
       "      <td>Joshep Biden</td>\n",
       "      <td>democrat</td>\n",
       "      <td>2640.0</td>\n",
       "      <td>27588</td>\n",
       "      <td>...</td>\n",
       "      <td>57322</td>\n",
       "      <td>53068</td>\n",
       "      <td>761</td>\n",
       "      <td>117</td>\n",
       "      <td>4626</td>\n",
       "      <td>7323</td>\n",
       "      <td>152.0</td>\n",
       "      <td>220.0</td>\n",
       "      <td>south</td>\n",
       "      <td>0</td>\n",
       "    </tr>\n",
       "  </tbody>\n",
       "</table>\n",
       "<p>5 rows × 25 columns</p>\n",
       "</div>"
      ],
      "text/plain": [
       "   FIPS  year    state state2          county     office     candidate  \\\n",
       "1  1001  2020  Alabama     AL  Autauga County  President  Joshep Biden   \n",
       "3  1003  2020  Alabama     AL  Baldwin County  President  Joshep Biden   \n",
       "5  1005  2020  Alabama     AL  Barbour County  President  Joshep Biden   \n",
       "7  1007  2020  Alabama     AL     Bibb County  President  Joshep Biden   \n",
       "9  1009  2020  Alabama     AL   Blount County  President  Joshep Biden   \n",
       "\n",
       "      party  candidatevotes  totalvotes  ...  POP010210D  POP220210D  \\\n",
       "1  democrat          7503.0       27770  ...       54571       42855   \n",
       "3  democrat         24578.0      109679  ...      182265      156153   \n",
       "5  democrat          4816.0       10518  ...       27457       13180   \n",
       "7  democrat          1986.0        9595  ...       22915       17381   \n",
       "9  democrat          2640.0       27588  ...       57322       53068   \n",
       "\n",
       "   POP250210D  POP320210D  POP400210D  PST110209D  BIRTHS2020  DEATHS2020  \\\n",
       "1        9643         474        1310        7085       143.0       168.0   \n",
       "3       17105        1348        7992       39463       527.0       661.0   \n",
       "5       12875         107        1387         699        64.0       109.0   \n",
       "7        5047          22         406        1698        62.0        90.0   \n",
       "9         761         117        4626        7323       152.0       220.0   \n",
       "\n",
       "   region  D  \n",
       "1   south  0  \n",
       "3   south  0  \n",
       "5   south  0  \n",
       "7   south  0  \n",
       "9   south  0  \n",
       "\n",
       "[5 rows x 25 columns]"
      ]
     },
     "execution_count": 384,
     "metadata": {},
     "output_type": "execute_result"
    }
   ],
   "source": [
    "#1-6\n",
    "elec2020[\"D\"] = temp[\"D\"]\n",
    "elec2020 = elec2020[elec2020.party == \"democrat\"]\n",
    "\n",
    "elec2020.head()"
   ]
  },
  {
   "cell_type": "code",
   "execution_count": 385,
   "id": "0e40c6b2-7437-4ee2-b7e6-956d59015143",
   "metadata": {},
   "outputs": [
    {
     "data": {
      "text/plain": [
       "1        91.393829\n",
       "3       102.421396\n",
       "5        28.530049\n",
       "7        36.070653\n",
       "9        88.370735\n",
       "           ...    \n",
       "6213      4.215164\n",
       "6215      5.503340\n",
       "6217      9.907260\n",
       "6219      3.640620\n",
       "6221      3.008246\n",
       "Name: pden, Length: 3111, dtype: float64"
      ]
     },
     "execution_count": 385,
     "metadata": {},
     "output_type": "execute_result"
    }
   ],
   "source": [
    "#1-7\n",
    "elec2020[\"pden\"] = elec2020.population / elec2020.LND010200D\n",
    "elec2020.pden"
   ]
  },
  {
   "cell_type": "code",
   "execution_count": 386,
   "id": "6896a75d-4ff4-419a-a7c0-c83af9f01825",
   "metadata": {},
   "outputs": [
    {
     "data": {
      "text/plain": [
       "1        7.261114\n",
       "3        9.153772\n",
       "5        5.295336\n",
       "7        3.202429\n",
       "9        4.057496\n",
       "          ...    \n",
       "6213     4.686860\n",
       "6215    15.193734\n",
       "6217     5.181432\n",
       "6219     8.346273\n",
       "6221     3.332621\n",
       "Name: gperc, Length: 3111, dtype: float64"
      ]
     },
     "execution_count": 386,
     "metadata": {},
     "output_type": "execute_result"
    }
   ],
   "source": [
    "#1-7\n",
    "elec2020[\"gperc\"] = elec2020.EDU695209D * 100 / elec2020.EDU600209D\n",
    "elec2020.gperc"
   ]
  },
  {
   "cell_type": "code",
   "execution_count": 387,
   "id": "2022a179-c9f4-43a1-ab30-14bbe79a73b0",
   "metadata": {},
   "outputs": [
    {
     "data": {
      "text/plain": [
       "(1       10.354253\n",
       " 3       10.154094\n",
       " 5        9.920174\n",
       " 7       10.980253\n",
       " 9       10.575017\n",
       "           ...    \n",
       " 6213    10.130704\n",
       " 6215     7.575105\n",
       " 6217     9.670245\n",
       " 6219     8.818126\n",
       " 6221     8.864266\n",
       " Name: brate, Length: 3111, dtype: float64,\n",
       " 1       12.164437\n",
       " 3       12.735969\n",
       " 5       16.895296\n",
       " 7       15.939077\n",
       " 9       15.305945\n",
       "           ...    \n",
       " 6213    10.492515\n",
       " 6215     4.992683\n",
       " 6217     9.476840\n",
       " 6219    15.676669\n",
       " 6221     7.756233\n",
       " Name: drate, Length: 3111, dtype: float64)"
      ]
     },
     "execution_count": 387,
     "metadata": {},
     "output_type": "execute_result"
    }
   ],
   "source": [
    "#1-8\n",
    "elec2020[\"brate\"] = elec2020.BIRTHS2020 * 1000 * 4 / elec2020.population\n",
    "elec2020[\"drate\"] = elec2020.DEATHS2020 * 1000 * 4 / elec2020.population\n",
    "elec2020.brate, elec2020.drate"
   ]
  },
  {
   "cell_type": "code",
   "execution_count": 388,
   "id": "fc95d9ae-6abb-447e-aecd-2d28970cefca",
   "metadata": {},
   "outputs": [
    {
     "data": {
      "text/plain": [
       "(0.17285957006722316, inf, 0.0, 38.4636488340192, 18183.0, 205843.0)"
      ]
     },
     "execution_count": 388,
     "metadata": {},
     "output_type": "execute_result"
    }
   ],
   "source": [
    "#1-9\n",
    "np.min(elec2020.pden), np.max(elec2020.pden), np.min(elec2020.gperc), \\\n",
    "np.max(elec2020.gperc), np.min(elec2020.income), np.max(elec2020.income)"
   ]
  },
  {
   "cell_type": "code",
   "execution_count": 389,
   "id": "870deaea-772d-4934-9fe0-baae24ba35b2",
   "metadata": {},
   "outputs": [
    {
     "data": {
      "text/plain": [
       "(0.17285957006722316, 48428.87177968611)"
      ]
     },
     "execution_count": 389,
     "metadata": {},
     "output_type": "execute_result"
    }
   ],
   "source": [
    "#1-9\n",
    "elec2020.replace([np.inf], np.nan, inplace=True)\n",
    "np.min(elec2020.pden), np.max(elec2020.pden)"
   ]
  },
  {
   "cell_type": "code",
   "execution_count": 390,
   "id": "3f408e94-0022-4574-b7d1-c600c6ad1138",
   "metadata": {},
   "outputs": [
    {
     "name": "stdout",
     "output_type": "stream",
     "text": [
      "Optimization terminated successfully.\n",
      "         Current function value: 0.305261\n",
      "         Iterations 8\n"
     ]
    },
    {
     "data": {
      "text/html": [
       "<table class=\"simpletable\">\n",
       "<caption>Logit Marginal Effects</caption>\n",
       "<tr>\n",
       "  <th>Dep. Variable:</th>    <td>D</td>   \n",
       "</tr>\n",
       "<tr>\n",
       "  <th>Method:</th>         <td>dydx</td>  \n",
       "</tr>\n",
       "<tr>\n",
       "  <th>At:</th>            <td>overall</td>\n",
       "</tr>\n",
       "</table>\n",
       "<table class=\"simpletable\">\n",
       "<tr>\n",
       "           <th></th>              <th>dy/dx</th>    <th>std err</th>      <th>z</th>      <th>P>|z|</th>  <th>[0.025</th>    <th>0.975]</th>  \n",
       "</tr>\n",
       "<tr>\n",
       "  <th>region[T.northeast]</th> <td>    0.1151</td> <td>    0.020</td> <td>    5.888</td> <td> 0.000</td> <td>    0.077</td> <td>    0.153</td>\n",
       "</tr>\n",
       "<tr>\n",
       "  <th>region[T.south]</th>     <td>    0.0546</td> <td>    0.015</td> <td>    3.708</td> <td> 0.000</td> <td>    0.026</td> <td>    0.083</td>\n",
       "</tr>\n",
       "<tr>\n",
       "  <th>region[T.west]</th>      <td>    0.1349</td> <td>    0.017</td> <td>    8.145</td> <td> 0.000</td> <td>    0.102</td> <td>    0.167</td>\n",
       "</tr>\n",
       "<tr>\n",
       "  <th>pden</th>                <td>    0.2189</td> <td>    0.022</td> <td>    9.805</td> <td> 0.000</td> <td>    0.175</td> <td>    0.263</td>\n",
       "</tr>\n",
       "<tr>\n",
       "  <th>gperc</th>               <td>    0.0252</td> <td>    0.002</td> <td>   13.493</td> <td> 0.000</td> <td>    0.022</td> <td>    0.029</td>\n",
       "</tr>\n",
       "<tr>\n",
       "  <th>income</th>              <td>-2.382e-06</td> <td> 6.41e-07</td> <td>   -3.717</td> <td> 0.000</td> <td>-3.64e-06</td> <td>-1.13e-06</td>\n",
       "</tr>\n",
       "</table>"
      ],
      "text/plain": [
       "<class 'statsmodels.iolib.summary.Summary'>\n",
       "\"\"\"\n",
       "        Logit Marginal Effects       \n",
       "=====================================\n",
       "Dep. Variable:                      D\n",
       "Method:                          dydx\n",
       "At:                           overall\n",
       "=======================================================================================\n",
       "                         dy/dx    std err          z      P>|z|      [0.025      0.975]\n",
       "---------------------------------------------------------------------------------------\n",
       "region[T.northeast]     0.1151      0.020      5.888      0.000       0.077       0.153\n",
       "region[T.south]         0.0546      0.015      3.708      0.000       0.026       0.083\n",
       "region[T.west]          0.1349      0.017      8.145      0.000       0.102       0.167\n",
       "pden                    0.2189      0.022      9.805      0.000       0.175       0.263\n",
       "gperc                   0.0252      0.002     13.493      0.000       0.022       0.029\n",
       "income              -2.382e-06   6.41e-07     -3.717      0.000   -3.64e-06   -1.13e-06\n",
       "=======================================================================================\n",
       "\"\"\""
      ]
     },
     "execution_count": 390,
     "metadata": {},
     "output_type": "execute_result"
    }
   ],
   "source": [
    "#1-10\n",
    "elec2020[\"pden\"] = elec2020[\"pden\"] / 1000\n",
    "m = smf.logit(\"D ~ region + pden + gperc + income\", data = elec2020).fit()\n",
    "m.get_margeff().summary()"
   ]
  },
  {
   "cell_type": "code",
   "execution_count": 391,
   "id": "f5fbbb6f-6995-4f7a-8a1d-1a7de14f0a2b",
   "metadata": {},
   "outputs": [],
   "source": [
    "#1-11"
   ]
  },
  {
   "cell_type": "markdown",
   "id": "4519aa63-c96d-4d28-af66-a975378ce715",
   "metadata": {},
   "source": [
    "The reason we use logistic regression instead of linear regression is because our first task is to analyze whether or not democrats won the election. In other words, we are dealing with categorical variables as response variables. The categorical variable we try to analyze only contains two options, 0 or 1, whether the democrats lost or won the election."
   ]
  },
  {
   "cell_type": "code",
   "execution_count": 392,
   "id": "2a456bdb-8604-4dca-8594-99aa0fc744b4",
   "metadata": {},
   "outputs": [],
   "source": [
    "#1-12"
   ]
  },
  {
   "cell_type": "markdown",
   "id": "b6b98cfa-2ccf-4905-99ce-bac3887150a6",
   "metadata": {},
   "source": [
    "All the results shown above are statistically significant since their P value is 0 and less than 0.05."
   ]
  },
  {
   "cell_type": "code",
   "execution_count": 393,
   "id": "690f5883-dd1c-4198-b34f-f08473f31475",
   "metadata": {},
   "outputs": [],
   "source": [
    "#1-12-T.northeast"
   ]
  },
  {
   "cell_type": "markdown",
   "id": "1165d5d5-b0fa-465d-bd35-fa877c6e85d2",
   "metadata": {},
   "source": [
    "Democratic candidates in the northeast census region have 11.51 pct pt more chance to win the election than in the midwest census region."
   ]
  },
  {
   "cell_type": "code",
   "execution_count": 394,
   "id": "ff134b78-e773-43a1-92ea-dcc7aa057a83",
   "metadata": {},
   "outputs": [],
   "source": [
    "#1-12-T.south"
   ]
  },
  {
   "cell_type": "markdown",
   "id": "33fc8e9a-d152-4d3d-9b90-8d5cd6f905a0",
   "metadata": {},
   "source": [
    "Democratic candidates in the south census region have 5.46 pct pt more chance to win the election than in the midwest census region."
   ]
  },
  {
   "cell_type": "code",
   "execution_count": 395,
   "id": "6f9521f6-9238-4b79-9e93-bc3d93967b1f",
   "metadata": {},
   "outputs": [],
   "source": [
    "#1-12-T.west"
   ]
  },
  {
   "cell_type": "markdown",
   "id": "e2bb8162-9c09-4ac6-9495-095fcc573000",
   "metadata": {},
   "source": [
    "Democratic candidates in the west census region have 13.49 pct pt more chance to win the election than in the midwest census region."
   ]
  },
  {
   "cell_type": "code",
   "execution_count": 396,
   "id": "6dd5cae5-6c62-4680-95b2-134dbf9c9fd6",
   "metadata": {},
   "outputs": [],
   "source": [
    "#1-12-population density"
   ]
  },
  {
   "cell_type": "markdown",
   "id": "30dbd21b-1b41-4b0c-b28e-f6b595e32c3a",
   "metadata": {},
   "source": [
    "Counties with one unit higher population density have 21.89 pct pt more chance to win the election for democratic candidates."
   ]
  },
  {
   "cell_type": "code",
   "execution_count": 397,
   "id": "4cea9a35-e2a6-4819-9041-e29508d9d433",
   "metadata": {},
   "outputs": [],
   "source": [
    "#1-12-education level"
   ]
  },
  {
   "cell_type": "markdown",
   "id": "9d0f382d-3448-4c98-a763-3b23d302d139",
   "metadata": {},
   "source": [
    "Counties with one unit higher education level have 2.52 pct pt more chance to win the election for democratic candidates."
   ]
  },
  {
   "cell_type": "code",
   "execution_count": 398,
   "id": "eb57bd4d-e02c-44b7-ad3c-864d0f534c19",
   "metadata": {},
   "outputs": [],
   "source": [
    "#1-12-income"
   ]
  },
  {
   "cell_type": "markdown",
   "id": "c3e21f35-dbac-484f-be14-12b038722a7b",
   "metadata": {},
   "source": [
    "Counties with one unit higher personal income have 0.0002382 pct pt more chance to win the election for democratic candidates."
   ]
  },
  {
   "cell_type": "markdown",
   "id": "c70bebfd-ea70-45b3-a7c9-d20974c9595c",
   "metadata": {
    "tags": []
   },
   "source": [
    "## 2. Model AirBnB Price"
   ]
  },
  {
   "cell_type": "markdown",
   "id": "03c117ec-e3c1-4e4e-ae43-ddef2fe5e111",
   "metadata": {},
   "source": [
    "1. (2pt) Load data. Select only relevant variables you need below. Even better, check out the usecols argument for read_csv. Do basic checks.\n",
    "2. (5pt) Do the basic data cleaning: (a) convert price to numeric. (b) remove entries with missing or invalid price, bedrooms, and other variables you need below\n",
    "3. (4pt) Analyze the distribution of price. Does it look like normal? Does it look like something else? Does it suggest you should do a log-transformation? Hint: consult lecture notes Section 4.1.8 Interactions and Feature Transformations.\n",
    "4. (6pt) Convert the number of bedrooms into another variable with a limited number of categories only, such as 0, 1, 2, 3, 4+, and use these categories in the models below. Hint: consult Python Notes Section on cleaning data.\n",
    "5. (6pt) Run a linear regression where you explain the listing price with number of bedrooms where bedrooms uses these categories. Interpret the results, including R2. Hint: if 0-BR is the reference category, the effect for 1BR should be -11.62 (but it depends on how exactly did you clean data).\n",
    "6. (8pt) Now repeat the process with the model where you analyze log price instead of price. Interpret the results. Which model behaves better in the sense of R 2 ? Hint: if you cleaned the data the same way as me, you should see R2 = 0.32. For the following task use either log(price) or price, depending on your answer here.\n",
    "7. (9pt) Finally we just add three more variables to the model: room type, accommodates, and bathrooms. While room type only contains three values, the other two contain many different categories. Recode these as • accommodates: “1”, “2”, “3”, “4 and more” • bathrooms: “0”, “1”, “2”, “3 and more”, where the 0.5 is rounded up to the next integer, e.g. 0.5 becomes 1, and 1.5 becomes 2. Run this model. Interpret and comment the more interesting/important results. Do not forget to mention what are the relevant reference categories and R2"
   ]
  },
  {
   "cell_type": "code",
   "execution_count": 399,
   "id": "423f0e7e-cb0c-41ef-844e-f47dac9cbefa",
   "metadata": {},
   "outputs": [
    {
     "data": {
      "text/html": [
       "<div>\n",
       "<style scoped>\n",
       "    .dataframe tbody tr th:only-of-type {\n",
       "        vertical-align: middle;\n",
       "    }\n",
       "\n",
       "    .dataframe tbody tr th {\n",
       "        vertical-align: top;\n",
       "    }\n",
       "\n",
       "    .dataframe thead th {\n",
       "        text-align: right;\n",
       "    }\n",
       "</style>\n",
       "<table border=\"1\" class=\"dataframe\">\n",
       "  <thead>\n",
       "    <tr style=\"text-align: right;\">\n",
       "      <th></th>\n",
       "      <th>room_type</th>\n",
       "      <th>accommodates</th>\n",
       "      <th>bathrooms</th>\n",
       "      <th>bedrooms</th>\n",
       "      <th>price</th>\n",
       "    </tr>\n",
       "  </thead>\n",
       "  <tbody>\n",
       "    <tr>\n",
       "      <th>0</th>\n",
       "      <td>Entire home/apt</td>\n",
       "      <td>9</td>\n",
       "      <td>2.0</td>\n",
       "      <td>3.0</td>\n",
       "      <td>$831.00</td>\n",
       "    </tr>\n",
       "    <tr>\n",
       "      <th>1</th>\n",
       "      <td>Private room</td>\n",
       "      <td>2</td>\n",
       "      <td>1.0</td>\n",
       "      <td>1.0</td>\n",
       "      <td>$1,197.00</td>\n",
       "    </tr>\n",
       "    <tr>\n",
       "      <th>2</th>\n",
       "      <td>Entire home/apt</td>\n",
       "      <td>2</td>\n",
       "      <td>1.0</td>\n",
       "      <td>1.0</td>\n",
       "      <td>$598.00</td>\n",
       "    </tr>\n",
       "    <tr>\n",
       "      <th>3</th>\n",
       "      <td>Entire home/apt</td>\n",
       "      <td>2</td>\n",
       "      <td>1.0</td>\n",
       "      <td>1.0</td>\n",
       "      <td>$598.00</td>\n",
       "    </tr>\n",
       "    <tr>\n",
       "      <th>4</th>\n",
       "      <td>Entire home/apt</td>\n",
       "      <td>2</td>\n",
       "      <td>1.0</td>\n",
       "      <td>1.0</td>\n",
       "      <td>$598.00</td>\n",
       "    </tr>\n",
       "  </tbody>\n",
       "</table>\n",
       "</div>"
      ],
      "text/plain": [
       "         room_type  accommodates  bathrooms  bedrooms      price\n",
       "0  Entire home/apt             9        2.0       3.0    $831.00\n",
       "1     Private room             2        1.0       1.0  $1,197.00\n",
       "2  Entire home/apt             2        1.0       1.0    $598.00\n",
       "3  Entire home/apt             2        1.0       1.0    $598.00\n",
       "4  Entire home/apt             2        1.0       1.0    $598.00"
      ]
     },
     "execution_count": 399,
     "metadata": {},
     "output_type": "execute_result"
    }
   ],
   "source": [
    "#2-1\n",
    "airbnb = pd.read_csv(\"../data/airbnb-beijing-listings.csv.bz2\", \n",
    "                     usecols=[\"price\", \"room_type\", \"accommodates\", \n",
    "                              \"bathrooms\", \"bedrooms\"])\n",
    "airbnb.head()"
   ]
  },
  {
   "cell_type": "code",
   "execution_count": 400,
   "id": "94286275-e797-4fd4-9c5a-5169180d2f4b",
   "metadata": {},
   "outputs": [
    {
     "data": {
      "text/plain": [
       "room_type         0\n",
       "accommodates      0\n",
       "bathrooms         7\n",
       "bedrooms        114\n",
       "price             0\n",
       "dtype: int64"
      ]
     },
     "execution_count": 400,
     "metadata": {},
     "output_type": "execute_result"
    }
   ],
   "source": [
    "#2-1\n",
    "airbnb.isna().sum()"
   ]
  },
  {
   "cell_type": "code",
   "execution_count": 401,
   "id": "2104e4ba-363a-4d3e-af4d-58ed4c35c179",
   "metadata": {},
   "outputs": [
    {
     "data": {
      "text/plain": [
       "(38814, 5)"
      ]
     },
     "execution_count": 401,
     "metadata": {},
     "output_type": "execute_result"
    }
   ],
   "source": [
    "#2-1\n",
    "airbnb.shape"
   ]
  },
  {
   "cell_type": "code",
   "execution_count": 402,
   "id": "28a35470-bcd8-4dd1-ac47-8926fa3acb19",
   "metadata": {},
   "outputs": [
    {
     "data": {
      "text/html": [
       "<div>\n",
       "<style scoped>\n",
       "    .dataframe tbody tr th:only-of-type {\n",
       "        vertical-align: middle;\n",
       "    }\n",
       "\n",
       "    .dataframe tbody tr th {\n",
       "        vertical-align: top;\n",
       "    }\n",
       "\n",
       "    .dataframe thead th {\n",
       "        text-align: right;\n",
       "    }\n",
       "</style>\n",
       "<table border=\"1\" class=\"dataframe\">\n",
       "  <thead>\n",
       "    <tr style=\"text-align: right;\">\n",
       "      <th></th>\n",
       "      <th>room_type</th>\n",
       "      <th>accommodates</th>\n",
       "      <th>bathrooms</th>\n",
       "      <th>bedrooms</th>\n",
       "      <th>price</th>\n",
       "    </tr>\n",
       "  </thead>\n",
       "  <tbody>\n",
       "    <tr>\n",
       "      <th>0</th>\n",
       "      <td>Entire home/apt</td>\n",
       "      <td>9</td>\n",
       "      <td>2.0</td>\n",
       "      <td>3.0</td>\n",
       "      <td>831.0</td>\n",
       "    </tr>\n",
       "    <tr>\n",
       "      <th>1</th>\n",
       "      <td>Private room</td>\n",
       "      <td>2</td>\n",
       "      <td>1.0</td>\n",
       "      <td>1.0</td>\n",
       "      <td>1197.0</td>\n",
       "    </tr>\n",
       "    <tr>\n",
       "      <th>2</th>\n",
       "      <td>Entire home/apt</td>\n",
       "      <td>2</td>\n",
       "      <td>1.0</td>\n",
       "      <td>1.0</td>\n",
       "      <td>598.0</td>\n",
       "    </tr>\n",
       "    <tr>\n",
       "      <th>3</th>\n",
       "      <td>Entire home/apt</td>\n",
       "      <td>2</td>\n",
       "      <td>1.0</td>\n",
       "      <td>1.0</td>\n",
       "      <td>598.0</td>\n",
       "    </tr>\n",
       "    <tr>\n",
       "      <th>4</th>\n",
       "      <td>Entire home/apt</td>\n",
       "      <td>2</td>\n",
       "      <td>1.0</td>\n",
       "      <td>1.0</td>\n",
       "      <td>598.0</td>\n",
       "    </tr>\n",
       "  </tbody>\n",
       "</table>\n",
       "</div>"
      ],
      "text/plain": [
       "         room_type  accommodates  bathrooms  bedrooms   price\n",
       "0  Entire home/apt             9        2.0       3.0   831.0\n",
       "1     Private room             2        1.0       1.0  1197.0\n",
       "2  Entire home/apt             2        1.0       1.0   598.0\n",
       "3  Entire home/apt             2        1.0       1.0   598.0\n",
       "4  Entire home/apt             2        1.0       1.0   598.0"
      ]
     },
     "execution_count": 402,
     "metadata": {},
     "output_type": "execute_result"
    }
   ],
   "source": [
    "#2-2\n",
    "airbnb.price = airbnb.price.replace(\"[$,]\", \"\", regex = True)\n",
    "airbnb.price = pd.to_numeric(airbnb.price, errors = 'ignore')\n",
    "airbnb = airbnb.dropna(subset=[\"bathrooms\", \"bedrooms\"])\n",
    "airbnb = airbnb[airbnb['price'] > 0]\n",
    "airbnb.head()"
   ]
  },
  {
   "cell_type": "code",
   "execution_count": 403,
   "id": "31980d47-27a3-41f3-a08e-6395e5926850",
   "metadata": {},
   "outputs": [
    {
     "data": {
      "text/plain": [
       "(38686, 5)"
      ]
     },
     "execution_count": 403,
     "metadata": {},
     "output_type": "execute_result"
    }
   ],
   "source": [
    "#2-2\n",
    "airbnb.shape"
   ]
  },
  {
   "cell_type": "code",
   "execution_count": 404,
   "id": "c48ac9fd-d824-462a-9497-0d9a590842d8",
   "metadata": {},
   "outputs": [
    {
     "data": {
      "image/png": "[encoded data removed]",
      "text/plain": [
       "<Figure size 432x288 with 1 Axes>"
      ]
     },
     "metadata": {
      "needs_background": "light"
     },
     "output_type": "display_data"
    }
   ],
   "source": [
    "#2-3\n",
    "_ = plt.hist(airbnb.price, bins = 60)\n",
    "_ = plt.xlim([0, 10000])"
   ]
  },
  {
   "cell_type": "markdown",
   "id": "b5233e10-d18d-4209-874d-667895306efa",
   "metadata": {},
   "source": [
    "The data is concentrated at the highest peak, making it not look like a normal distribution. Therefore, it suggests that we should do a log transformation instead."
   ]
  },
  {
   "cell_type": "code",
   "execution_count": 405,
   "id": "d9350ac2-1dd5-4f58-ab23-ebbf68a4a6b8",
   "metadata": {},
   "outputs": [
    {
     "data": {
      "text/html": [
       "<div>\n",
       "<style scoped>\n",
       "    .dataframe tbody tr th:only-of-type {\n",
       "        vertical-align: middle;\n",
       "    }\n",
       "\n",
       "    .dataframe tbody tr th {\n",
       "        vertical-align: top;\n",
       "    }\n",
       "\n",
       "    .dataframe thead th {\n",
       "        text-align: right;\n",
       "    }\n",
       "</style>\n",
       "<table border=\"1\" class=\"dataframe\">\n",
       "  <thead>\n",
       "    <tr style=\"text-align: right;\">\n",
       "      <th></th>\n",
       "      <th>room_type</th>\n",
       "      <th>accommodates</th>\n",
       "      <th>bathrooms</th>\n",
       "      <th>bedrooms</th>\n",
       "      <th>price</th>\n",
       "      <th>bedrooms2</th>\n",
       "    </tr>\n",
       "  </thead>\n",
       "  <tbody>\n",
       "    <tr>\n",
       "      <th>0</th>\n",
       "      <td>Entire home/apt</td>\n",
       "      <td>9</td>\n",
       "      <td>2.0</td>\n",
       "      <td>3.0</td>\n",
       "      <td>831.0</td>\n",
       "      <td>3</td>\n",
       "    </tr>\n",
       "    <tr>\n",
       "      <th>1</th>\n",
       "      <td>Private room</td>\n",
       "      <td>2</td>\n",
       "      <td>1.0</td>\n",
       "      <td>1.0</td>\n",
       "      <td>1197.0</td>\n",
       "      <td>1</td>\n",
       "    </tr>\n",
       "    <tr>\n",
       "      <th>2</th>\n",
       "      <td>Entire home/apt</td>\n",
       "      <td>2</td>\n",
       "      <td>1.0</td>\n",
       "      <td>1.0</td>\n",
       "      <td>598.0</td>\n",
       "      <td>1</td>\n",
       "    </tr>\n",
       "    <tr>\n",
       "      <th>3</th>\n",
       "      <td>Entire home/apt</td>\n",
       "      <td>2</td>\n",
       "      <td>1.0</td>\n",
       "      <td>1.0</td>\n",
       "      <td>598.0</td>\n",
       "      <td>1</td>\n",
       "    </tr>\n",
       "    <tr>\n",
       "      <th>4</th>\n",
       "      <td>Entire home/apt</td>\n",
       "      <td>2</td>\n",
       "      <td>1.0</td>\n",
       "      <td>1.0</td>\n",
       "      <td>598.0</td>\n",
       "      <td>1</td>\n",
       "    </tr>\n",
       "  </tbody>\n",
       "</table>\n",
       "</div>"
      ],
      "text/plain": [
       "         room_type  accommodates  bathrooms  bedrooms   price bedrooms2\n",
       "0  Entire home/apt             9        2.0       3.0   831.0         3\n",
       "1     Private room             2        1.0       1.0  1197.0         1\n",
       "2  Entire home/apt             2        1.0       1.0   598.0         1\n",
       "3  Entire home/apt             2        1.0       1.0   598.0         1\n",
       "4  Entire home/apt             2        1.0       1.0   598.0         1"
      ]
     },
     "execution_count": 405,
     "metadata": {},
     "output_type": "execute_result"
    }
   ],
   "source": [
    "#2-4\n",
    "airbnb[\"bedrooms2\"] = pd.cut(airbnb.bedrooms,\n",
    "                      bins = [0, 1, 2, 3, 4, np.inf],\n",
    "                      labels = [\"0\", \"1\", \"2\", \"3\", \"4+\"],\n",
    "                      right = False)\n",
    "airbnb.head()"
   ]
  },
  {
   "cell_type": "code",
   "execution_count": 406,
   "id": "64c11aa6-b70d-4dcf-be10-ad73cdbdd6a2",
   "metadata": {},
   "outputs": [
    {
     "data": {
      "text/html": [
       "<table class=\"simpletable\">\n",
       "<caption>OLS Regression Results</caption>\n",
       "<tr>\n",
       "  <th>Dep. Variable:</th>          <td>price</td>      <th>  R-squared:         </th>  <td>   0.102</td>  \n",
       "</tr>\n",
       "<tr>\n",
       "  <th>Model:</th>                   <td>OLS</td>       <th>  Adj. R-squared:    </th>  <td>   0.101</td>  \n",
       "</tr>\n",
       "<tr>\n",
       "  <th>Method:</th>             <td>Least Squares</td>  <th>  F-statistic:       </th>  <td>   1093.</td>  \n",
       "</tr>\n",
       "<tr>\n",
       "  <th>Date:</th>             <td>Tue, 22 Nov 2022</td> <th>  Prob (F-statistic):</th>   <td>  0.00</td>   \n",
       "</tr>\n",
       "<tr>\n",
       "  <th>Time:</th>                 <td>07:15:13</td>     <th>  Log-Likelihood:    </th> <td>-3.4133e+05</td>\n",
       "</tr>\n",
       "<tr>\n",
       "  <th>No. Observations:</th>      <td> 38686</td>      <th>  AIC:               </th>  <td>6.827e+05</td> \n",
       "</tr>\n",
       "<tr>\n",
       "  <th>Df Residuals:</th>          <td> 38681</td>      <th>  BIC:               </th>  <td>6.827e+05</td> \n",
       "</tr>\n",
       "<tr>\n",
       "  <th>Df Model:</th>              <td>     4</td>      <th>                     </th>      <td> </td>     \n",
       "</tr>\n",
       "<tr>\n",
       "  <th>Covariance Type:</th>      <td>nonrobust</td>    <th>                     </th>      <td> </td>     \n",
       "</tr>\n",
       "</table>\n",
       "<table class=\"simpletable\">\n",
       "<tr>\n",
       "         <td></td>            <th>coef</th>     <th>std err</th>      <th>t</th>      <th>P>|t|</th>  <th>[0.025</th>    <th>0.975]</th>  \n",
       "</tr>\n",
       "<tr>\n",
       "  <th>Intercept</th>       <td>  448.8851</td> <td>  107.166</td> <td>    4.189</td> <td> 0.000</td> <td>  238.837</td> <td>  658.933</td>\n",
       "</tr>\n",
       "<tr>\n",
       "  <th>bedrooms2[T.1]</th>  <td>  -11.6223</td> <td>  107.655</td> <td>   -0.108</td> <td> 0.914</td> <td> -222.628</td> <td>  199.384</td>\n",
       "</tr>\n",
       "<tr>\n",
       "  <th>bedrooms2[T.2]</th>  <td>  295.9590</td> <td>  108.801</td> <td>    2.720</td> <td> 0.007</td> <td>   82.705</td> <td>  509.213</td>\n",
       "</tr>\n",
       "<tr>\n",
       "  <th>bedrooms2[T.3]</th>  <td>  746.0202</td> <td>  111.966</td> <td>    6.663</td> <td> 0.000</td> <td>  526.565</td> <td>  965.476</td>\n",
       "</tr>\n",
       "<tr>\n",
       "  <th>bedrooms2[T.4+]</th> <td> 2167.8388</td> <td>  111.995</td> <td>   19.357</td> <td> 0.000</td> <td> 1948.326</td> <td> 2387.352</td>\n",
       "</tr>\n",
       "</table>\n",
       "<table class=\"simpletable\">\n",
       "<tr>\n",
       "  <th>Omnibus:</th>       <td>95843.461</td> <th>  Durbin-Watson:     </th>    <td>   1.973</td>   \n",
       "</tr>\n",
       "<tr>\n",
       "  <th>Prob(Omnibus):</th>  <td> 0.000</td>   <th>  Jarque-Bera (JB):  </th> <td>1539629661.103</td>\n",
       "</tr>\n",
       "<tr>\n",
       "  <th>Skew:</th>           <td>26.864</td>   <th>  Prob(JB):          </th>    <td>    0.00</td>   \n",
       "</tr>\n",
       "<tr>\n",
       "  <th>Kurtosis:</th>       <td>978.842</td>  <th>  Cond. No.          </th>    <td>    35.8</td>   \n",
       "</tr>\n",
       "</table><br/><br/>Notes:<br/>[1] Standard Errors assume that the covariance matrix of the errors is correctly specified."
      ],
      "text/plain": [
       "<class 'statsmodels.iolib.summary.Summary'>\n",
       "\"\"\"\n",
       "                            OLS Regression Results                            \n",
       "==============================================================================\n",
       "Dep. Variable:                  price   R-squared:                       0.102\n",
       "Model:                            OLS   Adj. R-squared:                  0.101\n",
       "Method:                 Least Squares   F-statistic:                     1093.\n",
       "Date:                Tue, 22 Nov 2022   Prob (F-statistic):               0.00\n",
       "Time:                        07:15:13   Log-Likelihood:            -3.4133e+05\n",
       "No. Observations:               38686   AIC:                         6.827e+05\n",
       "Df Residuals:                   38681   BIC:                         6.827e+05\n",
       "Df Model:                           4                                         \n",
       "Covariance Type:            nonrobust                                         \n",
       "===================================================================================\n",
       "                      coef    std err          t      P>|t|      [0.025      0.975]\n",
       "-----------------------------------------------------------------------------------\n",
       "Intercept         448.8851    107.166      4.189      0.000     238.837     658.933\n",
       "bedrooms2[T.1]    -11.6223    107.655     -0.108      0.914    -222.628     199.384\n",
       "bedrooms2[T.2]    295.9590    108.801      2.720      0.007      82.705     509.213\n",
       "bedrooms2[T.3]    746.0202    111.966      6.663      0.000     526.565     965.476\n",
       "bedrooms2[T.4+]  2167.8388    111.995     19.357      0.000    1948.326    2387.352\n",
       "==============================================================================\n",
       "Omnibus:                    95843.461   Durbin-Watson:                   1.973\n",
       "Prob(Omnibus):                  0.000   Jarque-Bera (JB):       1539629661.103\n",
       "Skew:                          26.864   Prob(JB):                         0.00\n",
       "Kurtosis:                     978.842   Cond. No.                         35.8\n",
       "==============================================================================\n",
       "\n",
       "Notes:\n",
       "[1] Standard Errors assume that the covariance matrix of the errors is correctly specified.\n",
       "\"\"\""
      ]
     },
     "execution_count": 406,
     "metadata": {},
     "output_type": "execute_result"
    }
   ],
   "source": [
    "#2-5\n",
    "m = smf.ols(\"price ~ bedrooms2\", data=airbnb).fit()\n",
    "m.summary()"
   ]
  },
  {
   "cell_type": "markdown",
   "id": "ed762068-3f7a-4cfb-be58-e689edd0000d",
   "metadata": {},
   "source": [
    "R2 is 0.102, interpreting that it has a 10.2% of explanatory validity in the response variable explained by the regression model."
   ]
  },
  {
   "cell_type": "code",
   "execution_count": 407,
   "id": "23f563f7-0470-4667-be81-69ea8b6609e9",
   "metadata": {},
   "outputs": [],
   "source": [
    "#2-5-β0"
   ]
  },
  {
   "cell_type": "markdown",
   "id": "e72ffbd0-fa02-4a9c-a50f-48cc980b74cc",
   "metadata": {},
   "source": [
    "The price for rooms without a bedroom is $448.8851."
   ]
  },
  {
   "cell_type": "code",
   "execution_count": 408,
   "id": "36f37ee8-5303-4930-90f2-0b3aa8ecebb5",
   "metadata": {},
   "outputs": [],
   "source": [
    "#2-5-T1"
   ]
  },
  {
   "cell_type": "markdown",
   "id": "6d0f90ef-c2b5-47c3-af34-3316f8f204a4",
   "metadata": {},
   "source": [
    "The price of rooms with one bedroom is $11.6223 cheaper than rooms without bedrooms."
   ]
  },
  {
   "cell_type": "code",
   "execution_count": 409,
   "id": "f32fee50-d777-4806-8742-f85aa25ea233",
   "metadata": {},
   "outputs": [],
   "source": [
    "#2-5-T2"
   ]
  },
  {
   "cell_type": "markdown",
   "id": "5e2e18eb-3f16-4b61-a56d-281c9592f4fb",
   "metadata": {},
   "source": [
    "The price of rooms with two bedrooms is $295.9590 more expensive than rooms without bedrooms."
   ]
  },
  {
   "cell_type": "code",
   "execution_count": 410,
   "id": "43aa570e-1e85-49aa-9b6c-41aefbfede1f",
   "metadata": {},
   "outputs": [],
   "source": [
    "#2-5-T3"
   ]
  },
  {
   "cell_type": "markdown",
   "id": "abb8b9fa-5dae-4026-9e91-2554f379a24e",
   "metadata": {},
   "source": [
    "The price of rooms with three bedrooms is $746.0202 more expensive than rooms without bedrooms."
   ]
  },
  {
   "cell_type": "code",
   "execution_count": 411,
   "id": "07008a09-ca0f-4a21-91d9-47746865461d",
   "metadata": {},
   "outputs": [],
   "source": [
    "#2-5-T4+"
   ]
  },
  {
   "cell_type": "markdown",
   "id": "b132befe-7345-468c-9db0-e98ca4174ded",
   "metadata": {},
   "source": [
    "The price of rooms with more than three bedrooms is $2167.8388 more expensive than rooms without bedrooms."
   ]
  },
  {
   "cell_type": "code",
   "execution_count": 412,
   "id": "d00f0fc9-4dd8-404e-9800-9a90a5485513",
   "metadata": {},
   "outputs": [
    {
     "data": {
      "text/html": [
       "<table class=\"simpletable\">\n",
       "<caption>OLS Regression Results</caption>\n",
       "<tr>\n",
       "  <th>Dep. Variable:</th>      <td>np.log(price)</td>  <th>  R-squared:         </th> <td>   0.321</td> \n",
       "</tr>\n",
       "<tr>\n",
       "  <th>Model:</th>                   <td>OLS</td>       <th>  Adj. R-squared:    </th> <td>   0.320</td> \n",
       "</tr>\n",
       "<tr>\n",
       "  <th>Method:</th>             <td>Least Squares</td>  <th>  F-statistic:       </th> <td>   4562.</td> \n",
       "</tr>\n",
       "<tr>\n",
       "  <th>Date:</th>             <td>Tue, 22 Nov 2022</td> <th>  Prob (F-statistic):</th>  <td>  0.00</td>  \n",
       "</tr>\n",
       "<tr>\n",
       "  <th>Time:</th>                 <td>07:15:13</td>     <th>  Log-Likelihood:    </th> <td> -40076.</td> \n",
       "</tr>\n",
       "<tr>\n",
       "  <th>No. Observations:</th>      <td> 38686</td>      <th>  AIC:               </th> <td>8.016e+04</td>\n",
       "</tr>\n",
       "<tr>\n",
       "  <th>Df Residuals:</th>          <td> 38681</td>      <th>  BIC:               </th> <td>8.020e+04</td>\n",
       "</tr>\n",
       "<tr>\n",
       "  <th>Df Model:</th>              <td>     4</td>      <th>                     </th>     <td> </td>    \n",
       "</tr>\n",
       "<tr>\n",
       "  <th>Covariance Type:</th>      <td>nonrobust</td>    <th>                     </th>     <td> </td>    \n",
       "</tr>\n",
       "</table>\n",
       "<table class=\"simpletable\">\n",
       "<tr>\n",
       "         <td></td>            <th>coef</th>     <th>std err</th>      <th>t</th>      <th>P>|t|</th>  <th>[0.025</th>    <th>0.975]</th>  \n",
       "</tr>\n",
       "<tr>\n",
       "  <th>Intercept</th>       <td>    5.8117</td> <td>    0.044</td> <td>  130.662</td> <td> 0.000</td> <td>    5.724</td> <td>    5.899</td>\n",
       "</tr>\n",
       "<tr>\n",
       "  <th>bedrooms2[T.1]</th>  <td>   -0.0323</td> <td>    0.045</td> <td>   -0.724</td> <td> 0.469</td> <td>   -0.120</td> <td>    0.055</td>\n",
       "</tr>\n",
       "<tr>\n",
       "  <th>bedrooms2[T.2]</th>  <td>    0.5306</td> <td>    0.045</td> <td>   11.749</td> <td> 0.000</td> <td>    0.442</td> <td>    0.619</td>\n",
       "</tr>\n",
       "<tr>\n",
       "  <th>bedrooms2[T.3]</th>  <td>    0.9396</td> <td>    0.046</td> <td>   20.219</td> <td> 0.000</td> <td>    0.848</td> <td>    1.031</td>\n",
       "</tr>\n",
       "<tr>\n",
       "  <th>bedrooms2[T.4+]</th> <td>    1.5931</td> <td>    0.046</td> <td>   34.272</td> <td> 0.000</td> <td>    1.502</td> <td>    1.684</td>\n",
       "</tr>\n",
       "</table>\n",
       "<table class=\"simpletable\">\n",
       "<tr>\n",
       "  <th>Omnibus:</th>       <td>3876.704</td> <th>  Durbin-Watson:     </th> <td>   1.780</td> \n",
       "</tr>\n",
       "<tr>\n",
       "  <th>Prob(Omnibus):</th>  <td> 0.000</td>  <th>  Jarque-Bera (JB):  </th> <td>16891.857</td>\n",
       "</tr>\n",
       "<tr>\n",
       "  <th>Skew:</th>           <td> 0.418</td>  <th>  Prob(JB):          </th> <td>    0.00</td> \n",
       "</tr>\n",
       "<tr>\n",
       "  <th>Kurtosis:</th>       <td> 6.128</td>  <th>  Cond. No.          </th> <td>    35.8</td> \n",
       "</tr>\n",
       "</table><br/><br/>Notes:<br/>[1] Standard Errors assume that the covariance matrix of the errors is correctly specified."
      ],
      "text/plain": [
       "<class 'statsmodels.iolib.summary.Summary'>\n",
       "\"\"\"\n",
       "                            OLS Regression Results                            \n",
       "==============================================================================\n",
       "Dep. Variable:          np.log(price)   R-squared:                       0.321\n",
       "Model:                            OLS   Adj. R-squared:                  0.320\n",
       "Method:                 Least Squares   F-statistic:                     4562.\n",
       "Date:                Tue, 22 Nov 2022   Prob (F-statistic):               0.00\n",
       "Time:                        07:15:13   Log-Likelihood:                -40076.\n",
       "No. Observations:               38686   AIC:                         8.016e+04\n",
       "Df Residuals:                   38681   BIC:                         8.020e+04\n",
       "Df Model:                           4                                         \n",
       "Covariance Type:            nonrobust                                         \n",
       "===================================================================================\n",
       "                      coef    std err          t      P>|t|      [0.025      0.975]\n",
       "-----------------------------------------------------------------------------------\n",
       "Intercept           5.8117      0.044    130.662      0.000       5.724       5.899\n",
       "bedrooms2[T.1]     -0.0323      0.045     -0.724      0.469      -0.120       0.055\n",
       "bedrooms2[T.2]      0.5306      0.045     11.749      0.000       0.442       0.619\n",
       "bedrooms2[T.3]      0.9396      0.046     20.219      0.000       0.848       1.031\n",
       "bedrooms2[T.4+]     1.5931      0.046     34.272      0.000       1.502       1.684\n",
       "==============================================================================\n",
       "Omnibus:                     3876.704   Durbin-Watson:                   1.780\n",
       "Prob(Omnibus):                  0.000   Jarque-Bera (JB):            16891.857\n",
       "Skew:                           0.418   Prob(JB):                         0.00\n",
       "Kurtosis:                       6.128   Cond. No.                         35.8\n",
       "==============================================================================\n",
       "\n",
       "Notes:\n",
       "[1] Standard Errors assume that the covariance matrix of the errors is correctly specified.\n",
       "\"\"\""
      ]
     },
     "execution_count": 412,
     "metadata": {},
     "output_type": "execute_result"
    }
   ],
   "source": [
    "#2-6\n",
    "l = smf.ols(\"np.log(price) ~ bedrooms2\", data=airbnb).fit()\n",
    "l.summary()"
   ]
  },
  {
   "cell_type": "markdown",
   "id": "fb0fd82d-a746-443d-b389-a728fb464880",
   "metadata": {},
   "source": [
    "The model analyzing log(price) has a better R2 value. R2 value with log(price) is about 0.321 whereas R2 value with the price is 0.102. The model with log(price) has a higher explanatory validity in the response variable explained by the regression model."
   ]
  },
  {
   "cell_type": "code",
   "execution_count": 413,
   "id": "3133b308-6832-4986-82ea-72d73490c645",
   "metadata": {},
   "outputs": [],
   "source": [
    "#2-6-β0"
   ]
  },
  {
   "cell_type": "markdown",
   "id": "12e2431c-ec23-4704-87be-721a2034fff2",
   "metadata": {},
   "source": [
    "The unconditional expected mean of log(price) of rooms with no bedrooms is 5.8117."
   ]
  },
  {
   "cell_type": "code",
   "execution_count": 414,
   "id": "30b8048a-45b5-458b-800a-eeb9431782e3",
   "metadata": {},
   "outputs": [],
   "source": [
    "#2-6-T1"
   ]
  },
  {
   "cell_type": "markdown",
   "id": "9426a6b6-2014-4fad-8b49-531f10859216",
   "metadata": {},
   "source": [
    "The price of rooms with one bedroom is 3.23% less expensive than rooms without bedrooms."
   ]
  },
  {
   "cell_type": "code",
   "execution_count": 415,
   "id": "8e8e874f-34a1-407e-be03-686da6fe7984",
   "metadata": {},
   "outputs": [],
   "source": [
    "#2-6-T2"
   ]
  },
  {
   "cell_type": "markdown",
   "id": "ad66d7fb-c292-4673-b77d-0107fe83d64b",
   "metadata": {},
   "source": [
    "The price of rooms with two bedrooms is 53.06% more expensive than rooms without bedrooms."
   ]
  },
  {
   "cell_type": "code",
   "execution_count": 416,
   "id": "4226d8ae-d59f-43ea-9eaf-5fc5aef8b019",
   "metadata": {},
   "outputs": [],
   "source": [
    "#2-6-T3"
   ]
  },
  {
   "cell_type": "markdown",
   "id": "a717c8ad-7427-4226-a09e-7e54ab1ba010",
   "metadata": {},
   "source": [
    "The price of rooms with three bedrooms is 93.96% more expensive than rooms without bedrooms."
   ]
  },
  {
   "cell_type": "code",
   "execution_count": 417,
   "id": "b0b9bbcd-947c-44dc-bdbc-8c64fd5d3b0a",
   "metadata": {},
   "outputs": [],
   "source": [
    "#2-6-T4+"
   ]
  },
  {
   "cell_type": "markdown",
   "id": "798dd272-8dcf-40d8-89b1-88160db7cbc2",
   "metadata": {},
   "source": [
    "The price of rooms with more than three bedrooms is 159.31% more expensive than rooms without bedrooms."
   ]
  },
  {
   "cell_type": "code",
   "execution_count": 418,
   "id": "d7693fa8-a68d-4302-ba23-3721f79e2c84",
   "metadata": {},
   "outputs": [],
   "source": [
    "#2-7\n",
    "airbnb[\"accommodates2\"] = pd.cut(airbnb.accommodates,\n",
    "                      bins = [1, 2, 3, 4, np.inf],\n",
    "                      labels = [\"1\", \"2\", \"3\", \"4 and more\"],\n",
    "                      right = False)\n",
    "\n",
    "airbnb[\"bathrooms2\"] = pd.cut(airbnb.bathrooms,\n",
    "                      bins = [-np.inf, 0.5, 1.5, 2.5, np.inf],\n",
    "                      labels = [\"0\", \"1\", \"2\", \"3 and more\"],\n",
    "                      right = False)"
   ]
  },
  {
   "cell_type": "code",
   "execution_count": 419,
   "id": "244e9d82-80da-453b-a805-b1667a43fec4",
   "metadata": {},
   "outputs": [
    {
     "data": {
      "text/html": [
       "<table class=\"simpletable\">\n",
       "<caption>OLS Regression Results</caption>\n",
       "<tr>\n",
       "  <th>Dep. Variable:</th>      <td>np.log(price)</td>  <th>  R-squared:         </th> <td>   0.457</td> \n",
       "</tr>\n",
       "<tr>\n",
       "  <th>Model:</th>                   <td>OLS</td>       <th>  Adj. R-squared:    </th> <td>   0.457</td> \n",
       "</tr>\n",
       "<tr>\n",
       "  <th>Method:</th>             <td>Least Squares</td>  <th>  F-statistic:       </th> <td>   2709.</td> \n",
       "</tr>\n",
       "<tr>\n",
       "  <th>Date:</th>             <td>Tue, 22 Nov 2022</td> <th>  Prob (F-statistic):</th>  <td>  0.00</td>  \n",
       "</tr>\n",
       "<tr>\n",
       "  <th>Time:</th>                 <td>07:15:13</td>     <th>  Log-Likelihood:    </th> <td> -35751.</td> \n",
       "</tr>\n",
       "<tr>\n",
       "  <th>No. Observations:</th>      <td> 38686</td>      <th>  AIC:               </th> <td>7.153e+04</td>\n",
       "</tr>\n",
       "<tr>\n",
       "  <th>Df Residuals:</th>          <td> 38673</td>      <th>  BIC:               </th> <td>7.164e+04</td>\n",
       "</tr>\n",
       "<tr>\n",
       "  <th>Df Model:</th>              <td>    12</td>      <th>                     </th>     <td> </td>    \n",
       "</tr>\n",
       "<tr>\n",
       "  <th>Covariance Type:</th>      <td>nonrobust</td>    <th>                     </th>     <td> </td>    \n",
       "</tr>\n",
       "</table>\n",
       "<table class=\"simpletable\">\n",
       "<tr>\n",
       "               <td></td>                  <th>coef</th>     <th>std err</th>      <th>t</th>      <th>P>|t|</th>  <th>[0.025</th>    <th>0.975]</th>  \n",
       "</tr>\n",
       "<tr>\n",
       "  <th>Intercept</th>                   <td>    5.5770</td> <td>    0.062</td> <td>   90.051</td> <td> 0.000</td> <td>    5.456</td> <td>    5.698</td>\n",
       "</tr>\n",
       "<tr>\n",
       "  <th>room_type[T.Private room]</th>   <td>   -0.3243</td> <td>    0.007</td> <td>  -43.838</td> <td> 0.000</td> <td>   -0.339</td> <td>   -0.310</td>\n",
       "</tr>\n",
       "<tr>\n",
       "  <th>room_type[T.Shared room]</th>    <td>   -0.9453</td> <td>    0.017</td> <td>  -56.064</td> <td> 0.000</td> <td>   -0.978</td> <td>   -0.912</td>\n",
       "</tr>\n",
       "<tr>\n",
       "  <th>accommodates2[T.2]</th>          <td>    0.3298</td> <td>    0.013</td> <td>   24.452</td> <td> 0.000</td> <td>    0.303</td> <td>    0.356</td>\n",
       "</tr>\n",
       "<tr>\n",
       "  <th>accommodates2[T.3]</th>          <td>    0.3921</td> <td>    0.017</td> <td>   23.543</td> <td> 0.000</td> <td>    0.359</td> <td>    0.425</td>\n",
       "</tr>\n",
       "<tr>\n",
       "  <th>accommodates2[T.4 and more]</th> <td>    0.6066</td> <td>    0.015</td> <td>   39.175</td> <td> 0.000</td> <td>    0.576</td> <td>    0.637</td>\n",
       "</tr>\n",
       "<tr>\n",
       "  <th>bathrooms2[T.1]</th>             <td>    0.0049</td> <td>    0.047</td> <td>    0.106</td> <td> 0.916</td> <td>   -0.087</td> <td>    0.097</td>\n",
       "</tr>\n",
       "<tr>\n",
       "  <th>bathrooms2[T.2]</th>             <td>    0.0386</td> <td>    0.047</td> <td>    0.819</td> <td> 0.413</td> <td>   -0.054</td> <td>    0.131</td>\n",
       "</tr>\n",
       "<tr>\n",
       "  <th>bathrooms2[T.3 and more]</th>    <td>    0.5938</td> <td>    0.049</td> <td>   12.017</td> <td> 0.000</td> <td>    0.497</td> <td>    0.691</td>\n",
       "</tr>\n",
       "<tr>\n",
       "  <th>bedrooms2[T.1]</th>              <td>    0.0558</td> <td>    0.040</td> <td>    1.395</td> <td> 0.163</td> <td>   -0.023</td> <td>    0.134</td>\n",
       "</tr>\n",
       "<tr>\n",
       "  <th>bedrooms2[T.2]</th>              <td>    0.1898</td> <td>    0.041</td> <td>    4.632</td> <td> 0.000</td> <td>    0.110</td> <td>    0.270</td>\n",
       "</tr>\n",
       "<tr>\n",
       "  <th>bedrooms2[T.3]</th>              <td>    0.4926</td> <td>    0.042</td> <td>   11.633</td> <td> 0.000</td> <td>    0.410</td> <td>    0.576</td>\n",
       "</tr>\n",
       "<tr>\n",
       "  <th>bedrooms2[T.4+]</th>             <td>    0.8730</td> <td>    0.044</td> <td>   19.909</td> <td> 0.000</td> <td>    0.787</td> <td>    0.959</td>\n",
       "</tr>\n",
       "</table>\n",
       "<table class=\"simpletable\">\n",
       "<tr>\n",
       "  <th>Omnibus:</th>       <td>9116.538</td> <th>  Durbin-Watson:     </th> <td>   1.779</td> \n",
       "</tr>\n",
       "<tr>\n",
       "  <th>Prob(Omnibus):</th>  <td> 0.000</td>  <th>  Jarque-Bera (JB):  </th> <td>54083.795</td>\n",
       "</tr>\n",
       "<tr>\n",
       "  <th>Skew:</th>           <td> 1.003</td>  <th>  Prob(JB):          </th> <td>    0.00</td> \n",
       "</tr>\n",
       "<tr>\n",
       "  <th>Kurtosis:</th>       <td> 8.434</td>  <th>  Cond. No.          </th> <td>    52.9</td> \n",
       "</tr>\n",
       "</table><br/><br/>Notes:<br/>[1] Standard Errors assume that the covariance matrix of the errors is correctly specified."
      ],
      "text/plain": [
       "<class 'statsmodels.iolib.summary.Summary'>\n",
       "\"\"\"\n",
       "                            OLS Regression Results                            \n",
       "==============================================================================\n",
       "Dep. Variable:          np.log(price)   R-squared:                       0.457\n",
       "Model:                            OLS   Adj. R-squared:                  0.457\n",
       "Method:                 Least Squares   F-statistic:                     2709.\n",
       "Date:                Tue, 22 Nov 2022   Prob (F-statistic):               0.00\n",
       "Time:                        07:15:13   Log-Likelihood:                -35751.\n",
       "No. Observations:               38686   AIC:                         7.153e+04\n",
       "Df Residuals:                   38673   BIC:                         7.164e+04\n",
       "Df Model:                          12                                         \n",
       "Covariance Type:            nonrobust                                         \n",
       "===============================================================================================\n",
       "                                  coef    std err          t      P>|t|      [0.025      0.975]\n",
       "-----------------------------------------------------------------------------------------------\n",
       "Intercept                       5.5770      0.062     90.051      0.000       5.456       5.698\n",
       "room_type[T.Private room]      -0.3243      0.007    -43.838      0.000      -0.339      -0.310\n",
       "room_type[T.Shared room]       -0.9453      0.017    -56.064      0.000      -0.978      -0.912\n",
       "accommodates2[T.2]              0.3298      0.013     24.452      0.000       0.303       0.356\n",
       "accommodates2[T.3]              0.3921      0.017     23.543      0.000       0.359       0.425\n",
       "accommodates2[T.4 and more]     0.6066      0.015     39.175      0.000       0.576       0.637\n",
       "bathrooms2[T.1]                 0.0049      0.047      0.106      0.916      -0.087       0.097\n",
       "bathrooms2[T.2]                 0.0386      0.047      0.819      0.413      -0.054       0.131\n",
       "bathrooms2[T.3 and more]        0.5938      0.049     12.017      0.000       0.497       0.691\n",
       "bedrooms2[T.1]                  0.0558      0.040      1.395      0.163      -0.023       0.134\n",
       "bedrooms2[T.2]                  0.1898      0.041      4.632      0.000       0.110       0.270\n",
       "bedrooms2[T.3]                  0.4926      0.042     11.633      0.000       0.410       0.576\n",
       "bedrooms2[T.4+]                 0.8730      0.044     19.909      0.000       0.787       0.959\n",
       "==============================================================================\n",
       "Omnibus:                     9116.538   Durbin-Watson:                   1.779\n",
       "Prob(Omnibus):                  0.000   Jarque-Bera (JB):            54083.795\n",
       "Skew:                           1.003   Prob(JB):                         0.00\n",
       "Kurtosis:                       8.434   Cond. No.                         52.9\n",
       "==============================================================================\n",
       "\n",
       "Notes:\n",
       "[1] Standard Errors assume that the covariance matrix of the errors is correctly specified.\n",
       "\"\"\""
      ]
     },
     "execution_count": 419,
     "metadata": {},
     "output_type": "execute_result"
    }
   ],
   "source": [
    "#2-7\n",
    "m = smf.ols(\"np.log(price) ~ room_type + accommodates2 + \\\n",
    "            bathrooms2 + bedrooms2\", data=airbnb).fit()\n",
    "m.summary()"
   ]
  },
  {
   "cell_type": "markdown",
   "id": "09729212-78af-480f-9188-648431b07044",
   "metadata": {},
   "source": [
    "The results having a t value less than 1.96 such as `bathrooms2[T.1]`, `bathrooms2[T.2]`, and `bedrooms2[T.1]` are not statistically significant. By adding more variables to the model, it showed an improvement in its R2 value. Now, R2 is 0.457, interpreting that it has a 45.7% of explanatory validity in the response variable explained by the regression model, better in R2 compared to previous models."
   ]
  },
  {
   "cell_type": "markdown",
   "id": "d7e3f168-0f77-4101-bd41-81d68bc7e186",
   "metadata": {},
   "source": [
    "The model shows that adding more accommodates, bathrooms, or bedrooms consistently increases the price of rooms. However, adding more people in rooms to make them share drops the price to save them money. All these observations make sense in real life, so the data was properly cleaned and used in this regression model."
   ]
  },
  {
   "cell_type": "markdown",
   "id": "4c623d93-ef82-4092-acab-68d0e6b00173",
   "metadata": {},
   "source": [
    "#### Finally, tell us how many hours did you spend on this PS."
   ]
  },
  {
   "cell_type": "markdown",
   "id": "2c481c31-fd57-4df3-88fa-e22d9af6d0e9",
   "metadata": {},
   "source": [
    "I spent almost 12 hours finishing this PS. I think this PS was the hardest one so far."
   ]
  }
 ],
 "metadata": {
  "kernelspec": {
   "display_name": "Python 3 (ipykernel)",
   "language": "python",
   "name": "python3"
  },
  "language_info": {
   "codemirror_mode": {
    "name": "ipython",
    "version": 3
   },
   "file_extension": ".py",
   "mimetype": "text/x-python",
   "name": "python",
   "nbconvert_exporter": "python",
   "pygments_lexer": "ipython3",
   "version": "3.9.7"
  }
 },
 "nbformat": 4,
 "nbformat_minor": 5
}
