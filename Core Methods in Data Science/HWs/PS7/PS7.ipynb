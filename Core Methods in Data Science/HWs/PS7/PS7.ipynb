{
 "cells": [
  {
   "cell_type": "markdown",
   "id": "35a22c29-ce0f-495e-a405-e2024bc16f91",
   "metadata": {},
   "source": [
    "# INFO 370 PS7\n",
    "*Name: Brian Park*"
   ]
  },
  {
   "cell_type": "markdown",
   "id": "1f8be9a5-a272-4afe-a769-c2628a67fbcf",
   "metadata": {},
   "source": [
    "List your collaborators here:\n",
    "1. Jae Sang Woo"
   ]
  },
  {
   "cell_type": "code",
   "execution_count": 421,
   "id": "a9982064-e3d0-4fe5-ac18-c1631d48aaa9",
   "metadata": {},
   "outputs": [],
   "source": [
    "import pandas as pd\n",
    "import numpy as np\n",
    "import matplotlib.pyplot as plt"
   ]
  },
  {
   "cell_type": "markdown",
   "id": "41b8b752-7af9-4f89-a62d-390bc66b8666",
   "metadata": {},
   "source": [
    "## 1. Logistic regression (75pt)"
   ]
  },
  {
   "cell_type": "markdown",
   "id": "e2149247-1775-479e-8d27-c6759a63012d",
   "metadata": {},
   "source": [
    "#### 1.1 Descriptive statistics (20pt)"
   ]
  },
  {
   "cell_type": "markdown",
   "id": "86a3c922-cd31-42d1-915c-b5ce00a8f007",
   "metadata": {},
   "source": [
    "1. (1pt) Load data. The data should contain 303 rows, and 14 columns.\n",
    "2. (3pt) Do some basic checks. Do we have any missing values? What are the data types? What are ranges of numeric variables, and possible values of categorical variables? What is the percentage of heart attack among these patients? Compare the values with documentation and comment what do you see.\n",
    "3. (5pt) You probably noticed that all the above variables are coded as numbers. However, not all of these are in fact of numeric (interval, ratio) measure type. Which variables above are inherently nominal or ordinal, not numeric? Hint: 1.1.1 Measures: Possible Mathematical Operations explains the measure types.\n",
    "4. (6pt) Before we do any more serious work: create a very simple model (“naive model”) that predicts everyone the same result (attack or no attack), whichever category is more common in data (the majority category). How would the confusion matrix of this model look like? What are the corresponding accuracy, precision and recall? Explain! Note: you should not fit any model here, you are able to compute these all these values manually with just a calculator!\n",
    "5. (5pt) Below, you are going to construct different models to diagnose heart attack. What do you think: which of the four indicators, accuracy, precision, recall, or f-score, is the best for model evaluation here? Hint: think in terms of its applicability in medicine"
   ]
  },
  {
   "cell_type": "code",
   "execution_count": 422,
   "id": "287bb466-cda1-40ca-ae1d-34dc5901d6aa",
   "metadata": {},
   "outputs": [
    {
     "data": {
      "text/html": [
       "<div>\n",
       "<style scoped>\n",
       "    .dataframe tbody tr th:only-of-type {\n",
       "        vertical-align: middle;\n",
       "    }\n",
       "\n",
       "    .dataframe tbody tr th {\n",
       "        vertical-align: top;\n",
       "    }\n",
       "\n",
       "    .dataframe thead th {\n",
       "        text-align: right;\n",
       "    }\n",
       "</style>\n",
       "<table border=\"1\" class=\"dataframe\">\n",
       "  <thead>\n",
       "    <tr style=\"text-align: right;\">\n",
       "      <th></th>\n",
       "      <th>age</th>\n",
       "      <th>sex</th>\n",
       "      <th>cp</th>\n",
       "      <th>trtbps</th>\n",
       "      <th>chol</th>\n",
       "      <th>fbs</th>\n",
       "      <th>restecg</th>\n",
       "      <th>thalachh</th>\n",
       "      <th>exng</th>\n",
       "      <th>oldpeak</th>\n",
       "      <th>slp</th>\n",
       "      <th>caa</th>\n",
       "      <th>thall</th>\n",
       "      <th>output</th>\n",
       "    </tr>\n",
       "  </thead>\n",
       "  <tbody>\n",
       "    <tr>\n",
       "      <th>0</th>\n",
       "      <td>63</td>\n",
       "      <td>1</td>\n",
       "      <td>3</td>\n",
       "      <td>145</td>\n",
       "      <td>233</td>\n",
       "      <td>1</td>\n",
       "      <td>0</td>\n",
       "      <td>150</td>\n",
       "      <td>0</td>\n",
       "      <td>2.3</td>\n",
       "      <td>0</td>\n",
       "      <td>0</td>\n",
       "      <td>1</td>\n",
       "      <td>1</td>\n",
       "    </tr>\n",
       "    <tr>\n",
       "      <th>1</th>\n",
       "      <td>37</td>\n",
       "      <td>1</td>\n",
       "      <td>2</td>\n",
       "      <td>130</td>\n",
       "      <td>250</td>\n",
       "      <td>0</td>\n",
       "      <td>1</td>\n",
       "      <td>187</td>\n",
       "      <td>0</td>\n",
       "      <td>3.5</td>\n",
       "      <td>0</td>\n",
       "      <td>0</td>\n",
       "      <td>2</td>\n",
       "      <td>1</td>\n",
       "    </tr>\n",
       "    <tr>\n",
       "      <th>2</th>\n",
       "      <td>41</td>\n",
       "      <td>0</td>\n",
       "      <td>1</td>\n",
       "      <td>130</td>\n",
       "      <td>204</td>\n",
       "      <td>0</td>\n",
       "      <td>0</td>\n",
       "      <td>172</td>\n",
       "      <td>0</td>\n",
       "      <td>1.4</td>\n",
       "      <td>2</td>\n",
       "      <td>0</td>\n",
       "      <td>2</td>\n",
       "      <td>1</td>\n",
       "    </tr>\n",
       "    <tr>\n",
       "      <th>3</th>\n",
       "      <td>56</td>\n",
       "      <td>1</td>\n",
       "      <td>1</td>\n",
       "      <td>120</td>\n",
       "      <td>236</td>\n",
       "      <td>0</td>\n",
       "      <td>1</td>\n",
       "      <td>178</td>\n",
       "      <td>0</td>\n",
       "      <td>0.8</td>\n",
       "      <td>2</td>\n",
       "      <td>0</td>\n",
       "      <td>2</td>\n",
       "      <td>1</td>\n",
       "    </tr>\n",
       "    <tr>\n",
       "      <th>4</th>\n",
       "      <td>57</td>\n",
       "      <td>0</td>\n",
       "      <td>0</td>\n",
       "      <td>120</td>\n",
       "      <td>354</td>\n",
       "      <td>0</td>\n",
       "      <td>1</td>\n",
       "      <td>163</td>\n",
       "      <td>1</td>\n",
       "      <td>0.6</td>\n",
       "      <td>2</td>\n",
       "      <td>0</td>\n",
       "      <td>2</td>\n",
       "      <td>1</td>\n",
       "    </tr>\n",
       "  </tbody>\n",
       "</table>\n",
       "</div>"
      ],
      "text/plain": [
       "   age  sex  cp  trtbps  chol  fbs  restecg  thalachh  exng  oldpeak  slp  \\\n",
       "0   63    1   3     145   233    1        0       150     0      2.3    0   \n",
       "1   37    1   2     130   250    0        1       187     0      3.5    0   \n",
       "2   41    0   1     130   204    0        0       172     0      1.4    2   \n",
       "3   56    1   1     120   236    0        1       178     0      0.8    2   \n",
       "4   57    0   0     120   354    0        1       163     1      0.6    2   \n",
       "\n",
       "   caa  thall  output  \n",
       "0    0      1       1  \n",
       "1    0      2       1  \n",
       "2    0      2       1  \n",
       "3    0      2       1  \n",
       "4    0      2       1  "
      ]
     },
     "execution_count": 422,
     "metadata": {},
     "output_type": "execute_result"
    }
   ],
   "source": [
    "#1.1-1\n",
    "ht = pd.read_csv(\"../data/heart.csv.bz2\", sep=\",\")\n",
    "ht.head()"
   ]
  },
  {
   "cell_type": "code",
   "execution_count": 423,
   "id": "79bec968-52f8-433c-a2e8-895ac2fc0328",
   "metadata": {},
   "outputs": [
    {
     "data": {
      "text/plain": [
       "(303, 14)"
      ]
     },
     "execution_count": 423,
     "metadata": {},
     "output_type": "execute_result"
    }
   ],
   "source": [
    "#1.1-1\n",
    "ht.shape"
   ]
  },
  {
   "cell_type": "code",
   "execution_count": 424,
   "id": "dbf87066-c9ac-4256-b81a-66f3d2261520",
   "metadata": {},
   "outputs": [
    {
     "data": {
      "text/plain": [
       "age         0\n",
       "sex         0\n",
       "cp          0\n",
       "trtbps      0\n",
       "chol        0\n",
       "fbs         0\n",
       "restecg     0\n",
       "thalachh    0\n",
       "exng        0\n",
       "oldpeak     0\n",
       "slp         0\n",
       "caa         0\n",
       "thall       0\n",
       "output      0\n",
       "dtype: int64"
      ]
     },
     "execution_count": 424,
     "metadata": {},
     "output_type": "execute_result"
    }
   ],
   "source": [
    "#1.1-2\n",
    "ht.isna().sum()"
   ]
  },
  {
   "cell_type": "code",
   "execution_count": 425,
   "id": "5129d4be-92e8-4612-82ba-0c645734a025",
   "metadata": {},
   "outputs": [
    {
     "name": "stdout",
     "output_type": "stream",
     "text": [
      "<class 'pandas.core.frame.DataFrame'>\n",
      "RangeIndex: 303 entries, 0 to 302\n",
      "Data columns (total 14 columns):\n",
      " #   Column    Non-Null Count  Dtype  \n",
      "---  ------    --------------  -----  \n",
      " 0   age       303 non-null    int64  \n",
      " 1   sex       303 non-null    int64  \n",
      " 2   cp        303 non-null    int64  \n",
      " 3   trtbps    303 non-null    int64  \n",
      " 4   chol      303 non-null    int64  \n",
      " 5   fbs       303 non-null    int64  \n",
      " 6   restecg   303 non-null    int64  \n",
      " 7   thalachh  303 non-null    int64  \n",
      " 8   exng      303 non-null    int64  \n",
      " 9   oldpeak   303 non-null    float64\n",
      " 10  slp       303 non-null    int64  \n",
      " 11  caa       303 non-null    int64  \n",
      " 12  thall     303 non-null    int64  \n",
      " 13  output    303 non-null    int64  \n",
      "dtypes: float64(1), int64(13)\n",
      "memory usage: 33.3 KB\n"
     ]
    }
   ],
   "source": [
    "#1.1-2\n",
    "ht.info()"
   ]
  },
  {
   "cell_type": "code",
   "execution_count": 426,
   "id": "45829b18-d39e-436d-9ad5-188929f86730",
   "metadata": {},
   "outputs": [
    {
     "name": "stdout",
     "output_type": "stream",
     "text": [
      "age[min]: 29\n",
      "age[max]: 77\n",
      "\n",
      "sex[min]: 0\n",
      "sex[max]: 1\n",
      "\n",
      "cp[min]: 0\n",
      "cp[max]: 3\n",
      "\n",
      "trtbps[min]: 94\n",
      "trtbps[max]: 200\n",
      "\n",
      "chol[min]: 126\n",
      "chol[max]: 564\n",
      "\n",
      "fbs[min]: 0\n",
      "fbs[max]: 1\n",
      "\n",
      "restecg[min]: 0\n",
      "restecg[max]: 2\n",
      "\n",
      "thalachh[min]: 71\n",
      "thalachh[max]: 202\n",
      "\n",
      "exng[min]: 0\n",
      "exng[max]: 1\n",
      "\n",
      "oldpeak[min]: 0.0\n",
      "oldpeak[max]: 6.2\n",
      "\n",
      "slp[min]: 0\n",
      "slp[max]: 2\n",
      "\n",
      "caa[min]: 0\n",
      "caa[max]: 4\n",
      "\n",
      "thall[min]: 0\n",
      "thall[max]: 3\n",
      "\n",
      "output[min]: 0\n",
      "output[max]: 1\n",
      "\n"
     ]
    }
   ],
   "source": [
    "#1.1-2\n",
    "for i in range(0, ht.shape[1]):\n",
    "    print(ht.columns[i] + '[min]: ' + str(ht.iloc[:, i].min()))\n",
    "    print(ht.columns[i] + '[max]: ' + str(ht.iloc[:, i].max()))\n",
    "    print()"
   ]
  },
  {
   "cell_type": "markdown",
   "id": "7f251a54-8274-494d-863e-7dcd710d23a2",
   "metadata": {},
   "source": [
    "Based on the basic checks above and the documentation, `sex`, `cp`, `fbs`, `restecg`, `exng`,  `caa`, and `output` variables can possibly have categorical values."
   ]
  },
  {
   "cell_type": "code",
   "execution_count": 427,
   "id": "ba1bf8c0-6958-428d-9adb-e3b19be88454",
   "metadata": {},
   "outputs": [
    {
     "data": {
      "text/plain": [
       "54.45544554455446"
      ]
     },
     "execution_count": 427,
     "metadata": {},
     "output_type": "execute_result"
    }
   ],
   "source": [
    "#1.1-2\n",
    "ht[ht.output == 1].count().output / ht.output.count() * 100"
   ]
  },
  {
   "cell_type": "markdown",
   "id": "51c19824-303e-494c-bd49-c45596927460",
   "metadata": {},
   "source": [
    "54% patients have a heart attack."
   ]
  },
  {
   "cell_type": "code",
   "execution_count": 428,
   "id": "c3d04478-ecc2-4448-9a62-037ed2dcd758",
   "metadata": {},
   "outputs": [],
   "source": [
    "#1.1-3"
   ]
  },
  {
   "cell_type": "markdown",
   "id": "ada9aa49-7e79-4145-83ed-25c5e8214e53",
   "metadata": {},
   "source": [
    "`sex`, `cp`, `exng`, `restecg`, and `output` variables are inherently nominal measures."
   ]
  },
  {
   "cell_type": "markdown",
   "id": "a7c535bb-d368-4a9d-8518-ec627ab4a7ec",
   "metadata": {},
   "source": [
    "`fbs`, and `caa` variables are inherently ordinal measures."
   ]
  },
  {
   "cell_type": "code",
   "execution_count": 429,
   "id": "dfc4e1e0-97c8-44ff-9a28-f84f22eb4706",
   "metadata": {},
   "outputs": [
    {
     "data": {
      "text/plain": [
       "1    165\n",
       "0    138\n",
       "Name: output, dtype: int64"
      ]
     },
     "execution_count": 429,
     "metadata": {},
     "output_type": "execute_result"
    }
   ],
   "source": [
    "#1.1-4\n",
    "ht.output.value_counts()"
   ]
  },
  {
   "cell_type": "code",
   "execution_count": 430,
   "id": "061e25d5-c0ee-49ae-8bf3-db5a30ab9d28",
   "metadata": {},
   "outputs": [
    {
     "data": {
      "text/plain": [
       "(165, 0, 138, 0)"
      ]
     },
     "execution_count": 430,
     "metadata": {},
     "output_type": "execute_result"
    }
   ],
   "source": [
    "#1.1-4\n",
    "ht[\"extra\"] = 1\n",
    "TP = ht[(ht.extra == 1) & (ht.output == 1)].shape[0]\n",
    "TN = ht[(ht.extra == 0) & (ht.output == 0)].shape[0]\n",
    "FP = ht[(ht.extra == 1) & (ht.output == 0)].shape[0]\n",
    "FN = ht[(ht.extra == 0) & (ht.output == 1)].shape[0]\n",
    "TP, TN, FP, FN"
   ]
  },
  {
   "cell_type": "markdown",
   "id": "aa150c82-4265-40c9-9b35-852adcb20421",
   "metadata": {},
   "source": [
    "| | **Predicted** | |\n",
    "| -------- | ------------: | ------:|\n",
    "| | No Attack (N) | Attack (P) |\n",
    "|**Actual**| 0 | 138 |\n",
    "| | 0 | 165 |"
   ]
  },
  {
   "cell_type": "code",
   "execution_count": 431,
   "id": "05691d8b-512d-44fa-b06f-9569db8c3a62",
   "metadata": {},
   "outputs": [
    {
     "data": {
      "text/plain": [
       "(0.5445544554455446, 0.5445544554455446, 1.0)"
      ]
     },
     "execution_count": 431,
     "metadata": {},
     "output_type": "execute_result"
    }
   ],
   "source": [
    "a = (165 + 0) / (165 + 0 + 0 + 138)\n",
    "p = 165 / (165 + 138)\n",
    "r = 165 / (165 + 0)\n",
    "\n",
    "a, p, r"
   ]
  },
  {
   "cell_type": "markdown",
   "id": "cc671751-dfee-4738-9f4b-5e486f553341",
   "metadata": {},
   "source": [
    "The confusion matrix of this model only has TP and FP since we predict that everyone has a heart attack."
   ]
  },
  {
   "cell_type": "code",
   "execution_count": 432,
   "id": "1c71278d-f49f-4aab-bdcd-70823b765cc1",
   "metadata": {},
   "outputs": [],
   "source": [
    "#1.1-5"
   ]
  },
  {
   "cell_type": "code",
   "execution_count": 433,
   "id": "711bed09-0be8-45fe-bcc1-3fae6dfef1e5",
   "metadata": {},
   "outputs": [
    {
     "data": {
      "text/plain": [
       "0.7051282051282052"
      ]
     },
     "execution_count": 433,
     "metadata": {},
     "output_type": "execute_result"
    }
   ],
   "source": [
    "TP / (TP + 0.5 * (FP + FN)) #f-score"
   ]
  },
  {
   "cell_type": "markdown",
   "id": "8301de12-009e-4f67-8289-7a44e2940782",
   "metadata": {},
   "source": [
    "Based on the computation above, recall is the best for model evaluation here. Since we predict that everyone has a heart attack, true negative and false negative cannot exist and must not exist to accurately predict a heart attack. The formula of recall will only consider true values or having a heart attack even if we predict it wrong. Therefore, in terms of the applicability in medicine, recall will be the best fit for the model evaluation here."
   ]
  },
  {
   "cell_type": "markdown",
   "id": "84c038fd-1f8b-4529-92db-937a84fada1c",
   "metadata": {},
   "source": [
    "#### 1.2 Data preparation (15pt)"
   ]
  },
  {
   "cell_type": "markdown",
   "id": "94265f0d-4d99-419f-b6c0-ea403bdf6044",
   "metadata": {},
   "source": [
    "1. (4pt) First, extract the design matrix X and the outcome vector y.\n",
    "2. (7pt) Now convert all categorical variables in your X into dummies.\n",
    "3. (6pt) Split your data into training (75%) and validation (25%) chunks."
   ]
  },
  {
   "cell_type": "code",
   "execution_count": 434,
   "id": "fa5c9cc0-f6ca-41bc-adc9-a3d227cd9ee3",
   "metadata": {},
   "outputs": [
    {
     "data": {
      "text/plain": [
       "array([[ 63. ,   1. ,   3. , 145. , 233. ,   1. ,   0. , 150. ,   0. ,\n",
       "          2.3,   0. ,   0. ,   1. ],\n",
       "       [ 37. ,   1. ,   2. , 130. , 250. ,   0. ,   1. , 187. ,   0. ,\n",
       "          3.5,   0. ,   0. ,   2. ],\n",
       "       [ 41. ,   0. ,   1. , 130. , 204. ,   0. ,   0. , 172. ,   0. ,\n",
       "          1.4,   2. ,   0. ,   2. ],\n",
       "       [ 56. ,   1. ,   1. , 120. , 236. ,   0. ,   1. , 178. ,   0. ,\n",
       "          0.8,   2. ,   0. ,   2. ],\n",
       "       [ 57. ,   0. ,   0. , 120. , 354. ,   0. ,   1. , 163. ,   1. ,\n",
       "          0.6,   2. ,   0. ,   2. ]])"
      ]
     },
     "execution_count": 434,
     "metadata": {},
     "output_type": "execute_result"
    }
   ],
   "source": [
    "#1.2-1\n",
    "y = ht.output.values\n",
    "X = ht.iloc[:, 0:13].values\n",
    "X[:5]"
   ]
  },
  {
   "cell_type": "code",
   "execution_count": 435,
   "id": "a18e76de-2376-4f25-943a-4086e9fd6c0e",
   "metadata": {},
   "outputs": [
    {
     "data": {
      "text/plain": [
       "array([[ 63. , 145. , 233. , 150. ,   2.3,   0. ,   0. ,   1. ,   0. ,\n",
       "          1. ,   0. ,   0. ,   0. ,   1. ,   0. ,   1. ,   1. ,   0. ,\n",
       "          0. ,   1. ,   0. ],\n",
       "       [ 37. , 130. , 250. , 187. ,   3.5,   0. ,   0. ,   2. ,   0. ,\n",
       "          1. ,   0. ,   0. ,   1. ,   0. ,   1. ,   0. ,   0. ,   1. ,\n",
       "          0. ,   1. ,   0. ],\n",
       "       [ 41. , 130. , 204. , 172. ,   1.4,   2. ,   0. ,   2. ,   1. ,\n",
       "          0. ,   0. ,   1. ,   0. ,   0. ,   1. ,   0. ,   1. ,   0. ,\n",
       "          0. ,   1. ,   0. ],\n",
       "       [ 56. , 120. , 236. , 178. ,   0.8,   2. ,   0. ,   2. ,   0. ,\n",
       "          1. ,   0. ,   1. ,   0. ,   0. ,   1. ,   0. ,   0. ,   1. ,\n",
       "          0. ,   1. ,   0. ],\n",
       "       [ 57. , 120. , 354. , 163. ,   0.6,   2. ,   0. ,   2. ,   1. ,\n",
       "          0. ,   1. ,   0. ,   0. ,   0. ,   1. ,   0. ,   0. ,   1. ,\n",
       "          0. ,   0. ,   1. ]])"
      ]
     },
     "execution_count": 435,
     "metadata": {},
     "output_type": "execute_result"
    }
   ],
   "source": [
    "#1.2-2\n",
    "X = pd.get_dummies(ht.iloc[:, 0:13], \n",
    "    columns = [\"sex\", \"cp\", \"fbs\", 'restecg', 'exng']).values\n",
    "X[:5]"
   ]
  },
  {
   "cell_type": "code",
   "execution_count": 436,
   "id": "c2ae6fc0-cdfa-41de-b59f-34334ea0ee6a",
   "metadata": {},
   "outputs": [],
   "source": [
    "#1.2-3\n",
    "from sklearn.model_selection import train_test_split\n",
    "\n",
    "Xt, Xv, yt, yv = train_test_split(X, y, test_size = 0.25)"
   ]
  },
  {
   "cell_type": "markdown",
   "id": "02a391f9-4650-455d-922f-83ef8f331b5b",
   "metadata": {},
   "source": [
    "#### 1.3 Modeling and evaluation (20pt)"
   ]
  },
  {
   "cell_type": "markdown",
   "id": "f7268c55-4aa9-496a-b139-25cf8567de7b",
   "metadata": {},
   "source": [
    "1. (5pt) Now use logistic regression (from sklearn package) to model heart attack using all the variables. Construct the logistic regression object and fit it. Use only training data for fitting! Hint: you may get a convergence warning. You may get rid of it if you increase the max iterations to 1000 or so.\n",
    "2. (2pt) As a first quick check, compute accuracy on training data.\n",
    "3. (4pt) Predict outcome and compute confusion matrix on validation data\n",
    "4. (5pt) Finally, use (10-fold) cross-validation to evaluate the same model. Report only the statistic that you considered most important in question 1.1.5 Remember: feed all data, not just training data to cross-validation.\n",
    "5. (4pt) Comment your results. How do the results on training and validation data compare? Does CV produce results that are similar to validation results? Did you find CV being slower or easier to use that training-validation split?"
   ]
  },
  {
   "cell_type": "code",
   "execution_count": 437,
   "id": "0bc99336-cc36-4431-8492-0032b5563b0b",
   "metadata": {},
   "outputs": [],
   "source": [
    "#1.3-1\n",
    "from sklearn.linear_model import LogisticRegression\n",
    "\n",
    "m = LogisticRegression(max_iter = 2000)\n",
    "_ = m.fit(Xt, yt)"
   ]
  },
  {
   "cell_type": "code",
   "execution_count": 438,
   "id": "c18bbf47-91d5-4494-99e5-7df23c4d4fd6",
   "metadata": {},
   "outputs": [
    {
     "data": {
      "text/plain": [
       "0.8590308370044053"
      ]
     },
     "execution_count": 438,
     "metadata": {},
     "output_type": "execute_result"
    }
   ],
   "source": [
    "#1.3-2\n",
    "yhat = m.predict(Xt)\n",
    "from sklearn.metrics import accuracy_score \n",
    "\n",
    "accuracy_score(yt, yhat)"
   ]
  },
  {
   "cell_type": "code",
   "execution_count": 439,
   "id": "d363bd7a-a79a-48e2-ae08-438dbf637da6",
   "metadata": {},
   "outputs": [
    {
     "data": {
      "text/plain": [
       "(0.8289473684210527,\n",
       " array([[28,  9],\n",
       "        [ 4, 35]]))"
      ]
     },
     "execution_count": 439,
     "metadata": {},
     "output_type": "execute_result"
    }
   ],
   "source": [
    "#1.3-3\n",
    "yhat = m.predict(Xv)\n",
    "from sklearn.metrics import confusion_matrix\n",
    "\n",
    "accuracy_score(yv, yhat), confusion_matrix(yv, yhat)"
   ]
  },
  {
   "cell_type": "code",
   "execution_count": 440,
   "id": "9b8ca829-6c7e-4579-b0e1-6b47789eadf1",
   "metadata": {},
   "outputs": [
    {
     "data": {
      "text/plain": [
       "0.8650735294117646"
      ]
     },
     "execution_count": 440,
     "metadata": {},
     "output_type": "execute_result"
    }
   ],
   "source": [
    "#1.3-4\n",
    "from sklearn.model_selection import cross_val_score\n",
    "\n",
    "cv = cross_val_score(m, X, y, cv = 10, scoring = \"recall\")\n",
    "\n",
    "np.mean(cv) #Ave recall"
   ]
  },
  {
   "cell_type": "code",
   "execution_count": 441,
   "id": "d2f7b094-d3c1-46be-a42f-d82077358259",
   "metadata": {},
   "outputs": [],
   "source": [
    "#1.3-5"
   ]
  },
  {
   "cell_type": "markdown",
   "id": "25e6809a-7ff3-4aa1-be51-d14b21e5f35b",
   "metadata": {},
   "source": [
    "The result on training data has a better accuracy than that on validation data. CV produces results similar to training data rather than validation data. After comparison, I found CV being slower to compute accuracy with training-validation split."
   ]
  },
  {
   "cell_type": "markdown",
   "id": "6cdf172b-96be-4c15-b5b2-6f70bbc067ac",
   "metadata": {},
   "source": [
    "#### 1.4 How confident are we in our predictions? (20pt)"
   ]
  },
  {
   "cell_type": "markdown",
   "id": "e06207f0-4705-4ad6-8862-7ac823e8dd0e",
   "metadata": {},
   "source": [
    "1. (1pt) Fit the model with training data only again (just to be sure there is no leftover fits from elsewhere).\n",
    "2. (4pt) Predict the probability of having a heart attack P(output = 1|x) for everyone in validation data. Note: we only need probability of heart attack, not probability of non-heart attack! Hint: Python Notes 12.2.4 discusses predicting logistic regression results with sklearn.\n",
    "3. (5pt) Display the predicted probabilities on a histogram. Comment the histogram: how often are we confident in our predictions (predicted probability close to 0 or 1) and how often are we uncertain (predicted probability close to 0.5)?\n",
    "4. (4pt) How let’s convert these probabilities into categories (heart attack or not)–find probabilities that are larger than 0.5.\n",
    "5. (2pt) Display the confusion matrix. Hint: you should get exactly the same matrix as in Q 1.3.??.\n",
    "6. (5pt) Explain why do you get exactly the same confusion matrix."
   ]
  },
  {
   "cell_type": "code",
   "execution_count": 442,
   "id": "0d92e541-a019-4519-b482-699f6ded4512",
   "metadata": {},
   "outputs": [],
   "source": [
    "#1.4-1\n",
    "_ = m.fit(Xt, yt)"
   ]
  },
  {
   "cell_type": "code",
   "execution_count": 443,
   "id": "7a073e6c-892b-462a-8a11-b47fa0c055e0",
   "metadata": {},
   "outputs": [
    {
     "data": {
      "text/plain": [
       "array([0.9377076 , 0.87654016, 0.00279645, 0.94616477, 0.72754398,\n",
       "       0.0990776 , 0.77119028, 0.97791808, 0.00565305, 0.79153427,\n",
       "       0.06165281, 0.01349194, 0.555173  , 0.00899998, 0.89573905,\n",
       "       0.15467803, 0.94592536, 0.28915473, 0.7230043 , 0.24568278,\n",
       "       0.02263703, 0.59618804, 0.10525483, 0.87945915, 0.95880718,\n",
       "       0.9838803 , 0.95558931, 0.02118494, 0.5694591 , 0.37511166,\n",
       "       0.3153844 , 0.93036536, 0.79893515, 0.00937618, 0.97779013,\n",
       "       0.88202513, 0.86570427, 0.95801602, 0.80439049, 0.72436659,\n",
       "       0.10844165, 0.91896716, 0.14276029, 0.05482239, 0.61157157,\n",
       "       0.63728833, 0.95945505, 0.81936559, 0.04848662, 0.7148695 ,\n",
       "       0.20114744, 0.0217638 , 0.61912605, 0.65441971, 0.02026178,\n",
       "       0.75042017, 0.41097548, 0.89131187, 0.28412736, 0.79498541,\n",
       "       0.16579125, 0.97429421, 0.85946264, 0.44271833, 0.35460219,\n",
       "       0.08473088, 0.74211363, 0.61478619, 0.88149285, 0.24705452,\n",
       "       0.15539654, 0.095774  , 0.98098714, 0.84843878, 0.06637964,\n",
       "       0.9230016 ])"
      ]
     },
     "execution_count": 443,
     "metadata": {},
     "output_type": "execute_result"
    }
   ],
   "source": [
    "#1.4-2\n",
    "phat = m.predict_proba(Xv)\n",
    "\n",
    "phat = phat[:,1] #probability of heart attack\n",
    "phat"
   ]
  },
  {
   "cell_type": "code",
   "execution_count": 444,
   "id": "cf486ede-a0c2-4a95-8955-b03d6d675a94",
   "metadata": {},
   "outputs": [
    {
     "data": {
      "image/png": "[encoded data removed]",
      "text/plain": [
       "<Figure size 432x288 with 1 Axes>"
      ]
     },
     "metadata": {
      "needs_background": "light"
     },
     "output_type": "display_data"
    }
   ],
   "source": [
    "#1.4-3\n",
    "_ = plt.hist(phat, edgecolor = \"black\")"
   ]
  },
  {
   "cell_type": "markdown",
   "id": "0124346e-bb64-499b-8339-051309fa1177",
   "metadata": {},
   "source": [
    "Based on the histogram above, we are quite confident in our prediction because the majority of values are close to 0 or 1 while only a few values are located near 0.5."
   ]
  },
  {
   "cell_type": "code",
   "execution_count": 445,
   "id": "94dbbd05-bfba-4cfa-8d5b-6cb635b8082f",
   "metadata": {},
   "outputs": [
    {
     "data": {
      "text/plain": [
       "array([1., 1., 0., 1., 1., 0., 1., 1., 0., 1., 0., 0., 1., 0., 1., 0., 1.,\n",
       "       0., 1., 0., 0., 1., 0., 1., 1., 1., 1., 0., 1., 0., 0., 1., 1., 0.,\n",
       "       1., 1., 1., 1., 1., 1., 0., 1., 0., 0., 1., 1., 1., 1., 0., 1., 0.,\n",
       "       0., 1., 1., 0., 1., 0., 1., 0., 1., 0., 1., 1., 0., 0., 0., 1., 1.,\n",
       "       1., 0., 0., 0., 1., 1., 0., 1.])"
      ]
     },
     "execution_count": 445,
     "metadata": {},
     "output_type": "execute_result"
    }
   ],
   "source": [
    "#1.4-4\n",
    "phat[phat > 0.5] = 1\n",
    "phat[phat <= 0.5] = 0\n",
    "phat"
   ]
  },
  {
   "cell_type": "code",
   "execution_count": 469,
   "id": "e06ab698-5145-4925-b990-8d35527361d1",
   "metadata": {},
   "outputs": [
    {
     "data": {
      "text/plain": [
       "0.5789473684210527"
      ]
     },
     "execution_count": 469,
     "metadata": {},
     "output_type": "execute_result"
    }
   ],
   "source": [
    "#1.4-4\n",
    "phat[phat == 1].sum() / len(phat)"
   ]
  },
  {
   "cell_type": "code",
   "execution_count": 470,
   "id": "6d284573-cd0c-4539-af1f-2562d1062755",
   "metadata": {},
   "outputs": [
    {
     "data": {
      "text/plain": [
       "array([[28,  9],\n",
       "       [ 4, 35]])"
      ]
     },
     "execution_count": 470,
     "metadata": {},
     "output_type": "execute_result"
    }
   ],
   "source": [
    "#1.4-5\n",
    "confusion_matrix(yv, phat)"
   ]
  },
  {
   "cell_type": "code",
   "execution_count": 447,
   "id": "943e6a66-c2de-40b6-928b-3a92becbce2c",
   "metadata": {},
   "outputs": [],
   "source": [
    "#1.4-6"
   ]
  },
  {
   "cell_type": "markdown",
   "id": "c42e3d4e-e224-41b6-8b51-7c72356d46ec",
   "metadata": {},
   "source": [
    "The reason why I get exactly the same confusion matrix is crosstab basically did the same calculation as the confusion matrix."
   ]
  },
  {
   "cell_type": "markdown",
   "id": "349e6257-a0ee-483c-a84e-fafdb17089e3",
   "metadata": {
    "tags": []
   },
   "source": [
    "## 2. Other models (25pt)"
   ]
  },
  {
   "cell_type": "markdown",
   "id": "4d9348fb-9a77-4d16-a56b-3b5c9b19a3c4",
   "metadata": {},
   "source": [
    "#### 2.1 Nearest neighbors (15pt)|"
   ]
  },
  {
   "cell_type": "markdown",
   "id": "95f28bb6-2abf-453d-8101-10e80f132340",
   "metadata": {},
   "source": [
    "1. (3pt) Fit a 1-NN model on training data (use the same training data, do not split again).\n",
    "2. (2pt) Predict outcome and compute confusion matrix on validation data\n",
    "3. (2pt) Do a (10-fold) cross-validation to evaluate the same model. Report only the statistic that you considered most important in question 1.1.5 Remember: feed all data, not just training data to cross-validation.\n",
    "4. (2pt) Repeat with 5-NN\n",
    "5. (2pt) And repeat with your own k.\n",
    "6. (4pt) Comment your results. Which k is the best? Do these models perform better than the logistic? Do they feel slower or faster?"
   ]
  },
  {
   "cell_type": "code",
   "execution_count": 479,
   "id": "c3b7a1ca-a2b5-47f7-9b26-d0faa4f3fcce",
   "metadata": {},
   "outputs": [],
   "source": [
    "#2.1-1\n",
    "from sklearn.neighbors import KNeighborsClassifier\n",
    "\n",
    "k = 1\n",
    "m = KNeighborsClassifier(k)\n",
    "_ = m.fit(Xt, yt)"
   ]
  },
  {
   "cell_type": "code",
   "execution_count": 480,
   "id": "7aabfc01-2820-4edb-877c-0035d4c67af5",
   "metadata": {},
   "outputs": [
    {
     "data": {
      "text/plain": [
       "array([[15, 22],\n",
       "       [14, 25]])"
      ]
     },
     "execution_count": 480,
     "metadata": {},
     "output_type": "execute_result"
    }
   ],
   "source": [
    "#2.1-2\n",
    "yhat = m.predict(Xv)\n",
    "\n",
    "confusion_matrix(yv, yhat)"
   ]
  },
  {
   "cell_type": "code",
   "execution_count": 481,
   "id": "a5d78526-399c-49c7-be56-67718d40c7f8",
   "metadata": {},
   "outputs": [
    {
     "data": {
      "text/plain": [
       "0.6621323529411764"
      ]
     },
     "execution_count": 481,
     "metadata": {},
     "output_type": "execute_result"
    }
   ],
   "source": [
    "#2.1-3\n",
    "cv = cross_val_score(m, X, y, cv = 10, scoring = \"recall\")\n",
    "\n",
    "np.mean(cv) #Ave recall"
   ]
  },
  {
   "cell_type": "code",
   "execution_count": 482,
   "id": "75a82940-0a11-4b95-8070-3e1010c178a0",
   "metadata": {},
   "outputs": [
    {
     "data": {
      "text/plain": [
       "0.7158088235294118"
      ]
     },
     "execution_count": 482,
     "metadata": {},
     "output_type": "execute_result"
    }
   ],
   "source": [
    "#2.1-4\n",
    "k = 5\n",
    "m = KNeighborsClassifier(k)\n",
    "cv = cross_val_score(m, X, y, cv = 10, scoring = \"recall\")\n",
    "\n",
    "np.mean(cv) #Ave recall"
   ]
  },
  {
   "cell_type": "code",
   "execution_count": 484,
   "id": "34ccf4e5-01d6-42b5-b017-bbb1a301e0ea",
   "metadata": {},
   "outputs": [
    {
     "data": {
      "text/plain": [
       "0.7327205882352941"
      ]
     },
     "execution_count": 484,
     "metadata": {},
     "output_type": "execute_result"
    }
   ],
   "source": [
    "#2.1-5\n",
    "k = 15\n",
    "m = KNeighborsClassifier(k)\n",
    "\n",
    "cv = cross_val_score(m, X, y, cv = 10, scoring = \"recall\")\n",
    "\n",
    "np.mean(cv) #Ave recall"
   ]
  },
  {
   "cell_type": "code",
   "execution_count": 453,
   "id": "45c54f39-5390-4e37-9a89-45c5e59fa692",
   "metadata": {},
   "outputs": [],
   "source": [
    "#2.1-6"
   ]
  },
  {
   "cell_type": "markdown",
   "id": "71a571e2-98a9-4681-8e8e-e7edfcc68f32",
   "metadata": {},
   "source": [
    "Based on the results above, k=15 had the best result. I think that these models performed better than logistics because it was faster than logistics."
   ]
  },
  {
   "cell_type": "markdown",
   "id": "66c040c0-ab86-4b9f-99fb-ecd15aa94786",
   "metadata": {},
   "source": [
    "#### 2.2 Decision trees (10pt)"
   ]
  },
  {
   "cell_type": "markdown",
   "id": "aff81f1a-2264-43d1-8f12-97c84a6a20e6",
   "metadata": {},
   "source": [
    "Finally, repeat the previous question, Q 2.1, with decision trees using 3 values for max depth: 2, 3 and\n",
    "4."
   ]
  },
  {
   "cell_type": "code",
   "execution_count": 511,
   "id": "c93415a6-d42c-4822-b582-d671c13cdf85",
   "metadata": {},
   "outputs": [
    {
     "data": {
      "text/plain": [
       "array([[21, 16],\n",
       "       [ 8, 31]])"
      ]
     },
     "execution_count": 511,
     "metadata": {},
     "output_type": "execute_result"
    }
   ],
   "source": [
    "#depth: 2\n",
    "from sklearn.tree import DecisionTreeClassifier\n",
    "\n",
    "m = DecisionTreeClassifier(max_depth = 2)\n",
    "_ = m.fit(Xt, yt)\n",
    "yhat = m.predict(Xv)\n",
    "\n",
    "confusion_matrix(yv, yhat)"
   ]
  },
  {
   "cell_type": "code",
   "execution_count": 513,
   "id": "84d5fcd8-9cb5-46e6-ac55-1b3c0447c615",
   "metadata": {},
   "outputs": [
    {
     "data": {
      "text/plain": [
       "0.8827205882352942"
      ]
     },
     "execution_count": 513,
     "metadata": {},
     "output_type": "execute_result"
    }
   ],
   "source": [
    "#depth: 2\n",
    "cv = cross_val_score(m, X, y, cv = 10, scoring = \"recall\")\n",
    "\n",
    "np.mean(cv) #Ave recall"
   ]
  },
  {
   "cell_type": "code",
   "execution_count": 515,
   "id": "ab41a641-5707-45f8-aba8-e26c36ef2390",
   "metadata": {},
   "outputs": [
    {
     "data": {
      "text/plain": [
       "0.8529411764705882"
      ]
     },
     "execution_count": 515,
     "metadata": {},
     "output_type": "execute_result"
    }
   ],
   "source": [
    "#depth: 3\n",
    "m = DecisionTreeClassifier(max_depth = 3)\n",
    "\n",
    "cv = cross_val_score(m, X, y, cv = 10, scoring = \"recall\")\n",
    "\n",
    "np.mean(cv) #Ave recall"
   ]
  },
  {
   "cell_type": "code",
   "execution_count": null,
   "id": "925d510d-f403-423d-9020-f01eb39ec3d2",
   "metadata": {},
   "outputs": [
    {
     "data": {
      "text/plain": [
       "0.8161764705882353"
      ]
     },
     "execution_count": 521,
     "metadata": {},
     "output_type": "execute_result"
    }
   ],
   "source": [
    "#depth: 4\n",
    "m = DecisionTreeClassifier(max_depth = 4)\n",
    "\n",
    "cv = cross_val_score(m, X, y, cv = 10, scoring = \"recall\")\n",
    "\n",
    "np.mean(cv) #Ave recall"
   ]
  },
  {
   "cell_type": "markdown",
   "id": "7fad139e-b8c2-4fb1-b984-b1ceb69ff7ce",
   "metadata": {},
   "source": [
    "#### How much time did you spend on this PS?"
   ]
  },
  {
   "cell_type": "markdown",
   "id": "2f1671af-c97b-4e74-91dd-e8bfbce832a0",
   "metadata": {},
   "source": [
    "I spent 10 hours to finish this PS."
   ]
  }
 ],
 "metadata": {
  "kernelspec": {
   "display_name": "Python 3",
   "language": "python",
   "name": "python3"
  },
  "language_info": {
   "codemirror_mode": {
    "name": "ipython",
    "version": 3
   },
   "file_extension": ".py",
   "mimetype": "text/x-python",
   "name": "python",
   "nbconvert_exporter": "python",
   "pygments_lexer": "ipython3",
   "version": "3.8.8"
  }
 },
 "nbformat": 4,
 "nbformat_minor": 5
}
