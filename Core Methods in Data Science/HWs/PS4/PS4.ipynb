{
 "cells": [
  {
   "cell_type": "markdown",
   "id": "76c8949d-a51e-492e-a1df-e11bf3d29287",
   "metadata": {},
   "source": [
    "# INFO 370 PS4\n",
    "*Name: Brian Park*"
   ]
  },
  {
   "cell_type": "code",
   "execution_count": 759,
   "id": "2e7c53e2-30ed-4c41-a3e2-3b5d9a7f26c0",
   "metadata": {},
   "outputs": [],
   "source": [
    "import pandas as pd\n",
    "import numpy as np\n",
    "import matplotlib.pyplot as plt"
   ]
  },
  {
   "cell_type": "markdown",
   "id": "c118a0ae-d512-4d44-9aa8-f896ff1aaecc",
   "metadata": {},
   "source": [
    "## 1. Is poverty in Azraq refugee camp falling?"
   ]
  },
  {
   "cell_type": "markdown",
   "id": "e7818d2d-e59a-4228-aef4-35da22fd9986",
   "metadata": {},
   "source": [
    "### 1.1 Background (2pt)"
   ]
  },
  {
   "cell_type": "markdown",
   "id": "b35dab70-ec9a-4241-87f3-0e8a8822f3e4",
   "metadata": {},
   "source": [
    "1. (1pt) What was the abject poverty in Azraq camp in Q1 and Q2 2022 (when including all assistance)? Lets call these variables p1 and p2.\n",
    "2. (1pt) How many households were surveyed in the camp? Call this sample size S."
   ]
  },
  {
   "cell_type": "code",
   "execution_count": 760,
   "id": "011d42a6-b9c0-4dfe-896e-bd0e0b9b4d7e",
   "metadata": {},
   "outputs": [],
   "source": [
    "#1.1-1\n",
    "p1 = 0.66 #Q1\n",
    "p2 = 0.51 #Q2"
   ]
  },
  {
   "cell_type": "code",
   "execution_count": 761,
   "id": "3fd8d0ac-4cec-499c-86b0-e3803d49711b",
   "metadata": {},
   "outputs": [],
   "source": [
    "#1.1-2\n",
    "S = 650 #total households surveyed in the camp"
   ]
  },
  {
   "cell_type": "markdown",
   "id": "f4c01946-cd5b-4772-93da-974cc1ba4acc",
   "metadata": {},
   "source": [
    "### 1.2 Simulations"
   ]
  },
  {
   "cell_type": "markdown",
   "id": "b733bce3-4fa9-4930-b654-e5f93f117436",
   "metadata": {},
   "source": [
    "1. (2pt) Create a random sample using the correct values of S and p2 you found in 1.1 above.\n",
    "2. (2pt) Compute the sample mean and compare it with p1 and p2 above. How close is it to these figures?\n",
    "3. (1pt) Pick your number of replications R (something like 1000 or 10,000 are good numbers).\n",
    "4. (5pt) Repeat the points 1 and 2 for R times: create the sample, compute the average, but also store the average in an array. You should have R averages now.\n",
    "5. (5pt) What is the average of the averages? Which probability from 1 does it resemble? Why?\n",
    "6. (4pt) Plot a histogram of the averages. Which distribution does it resemble? What do you say, by just eyeballing the plot, what are the largest and smallest values that are “reasonably” common?\n",
    "7. (6pt) Finally, compute 2.5th and 97.5th percentile and the 95% confidence intervals. Does the Q1 poverty value fall into this interval?"
   ]
  },
  {
   "cell_type": "code",
   "execution_count": 762,
   "id": "40637959-337d-4a21-8733-37eb92a48e8c",
   "metadata": {},
   "outputs": [],
   "source": [
    "#1.2-1\n",
    "S2 = np.random.binomial(1, p2, S) #Sample 2"
   ]
  },
  {
   "cell_type": "code",
   "execution_count": 763,
   "id": "4bf5d1fd-f6ad-4fa4-bc8b-35808e3c2df3",
   "metadata": {},
   "outputs": [
    {
     "data": {
      "text/plain": [
       "(0.5046153846153846, 0.66, 0.51)"
      ]
     },
     "execution_count": 763,
     "metadata": {},
     "output_type": "execute_result"
    }
   ],
   "source": [
    "#1.2-2\n",
    "mS2 = np.mean(S2) #sample mean of S2\n",
    "(mS2, p1, p2)"
   ]
  },
  {
   "cell_type": "markdown",
   "id": "c538654d-9644-40c4-aeda-f62eee10ceac",
   "metadata": {},
   "source": [
    "The computed sample mean is fairly close to p2 but not close to p1."
   ]
  },
  {
   "cell_type": "code",
   "execution_count": 764,
   "id": "863bb37e-d9d5-4f44-ba39-68d74e2cb805",
   "metadata": {},
   "outputs": [],
   "source": [
    "#1.2-3\n",
    "R = 1000 #Repeat 1000 times"
   ]
  },
  {
   "cell_type": "code",
   "execution_count": 765,
   "id": "e613a945-21e3-49ef-96aa-0c44442a69f9",
   "metadata": {},
   "outputs": [],
   "source": [
    "#1.2-4\n",
    "def rep(S, p, arr):\n",
    "    for i in range(R):\n",
    "        x = np.random.binomial(1, p, S)\n",
    "        arr.append(np.mean(x)) #compute the average and store it in an array\n",
    "    return arr"
   ]
  },
  {
   "cell_type": "code",
   "execution_count": 766,
   "id": "142c5c27-3625-413a-9ce9-8b52ae1d15a3",
   "metadata": {},
   "outputs": [],
   "source": [
    "#1.2-4-p2\n",
    "arr = []\n",
    "arr2 = rep(S, p2, arr)"
   ]
  },
  {
   "cell_type": "code",
   "execution_count": 767,
   "id": "50428f12-a826-436f-88db-ad0baab29655",
   "metadata": {},
   "outputs": [
    {
     "data": {
      "text/plain": [
       "0.5103384615384615"
      ]
     },
     "execution_count": 767,
     "metadata": {},
     "output_type": "execute_result"
    }
   ],
   "source": [
    "#1.2-5\n",
    "np.mean(arr2) #average of the averages"
   ]
  },
  {
   "cell_type": "markdown",
   "id": "4297f686-da8f-4f6d-ad47-0cca7d36c154",
   "metadata": {},
   "source": [
    "The average of `arr2` resembles p2."
   ]
  },
  {
   "cell_type": "code",
   "execution_count": 793,
   "id": "79c17111-0e23-475a-bcb7-0bc6acf98c06",
   "metadata": {},
   "outputs": [
    {
     "data": {
      "image/png": "[encoded data removed]",
      "text/plain": [
       "<Figure size 432x288 with 1 Axes>"
      ]
     },
     "metadata": {
      "needs_background": "light"
     },
     "output_type": "display_data"
    }
   ],
   "source": [
    "#1.2-6-arr2\n",
    "_ = plt.hist(arr2, bins = 100)"
   ]
  },
  {
   "cell_type": "markdown",
   "id": "d3565730-83c8-458b-a719-caba5671f1af",
   "metadata": {},
   "source": [
    "This histogram fairly resembles a normal distribution. The smallest values are commonly distributed around 0.46 while the largest values are commonly distributed around 0.56."
   ]
  },
  {
   "cell_type": "code",
   "execution_count": 769,
   "id": "d13e0e0f-97f6-4f88-8b15-b4349d9eac1b",
   "metadata": {},
   "outputs": [
    {
     "data": {
      "text/plain": [
       "(0.47384615384615386, 0.5507692307692308)"
      ]
     },
     "execution_count": 769,
     "metadata": {},
     "output_type": "execute_result"
    }
   ],
   "source": [
    "#1.2-7-arr2-percentile\n",
    "np.percentile(arr2, 2.5), np.percentile(arr2, 97.5)"
   ]
  },
  {
   "cell_type": "markdown",
   "id": "05db59db-8e01-46ab-a5e3-d45e2b2f48ae",
   "metadata": {},
   "source": [
    "The Q1 poverty value - 0.66 - does not fall into the interval above."
   ]
  },
  {
   "cell_type": "markdown",
   "id": "659089f6-d89e-4e51-b7ab-6becf68ce166",
   "metadata": {},
   "source": [
    "### 1.3 Theoretical CI"
   ]
  },
  {
   "cell_type": "markdown",
   "id": "e76d1beb-1cc0-40a6-b8d6-0ca826480e76",
   "metadata": {},
   "source": [
    "1. (3pt) Compute variance of your sample of X. You can use the Bernoulli variance formula Var X = p(1 − p). You can also use the sample you created in 1.2.1, or create a new sample, and find the sample variance.\n",
    "2. (6pt) But this was variance of X (or sample variance if that was what you computed). What we need is variance of sample mean. What does CLT tell about relationship b/w sample variance and variance of the sample mean?\n",
    "3. (6pt) Compute the standard deviation of sample mean using CLT.\n",
    "4. (3pt) Compare the standard deviation you got here with the standard deviation of the sample of averages you computed in 1.2.4.\n",
    "5. (7pt) Use this standard deviation to compute the confidence interval. Compare it to what you got in 1.2.7. Does p1 falls inside or outside of this interval? You may want to check Lecture Notes 1.5.2 “Doing Statistical Inference”. Hint: they should be fairly similar, and your conclusion regarding p1 should be the same."
   ]
  },
  {
   "cell_type": "code",
   "execution_count": 770,
   "id": "e6ef2033-597d-4b0c-a254-f4328165e657",
   "metadata": {},
   "outputs": [
    {
     "data": {
      "text/plain": [
       "0.24997869822485208"
      ]
     },
     "execution_count": 770,
     "metadata": {},
     "output_type": "execute_result"
    }
   ],
   "source": [
    "#1.3-1\n",
    "VarS2 = np.var(S2)\n",
    "VarS2"
   ]
  },
  {
   "cell_type": "code",
   "execution_count": 771,
   "id": "ea694f0f-482e-4dbf-b91d-7510e6601b6d",
   "metadata": {},
   "outputs": [],
   "source": [
    "#1.3-2"
   ]
  },
  {
   "cell_type": "markdown",
   "id": "d7a23883-dc61-4cf4-980c-cc5e85a142f3",
   "metadata": {},
   "source": [
    "CLT tells how the variance of the sample mean changes with the sample size S. As sample size S increases, the variance of sample mean decreases based on the formula - `VarX / S`. Also, CLT tells how sample variance affects to compute the confidence interval."
   ]
  },
  {
   "cell_type": "code",
   "execution_count": 772,
   "id": "ece10d1a-808b-4175-95de-621304f39ab2",
   "metadata": {},
   "outputs": [
    {
     "data": {
      "text/plain": [
       "0.019610777971656775"
      ]
     },
     "execution_count": 772,
     "metadata": {},
     "output_type": "execute_result"
    }
   ],
   "source": [
    "#1.3-3\n",
    "SD2 = np.sqrt(VarS2) / np.sqrt(S)\n",
    "SD2"
   ]
  },
  {
   "cell_type": "code",
   "execution_count": 773,
   "id": "d96849f4-df35-457c-b1c7-efc6473dc505",
   "metadata": {},
   "outputs": [
    {
     "data": {
      "text/plain": [
       "(0.019610777971656775, 0.019243294382673276)"
      ]
     },
     "execution_count": 773,
     "metadata": {},
     "output_type": "execute_result"
    }
   ],
   "source": [
    "#1.3-4\n",
    "(SD2, np.std(arr2))"
   ]
  },
  {
   "cell_type": "markdown",
   "id": "40fe819c-6cec-4c5d-9142-5efc3acc8fc6",
   "metadata": {},
   "source": [
    "The standard deviation with CLT is fairly close to the standard deviation of the sample of averages."
   ]
  },
  {
   "cell_type": "code",
   "execution_count": 795,
   "id": "1ea0c3e9-4a1a-4c4c-9fc6-a84405350df6",
   "metadata": {},
   "outputs": [
    {
     "data": {
      "text/plain": [
       "(0.4661782597909373, 0.5430525094398319)"
      ]
     },
     "execution_count": 795,
     "metadata": {},
     "output_type": "execute_result"
    }
   ],
   "source": [
    "#1.3-5-S2-CI\n",
    "mS2 - (1.96 * SD2), mS2 + (1.96 * SD2)"
   ]
  },
  {
   "cell_type": "markdown",
   "id": "3ece0cb4-f0fa-4b9f-bc05-03583839a79e",
   "metadata": {},
   "source": [
    "The confidence interval computed above is fairly close to the interval computed in 1.2.7. p1 falls outside the confidence interval computed above."
   ]
  },
  {
   "cell_type": "markdown",
   "id": "a2799859-b321-423c-9d13-04f845a45f6e",
   "metadata": {},
   "source": [
    "## 2 How smooth are normal cells?"
   ]
  },
  {
   "cell_type": "markdown",
   "id": "e63ea75f-a7ac-483e-872b-6172d075f1a3",
   "metadata": {},
   "source": [
    "### 2.1 Descriptive analysis"
   ]
  },
  {
   "cell_type": "markdown",
   "id": "111ffc04-83a4-47ba-bfef-5ec6148da0a9",
   "metadata": {},
   "source": [
    "1. (1pt) Load data. How many cases and variables do you have?\n",
    "2. (3pt) Separate the variable smoothness mean. It measures the roundness (smoothness) of cells in biopsy samples. In this question this is the only variable you need. Does it contain any missing values? How many valid values it contains? (We’ll denote this number by S.)\n",
    "3. (2pt) Describe the variable. What are it’s mean (we’ll call it µ below) and standard deviation (call it σ below)? Hint: you should see numbers 0.096 and 0.014.\n",
    "4. (2pt) Plot its histogram. Which distribution does it resemble?"
   ]
  },
  {
   "cell_type": "code",
   "execution_count": 775,
   "id": "1501d6c2-e1ca-43bb-8fef-d24dea984afe",
   "metadata": {},
   "outputs": [
    {
     "data": {
      "text/html": [
       "<div>\n",
       "<style scoped>\n",
       "    .dataframe tbody tr th:only-of-type {\n",
       "        vertical-align: middle;\n",
       "    }\n",
       "\n",
       "    .dataframe tbody tr th {\n",
       "        vertical-align: top;\n",
       "    }\n",
       "\n",
       "    .dataframe thead th {\n",
       "        text-align: right;\n",
       "    }\n",
       "</style>\n",
       "<table border=\"1\" class=\"dataframe\">\n",
       "  <thead>\n",
       "    <tr style=\"text-align: right;\">\n",
       "      <th></th>\n",
       "      <th>id</th>\n",
       "      <th>diagnosis</th>\n",
       "      <th>radius.mean</th>\n",
       "      <th>texture.mean</th>\n",
       "      <th>perimeter.mean</th>\n",
       "      <th>area.mean</th>\n",
       "      <th>smoothness.mean</th>\n",
       "      <th>compactness.mean</th>\n",
       "      <th>concavity.mean</th>\n",
       "      <th>concpoints.mean</th>\n",
       "      <th>...</th>\n",
       "      <th>radius.worst</th>\n",
       "      <th>texture.worst</th>\n",
       "      <th>perimeter.worst</th>\n",
       "      <th>area.worst</th>\n",
       "      <th>smoothness.worst</th>\n",
       "      <th>compactness.worst</th>\n",
       "      <th>concavity.worst</th>\n",
       "      <th>concpoints.worst</th>\n",
       "      <th>symmetry.worst</th>\n",
       "      <th>fracdim.worst</th>\n",
       "    </tr>\n",
       "  </thead>\n",
       "  <tbody>\n",
       "    <tr>\n",
       "      <th>0</th>\n",
       "      <td>842302</td>\n",
       "      <td>M</td>\n",
       "      <td>17.99</td>\n",
       "      <td>10.38</td>\n",
       "      <td>122.80</td>\n",
       "      <td>1001.0</td>\n",
       "      <td>0.11840</td>\n",
       "      <td>0.27760</td>\n",
       "      <td>0.30010</td>\n",
       "      <td>0.14710</td>\n",
       "      <td>...</td>\n",
       "      <td>25.380</td>\n",
       "      <td>17.33</td>\n",
       "      <td>184.60</td>\n",
       "      <td>2019.0</td>\n",
       "      <td>0.16220</td>\n",
       "      <td>0.66560</td>\n",
       "      <td>0.7119</td>\n",
       "      <td>0.2654</td>\n",
       "      <td>0.4601</td>\n",
       "      <td>0.11890</td>\n",
       "    </tr>\n",
       "    <tr>\n",
       "      <th>1</th>\n",
       "      <td>842517</td>\n",
       "      <td>M</td>\n",
       "      <td>20.57</td>\n",
       "      <td>17.77</td>\n",
       "      <td>132.90</td>\n",
       "      <td>1326.0</td>\n",
       "      <td>0.08474</td>\n",
       "      <td>0.07864</td>\n",
       "      <td>0.08690</td>\n",
       "      <td>0.07017</td>\n",
       "      <td>...</td>\n",
       "      <td>24.990</td>\n",
       "      <td>23.41</td>\n",
       "      <td>158.80</td>\n",
       "      <td>1956.0</td>\n",
       "      <td>0.12380</td>\n",
       "      <td>0.18660</td>\n",
       "      <td>0.2416</td>\n",
       "      <td>0.1860</td>\n",
       "      <td>0.2750</td>\n",
       "      <td>0.08902</td>\n",
       "    </tr>\n",
       "    <tr>\n",
       "      <th>2</th>\n",
       "      <td>84300903</td>\n",
       "      <td>M</td>\n",
       "      <td>19.69</td>\n",
       "      <td>21.25</td>\n",
       "      <td>130.00</td>\n",
       "      <td>1203.0</td>\n",
       "      <td>0.10960</td>\n",
       "      <td>0.15990</td>\n",
       "      <td>0.19740</td>\n",
       "      <td>0.12790</td>\n",
       "      <td>...</td>\n",
       "      <td>23.570</td>\n",
       "      <td>25.53</td>\n",
       "      <td>152.50</td>\n",
       "      <td>1709.0</td>\n",
       "      <td>0.14440</td>\n",
       "      <td>0.42450</td>\n",
       "      <td>0.4504</td>\n",
       "      <td>0.2430</td>\n",
       "      <td>0.3613</td>\n",
       "      <td>0.08758</td>\n",
       "    </tr>\n",
       "    <tr>\n",
       "      <th>3</th>\n",
       "      <td>84348301</td>\n",
       "      <td>M</td>\n",
       "      <td>11.42</td>\n",
       "      <td>20.38</td>\n",
       "      <td>77.58</td>\n",
       "      <td>386.1</td>\n",
       "      <td>0.14250</td>\n",
       "      <td>0.28390</td>\n",
       "      <td>0.24140</td>\n",
       "      <td>0.10520</td>\n",
       "      <td>...</td>\n",
       "      <td>14.910</td>\n",
       "      <td>26.50</td>\n",
       "      <td>98.87</td>\n",
       "      <td>567.7</td>\n",
       "      <td>0.20980</td>\n",
       "      <td>0.86630</td>\n",
       "      <td>0.6869</td>\n",
       "      <td>0.2575</td>\n",
       "      <td>0.6638</td>\n",
       "      <td>0.17300</td>\n",
       "    </tr>\n",
       "    <tr>\n",
       "      <th>4</th>\n",
       "      <td>84358402</td>\n",
       "      <td>M</td>\n",
       "      <td>20.29</td>\n",
       "      <td>14.34</td>\n",
       "      <td>135.10</td>\n",
       "      <td>1297.0</td>\n",
       "      <td>0.10030</td>\n",
       "      <td>0.13280</td>\n",
       "      <td>0.19800</td>\n",
       "      <td>0.10430</td>\n",
       "      <td>...</td>\n",
       "      <td>22.540</td>\n",
       "      <td>16.67</td>\n",
       "      <td>152.20</td>\n",
       "      <td>1575.0</td>\n",
       "      <td>0.13740</td>\n",
       "      <td>0.20500</td>\n",
       "      <td>0.4000</td>\n",
       "      <td>0.1625</td>\n",
       "      <td>0.2364</td>\n",
       "      <td>0.07678</td>\n",
       "    </tr>\n",
       "    <tr>\n",
       "      <th>...</th>\n",
       "      <td>...</td>\n",
       "      <td>...</td>\n",
       "      <td>...</td>\n",
       "      <td>...</td>\n",
       "      <td>...</td>\n",
       "      <td>...</td>\n",
       "      <td>...</td>\n",
       "      <td>...</td>\n",
       "      <td>...</td>\n",
       "      <td>...</td>\n",
       "      <td>...</td>\n",
       "      <td>...</td>\n",
       "      <td>...</td>\n",
       "      <td>...</td>\n",
       "      <td>...</td>\n",
       "      <td>...</td>\n",
       "      <td>...</td>\n",
       "      <td>...</td>\n",
       "      <td>...</td>\n",
       "      <td>...</td>\n",
       "      <td>...</td>\n",
       "    </tr>\n",
       "    <tr>\n",
       "      <th>564</th>\n",
       "      <td>926424</td>\n",
       "      <td>M</td>\n",
       "      <td>21.56</td>\n",
       "      <td>22.39</td>\n",
       "      <td>142.00</td>\n",
       "      <td>1479.0</td>\n",
       "      <td>0.11100</td>\n",
       "      <td>0.11590</td>\n",
       "      <td>0.24390</td>\n",
       "      <td>0.13890</td>\n",
       "      <td>...</td>\n",
       "      <td>25.450</td>\n",
       "      <td>26.40</td>\n",
       "      <td>166.10</td>\n",
       "      <td>2027.0</td>\n",
       "      <td>0.14100</td>\n",
       "      <td>0.21130</td>\n",
       "      <td>0.4107</td>\n",
       "      <td>0.2216</td>\n",
       "      <td>0.2060</td>\n",
       "      <td>0.07115</td>\n",
       "    </tr>\n",
       "    <tr>\n",
       "      <th>565</th>\n",
       "      <td>926682</td>\n",
       "      <td>M</td>\n",
       "      <td>20.13</td>\n",
       "      <td>28.25</td>\n",
       "      <td>131.20</td>\n",
       "      <td>1261.0</td>\n",
       "      <td>0.09780</td>\n",
       "      <td>0.10340</td>\n",
       "      <td>0.14400</td>\n",
       "      <td>0.09791</td>\n",
       "      <td>...</td>\n",
       "      <td>23.690</td>\n",
       "      <td>38.25</td>\n",
       "      <td>155.00</td>\n",
       "      <td>1731.0</td>\n",
       "      <td>0.11660</td>\n",
       "      <td>0.19220</td>\n",
       "      <td>0.3215</td>\n",
       "      <td>0.1628</td>\n",
       "      <td>0.2572</td>\n",
       "      <td>0.06637</td>\n",
       "    </tr>\n",
       "    <tr>\n",
       "      <th>566</th>\n",
       "      <td>926954</td>\n",
       "      <td>M</td>\n",
       "      <td>16.60</td>\n",
       "      <td>28.08</td>\n",
       "      <td>108.30</td>\n",
       "      <td>858.1</td>\n",
       "      <td>0.08455</td>\n",
       "      <td>0.10230</td>\n",
       "      <td>0.09251</td>\n",
       "      <td>0.05302</td>\n",
       "      <td>...</td>\n",
       "      <td>18.980</td>\n",
       "      <td>34.12</td>\n",
       "      <td>126.70</td>\n",
       "      <td>1124.0</td>\n",
       "      <td>0.11390</td>\n",
       "      <td>0.30940</td>\n",
       "      <td>0.3403</td>\n",
       "      <td>0.1418</td>\n",
       "      <td>0.2218</td>\n",
       "      <td>0.07820</td>\n",
       "    </tr>\n",
       "    <tr>\n",
       "      <th>567</th>\n",
       "      <td>927241</td>\n",
       "      <td>M</td>\n",
       "      <td>20.60</td>\n",
       "      <td>29.33</td>\n",
       "      <td>140.10</td>\n",
       "      <td>1265.0</td>\n",
       "      <td>0.11780</td>\n",
       "      <td>0.27700</td>\n",
       "      <td>0.35140</td>\n",
       "      <td>0.15200</td>\n",
       "      <td>...</td>\n",
       "      <td>25.740</td>\n",
       "      <td>39.42</td>\n",
       "      <td>184.60</td>\n",
       "      <td>1821.0</td>\n",
       "      <td>0.16500</td>\n",
       "      <td>0.86810</td>\n",
       "      <td>0.9387</td>\n",
       "      <td>0.2650</td>\n",
       "      <td>0.4087</td>\n",
       "      <td>0.12400</td>\n",
       "    </tr>\n",
       "    <tr>\n",
       "      <th>568</th>\n",
       "      <td>92751</td>\n",
       "      <td>B</td>\n",
       "      <td>7.76</td>\n",
       "      <td>24.54</td>\n",
       "      <td>47.92</td>\n",
       "      <td>181.0</td>\n",
       "      <td>0.05263</td>\n",
       "      <td>0.04362</td>\n",
       "      <td>0.00000</td>\n",
       "      <td>0.00000</td>\n",
       "      <td>...</td>\n",
       "      <td>9.456</td>\n",
       "      <td>30.37</td>\n",
       "      <td>59.16</td>\n",
       "      <td>268.6</td>\n",
       "      <td>0.08996</td>\n",
       "      <td>0.06444</td>\n",
       "      <td>0.0000</td>\n",
       "      <td>0.0000</td>\n",
       "      <td>0.2871</td>\n",
       "      <td>0.07039</td>\n",
       "    </tr>\n",
       "  </tbody>\n",
       "</table>\n",
       "<p>569 rows × 32 columns</p>\n",
       "</div>"
      ],
      "text/plain": [
       "           id diagnosis  radius.mean  texture.mean  perimeter.mean  area.mean  \\\n",
       "0      842302         M        17.99         10.38          122.80     1001.0   \n",
       "1      842517         M        20.57         17.77          132.90     1326.0   \n",
       "2    84300903         M        19.69         21.25          130.00     1203.0   \n",
       "3    84348301         M        11.42         20.38           77.58      386.1   \n",
       "4    84358402         M        20.29         14.34          135.10     1297.0   \n",
       "..        ...       ...          ...           ...             ...        ...   \n",
       "564    926424         M        21.56         22.39          142.00     1479.0   \n",
       "565    926682         M        20.13         28.25          131.20     1261.0   \n",
       "566    926954         M        16.60         28.08          108.30      858.1   \n",
       "567    927241         M        20.60         29.33          140.10     1265.0   \n",
       "568     92751         B         7.76         24.54           47.92      181.0   \n",
       "\n",
       "     smoothness.mean  compactness.mean  concavity.mean  concpoints.mean  ...  \\\n",
       "0            0.11840           0.27760         0.30010          0.14710  ...   \n",
       "1            0.08474           0.07864         0.08690          0.07017  ...   \n",
       "2            0.10960           0.15990         0.19740          0.12790  ...   \n",
       "3            0.14250           0.28390         0.24140          0.10520  ...   \n",
       "4            0.10030           0.13280         0.19800          0.10430  ...   \n",
       "..               ...               ...             ...              ...  ...   \n",
       "564          0.11100           0.11590         0.24390          0.13890  ...   \n",
       "565          0.09780           0.10340         0.14400          0.09791  ...   \n",
       "566          0.08455           0.10230         0.09251          0.05302  ...   \n",
       "567          0.11780           0.27700         0.35140          0.15200  ...   \n",
       "568          0.05263           0.04362         0.00000          0.00000  ...   \n",
       "\n",
       "     radius.worst  texture.worst  perimeter.worst  area.worst  \\\n",
       "0          25.380          17.33           184.60      2019.0   \n",
       "1          24.990          23.41           158.80      1956.0   \n",
       "2          23.570          25.53           152.50      1709.0   \n",
       "3          14.910          26.50            98.87       567.7   \n",
       "4          22.540          16.67           152.20      1575.0   \n",
       "..            ...            ...              ...         ...   \n",
       "564        25.450          26.40           166.10      2027.0   \n",
       "565        23.690          38.25           155.00      1731.0   \n",
       "566        18.980          34.12           126.70      1124.0   \n",
       "567        25.740          39.42           184.60      1821.0   \n",
       "568         9.456          30.37            59.16       268.6   \n",
       "\n",
       "     smoothness.worst  compactness.worst  concavity.worst  concpoints.worst  \\\n",
       "0             0.16220            0.66560           0.7119            0.2654   \n",
       "1             0.12380            0.18660           0.2416            0.1860   \n",
       "2             0.14440            0.42450           0.4504            0.2430   \n",
       "3             0.20980            0.86630           0.6869            0.2575   \n",
       "4             0.13740            0.20500           0.4000            0.1625   \n",
       "..                ...                ...              ...               ...   \n",
       "564           0.14100            0.21130           0.4107            0.2216   \n",
       "565           0.11660            0.19220           0.3215            0.1628   \n",
       "566           0.11390            0.30940           0.3403            0.1418   \n",
       "567           0.16500            0.86810           0.9387            0.2650   \n",
       "568           0.08996            0.06444           0.0000            0.0000   \n",
       "\n",
       "     symmetry.worst  fracdim.worst  \n",
       "0            0.4601        0.11890  \n",
       "1            0.2750        0.08902  \n",
       "2            0.3613        0.08758  \n",
       "3            0.6638        0.17300  \n",
       "4            0.2364        0.07678  \n",
       "..              ...            ...  \n",
       "564          0.2060        0.07115  \n",
       "565          0.2572        0.06637  \n",
       "566          0.2218        0.07820  \n",
       "567          0.4087        0.12400  \n",
       "568          0.2871        0.07039  \n",
       "\n",
       "[569 rows x 32 columns]"
      ]
     },
     "execution_count": 775,
     "metadata": {},
     "output_type": "execute_result"
    }
   ],
   "source": [
    "#2.1-1\n",
    "df = pd.read_csv(\"../data/wdbc.csv.bz2\", sep = \",\")\n",
    "df"
   ]
  },
  {
   "cell_type": "markdown",
   "id": "705f6134-2c05-4f5d-9a50-ffa0c3e6521c",
   "metadata": {},
   "source": [
    "The data has 569 cases and 32 variables."
   ]
  },
  {
   "cell_type": "code",
   "execution_count": 776,
   "id": "3edad46f-c7a2-4cb9-877c-b21a321fc897",
   "metadata": {},
   "outputs": [
    {
     "data": {
      "text/plain": [
       "0      0.11840\n",
       "1      0.08474\n",
       "2      0.10960\n",
       "3      0.14250\n",
       "4      0.10030\n",
       "        ...   \n",
       "564    0.11100\n",
       "565    0.09780\n",
       "566    0.08455\n",
       "567    0.11780\n",
       "568    0.05263\n",
       "Name: smoothness.mean, Length: 569, dtype: float64"
      ]
     },
     "execution_count": 776,
     "metadata": {},
     "output_type": "execute_result"
    }
   ],
   "source": [
    "#2.1-2\n",
    "dfSM = df[\"smoothness.mean\"]\n",
    "dfSM"
   ]
  },
  {
   "cell_type": "code",
   "execution_count": 816,
   "id": "754db6a6-0ac6-4198-87d6-58a9abfafcd1",
   "metadata": {},
   "outputs": [
    {
     "data": {
      "text/plain": [
       "0"
      ]
     },
     "execution_count": 816,
     "metadata": {},
     "output_type": "execute_result"
    }
   ],
   "source": [
    "#2.1-2\n",
    "dfSM.isna().sum()"
   ]
  },
  {
   "cell_type": "markdown",
   "id": "cf33247a-91d3-48c2-bebe-7eef6efd402c",
   "metadata": {},
   "source": [
    "It does not contain any missing values."
   ]
  },
  {
   "cell_type": "code",
   "execution_count": 817,
   "id": "b3fa541e-7b90-40ca-8fd5-ba1a10591d6e",
   "metadata": {},
   "outputs": [
    {
     "data": {
      "text/plain": [
       "569"
      ]
     },
     "execution_count": 817,
     "metadata": {},
     "output_type": "execute_result"
    }
   ],
   "source": [
    "#2.1-2\n",
    "S = dfSM.notnull().sum()\n",
    "S"
   ]
  },
  {
   "cell_type": "markdown",
   "id": "1feebe05-f17f-47ce-92d9-dd9d047a3330",
   "metadata": {},
   "source": [
    "It contains 569 valid values."
   ]
  },
  {
   "cell_type": "code",
   "execution_count": 779,
   "id": "bf40c8cb-7d8a-45cb-9089-82f9e1350dfc",
   "metadata": {},
   "outputs": [
    {
     "data": {
      "text/plain": [
       "(0.096360281195079, 0.014051764066591201)"
      ]
     },
     "execution_count": 779,
     "metadata": {},
     "output_type": "execute_result"
    }
   ],
   "source": [
    "#2.1-3\n",
    "mu = np.mean(dfSM) #mean\n",
    "sigma = np.std(dfSM) #standard deviation\n",
    "mu, sigma"
   ]
  },
  {
   "cell_type": "code",
   "execution_count": 798,
   "id": "f4606ca2-6bb8-41b5-8f9f-243c6f58489c",
   "metadata": {},
   "outputs": [
    {
     "data": {
      "image/png": "[encoded data removed]",
      "text/plain": [
       "<Figure size 432x288 with 1 Axes>"
      ]
     },
     "metadata": {
      "needs_background": "light"
     },
     "output_type": "display_data"
    }
   ],
   "source": [
    "#2.1-4\n",
    "_ = plt.hist(dfSM, bins = 50)"
   ]
  },
  {
   "cell_type": "markdown",
   "id": "730795d7-2a94-47df-b09d-cf5bf626b22e",
   "metadata": {},
   "source": [
    "This histogram fairly resembles the normal distribution."
   ]
  },
  {
   "cell_type": "markdown",
   "id": "a860706d-248d-4ba2-8777-d1205389127c",
   "metadata": {},
   "source": [
    "### 2.2 Test the hypothesis: simulations"
   ]
  },
  {
   "cell_type": "markdown",
   "id": "307ec49e-2fa6-4c45-bcd9-72c5e46f6b7e",
   "metadata": {},
   "source": [
    "1. (1pt) Pick your number of simulations R (1000 or more)\n",
    "2. (1pt) Create S random normally distributed simulated smoothnesses using the same mean and standard deviations you computed above in Q 2.1. Hint: you can create random normals with given mean µ and standard deviation σ along the lines mu=1 sigma=0.1 np.random.normal(mu, sigma, size=5)\n",
    "3. (1pt) Compute mean of your simulated numbers. Is it close to the true value µ (the mean you computed in 2.1.?? above)? Is it close to the H0 value? Explain!\n",
    "4. (3pt) Now repeat the last two points (2 and 3) R times. Each time store the mean. As a result you should have R simulated mean cell smoothnesses.\n",
    "5. (3pt) Compute mean of the means you simulated in the previous point (we’ll call it µ ∗ below). Which number do you get? Is it similar to the actual mean in data, or to the claim? Explain!\n",
    "6. (2pt) Make a histogram of your simulated means. Which distribution does it resemble? Why?\n",
    "7. (2pt) Compute standard deviation of your simulated means.\n",
    "8. (4pt) Compute 95% confidence intervals for your simulated means. Hint: just use np.percentile or np.quantile\n",
    "9. (3pt) What is your conclusion based on simulations–is H0 compatible with data? Can you reject H0?"
   ]
  },
  {
   "cell_type": "code",
   "execution_count": 781,
   "id": "db956bd5-410c-4b75-9935-9419b99ad9bd",
   "metadata": {},
   "outputs": [
    {
     "data": {
      "text/plain": [
       "1000"
      ]
     },
     "execution_count": 781,
     "metadata": {},
     "output_type": "execute_result"
    }
   ],
   "source": [
    "#2.2-1\n",
    "R = 1000\n",
    "R"
   ]
  },
  {
   "cell_type": "code",
   "execution_count": 800,
   "id": "88619072-581f-4a88-b16b-5d0908324522",
   "metadata": {},
   "outputs": [],
   "source": [
    "#2.2-2\n",
    "SN = np.random.normal(mu, sigma, S)"
   ]
  },
  {
   "cell_type": "code",
   "execution_count": 801,
   "id": "29c39251-aa89-4edc-a720-76d829beb204",
   "metadata": {},
   "outputs": [
    {
     "data": {
      "text/plain": [
       "0.09597894273989228"
      ]
     },
     "execution_count": 801,
     "metadata": {},
     "output_type": "execute_result"
    }
   ],
   "source": [
    "#2.2-3\n",
    "np.mean(SN)"
   ]
  },
  {
   "cell_type": "markdown",
   "id": "aa866c9a-0403-4773-b594-9718814902af",
   "metadata": {},
   "source": [
    "The mean of my simulated numbers is more close to the true value µ because the mean smoothness in hypothesis is 0.093 while the true value µ is 0.09636."
   ]
  },
  {
   "cell_type": "code",
   "execution_count": 806,
   "id": "d845a36c-306d-4866-ba2a-c2c813306d78",
   "metadata": {},
   "outputs": [],
   "source": [
    "#2.2-4\n",
    "arr = []\n",
    "def rep(arr):\n",
    "    for i in range(R):\n",
    "        x = np.random.normal(mu, sigma, S)\n",
    "        arr.append(np.mean(x))\n",
    "    return arr\n",
    "SM = rep(arr)"
   ]
  },
  {
   "cell_type": "code",
   "execution_count": 808,
   "id": "35646aeb-5b1c-493f-b37f-4618f1cf6b67",
   "metadata": {},
   "outputs": [
    {
     "data": {
      "text/plain": [
       "0.09636750616295366"
      ]
     },
     "execution_count": 808,
     "metadata": {},
     "output_type": "execute_result"
    }
   ],
   "source": [
    "#2.2-5\n",
    "muHat = np.mean(SM)\n",
    "muHat"
   ]
  },
  {
   "cell_type": "markdown",
   "id": "cef12dc6-bdf9-48b0-b6de-193fe6d5ca43",
   "metadata": {},
   "source": [
    "The mean of means I computed above is 0.09636750616295366 and still similar to the true/actual value µ because the mean smoothness in hypothesis is smaller than the true value µ."
   ]
  },
  {
   "cell_type": "code",
   "execution_count": 809,
   "id": "053d81a8-a7dc-41ee-8ee6-8ab2ab750de2",
   "metadata": {},
   "outputs": [
    {
     "data": {
      "image/png": "[encoded data removed]",
      "text/plain": [
       "<Figure size 432x288 with 1 Axes>"
      ]
     },
     "metadata": {
      "needs_background": "light"
     },
     "output_type": "display_data"
    }
   ],
   "source": [
    "#2.2-6\n",
    "_ = plt.hist(SM, bins = 50)"
   ]
  },
  {
   "cell_type": "markdown",
   "id": "9684a58d-41c7-48c7-aba7-6573e7b38572",
   "metadata": {},
   "source": [
    "The histogram above resembles normal distribution because the sample could be drawn from the normal distribution by using `np.random.normal` whose mean value is commonly distributed around µ."
   ]
  },
  {
   "cell_type": "code",
   "execution_count": 810,
   "id": "92334acf-471e-4609-876d-953181bc1a90",
   "metadata": {},
   "outputs": [
    {
     "data": {
      "text/plain": [
       "0.0005765110982357454"
      ]
     },
     "execution_count": 810,
     "metadata": {},
     "output_type": "execute_result"
    }
   ],
   "source": [
    "#2.2-7\n",
    "np.std(SM) #standard deviation of my simulated means"
   ]
  },
  {
   "cell_type": "code",
   "execution_count": 811,
   "id": "6b9a175c-3e12-4800-8933-b50b65c6104a",
   "metadata": {},
   "outputs": [
    {
     "data": {
      "text/plain": [
       "(0.09526013161213463, 0.09751460853282674)"
      ]
     },
     "execution_count": 811,
     "metadata": {},
     "output_type": "execute_result"
    }
   ],
   "source": [
    "#2.2-8\n",
    "np.percentile(SM, 2.5), np.percentile(SM, 97.5)"
   ]
  },
  {
   "cell_type": "code",
   "execution_count": 789,
   "id": "3468ec24-842e-473c-b7bb-b8f06ee3a705",
   "metadata": {},
   "outputs": [],
   "source": [
    "#2.2-9"
   ]
  },
  {
   "cell_type": "markdown",
   "id": "bcd51b9e-1cf5-4ad3-863a-c6c3b58f4edc",
   "metadata": {},
   "source": [
    "Since H0 - 0.093 - does not fall into the confidence interval computed above, we reject the claim at 95% confidence interval that the mean smoothness is 0.093."
   ]
  },
  {
   "cell_type": "markdown",
   "id": "11c2adae-028e-4b71-8103-668fe163d12c",
   "metadata": {},
   "source": [
    "### 2.3 Test hypothesis: t-test"
   ]
  },
  {
   "cell_type": "markdown",
   "id": "e1c710d0-8784-458a-acaf-7276c5984b75",
   "metadata": {},
   "source": [
    "1. (9pt) Compute the confidence interval of the sample mean without simulations, using just µ and σ. Do you get a similar result as in 2.2.??? Hint: check out Lecture Notes 1.5.2 “Doing Statistical Inference”.\n",
    "2. (9pt) Often we are not interested in CI but instead just the reject/do not reject decision. Compute the t-value. Will you reject H0 based on it? Hint: you need to compare it with the critical t value. Consult Openintro Stats 5.2 and 5.3. Note: OIS uses Z-values in that place. It is basically the same thing, but there are slight differences in terms of what exactly do you assume.\n",
    "3. (2pt) Write your conclusion: do both methods–simulations and t-test agree on rejecting/not rejecting the H0?"
   ]
  },
  {
   "cell_type": "code",
   "execution_count": 812,
   "id": "05e1b03b-76e1-4a1f-8b0e-d958f0845938",
   "metadata": {},
   "outputs": [
    {
     "data": {
      "text/plain": [
       "(0.06881882362456025, 0.12390173876559775)"
      ]
     },
     "execution_count": 812,
     "metadata": {},
     "output_type": "execute_result"
    }
   ],
   "source": [
    "#2.3-1\n",
    "(mu - (1.96 * sigma)), (mu + (1.96 * sigma))"
   ]
  },
  {
   "cell_type": "markdown",
   "id": "4a188a3a-49c1-44ed-832d-4061daefb1ce",
   "metadata": {},
   "source": [
    "The result above is not similar to the result in 2.2. It has a broader confidence interval compared to the previous one. The conclusion with this interval has a more chance to fail to reject the claim."
   ]
  },
  {
   "cell_type": "code",
   "execution_count": 815,
   "id": "631fa007-c738-473b-8d81-266242a4cd7b",
   "metadata": {},
   "outputs": [
    {
     "data": {
      "text/plain": [
       "5.704280924336899"
      ]
     },
     "execution_count": 815,
     "metadata": {},
     "output_type": "execute_result"
    }
   ],
   "source": [
    "#2.3-2\n",
    "t = (mu - 0.093) / (sigma/np.sqrt(S))\n",
    "t"
   ]
  },
  {
   "cell_type": "markdown",
   "id": "bf6b7745-dd23-4465-9317-f31cb9807f48",
   "metadata": {},
   "source": [
    "Since t-value is greater than criticial t value at 95% confidence level - 1.96, we reject H0."
   ]
  },
  {
   "cell_type": "code",
   "execution_count": 792,
   "id": "2741c15d-846f-4947-85f3-ec0726993d3f",
   "metadata": {},
   "outputs": [],
   "source": [
    "#2.3-3"
   ]
  },
  {
   "cell_type": "markdown",
   "id": "8a4911e4-2a1f-4613-98a7-d94607d97dd7",
   "metadata": {},
   "source": [
    "Based on the results, both methods of simulations and t-test reject the H0 since H0 did not fall into the 95% confidence interval and computed t-value is greater than the criticial t value."
   ]
  },
  {
   "cell_type": "markdown",
   "id": "d4eabf74-b053-44af-9026-69476f616cee",
   "metadata": {},
   "source": [
    "#### How many hours did you spend on this PS?"
   ]
  },
  {
   "cell_type": "markdown",
   "id": "9a48a275-4504-4c35-a0ef-39a6ad177082",
   "metadata": {},
   "source": [
    "I spent 7 hours on this PS."
   ]
  }
 ],
 "metadata": {
  "kernelspec": {
   "display_name": "Python 3 (ipykernel)",
   "language": "python",
   "name": "python3"
  },
  "language_info": {
   "codemirror_mode": {
    "name": "ipython",
    "version": 3
   },
   "file_extension": ".py",
   "mimetype": "text/x-python",
   "name": "python",
   "nbconvert_exporter": "python",
   "pygments_lexer": "ipython3",
   "version": "3.9.7"
  }
 },
 "nbformat": 4,
 "nbformat_minor": 5
}
