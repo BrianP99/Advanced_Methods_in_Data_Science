{
 "cells": [
  {
   "cell_type": "markdown",
   "id": "5c76f704-bd3c-4802-8b84-d0a8693d585c",
   "metadata": {},
   "source": [
    "# INFO 370 PS8\n",
    "*Name: Brian Park, Jae Sang Woo*"
   ]
  },
  {
   "cell_type": "code",
   "execution_count": 108,
   "id": "f54df92a-6a77-488f-b00d-c79b1110773e",
   "metadata": {},
   "outputs": [],
   "source": [
    "import pandas as pd\n",
    "import numpy as np\n",
    "import matplotlib.pyplot as plt"
   ]
  },
  {
   "cell_type": "markdown",
   "id": "087bf474-d27b-4367-b006-df9873e60084",
   "metadata": {},
   "source": [
    "## 1. Is COMPAS fair? "
   ]
  },
  {
   "cell_type": "markdown",
   "id": "26776a3e-3f8e-492f-b745-911eb39b4d00",
   "metadata": {},
   "source": [
    "1. (1pt) Load the COMPAS data, and perform the basic checks.\n",
    "2. (1pt) Filter the data to keep only Caucasian and African-Americans. There are just too few offenders of other races.\n",
    "3. (2pt) Create a new dummy variable based off of COMPAS risk score (decile_score), which indicates if an individual was classified as low risk (score 1-4) or high risk (score 5-10). Hint: you can do it in different ways but for technical reasons related the tasks below, thebest way to do it is to create a variable “high score”, that takes values 1 (decile score 5 andabove) and 0 (decile score 1-4).\n",
    "4. (6pt) Now analyze the offenders across this new risk category:(a) What is the recidivism rate (percentage of offenders who re-commit the crime) for lowrisk and high-risk individuals? (b) What are the recidivism rates for African-Americans and Caucasians?\n",
    "5. What do you think, is the model fair? If a person is classified as high-risk, there is a certain probability that the classification is wrong and the person is unjustly classified as high-risk. Is the probability that they arenmisclassified (approximately) the same for caucasians and african-americans? Do you think this means the model is fair?\n",
    "6. (8 pt) Now create a confusion matrix comparing COMPAS predictions for recidivism (lownrisk/high risk you created above) and the actual two-year recidivism and interpret the results. In order to be on the same page, let’s call recidivists “positives”. Note: you do not have to predict anything here. COMPAS has made the prediction for you, this is the variable you created in 3 based on decile_score. See the referred articles about the controversy around COMPAS methodology. Note 2: Do not just output a confusion matrix with accompanying text like “accuracy = x%, precision = y%”. Interpret your results such as “z% of recidivists were falsly classified as low-risk, COMPAS accurately classified k% of individuals, etc.”\n",
    "7. (8pt) Find the accuracy of the COMPAS classification, and also how its errors (false negatives and false positives) are distributed. Would you feel comfortable having a judge to use COMPAS to inform sentencing guidelines? What do you think, how well can judges perform the same task without COMPAS’s help? At what point would the error/misclassification risk be acceptable for you? Do you think the acceptable error rate should be the same for humannjudges and for algorithms? Remember: human judges are not perfect either!\n",
    "8. (10pt) Now repeat your confusion matrix calculation and analysis from 6. But this time do it separately for African-Americans and for Caucasians: (a) How accurate is the COMPAS classification for African-American individuals? For Caucasians? (b) What are the false positive rates (false recidivism rates) FPR? (c) The false negative rates (false no-recidivism rates) FNR? We did not talk about FPR and FNR in class, but you can consult Lecture Notes, section\n",
    "9. (12pt) If you have done this correctly, you will find that COMPAS’s percentage of correctly categorized individuals (accuracy) is fairly similar for African-Americans and Caucasians, but that false positive rates and false negative rates are different. Look again at the overal recidivism rates in the dataset for Black and White individuals. In your opinion, is the COMPAS algorithm fair? Justify your answer."
   ]
  },
  {
   "cell_type": "code",
   "execution_count": 109,
   "id": "6ffd4316-4f5c-4f53-a335-c8b6d34fa068",
   "metadata": {},
   "outputs": [
    {
     "data": {
      "text/html": [
       "<div>\n",
       "<style scoped>\n",
       "    .dataframe tbody tr th:only-of-type {\n",
       "        vertical-align: middle;\n",
       "    }\n",
       "\n",
       "    .dataframe tbody tr th {\n",
       "        vertical-align: top;\n",
       "    }\n",
       "\n",
       "    .dataframe thead th {\n",
       "        text-align: right;\n",
       "    }\n",
       "</style>\n",
       "<table border=\"1\" class=\"dataframe\">\n",
       "  <thead>\n",
       "    <tr style=\"text-align: right;\">\n",
       "      <th></th>\n",
       "      <th>age</th>\n",
       "      <th>c_charge_degree</th>\n",
       "      <th>race</th>\n",
       "      <th>age_cat</th>\n",
       "      <th>sex</th>\n",
       "      <th>priors_count</th>\n",
       "      <th>decile_score</th>\n",
       "      <th>two_year_recid</th>\n",
       "    </tr>\n",
       "  </thead>\n",
       "  <tbody>\n",
       "    <tr>\n",
       "      <th>0</th>\n",
       "      <td>69</td>\n",
       "      <td>F</td>\n",
       "      <td>Other</td>\n",
       "      <td>Greater than 45</td>\n",
       "      <td>Male</td>\n",
       "      <td>0</td>\n",
       "      <td>1</td>\n",
       "      <td>0</td>\n",
       "    </tr>\n",
       "    <tr>\n",
       "      <th>1</th>\n",
       "      <td>34</td>\n",
       "      <td>F</td>\n",
       "      <td>African-American</td>\n",
       "      <td>25 - 45</td>\n",
       "      <td>Male</td>\n",
       "      <td>0</td>\n",
       "      <td>3</td>\n",
       "      <td>1</td>\n",
       "    </tr>\n",
       "    <tr>\n",
       "      <th>2</th>\n",
       "      <td>24</td>\n",
       "      <td>F</td>\n",
       "      <td>African-American</td>\n",
       "      <td>Less than 25</td>\n",
       "      <td>Male</td>\n",
       "      <td>4</td>\n",
       "      <td>4</td>\n",
       "      <td>1</td>\n",
       "    </tr>\n",
       "    <tr>\n",
       "      <th>3</th>\n",
       "      <td>44</td>\n",
       "      <td>M</td>\n",
       "      <td>Other</td>\n",
       "      <td>25 - 45</td>\n",
       "      <td>Male</td>\n",
       "      <td>0</td>\n",
       "      <td>1</td>\n",
       "      <td>0</td>\n",
       "    </tr>\n",
       "    <tr>\n",
       "      <th>4</th>\n",
       "      <td>41</td>\n",
       "      <td>F</td>\n",
       "      <td>Caucasian</td>\n",
       "      <td>25 - 45</td>\n",
       "      <td>Male</td>\n",
       "      <td>14</td>\n",
       "      <td>6</td>\n",
       "      <td>1</td>\n",
       "    </tr>\n",
       "  </tbody>\n",
       "</table>\n",
       "</div>"
      ],
      "text/plain": [
       "   age c_charge_degree              race          age_cat   sex  priors_count  \\\n",
       "0   69               F             Other  Greater than 45  Male             0   \n",
       "1   34               F  African-American          25 - 45  Male             0   \n",
       "2   24               F  African-American     Less than 25  Male             4   \n",
       "3   44               M             Other          25 - 45  Male             0   \n",
       "4   41               F         Caucasian          25 - 45  Male            14   \n",
       "\n",
       "   decile_score  two_year_recid  \n",
       "0             1               0  \n",
       "1             3               1  \n",
       "2             4               1  \n",
       "3             1               0  \n",
       "4             6               1  "
      ]
     },
     "execution_count": 109,
     "metadata": {},
     "output_type": "execute_result"
    }
   ],
   "source": [
    "#1-1\n",
    "compas = pd.read_csv(\"../data/compas-score-data.csv.bz2\", sep=\"\\t\")\n",
    "compas.head()"
   ]
  },
  {
   "cell_type": "code",
   "execution_count": 110,
   "id": "9848f045-d062-4945-b9e6-9c8439b3795d",
   "metadata": {},
   "outputs": [
    {
     "data": {
      "text/plain": [
       "(6172, 8)"
      ]
     },
     "execution_count": 110,
     "metadata": {},
     "output_type": "execute_result"
    }
   ],
   "source": [
    "#1-1\n",
    "compas.shape"
   ]
  },
  {
   "cell_type": "code",
   "execution_count": 111,
   "id": "204b115f-d82b-44de-8d76-4867fe4c51ce",
   "metadata": {},
   "outputs": [
    {
     "data": {
      "text/plain": [
       "age                0\n",
       "c_charge_degree    0\n",
       "race               0\n",
       "age_cat            0\n",
       "sex                0\n",
       "priors_count       0\n",
       "decile_score       0\n",
       "two_year_recid     0\n",
       "dtype: int64"
      ]
     },
     "execution_count": 111,
     "metadata": {},
     "output_type": "execute_result"
    }
   ],
   "source": [
    "#1-1\n",
    "compas.isna().sum()"
   ]
  },
  {
   "cell_type": "code",
   "execution_count": 112,
   "id": "4370a482-8f62-471b-9270-7a7a866cf7b1",
   "metadata": {},
   "outputs": [
    {
     "data": {
      "text/html": [
       "<div>\n",
       "<style scoped>\n",
       "    .dataframe tbody tr th:only-of-type {\n",
       "        vertical-align: middle;\n",
       "    }\n",
       "\n",
       "    .dataframe tbody tr th {\n",
       "        vertical-align: top;\n",
       "    }\n",
       "\n",
       "    .dataframe thead th {\n",
       "        text-align: right;\n",
       "    }\n",
       "</style>\n",
       "<table border=\"1\" class=\"dataframe\">\n",
       "  <thead>\n",
       "    <tr style=\"text-align: right;\">\n",
       "      <th></th>\n",
       "      <th>age</th>\n",
       "      <th>c_charge_degree</th>\n",
       "      <th>race</th>\n",
       "      <th>age_cat</th>\n",
       "      <th>sex</th>\n",
       "      <th>priors_count</th>\n",
       "      <th>decile_score</th>\n",
       "      <th>two_year_recid</th>\n",
       "    </tr>\n",
       "  </thead>\n",
       "  <tbody>\n",
       "    <tr>\n",
       "      <th>1</th>\n",
       "      <td>34</td>\n",
       "      <td>F</td>\n",
       "      <td>African-American</td>\n",
       "      <td>25 - 45</td>\n",
       "      <td>Male</td>\n",
       "      <td>0</td>\n",
       "      <td>3</td>\n",
       "      <td>1</td>\n",
       "    </tr>\n",
       "    <tr>\n",
       "      <th>2</th>\n",
       "      <td>24</td>\n",
       "      <td>F</td>\n",
       "      <td>African-American</td>\n",
       "      <td>Less than 25</td>\n",
       "      <td>Male</td>\n",
       "      <td>4</td>\n",
       "      <td>4</td>\n",
       "      <td>1</td>\n",
       "    </tr>\n",
       "    <tr>\n",
       "      <th>4</th>\n",
       "      <td>41</td>\n",
       "      <td>F</td>\n",
       "      <td>Caucasian</td>\n",
       "      <td>25 - 45</td>\n",
       "      <td>Male</td>\n",
       "      <td>14</td>\n",
       "      <td>6</td>\n",
       "      <td>1</td>\n",
       "    </tr>\n",
       "    <tr>\n",
       "      <th>6</th>\n",
       "      <td>39</td>\n",
       "      <td>M</td>\n",
       "      <td>Caucasian</td>\n",
       "      <td>25 - 45</td>\n",
       "      <td>Female</td>\n",
       "      <td>0</td>\n",
       "      <td>1</td>\n",
       "      <td>0</td>\n",
       "    </tr>\n",
       "    <tr>\n",
       "      <th>7</th>\n",
       "      <td>27</td>\n",
       "      <td>F</td>\n",
       "      <td>Caucasian</td>\n",
       "      <td>25 - 45</td>\n",
       "      <td>Male</td>\n",
       "      <td>0</td>\n",
       "      <td>4</td>\n",
       "      <td>0</td>\n",
       "    </tr>\n",
       "  </tbody>\n",
       "</table>\n",
       "</div>"
      ],
      "text/plain": [
       "   age c_charge_degree              race       age_cat     sex  priors_count  \\\n",
       "1   34               F  African-American       25 - 45    Male             0   \n",
       "2   24               F  African-American  Less than 25    Male             4   \n",
       "4   41               F         Caucasian       25 - 45    Male            14   \n",
       "6   39               M         Caucasian       25 - 45  Female             0   \n",
       "7   27               F         Caucasian       25 - 45    Male             0   \n",
       "\n",
       "   decile_score  two_year_recid  \n",
       "1             3               1  \n",
       "2             4               1  \n",
       "4             6               1  \n",
       "6             1               0  \n",
       "7             4               0  "
      ]
     },
     "execution_count": 112,
     "metadata": {},
     "output_type": "execute_result"
    }
   ],
   "source": [
    "#1-2\n",
    "filtered = compas[compas['race'].isin([\"Caucasian\", \"African-American\"])]\n",
    "filtered.head()"
   ]
  },
  {
   "cell_type": "code",
   "execution_count": 113,
   "id": "b6461c80-372e-4795-ae89-fc2db6019a8a",
   "metadata": {},
   "outputs": [
    {
     "data": {
      "text/plain": [
       "(5278, 8)"
      ]
     },
     "execution_count": 113,
     "metadata": {},
     "output_type": "execute_result"
    }
   ],
   "source": [
    "#1-2\n",
    "filtered.shape"
   ]
  },
  {
   "cell_type": "code",
   "execution_count": 114,
   "id": "3d688c83-8cf2-4ad0-b04c-c0c54e93b446",
   "metadata": {},
   "outputs": [
    {
     "data": {
      "text/html": [
       "<div>\n",
       "<style scoped>\n",
       "    .dataframe tbody tr th:only-of-type {\n",
       "        vertical-align: middle;\n",
       "    }\n",
       "\n",
       "    .dataframe tbody tr th {\n",
       "        vertical-align: top;\n",
       "    }\n",
       "\n",
       "    .dataframe thead th {\n",
       "        text-align: right;\n",
       "    }\n",
       "</style>\n",
       "<table border=\"1\" class=\"dataframe\">\n",
       "  <thead>\n",
       "    <tr style=\"text-align: right;\">\n",
       "      <th></th>\n",
       "      <th>age</th>\n",
       "      <th>c_charge_degree</th>\n",
       "      <th>race</th>\n",
       "      <th>age_cat</th>\n",
       "      <th>sex</th>\n",
       "      <th>priors_count</th>\n",
       "      <th>decile_score</th>\n",
       "      <th>two_year_recid</th>\n",
       "      <th>high score</th>\n",
       "    </tr>\n",
       "  </thead>\n",
       "  <tbody>\n",
       "    <tr>\n",
       "      <th>1</th>\n",
       "      <td>34</td>\n",
       "      <td>F</td>\n",
       "      <td>African-American</td>\n",
       "      <td>25 - 45</td>\n",
       "      <td>Male</td>\n",
       "      <td>0</td>\n",
       "      <td>3</td>\n",
       "      <td>1</td>\n",
       "      <td>0</td>\n",
       "    </tr>\n",
       "    <tr>\n",
       "      <th>2</th>\n",
       "      <td>24</td>\n",
       "      <td>F</td>\n",
       "      <td>African-American</td>\n",
       "      <td>Less than 25</td>\n",
       "      <td>Male</td>\n",
       "      <td>4</td>\n",
       "      <td>4</td>\n",
       "      <td>1</td>\n",
       "      <td>0</td>\n",
       "    </tr>\n",
       "    <tr>\n",
       "      <th>4</th>\n",
       "      <td>41</td>\n",
       "      <td>F</td>\n",
       "      <td>Caucasian</td>\n",
       "      <td>25 - 45</td>\n",
       "      <td>Male</td>\n",
       "      <td>14</td>\n",
       "      <td>6</td>\n",
       "      <td>1</td>\n",
       "      <td>1</td>\n",
       "    </tr>\n",
       "    <tr>\n",
       "      <th>6</th>\n",
       "      <td>39</td>\n",
       "      <td>M</td>\n",
       "      <td>Caucasian</td>\n",
       "      <td>25 - 45</td>\n",
       "      <td>Female</td>\n",
       "      <td>0</td>\n",
       "      <td>1</td>\n",
       "      <td>0</td>\n",
       "      <td>0</td>\n",
       "    </tr>\n",
       "    <tr>\n",
       "      <th>7</th>\n",
       "      <td>27</td>\n",
       "      <td>F</td>\n",
       "      <td>Caucasian</td>\n",
       "      <td>25 - 45</td>\n",
       "      <td>Male</td>\n",
       "      <td>0</td>\n",
       "      <td>4</td>\n",
       "      <td>0</td>\n",
       "      <td>0</td>\n",
       "    </tr>\n",
       "  </tbody>\n",
       "</table>\n",
       "</div>"
      ],
      "text/plain": [
       "   age c_charge_degree              race       age_cat     sex  priors_count  \\\n",
       "1   34               F  African-American       25 - 45    Male             0   \n",
       "2   24               F  African-American  Less than 25    Male             4   \n",
       "4   41               F         Caucasian       25 - 45    Male            14   \n",
       "6   39               M         Caucasian       25 - 45  Female             0   \n",
       "7   27               F         Caucasian       25 - 45    Male             0   \n",
       "\n",
       "   decile_score  two_year_recid  high score  \n",
       "1             3               1           0  \n",
       "2             4               1           0  \n",
       "4             6               1           1  \n",
       "6             1               0           0  \n",
       "7             4               0           0  "
      ]
     },
     "execution_count": 114,
     "metadata": {},
     "output_type": "execute_result"
    }
   ],
   "source": [
    "#1-3\n",
    "filtered = filtered.copy()\n",
    "filtered[\"high score\"] = np.where(filtered[\"decile_score\"] > 4, 1, 0)\n",
    "\n",
    "filtered.head()"
   ]
  },
  {
   "cell_type": "code",
   "execution_count": 115,
   "id": "663bfa6e-ceeb-45ce-acb1-17578afebe3f",
   "metadata": {},
   "outputs": [
    {
     "data": {
      "text/plain": [
       "(16.691928760894278, 30.35240621447518)"
      ]
     },
     "execution_count": 115,
     "metadata": {},
     "output_type": "execute_result"
    }
   ],
   "source": [
    "#1-4-a\n",
    "#percentage of offenders who re-commit the crime for low risk\n",
    "rlow = (filtered[(filtered.two_year_recid == 1) & (filtered[\"high score\"]\n",
    " == 0)].shape[0]) * 100 / filtered.shape[0] \n",
    "\n",
    "#percentage of offenders who re-commit the crime for high risk\n",
    "rhigh = filtered[(filtered.two_year_recid == 1) & (filtered[\"high score\"]\n",
    " == 1)].shape[0] * 100 / filtered.shape[0]\n",
    "\n",
    "rlow, rhigh"
   ]
  },
  {
   "cell_type": "code",
   "execution_count": 116,
   "id": "d45c5fcf-ab77-480d-b53f-a33081ebfdad",
   "metadata": {},
   "outputs": [
    {
     "data": {
      "text/plain": [
       "(31.470253884046986, 15.574081091322471)"
      ]
     },
     "execution_count": 116,
     "metadata": {},
     "output_type": "execute_result"
    }
   ],
   "source": [
    "#1-4-b\n",
    "#recidivism rates for African-Americans\n",
    "raa = (filtered[(filtered.race == \"African-American\") & \n",
    "                (filtered.two_year_recid == 1)].shape[0]) * 100 / \\\n",
    "                filtered.shape[0]\n",
    "\n",
    "#recidivism rates for Caucasians\n",
    "rc = (filtered[(filtered.race == \"Caucasian\") & (filtered.two_year_recid\n",
    " == 1)].shape[0]) * 100 / filtered.shape[0]\n",
    "\n",
    "raa, rc"
   ]
  },
  {
   "cell_type": "code",
   "execution_count": 117,
   "id": "a0cdaa0d-2612-40b4-ae09-118b31681670",
   "metadata": {},
   "outputs": [],
   "source": [
    "#1-5"
   ]
  },
  {
   "cell_type": "markdown",
   "id": "b340c550-6835-469d-8b44-5f78cd42049d",
   "metadata": {},
   "source": [
    "Based on the computation above, the person with a high risk of recidivism is more likely to recidivate within 2 years. It also explains that African-Americans are more likely to recidivate within 2 years than Caucasians. The model seems fair enough if we only consider the first computation. However, if we misclassify those people in terms of their race, we can't say that the model is 100% fair because classifying by races would unjustly put people in high risk."
   ]
  },
  {
   "cell_type": "code",
   "execution_count": 118,
   "id": "89631fe3-12f3-4d15-9011-9332a8305665",
   "metadata": {},
   "outputs": [
    {
     "data": {
      "text/plain": [
       "(1602, 1872, 923, 881)"
      ]
     },
     "execution_count": 118,
     "metadata": {},
     "output_type": "execute_result"
    }
   ],
   "source": [
    "#1-6\n",
    "TP = filtered[(filtered.two_year_recid == 1) & \n",
    "              (filtered[\"high score\"] == 1)].shape[0]\n",
    "TN = filtered[(filtered.two_year_recid == 0) & \n",
    "              (filtered[\"high score\"] == 0)].shape[0]\n",
    "FP = filtered[(filtered.two_year_recid == 0) & \n",
    "              (filtered[\"high score\"] == 1)].shape[0]\n",
    "FN = filtered[(filtered.two_year_recid == 1) & \n",
    "              (filtered[\"high score\"] == 0)].shape[0]\n",
    "TP, TN, FP, FN"
   ]
  },
  {
   "cell_type": "markdown",
   "id": "8b8a42f1-7840-43d3-b0f5-1be6661b9440",
   "metadata": {},
   "source": [
    "| | **Predicted** | |\n",
    "| -------- | ------------: | ------:|\n",
    "| | \"Negatives\" (N) | “Positives” (P) |\n",
    "|**Actual**| 1872 | 923 |\n",
    "| | 881 | 1602 |"
   ]
  },
  {
   "cell_type": "code",
   "execution_count": 119,
   "id": "d4ac292e-ddbe-4d21-aca7-8301e17645a1",
   "metadata": {},
   "outputs": [
    {
     "data": {
      "text/plain": [
       "(0.6582038651004168, 0.6344554455445545, 0.6451872734595248, 0.639776357827476)"
      ]
     },
     "execution_count": 119,
     "metadata": {},
     "output_type": "execute_result"
    }
   ],
   "source": [
    "#1-6\n",
    "a = (TP + TN) / (TP + TN + FP + FN) #accuracy\n",
    "p = TP / (TP + FP) #precision\n",
    "r = TP / (TP + FN) #recall\n",
    "f = TP / (TP + (0.5 * (FP + FN))) #f-score\n",
    "\n",
    "a, p, r, f"
   ]
  },
  {
   "cell_type": "code",
   "execution_count": 120,
   "id": "a50f3e71-60ea-4109-a9a8-0c1db7276388",
   "metadata": {},
   "outputs": [
    {
     "data": {
      "text/plain": [
       "16.691928760894278"
      ]
     },
     "execution_count": 120,
     "metadata": {},
     "output_type": "execute_result"
    }
   ],
   "source": [
    "#1-6\n",
    "nlowrisk = (FN * 100 / (TP + TN + FP + FN)) # falsly classified as low-risk\n",
    "nlowrisk"
   ]
  },
  {
   "cell_type": "code",
   "execution_count": 121,
   "id": "7738b050-a0db-4208-9f1f-04d05f92ee12",
   "metadata": {},
   "outputs": [
    {
     "data": {
      "text/plain": [
       "17.48768472906404"
      ]
     },
     "execution_count": 121,
     "metadata": {},
     "output_type": "execute_result"
    }
   ],
   "source": [
    "#1-6\n",
    "nhighrisk = (FP * 100 / (TP + TN + FP + FN)) # falsly classified as high-risk\n",
    "nhighrisk"
   ]
  },
  {
   "cell_type": "code",
   "execution_count": 122,
   "id": "5b02d29c-64f4-4faa-a013-a6a38e82cae9",
   "metadata": {},
   "outputs": [
    {
     "data": {
      "text/plain": [
       "65.82038651004169"
      ]
     },
     "execution_count": 122,
     "metadata": {},
     "output_type": "execute_result"
    }
   ],
   "source": [
    "#1-6\n",
    "((TP + TN) * 100 / (TP + TN + FP + FN)) # accurately classified "
   ]
  },
  {
   "cell_type": "markdown",
   "id": "17b658e9-969c-4e96-ad5f-ec7e79a2e284",
   "metadata": {},
   "source": [
    "Based on the confusion matrix, 16.69% of recidivists were falsly classified as low-risk, 17.49% of recidivists were falsly classified as high-risk, and COMPAS accurately classified 65.82% of individuals."
   ]
  },
  {
   "cell_type": "code",
   "execution_count": 123,
   "id": "9c4f593e-9933-49ed-a037-b574fafc890a",
   "metadata": {},
   "outputs": [
    {
     "data": {
      "text/plain": [
       "(0.6582038651004168, 16.691928760894278, 17.48768472906404)"
      ]
     },
     "execution_count": 123,
     "metadata": {},
     "output_type": "execute_result"
    }
   ],
   "source": [
    "#1-7\n",
    "a = (TP + TN) / (TP + TN + FP + FN) #accuracy\n",
    "\n",
    "#accuracy, falsly classified as low-risk, falsly classified as high-risk\n",
    "a, nlowrisk, nhighrisk "
   ]
  },
  {
   "cell_type": "markdown",
   "id": "a61dde8e-0095-44b7-bf09-70ad62926af8",
   "metadata": {},
   "source": [
    "In terms of its accuracy to have a judge for sentencing guidelines, we are not comfortable enough just with about 66% of accuracy. It's neither high nor low enough to use it for the guidline but it will be helpful to be used as a reference to judge people.  "
   ]
  },
  {
   "cell_type": "markdown",
   "id": "539a42b8-8327-4a90-8b83-c0af7d1d6e2e",
   "metadata": {},
   "source": [
    "Without COMPAS's help, judges will still be able to perform the same task because they would look more into the real trial they participate in rather than just using the data to classify people. Also, they would believe more in their knowledge and experience from being judges to have a judge."
   ]
  },
  {
   "cell_type": "markdown",
   "id": "db4d41b9-8378-41ad-8b8b-6425c168db75",
   "metadata": {},
   "source": [
    "I would accept the error/misclassification risk if they are significantly low numbers which would have a low effect on accurately classifying people."
   ]
  },
  {
   "cell_type": "markdown",
   "id": "212fc605-59d0-40ef-9387-b7fc733fc8d9",
   "metadata": {},
   "source": [
    "I think that algorithms should have more strict acceptable error rate since machines can fix the error much quicker and more accurate than humans. Since I believe that algorithms have more abilities to reduce the error more accurate, the acceptable error rate should not be the same for human judges and algorithms."
   ]
  },
  {
   "cell_type": "code",
   "execution_count": 124,
   "id": "4199f845-b78d-4c9e-8a46-82b86f22232e",
   "metadata": {},
   "outputs": [],
   "source": [
    "#1-8\n",
    "dfaa = filtered[filtered[\"race\"] == \"African-American\"]\n",
    "dfc = filtered[filtered[\"race\"] == \"Caucasian\"]"
   ]
  },
  {
   "cell_type": "code",
   "execution_count": 125,
   "id": "9ffe2500-ed35-40d7-9ad7-67491afb0a09",
   "metadata": {},
   "outputs": [
    {
     "data": {
      "text/plain": [
       "(1188, 873, 641, 473)"
      ]
     },
     "execution_count": 125,
     "metadata": {},
     "output_type": "execute_result"
    }
   ],
   "source": [
    "#1-8-African-American\n",
    "aTP = dfaa[(dfaa.two_year_recid == 1) & \n",
    "          (dfaa[\"high score\"] == 1)].shape[0]\n",
    "aTN = dfaa[(dfaa.two_year_recid == 0) & \n",
    "          (dfaa[\"high score\"] == 0)].shape[0]\n",
    "aFP = dfaa[(dfaa.two_year_recid == 0) & \n",
    "          (dfaa[\"high score\"] == 1)].shape[0]\n",
    "aFN = dfaa[(dfaa.two_year_recid == 1) & \n",
    "          (dfaa[\"high score\"] == 0)].shape[0]\n",
    "aTP, aTN, aFP, aFN"
   ]
  },
  {
   "cell_type": "code",
   "execution_count": 126,
   "id": "96968523-7c10-450c-a647-abffc8d7badd",
   "metadata": {},
   "outputs": [
    {
     "data": {
      "text/plain": [
       "(414, 999, 282, 408)"
      ]
     },
     "execution_count": 126,
     "metadata": {},
     "output_type": "execute_result"
    }
   ],
   "source": [
    "#1-8-Caucasian\n",
    "cTP = dfc[(dfc.two_year_recid == 1) & \n",
    "         (dfc[\"high score\"] == 1)].shape[0]\n",
    "cTN = dfc[(dfc.two_year_recid == 0) & \n",
    "         (dfc[\"high score\"] == 0)].shape[0]\n",
    "cFP = dfc[(dfc.two_year_recid == 0) & \n",
    "         (dfc[\"high score\"] == 1)].shape[0]\n",
    "cFN = dfc[(dfc.two_year_recid == 1) & \n",
    "         (dfc[\"high score\"] == 0)].shape[0]\n",
    "cTP, cTN, cFP, cFN"
   ]
  },
  {
   "cell_type": "code",
   "execution_count": 127,
   "id": "949875ed-b105-421e-a23a-c7a7e105a78b",
   "metadata": {},
   "outputs": [
    {
     "data": {
      "text/plain": [
       "0.6491338582677165"
      ]
     },
     "execution_count": 127,
     "metadata": {},
     "output_type": "execute_result"
    }
   ],
   "source": [
    "#1-8-a-African-American\n",
    "aAA = (aTP + aTN) / (aTP + aTN + aFP + aFN) #accuracy for African-American\n",
    "aAA"
   ]
  },
  {
   "cell_type": "markdown",
   "id": "51839694-1da1-4722-a296-2a8966726f57",
   "metadata": {},
   "source": [
    "Based on the confusion matrix and analysis above, the COMPAS classification is 64.9% accurate for African-Americans."
   ]
  },
  {
   "cell_type": "code",
   "execution_count": 128,
   "id": "cd95b34b-e88e-4e3c-a63b-26c292b96448",
   "metadata": {},
   "outputs": [
    {
     "data": {
      "text/plain": [
       "0.6718972895863052"
      ]
     },
     "execution_count": 128,
     "metadata": {},
     "output_type": "execute_result"
    }
   ],
   "source": [
    "#1-8-a-Caucasian\n",
    "cAA = (cTP + cTN) / (cTP + cTN + cFP + cFN) #accuracy for Caucasian\n",
    "cAA"
   ]
  },
  {
   "cell_type": "markdown",
   "id": "1fb5358e-2c60-40f7-9134-c267fc1730bd",
   "metadata": {},
   "source": [
    "Based on the confusion matrix and analysis above, the COMPAS classification is 67.2% accurate for Caucasians."
   ]
  },
  {
   "cell_type": "code",
   "execution_count": 129,
   "id": "ce069019-338d-4d54-9312-d791173f46bf",
   "metadata": {},
   "outputs": [
    {
     "data": {
      "text/plain": [
       "0.4233817701453104"
      ]
     },
     "execution_count": 129,
     "metadata": {},
     "output_type": "execute_result"
    }
   ],
   "source": [
    "#1-8-b-African-American-FPR\n",
    "aFPR = (aFP / (aTN + aFP))\n",
    "aFPR"
   ]
  },
  {
   "cell_type": "markdown",
   "id": "a5468f49-4173-4653-916f-2ea71f706792",
   "metadata": {},
   "source": [
    "The false positive rate for African Americans is 0.42."
   ]
  },
  {
   "cell_type": "code",
   "execution_count": 130,
   "id": "ce7cb66d-3328-493c-84ca-acde97be7dff",
   "metadata": {},
   "outputs": [
    {
     "data": {
      "text/plain": [
       "0.22014051522248243"
      ]
     },
     "execution_count": 130,
     "metadata": {},
     "output_type": "execute_result"
    }
   ],
   "source": [
    "#1-8-b-Caucasian-FPR\n",
    "cFPR = (cFP / (cTN + cFP))\n",
    "cFPR"
   ]
  },
  {
   "cell_type": "markdown",
   "id": "7ff6add8-d286-4230-b4f2-d531267b1025",
   "metadata": {},
   "source": [
    "The false positive rate for Caucasian is 0.22."
   ]
  },
  {
   "cell_type": "code",
   "execution_count": 131,
   "id": "6b026b37-6af7-468a-b86b-d5b9f1394167",
   "metadata": {},
   "outputs": [
    {
     "data": {
      "text/plain": [
       "0.2847682119205298"
      ]
     },
     "execution_count": 131,
     "metadata": {},
     "output_type": "execute_result"
    }
   ],
   "source": [
    "#1-8-c-African-American-FNR\n",
    "aFNR = (aFN / (aTP + aFN))\n",
    "aFNR"
   ]
  },
  {
   "cell_type": "markdown",
   "id": "32010923-906b-4d8d-9da9-d1c3b3e55cb8",
   "metadata": {},
   "source": [
    "The false negative rate for African Americans is 0.28."
   ]
  },
  {
   "cell_type": "code",
   "execution_count": 132,
   "id": "02ea2e60-cfab-4734-bd2a-e2d96ac09ff1",
   "metadata": {},
   "outputs": [
    {
     "data": {
      "text/plain": [
       "0.49635036496350365"
      ]
     },
     "execution_count": 132,
     "metadata": {},
     "output_type": "execute_result"
    }
   ],
   "source": [
    "#1-8-c-Caucasian-FNR\n",
    "cFNR = (cFN / (cTP + cFN))\n",
    "cFNR"
   ]
  },
  {
   "cell_type": "markdown",
   "id": "d6e4d184-9988-4f5d-b5c5-200909402ab2",
   "metadata": {},
   "source": [
    "The false negative rate for Caucasian is 0.50."
   ]
  },
  {
   "cell_type": "code",
   "execution_count": 133,
   "id": "e7df7c77-65b9-4ec0-b263-32439bed8ae7",
   "metadata": {},
   "outputs": [],
   "source": [
    "#1-9"
   ]
  },
  {
   "cell_type": "markdown",
   "id": "bc400310-3c87-44da-a092-85c1dd33e52e",
   "metadata": {},
   "source": [
    "Based on what we have done in this question, I don't believe that the COMPAS algorithm is fair enough. It is more biased toward that African-Americans are more likely to recidivate compared to Caucasians. This algorithm is more likely to classify people of African-Americans as high risk, meaning that race plays a significant role in classifying people in this algorithm. Therefore, I believe that this algorithm is not fair to become a sentencing guildline."
   ]
  },
  {
   "cell_type": "markdown",
   "id": "f249648b-957e-40d2-803f-18f061e01c26",
   "metadata": {},
   "source": [
    "## 2. Can you beat COMPAS? "
   ]
  },
  {
   "cell_type": "markdown",
   "id": "2dd9bc93-ab0c-47ef-b898-f37a8a9ed82c",
   "metadata": {},
   "source": [
    "1. (8pt) Before we start: what do you think, what is an appropriate model performance measure here? A, P, R, F or something else? Maybe you want to report multiple measures? Explain!\n",
    "2. (6pt) Now it is time to do the modeling. Create a logistic regression model that contains all explanatory variables you have in data into the model. (Some of these you have to convert to dummies). Do not include the variables discussed above, do not include race and gender in this model either to avoid explicit gender/racial bias. Use 10-fold CV to compute its relevant performance measure(s) you discussed above.\n",
    "3. (6pt) Experiment with different models to find the best model according to your preformance indicator. Try trees and k-NN, you may also include other types of models. Include/exclude different variables. You may also do feature engineering, e.g. create a different set of age groups, include variables like age2, age2, interaction effects, etc. But do not include race and gender. Report what did you try (no need to report the full results of all of your unsuccessful attempts), and your best model’s performance. Did you got better results or worse results than COMPAS?\n",
    "4. (12pt) Discuss the results. Did you manage to be equally good as COMPAS? Did you create a better model? Do gender and race help to improve your predictions? What should judges do when having access to such models? Should they use such models?"
   ]
  },
  {
   "cell_type": "code",
   "execution_count": 134,
   "id": "6c49b1e9-0b65-4ff8-a966-66f64e067408",
   "metadata": {},
   "outputs": [],
   "source": [
    "#2-1"
   ]
  },
  {
   "cell_type": "markdown",
   "id": "cbcc3e5f-c046-40da-912a-6119a679006a",
   "metadata": {},
   "source": [
    "Since all values for A, P, R, F are fairly close to each other, we would try all the measures to see which performance measure performs the best."
   ]
  },
  {
   "cell_type": "code",
   "execution_count": 135,
   "id": "3f19e858-927b-4002-abb9-7544b4b74dfe",
   "metadata": {},
   "outputs": [],
   "source": [
    "#2-2\n",
    "X = compas[[\"age\", \"c_charge_degree\", \"age_cat\", \"priors_count\"]]"
   ]
  },
  {
   "cell_type": "code",
   "execution_count": 136,
   "id": "7286d92f-edae-4a2d-8292-a48318abea08",
   "metadata": {},
   "outputs": [
    {
     "data": {
      "text/plain": [
       "array([[69,  0,  1,  0,  0,  1,  0],\n",
       "       [34,  0,  1,  0,  1,  0,  0],\n",
       "       [24,  4,  1,  0,  0,  0,  1],\n",
       "       [44,  0,  0,  1,  1,  0,  0],\n",
       "       [41, 14,  1,  0,  1,  0,  0]])"
      ]
     },
     "execution_count": 136,
     "metadata": {},
     "output_type": "execute_result"
    }
   ],
   "source": [
    "#2-2\n",
    "y = compas.two_year_recid.values\n",
    "X = pd.get_dummies(X\n",
    "               ,columns = [\"c_charge_degree\", \"age_cat\"]).\\\n",
    "values\n",
    "X[:5]"
   ]
  },
  {
   "cell_type": "code",
   "execution_count": 137,
   "id": "6f436fdd-9e6f-4702-97d6-798167033c60",
   "metadata": {},
   "outputs": [],
   "source": [
    "#2-2\n",
    "from sklearn.linear_model import LogisticRegression\n",
    "\n",
    "m = LogisticRegression(max_iter=2500)\n",
    "_ = m.fit(X,y)"
   ]
  },
  {
   "cell_type": "code",
   "execution_count": 138,
   "id": "bf6b15a6-3a6a-4281-9338-a0a9272aa586",
   "metadata": {},
   "outputs": [
    {
     "data": {
      "text/plain": [
       "0.6774110556875581"
      ]
     },
     "execution_count": 138,
     "metadata": {},
     "output_type": "execute_result"
    }
   ],
   "source": [
    "#2-2 accuracy\n",
    "from sklearn.model_selection import cross_val_score\n",
    "cv = cross_val_score(m, X, y,\n",
    "                scoring=\"accuracy\",\n",
    "                cv=10)\n",
    "np.mean(cv)"
   ]
  },
  {
   "cell_type": "code",
   "execution_count": 139,
   "id": "44f6af72-bcf8-496a-bc3d-367931521b18",
   "metadata": {},
   "outputs": [
    {
     "data": {
      "text/plain": [
       "0.6678175901993845"
      ]
     },
     "execution_count": 139,
     "metadata": {},
     "output_type": "execute_result"
    }
   ],
   "source": [
    "#2-2 precision\n",
    "from sklearn.model_selection import cross_val_score\n",
    "cv = cross_val_score(m, X, y,\n",
    "                scoring=\"precision\",\n",
    "                cv=10)\n",
    "np.mean(cv)"
   ]
  },
  {
   "cell_type": "code",
   "execution_count": 140,
   "id": "ccb21b92-4bfb-4fb6-a4e5-6df9100fb879",
   "metadata": {},
   "outputs": [
    {
     "data": {
      "text/plain": [
       "0.579926283680732"
      ]
     },
     "execution_count": 140,
     "metadata": {},
     "output_type": "execute_result"
    }
   ],
   "source": [
    "#2-2 recall\n",
    "from sklearn.model_selection import cross_val_score\n",
    "cv = cross_val_score(m, X, y,\n",
    "                scoring=\"recall\",\n",
    "                cv=10)\n",
    "np.mean(cv)"
   ]
  },
  {
   "cell_type": "code",
   "execution_count": 141,
   "id": "865f88c5-eecc-4d17-9e27-b918852e42b1",
   "metadata": {},
   "outputs": [
    {
     "data": {
      "text/plain": [
       "0.6205423125223205"
      ]
     },
     "execution_count": 141,
     "metadata": {},
     "output_type": "execute_result"
    }
   ],
   "source": [
    "#2-2 F-score\n",
    "from sklearn.model_selection import cross_val_score\n",
    "cv = cross_val_score(m, X, y,\n",
    "                scoring=\"f1\",\n",
    "                cv=10)\n",
    "np.mean(cv)"
   ]
  },
  {
   "cell_type": "code",
   "execution_count": 142,
   "id": "6fae7b3f-57c7-4db0-8a23-58d0a0b475ed",
   "metadata": {},
   "outputs": [
    {
     "data": {
      "text/plain": [
       "0.6949125081011017"
      ]
     },
     "execution_count": 142,
     "metadata": {},
     "output_type": "execute_result"
    }
   ],
   "source": [
    "#2-3-NN\n",
    "from sklearn.neighbors import KNeighborsClassifier\n",
    "\n",
    "k = 23\n",
    "m = KNeighborsClassifier(k)\n",
    "_ = m.fit(X, y)\n",
    "\n",
    "yhat = m.predict(X)\n",
    "\n",
    "np.mean(y == yhat)"
   ]
  },
  {
   "cell_type": "code",
   "execution_count": 143,
   "id": "daf17a6c-6960-4586-8bda-6808c6f2d1ce",
   "metadata": {},
   "outputs": [
    {
     "data": {
      "text/plain": [
       "0.7394685677252106"
      ]
     },
     "execution_count": 143,
     "metadata": {},
     "output_type": "execute_result"
    }
   ],
   "source": [
    "#2-3-DTree\n",
    "from sklearn.tree import DecisionTreeClassifier\n",
    "\n",
    "d = 25\n",
    "m = DecisionTreeClassifier(max_depth = d)\n",
    "_ = m.fit(X, y)\n",
    "\n",
    "yhat = m.predict(X)\n",
    "\n",
    "np.mean(y == yhat)"
   ]
  },
  {
   "cell_type": "code",
   "execution_count": 144,
   "id": "3b1d4810-9d5d-47ae-ab7d-a56ce0f4bb60",
   "metadata": {},
   "outputs": [
    {
     "data": {
      "text/plain": [
       "array([[ 0,  1,  0,  0,  1],\n",
       "       [ 0,  1,  0,  1,  0],\n",
       "       [ 4,  1,  0,  1,  0],\n",
       "       [ 0,  0,  1,  1,  0],\n",
       "       [14,  1,  0,  1,  0]])"
      ]
     },
     "execution_count": 144,
     "metadata": {},
     "output_type": "execute_result"
    }
   ],
   "source": [
    "#2-3-add different age of group / 18-64 or 65+\n",
    "compas['new_age_cat'] = np.where(\n",
    "    compas['age'] > 64, \"1\", \"0\")\n",
    "\n",
    "X = compas[[\"c_charge_degree\", \"new_age_cat\", \"priors_count\"]]\n",
    "\n",
    "y = compas.two_year_recid.values\n",
    "X = pd.get_dummies(X\n",
    "               ,columns = [\"c_charge_degree\", \"new_age_cat\"]).\\\n",
    "values\n",
    "X[:5]"
   ]
  },
  {
   "cell_type": "code",
   "execution_count": 145,
   "id": "75ea4515-2367-4368-a549-b321a317667c",
   "metadata": {},
   "outputs": [
    {
     "data": {
      "text/plain": [
       "0.619896305897602"
      ]
     },
     "execution_count": 145,
     "metadata": {},
     "output_type": "execute_result"
    }
   ],
   "source": [
    "#2-3-add different age of group / 18-64 or 65+\n",
    "k = 23\n",
    "m = KNeighborsClassifier(k)\n",
    "_ = m.fit(X, y)\n",
    "\n",
    "yhat = m.predict(X)\n",
    "\n",
    "np.mean(y == yhat)"
   ]
  },
  {
   "cell_type": "code",
   "execution_count": 146,
   "id": "4eac9c34-e811-45d0-9e51-82a18fa5fa2b",
   "metadata": {},
   "outputs": [
    {
     "data": {
      "text/plain": [
       "0.653596889176928"
      ]
     },
     "execution_count": 146,
     "metadata": {},
     "output_type": "execute_result"
    }
   ],
   "source": [
    "#2-3-add different age of group / 18-64 or 65+\n",
    "d = 25\n",
    "m = DecisionTreeClassifier(max_depth = d)\n",
    "_ = m.fit(X, y)\n",
    "\n",
    "yhat = m.predict(X)\n",
    "\n",
    "np.mean(y == yhat)"
   ]
  },
  {
   "cell_type": "code",
   "execution_count": 147,
   "id": "93635eb5-5bb3-4459-a97d-17081d8a9ce8",
   "metadata": {},
   "outputs": [
    {
     "data": {
      "text/plain": [
       "array([[  69, 4761,    0,    1,    0,    0,    1],\n",
       "       [  34, 1156,    0,    1,    0,    1,    0],\n",
       "       [  24,  576,    4,    1,    0,    1,    0],\n",
       "       [  44, 1936,    0,    0,    1,    1,    0],\n",
       "       [  41, 1681,   14,    1,    0,    1,    0]])"
      ]
     },
     "execution_count": 147,
     "metadata": {},
     "output_type": "execute_result"
    }
   ],
   "source": [
    "#2-3-age^2, new_age_cat\n",
    "compas[\"age2\"] = (compas.age)**2\n",
    "\n",
    "X = compas[[\"age\", \"age2\", \"c_charge_degree\", \"priors_count\", \"new_age_cat\"]]\n",
    "\n",
    "y = compas.two_year_recid.values\n",
    "X = pd.get_dummies(X\n",
    "               ,columns = [\"c_charge_degree\", \"new_age_cat\"]).\\\n",
    "values\n",
    "X[:5]"
   ]
  },
  {
   "cell_type": "code",
   "execution_count": 148,
   "id": "bd8db640-2b5e-4e90-9542-1f22ef9f9f7e",
   "metadata": {},
   "outputs": [
    {
     "data": {
      "text/plain": [
       "0.6955605962410888"
      ]
     },
     "execution_count": 148,
     "metadata": {},
     "output_type": "execute_result"
    }
   ],
   "source": [
    "#2-3-age^2, new_age_cat\n",
    "k = 23\n",
    "m = KNeighborsClassifier(k)\n",
    "_ = m.fit(X, y)\n",
    "\n",
    "yhat = m.predict(X)\n",
    "\n",
    "np.mean(y == yhat)"
   ]
  },
  {
   "cell_type": "code",
   "execution_count": 149,
   "id": "c75fc658-b67f-42d7-ba07-5b1a78c980f9",
   "metadata": {},
   "outputs": [
    {
     "data": {
      "text/plain": [
       "0.7394685677252106"
      ]
     },
     "execution_count": 149,
     "metadata": {},
     "output_type": "execute_result"
    }
   ],
   "source": [
    "#2-3-age^2, new_age_cat\n",
    "d = 25\n",
    "m = DecisionTreeClassifier(max_depth = d)\n",
    "_ = m.fit(X, y)\n",
    "\n",
    "yhat = m.predict(X)\n",
    "\n",
    "np.mean(y == yhat)"
   ]
  },
  {
   "cell_type": "markdown",
   "id": "a85d7fca-d730-4ccc-ae2e-e85d574beee7",
   "metadata": {},
   "source": [
    "I tried both age^2 and different set of age group to split the data into two age groups - 18-64 and 65+. Compared to the COMPAS, this resulted in a better accuracy with DecisionTree when max_depth was 25."
   ]
  },
  {
   "cell_type": "code",
   "execution_count": 150,
   "id": "3de39655-6967-4a6f-9181-904e15f39912",
   "metadata": {},
   "outputs": [],
   "source": [
    "#2-4"
   ]
  },
  {
   "cell_type": "markdown",
   "id": "96b2ea22-cd98-423f-870d-7a75c4ce8182",
   "metadata": {},
   "source": [
    "I created somewhat a better model than the COMPAS by excluding race and gender. It represents that judges should be aware of how gender and race factors can affect classifying people. Therefore, they should try their best to make an unbiased judges by excluding subject's gender and race. If some models make results based on those factors - gender and race - they should be careful about interpreting the predictions when using such models."
   ]
  },
  {
   "cell_type": "markdown",
   "id": "6bb7140b-bd00-4b6a-b373-4c34bee7f24d",
   "metadata": {
    "tags": []
   },
   "source": [
    "## 3. Is your model more fair?"
   ]
  },
  {
   "cell_type": "markdown",
   "id": "8f874bb0-5326-4dfb-8b46-0badc9783a43",
   "metadata": {},
   "source": [
    "1. (6pt) Replicate 1.8 using your best model: pick the best model from question 2.3 (i.e. your best model without sex and race), predict recidivism for everyone in data (ie only AfricanAmericans and Caucasians), and compute FPR and FNR separately for African-Americans and Caucasians.\n",
    "2. (6pt) Explain what do you get. Are your results different from COMPAS in any significant way?"
   ]
  },
  {
   "cell_type": "code",
   "execution_count": 151,
   "id": "2ac13648-b531-4c1c-b857-b391835c00ba",
   "metadata": {},
   "outputs": [
    {
     "data": {
      "text/plain": [
       "(array([[1231,  283],\n",
       "        [ 454, 1207]]),\n",
       " array([[1180,  101],\n",
       "        [ 365,  457]]))"
      ]
     },
     "execution_count": 151,
     "metadata": {},
     "output_type": "execute_result"
    }
   ],
   "source": [
    "#3-1\n",
    "from sklearn.metrics import confusion_matrix\n",
    "\n",
    "dfaa = compas[compas[\"race\"] == \"African-American\"]\n",
    "dfc = compas[compas[\"race\"] == \"Caucasian\"]\n",
    "\n",
    "#African-Americans\n",
    "Xaa = dfaa[[\"age\", \"age2\", \"c_charge_degree\", \"priors_count\", \"new_age_cat\"]]\n",
    "Xaa = pd.get_dummies(Xaa\n",
    "               ,columns = [\"c_charge_degree\", \"new_age_cat\"]).\\\n",
    "values\n",
    "yaa = dfaa.two_year_recid.values\n",
    "\n",
    "#Caucasian\n",
    "Xc = dfc[[\"age\", \"age2\", \"c_charge_degree\", \"priors_count\", \"new_age_cat\"]]\n",
    "Xc = pd.get_dummies(Xc\n",
    "               ,columns = [\"c_charge_degree\", \"new_age_cat\"]).\\\n",
    "values\n",
    "yc = dfc.two_year_recid.values\n",
    "\n",
    "#African-Americans\n",
    "maa = DecisionTreeClassifier(max_depth = 25)\n",
    "_ = m.fit(Xaa, yaa)\n",
    "yhataa = m.predict(Xaa)\n",
    "\n",
    "#Caucasian\n",
    "mc = DecisionTreeClassifier(max_depth = 25)\n",
    "_ = m.fit(Xc, yc)\n",
    "yhatc = m.predict(Xc)\n",
    "\n",
    "cmaa = confusion_matrix(yaa, yhataa) #African-Americans\n",
    "cmc = confusion_matrix(yc, yhatc) #Caucasian\n",
    "\n",
    "cmaa, cmc"
   ]
  },
  {
   "cell_type": "code",
   "execution_count": 152,
   "id": "b430cfae-65b9-48fc-90c3-bddfccdeb4e7",
   "metadata": {},
   "outputs": [],
   "source": [
    "#3-1-African-Americans\n",
    "TP = cmaa[1,1]\n",
    "FN = cmaa[1,0]\n",
    "TN = cmaa[0,0]\n",
    "FP = cmaa[0,1]"
   ]
  },
  {
   "cell_type": "code",
   "execution_count": 153,
   "id": "47f0d086-37e6-42d4-b2bc-10556ec48ea9",
   "metadata": {},
   "outputs": [
    {
     "data": {
      "text/plain": [
       "0.7678740157480315"
      ]
     },
     "execution_count": 153,
     "metadata": {},
     "output_type": "execute_result"
    }
   ],
   "source": [
    "#3-1-accuracy-African-Americans\n",
    "a = (TP + TN) / (TP + TN + FP + FN)\n",
    "a"
   ]
  },
  {
   "cell_type": "code",
   "execution_count": 154,
   "id": "f08e773a-fedd-4d1c-80bb-5d1e1decf68e",
   "metadata": {},
   "outputs": [
    {
     "data": {
      "text/plain": [
       "0.18692206076618229"
      ]
     },
     "execution_count": 154,
     "metadata": {},
     "output_type": "execute_result"
    }
   ],
   "source": [
    "#3-1-FPR-African-Americans\n",
    "FPR = (FP / (TN + FP))\n",
    "FPR"
   ]
  },
  {
   "cell_type": "code",
   "execution_count": 155,
   "id": "b5aef1af-d379-461b-8441-c65bea65c181",
   "metadata": {},
   "outputs": [
    {
     "data": {
      "text/plain": [
       "0.2733293196869356"
      ]
     },
     "execution_count": 155,
     "metadata": {},
     "output_type": "execute_result"
    }
   ],
   "source": [
    "#3-1-FNR-African-Americans\n",
    "FNR = (FN / (TP + FN))\n",
    "FNR"
   ]
  },
  {
   "cell_type": "code",
   "execution_count": 156,
   "id": "f0a3ba61-f9f8-427e-b230-67c4b5a80b90",
   "metadata": {},
   "outputs": [],
   "source": [
    "#3-1-Caucasian\n",
    "TP = cmc[1,1]\n",
    "FN = cmc[1,0]\n",
    "TN = cmc[0,0]\n",
    "FP = cmc[0,1]"
   ]
  },
  {
   "cell_type": "code",
   "execution_count": 157,
   "id": "d44e2054-4c70-43fd-aab2-80c02b10848a",
   "metadata": {},
   "outputs": [
    {
     "data": {
      "text/plain": [
       "0.7784117926771279"
      ]
     },
     "execution_count": 157,
     "metadata": {},
     "output_type": "execute_result"
    }
   ],
   "source": [
    "#3-1-accuracy-Caucasian\n",
    "a = (TP + TN) / (TP + TN + FP + FN)\n",
    "a"
   ]
  },
  {
   "cell_type": "code",
   "execution_count": 158,
   "id": "3dcf97b3-2cfa-491a-91a8-74d86b85863e",
   "metadata": {},
   "outputs": [
    {
     "data": {
      "text/plain": [
       "0.07884465261514442"
      ]
     },
     "execution_count": 158,
     "metadata": {},
     "output_type": "execute_result"
    }
   ],
   "source": [
    "#3-1-FPR-Caucasian\n",
    "FPR = (FP / (TN + FP))\n",
    "FPR"
   ]
  },
  {
   "cell_type": "code",
   "execution_count": 159,
   "id": "fb8c00ed-26a5-4df9-b906-e4b00387b62c",
   "metadata": {},
   "outputs": [
    {
     "data": {
      "text/plain": [
       "0.4440389294403893"
      ]
     },
     "execution_count": 159,
     "metadata": {},
     "output_type": "execute_result"
    }
   ],
   "source": [
    "#3-1-FNR-Caucasian\n",
    "FNR = (FN / (TP + FN))\n",
    "FNR"
   ]
  },
  {
   "cell_type": "code",
   "execution_count": 160,
   "id": "5f253b93-0c49-410f-8d30-66350d65a98b",
   "metadata": {},
   "outputs": [],
   "source": [
    "#3-2"
   ]
  },
  {
   "cell_type": "markdown",
   "id": "13da8207-d790-4b69-b177-f2fcd7fb2612",
   "metadata": {},
   "source": [
    "The results above definitely had a significant improvment by excluding race and gender. The accuracy slightly increases whereas errors decreases overall compared to the previous model including race and gender."
   ]
  },
  {
   "cell_type": "markdown",
   "id": "6b4a54fa-c7a3-460e-bc5e-c4b77ef5828a",
   "metadata": {},
   "source": [
    "#### How many hours did you spend on this PS?"
   ]
  },
  {
   "cell_type": "markdown",
   "id": "1f6d4089-d1bc-4194-b14e-53c9ac60b951",
   "metadata": {},
   "source": [
    "We spent 7 hours on this PS. I also want to say thank you so much for all your helps this quarter. Have a great end of year Runhan!"
   ]
  }
 ],
 "metadata": {
  "kernelspec": {
   "display_name": "Python 3 (ipykernel)",
   "language": "python",
   "name": "python3"
  },
  "language_info": {
   "codemirror_mode": {
    "name": "ipython",
    "version": 3
   },
   "file_extension": ".py",
   "mimetype": "text/x-python",
   "name": "python",
   "nbconvert_exporter": "python",
   "pygments_lexer": "ipython3",
   "version": "3.9.7"
  }
 },
 "nbformat": 4,
 "nbformat_minor": 5
}
