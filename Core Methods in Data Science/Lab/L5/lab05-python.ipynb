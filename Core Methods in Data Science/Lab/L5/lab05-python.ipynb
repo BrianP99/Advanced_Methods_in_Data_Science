{
 "cells": [
  {
   "cell_type": "markdown",
   "id": "807bd264-3591-49c9-971e-289afd8dd8d8",
   "metadata": {},
   "source": [
    "# INFO 370 Lab 5\n",
    "*Name: Brian Park*"
   ]
  },
  {
   "cell_type": "code",
   "execution_count": 76,
   "id": "7276c360-6d7d-45d2-9209-079e334bd291",
   "metadata": {},
   "outputs": [],
   "source": [
    "import pandas as pd\n",
    "import numpy as np\n",
    "import matplotlib.pyplot as plt\n",
    "import statsmodels.formula.api as smf"
   ]
  },
  {
   "cell_type": "markdown",
   "id": "e45163b3-d307-4ae5-9334-f22bc399df81",
   "metadata": {},
   "source": [
    "## 1. Boston Housing Data"
   ]
  },
  {
   "cell_type": "markdown",
   "id": "cfab9c7f-829c-47f2-8365-4c158d3ababe",
   "metadata": {},
   "source": [
    "1. load file boston.csv and ensure the file loaded good. How many observations and variables are there?"
   ]
  },
  {
   "cell_type": "code",
   "execution_count": 77,
   "id": "4ecb1709-14be-4157-944d-0355cfa6c49b",
   "metadata": {},
   "outputs": [
    {
     "data": {
      "text/plain": [
       "((506, 14),\n",
       "       crim    zn  indus  chas    nox     rm   age     dis  rad  tax  ptratio  \\\n",
       " 0  0.00632  18.0   2.31     0  0.538  6.575  65.2  4.0900    1  296     15.3   \n",
       " 1  0.02731   0.0   7.07     0  0.469  6.421  78.9  4.9671    2  242     17.8   \n",
       " 2  0.02729   0.0   7.07     0  0.469  7.185  61.1  4.9671    2  242     17.8   \n",
       " 3  0.03237   0.0   2.18     0  0.458  6.998  45.8  6.0622    3  222     18.7   \n",
       " 4  0.06905   0.0   2.18     0  0.458  7.147  54.2  6.0622    3  222     18.7   \n",
       " \n",
       "     black  lstat  medv  \n",
       " 0  396.90   4.98  24.0  \n",
       " 1  396.90   9.14  21.6  \n",
       " 2  392.83   4.03  34.7  \n",
       " 3  394.63   2.94  33.4  \n",
       " 4  396.90   5.33  36.2  )"
      ]
     },
     "execution_count": 77,
     "metadata": {},
     "output_type": "execute_result"
    }
   ],
   "source": [
    "#1-1\n",
    "dfBoston = pd.read_csv(\"../data/boston.csv.bz2\", sep = \"\\t\")\n",
    "dfBoston.shape, dfBoston.head(5)"
   ]
  },
  {
   "cell_type": "markdown",
   "id": "b2185576-0bd3-4b62-85ca-f10803ec9bb3",
   "metadata": {},
   "source": [
    "The dataset has 506 observations and 14 variables."
   ]
  },
  {
   "cell_type": "markdown",
   "id": "15438a17-f93c-4aeb-a7dd-2eefb90cc13a",
   "metadata": {},
   "source": [
    "## 2. Simple Regression"
   ]
  },
  {
   "cell_type": "markdown",
   "id": "87ef31b7-48a9-445e-bbfd-a38103d3b0da",
   "metadata": {},
   "source": [
    "1. Let’s start the average house size (rm: average number of rooms). Do the following: (a) run the linear regression in the form medvi = β0 + β1 · rmi + ϵi and show the regression output. (b) interpret the coefficients (β0 and β1). What do these numbers mean? Are these statistically significant? (c) Try to think about what do these numbers tell about the city and society. Remember: this is not about house price versus house size, this is neighborhood’s median house price versus neighborhood’s average house size. Try to think in terms of poor and rich neighborhoods! (d) create a plot of medv (vertical) versus rm (horizontal) (e) add your regression line on the plot. (f) comment the plot: is the line upward or downward sloping? Do you see the dots trending up/down in a similar fashion?\n",
    "2. Now repeat the above with age"
   ]
  },
  {
   "cell_type": "code",
   "execution_count": 78,
   "id": "99c2bd9d-c5d2-45d2-bd9d-9750f89624bb",
   "metadata": {},
   "outputs": [
    {
     "data": {
      "text/html": [
       "<table class=\"simpletable\">\n",
       "<caption>OLS Regression Results</caption>\n",
       "<tr>\n",
       "  <th>Dep. Variable:</th>          <td>medv</td>       <th>  R-squared:         </th> <td>   0.484</td>\n",
       "</tr>\n",
       "<tr>\n",
       "  <th>Model:</th>                   <td>OLS</td>       <th>  Adj. R-squared:    </th> <td>   0.483</td>\n",
       "</tr>\n",
       "<tr>\n",
       "  <th>Method:</th>             <td>Least Squares</td>  <th>  F-statistic:       </th> <td>   471.8</td>\n",
       "</tr>\n",
       "<tr>\n",
       "  <th>Date:</th>             <td>Tue, 08 Nov 2022</td> <th>  Prob (F-statistic):</th> <td>2.49e-74</td>\n",
       "</tr>\n",
       "<tr>\n",
       "  <th>Time:</th>                 <td>08:43:51</td>     <th>  Log-Likelihood:    </th> <td> -1673.1</td>\n",
       "</tr>\n",
       "<tr>\n",
       "  <th>No. Observations:</th>      <td>   506</td>      <th>  AIC:               </th> <td>   3350.</td>\n",
       "</tr>\n",
       "<tr>\n",
       "  <th>Df Residuals:</th>          <td>   504</td>      <th>  BIC:               </th> <td>   3359.</td>\n",
       "</tr>\n",
       "<tr>\n",
       "  <th>Df Model:</th>              <td>     1</td>      <th>                     </th>     <td> </td>   \n",
       "</tr>\n",
       "<tr>\n",
       "  <th>Covariance Type:</th>      <td>nonrobust</td>    <th>                     </th>     <td> </td>   \n",
       "</tr>\n",
       "</table>\n",
       "<table class=\"simpletable\">\n",
       "<tr>\n",
       "      <td></td>         <th>coef</th>     <th>std err</th>      <th>t</th>      <th>P>|t|</th>  <th>[0.025</th>    <th>0.975]</th>  \n",
       "</tr>\n",
       "<tr>\n",
       "  <th>Intercept</th> <td>  -34.6706</td> <td>    2.650</td> <td>  -13.084</td> <td> 0.000</td> <td>  -39.877</td> <td>  -29.465</td>\n",
       "</tr>\n",
       "<tr>\n",
       "  <th>rm</th>        <td>    9.1021</td> <td>    0.419</td> <td>   21.722</td> <td> 0.000</td> <td>    8.279</td> <td>    9.925</td>\n",
       "</tr>\n",
       "</table>\n",
       "<table class=\"simpletable\">\n",
       "<tr>\n",
       "  <th>Omnibus:</th>       <td>102.585</td> <th>  Durbin-Watson:     </th> <td>   0.684</td> \n",
       "</tr>\n",
       "<tr>\n",
       "  <th>Prob(Omnibus):</th> <td> 0.000</td>  <th>  Jarque-Bera (JB):  </th> <td> 612.449</td> \n",
       "</tr>\n",
       "<tr>\n",
       "  <th>Skew:</th>          <td> 0.726</td>  <th>  Prob(JB):          </th> <td>1.02e-133</td>\n",
       "</tr>\n",
       "<tr>\n",
       "  <th>Kurtosis:</th>      <td> 8.190</td>  <th>  Cond. No.          </th> <td>    58.4</td> \n",
       "</tr>\n",
       "</table><br/><br/>Notes:<br/>[1] Standard Errors assume that the covariance matrix of the errors is correctly specified."
      ],
      "text/plain": [
       "<class 'statsmodels.iolib.summary.Summary'>\n",
       "\"\"\"\n",
       "                            OLS Regression Results                            \n",
       "==============================================================================\n",
       "Dep. Variable:                   medv   R-squared:                       0.484\n",
       "Model:                            OLS   Adj. R-squared:                  0.483\n",
       "Method:                 Least Squares   F-statistic:                     471.8\n",
       "Date:                Tue, 08 Nov 2022   Prob (F-statistic):           2.49e-74\n",
       "Time:                        08:43:51   Log-Likelihood:                -1673.1\n",
       "No. Observations:                 506   AIC:                             3350.\n",
       "Df Residuals:                     504   BIC:                             3359.\n",
       "Df Model:                           1                                         \n",
       "Covariance Type:            nonrobust                                         \n",
       "==============================================================================\n",
       "                 coef    std err          t      P>|t|      [0.025      0.975]\n",
       "------------------------------------------------------------------------------\n",
       "Intercept    -34.6706      2.650    -13.084      0.000     -39.877     -29.465\n",
       "rm             9.1021      0.419     21.722      0.000       8.279       9.925\n",
       "==============================================================================\n",
       "Omnibus:                      102.585   Durbin-Watson:                   0.684\n",
       "Prob(Omnibus):                  0.000   Jarque-Bera (JB):              612.449\n",
       "Skew:                           0.726   Prob(JB):                    1.02e-133\n",
       "Kurtosis:                       8.190   Cond. No.                         58.4\n",
       "==============================================================================\n",
       "\n",
       "Notes:\n",
       "[1] Standard Errors assume that the covariance matrix of the errors is correctly specified.\n",
       "\"\"\""
      ]
     },
     "execution_count": 78,
     "metadata": {},
     "output_type": "execute_result"
    }
   ],
   "source": [
    "#2-1-a\n",
    "m = smf.ols(\"medv ~ rm\", data=dfBoston).fit()\n",
    "m.summary()"
   ]
  },
  {
   "cell_type": "code",
   "execution_count": 79,
   "id": "1220adfb-fffd-4274-b607-90a638a1ce34",
   "metadata": {},
   "outputs": [],
   "source": [
    "#2-1-b-β0"
   ]
  },
  {
   "cell_type": "markdown",
   "id": "2f951f92-d1a0-4270-93a9-2e67495c565a",
   "metadata": {},
   "source": [
    "The neighborhood’s median value of houses is -34.6706 thousands when there are no rooms in neighborhood’s house. It is statistically significant because P is smaller 5%."
   ]
  },
  {
   "cell_type": "code",
   "execution_count": 80,
   "id": "c76a3cd4-385f-49a0-a14f-20c055866f09",
   "metadata": {},
   "outputs": [],
   "source": [
    "#2-1-b-β1"
   ]
  },
  {
   "cell_type": "markdown",
   "id": "27914b43-b9c3-406d-840a-5b64f5c1301a",
   "metadata": {},
   "source": [
    "The neighborhood's houses with one room larger have \\\\$9102.1 larger the mediean value of houses. It is also statistically significant because P is smaller 5%."
   ]
  },
  {
   "cell_type": "code",
   "execution_count": 81,
   "id": "13dc1e62-a594-4fe8-98fe-dd0d1da65479",
   "metadata": {},
   "outputs": [],
   "source": [
    "#2-1-c"
   ]
  },
  {
   "cell_type": "markdown",
   "id": "bd7b792a-b028-4dc1-a06c-50f306f53d41",
   "metadata": {},
   "source": [
    "The city or society that has larger houses is more expensive. Residents who own larger houses may tend to be richer."
   ]
  },
  {
   "cell_type": "code",
   "execution_count": 82,
   "id": "8a6a3c8a-251b-4cc6-9e04-cb745373164b",
   "metadata": {},
   "outputs": [
    {
     "data": {
      "image/png": "[encoded data removed]",
      "text/plain": [
       "<Figure size 432x288 with 1 Axes>"
      ]
     },
     "metadata": {
      "needs_background": "light"
     },
     "output_type": "display_data"
    }
   ],
   "source": [
    "#2-1-d\n",
    "_ = plt.scatter(dfBoston.rm, dfBoston.medv)"
   ]
  },
  {
   "cell_type": "code",
   "execution_count": 83,
   "id": "25cecfbf-bbfb-48f2-b9a9-5788073a143f",
   "metadata": {},
   "outputs": [
    {
     "data": {
      "image/png": "[encoded data removed]",
      "text/plain": [
       "<Figure size 432x288 with 1 Axes>"
      ]
     },
     "metadata": {
      "needs_background": "light"
     },
     "output_type": "display_data"
    }
   ],
   "source": [
    "#2-1-e\n",
    "import seaborn as sns\n",
    "_ = sns.regplot(x = \"rm\", y = \"medv\",\n",
    "scatter_kws = {\"color\":\"blue\", \"alpha\":0.3,\n",
    "\"edgecolor\":\"black\"},\n",
    "line_kws={\"color\":\"red\"},\n",
    "data=dfBoston)\n",
    "_ = plt.show()"
   ]
  },
  {
   "cell_type": "code",
   "execution_count": 84,
   "id": "2a15f517-1f15-45b8-917f-78cb1be82f1f",
   "metadata": {},
   "outputs": [],
   "source": [
    "#2-1-f"
   ]
  },
  {
   "cell_type": "markdown",
   "id": "7dbb42f7-d247-4b32-9f74-e8aadb6b69e9",
   "metadata": {},
   "source": [
    "The regression line is upward sloping. The dots are aligned well along the regression line. Most of dots are fairly close to the regression line while some outliers exist."
   ]
  },
  {
   "cell_type": "code",
   "execution_count": 85,
   "id": "4a3d76be-f721-41c8-8e16-6c4b099709b4",
   "metadata": {},
   "outputs": [
    {
     "data": {
      "text/html": [
       "<table class=\"simpletable\">\n",
       "<caption>OLS Regression Results</caption>\n",
       "<tr>\n",
       "  <th>Dep. Variable:</th>          <td>medv</td>       <th>  R-squared:         </th> <td>   0.142</td>\n",
       "</tr>\n",
       "<tr>\n",
       "  <th>Model:</th>                   <td>OLS</td>       <th>  Adj. R-squared:    </th> <td>   0.140</td>\n",
       "</tr>\n",
       "<tr>\n",
       "  <th>Method:</th>             <td>Least Squares</td>  <th>  F-statistic:       </th> <td>   83.48</td>\n",
       "</tr>\n",
       "<tr>\n",
       "  <th>Date:</th>             <td>Tue, 08 Nov 2022</td> <th>  Prob (F-statistic):</th> <td>1.57e-18</td>\n",
       "</tr>\n",
       "<tr>\n",
       "  <th>Time:</th>                 <td>08:43:52</td>     <th>  Log-Likelihood:    </th> <td> -1801.5</td>\n",
       "</tr>\n",
       "<tr>\n",
       "  <th>No. Observations:</th>      <td>   506</td>      <th>  AIC:               </th> <td>   3607.</td>\n",
       "</tr>\n",
       "<tr>\n",
       "  <th>Df Residuals:</th>          <td>   504</td>      <th>  BIC:               </th> <td>   3615.</td>\n",
       "</tr>\n",
       "<tr>\n",
       "  <th>Df Model:</th>              <td>     1</td>      <th>                     </th>     <td> </td>   \n",
       "</tr>\n",
       "<tr>\n",
       "  <th>Covariance Type:</th>      <td>nonrobust</td>    <th>                     </th>     <td> </td>   \n",
       "</tr>\n",
       "</table>\n",
       "<table class=\"simpletable\">\n",
       "<tr>\n",
       "      <td></td>         <th>coef</th>     <th>std err</th>      <th>t</th>      <th>P>|t|</th>  <th>[0.025</th>    <th>0.975]</th>  \n",
       "</tr>\n",
       "<tr>\n",
       "  <th>Intercept</th> <td>   30.9787</td> <td>    0.999</td> <td>   31.006</td> <td> 0.000</td> <td>   29.016</td> <td>   32.942</td>\n",
       "</tr>\n",
       "<tr>\n",
       "  <th>age</th>       <td>   -0.1232</td> <td>    0.013</td> <td>   -9.137</td> <td> 0.000</td> <td>   -0.150</td> <td>   -0.097</td>\n",
       "</tr>\n",
       "</table>\n",
       "<table class=\"simpletable\">\n",
       "<tr>\n",
       "  <th>Omnibus:</th>       <td>170.034</td> <th>  Durbin-Watson:     </th> <td>   0.613</td> \n",
       "</tr>\n",
       "<tr>\n",
       "  <th>Prob(Omnibus):</th> <td> 0.000</td>  <th>  Jarque-Bera (JB):  </th> <td> 456.983</td> \n",
       "</tr>\n",
       "<tr>\n",
       "  <th>Skew:</th>          <td> 1.671</td>  <th>  Prob(JB):          </th> <td>5.85e-100</td>\n",
       "</tr>\n",
       "<tr>\n",
       "  <th>Kurtosis:</th>      <td> 6.240</td>  <th>  Cond. No.          </th> <td>    195.</td> \n",
       "</tr>\n",
       "</table><br/><br/>Notes:<br/>[1] Standard Errors assume that the covariance matrix of the errors is correctly specified."
      ],
      "text/plain": [
       "<class 'statsmodels.iolib.summary.Summary'>\n",
       "\"\"\"\n",
       "                            OLS Regression Results                            \n",
       "==============================================================================\n",
       "Dep. Variable:                   medv   R-squared:                       0.142\n",
       "Model:                            OLS   Adj. R-squared:                  0.140\n",
       "Method:                 Least Squares   F-statistic:                     83.48\n",
       "Date:                Tue, 08 Nov 2022   Prob (F-statistic):           1.57e-18\n",
       "Time:                        08:43:52   Log-Likelihood:                -1801.5\n",
       "No. Observations:                 506   AIC:                             3607.\n",
       "Df Residuals:                     504   BIC:                             3615.\n",
       "Df Model:                           1                                         \n",
       "Covariance Type:            nonrobust                                         \n",
       "==============================================================================\n",
       "                 coef    std err          t      P>|t|      [0.025      0.975]\n",
       "------------------------------------------------------------------------------\n",
       "Intercept     30.9787      0.999     31.006      0.000      29.016      32.942\n",
       "age           -0.1232      0.013     -9.137      0.000      -0.150      -0.097\n",
       "==============================================================================\n",
       "Omnibus:                      170.034   Durbin-Watson:                   0.613\n",
       "Prob(Omnibus):                  0.000   Jarque-Bera (JB):              456.983\n",
       "Skew:                           1.671   Prob(JB):                    5.85e-100\n",
       "Kurtosis:                       6.240   Cond. No.                         195.\n",
       "==============================================================================\n",
       "\n",
       "Notes:\n",
       "[1] Standard Errors assume that the covariance matrix of the errors is correctly specified.\n",
       "\"\"\""
      ]
     },
     "execution_count": 85,
     "metadata": {},
     "output_type": "execute_result"
    }
   ],
   "source": [
    "#2-2-a\n",
    "m = smf.ols(\"medv ~ age\", data=dfBoston).fit()\n",
    "m.summary()"
   ]
  },
  {
   "cell_type": "code",
   "execution_count": 86,
   "id": "3d27d151-b6f5-4f3a-826c-dc747da7e60f",
   "metadata": {},
   "outputs": [],
   "source": [
    "#2-2-b-β0"
   ]
  },
  {
   "cell_type": "markdown",
   "id": "c6cf88bc-a38e-4d16-bbdd-0db2856d129c",
   "metadata": {},
   "source": [
    "The neighborhood’s median value of houses is 30.9787 thousands when proportion of owner-occupied units built prior to 1940 is 0. It is statistically significant because P is smaller 5%."
   ]
  },
  {
   "cell_type": "code",
   "execution_count": 87,
   "id": "a6c8c205-d910-4978-92c8-10e582f80514",
   "metadata": {},
   "outputs": [],
   "source": [
    "#2-2-b-β1"
   ]
  },
  {
   "cell_type": "markdown",
   "id": "7e5a4a0b-2585-4a4f-9bd7-616c84d11018",
   "metadata": {},
   "source": [
    "The houses with one pct pt older and built prior to 1940 are \\$123.2 cheaper. It is also statistically significant because P is smaller 5%."
   ]
  },
  {
   "cell_type": "code",
   "execution_count": 88,
   "id": "136f237a-217b-4f7e-b31c-3bd4f27ab76b",
   "metadata": {},
   "outputs": [],
   "source": [
    "#2-2-c"
   ]
  },
  {
   "cell_type": "markdown",
   "id": "29bf5a72-bd8e-4eb9-9a3a-be73f4c09b91",
   "metadata": {},
   "source": [
    "The city or society that has older houses is a cheaper community. Residents who own older houses may tend to be poorer. The age of houses and their prices have an inverse relationship."
   ]
  },
  {
   "cell_type": "code",
   "execution_count": 89,
   "id": "976a2ff1-bfa4-4198-a45c-ab5bccd2e97f",
   "metadata": {},
   "outputs": [
    {
     "data": {
      "image/png": "[encoded data removed]",
      "text/plain": [
       "<Figure size 432x288 with 1 Axes>"
      ]
     },
     "metadata": {
      "needs_background": "light"
     },
     "output_type": "display_data"
    }
   ],
   "source": [
    "#2-2-d\n",
    "_ = plt.scatter(dfBoston.age, dfBoston.medv)"
   ]
  },
  {
   "cell_type": "code",
   "execution_count": 90,
   "id": "3a78bcdc-a574-405f-b095-d1c320e5f181",
   "metadata": {},
   "outputs": [
    {
     "data": {
      "image/png": "[encoded data removed]",
      "text/plain": [
       "<Figure size 432x288 with 1 Axes>"
      ]
     },
     "metadata": {
      "needs_background": "light"
     },
     "output_type": "display_data"
    }
   ],
   "source": [
    "#2-2-e\n",
    "import seaborn as sns\n",
    "_ = sns.regplot(x = \"age\", y = \"medv\",\n",
    "scatter_kws = {\"color\":\"blue\", \"alpha\":0.3,\n",
    "\"edgecolor\":\"black\"},\n",
    "line_kws={\"color\":\"red\"},\n",
    "data=dfBoston)\n",
    "_ = plt.show()"
   ]
  },
  {
   "cell_type": "code",
   "execution_count": 91,
   "id": "eb9deecf-1e48-4d04-90ad-5edde531de9f",
   "metadata": {},
   "outputs": [],
   "source": [
    "#2-2-f"
   ]
  },
  {
   "cell_type": "markdown",
   "id": "3f6b5e57-0720-4566-9060-3c590a46bacf",
   "metadata": {},
   "source": [
    "The regression line is downward sloping. The dots are not well aligned along the regression line compared to the relationship between medv and rm. Many outliers exist in their relationship because they do not centralize along the regression line."
   ]
  },
  {
   "cell_type": "markdown",
   "id": "6c6f13df-658c-41bb-b810-33b0b07b8d26",
   "metadata": {},
   "source": [
    "## 3. Multiple regression"
   ]
  },
  {
   "cell_type": "markdown",
   "id": "9276d8ad-c7a4-4033-a765-163a6e08f949",
   "metadata": {},
   "source": [
    "1. Now use multiple regression to estimate the relationship between median house price and the neighborhood characteristics. Include all variables (except medv) as the explanatory variables. Print the output.\n",
    "2. Interpret the results for rm and age, the same two variables your used above.\n",
    "3. Why are these numbers different than when doing simple regression?"
   ]
  },
  {
   "cell_type": "code",
   "execution_count": 92,
   "id": "a6d44eef-f6f9-4739-b3d9-300d6c83dc73",
   "metadata": {},
   "outputs": [
    {
     "data": {
      "text/html": [
       "<table class=\"simpletable\">\n",
       "<caption>OLS Regression Results</caption>\n",
       "<tr>\n",
       "  <th>Dep. Variable:</th>          <td>medv</td>       <th>  R-squared:         </th> <td>   0.741</td> \n",
       "</tr>\n",
       "<tr>\n",
       "  <th>Model:</th>                   <td>OLS</td>       <th>  Adj. R-squared:    </th> <td>   0.734</td> \n",
       "</tr>\n",
       "<tr>\n",
       "  <th>Method:</th>             <td>Least Squares</td>  <th>  F-statistic:       </th> <td>   108.1</td> \n",
       "</tr>\n",
       "<tr>\n",
       "  <th>Date:</th>             <td>Tue, 08 Nov 2022</td> <th>  Prob (F-statistic):</th> <td>6.72e-135</td>\n",
       "</tr>\n",
       "<tr>\n",
       "  <th>Time:</th>                 <td>08:43:53</td>     <th>  Log-Likelihood:    </th> <td> -1498.8</td> \n",
       "</tr>\n",
       "<tr>\n",
       "  <th>No. Observations:</th>      <td>   506</td>      <th>  AIC:               </th> <td>   3026.</td> \n",
       "</tr>\n",
       "<tr>\n",
       "  <th>Df Residuals:</th>          <td>   492</td>      <th>  BIC:               </th> <td>   3085.</td> \n",
       "</tr>\n",
       "<tr>\n",
       "  <th>Df Model:</th>              <td>    13</td>      <th>                     </th>     <td> </td>    \n",
       "</tr>\n",
       "<tr>\n",
       "  <th>Covariance Type:</th>      <td>nonrobust</td>    <th>                     </th>     <td> </td>    \n",
       "</tr>\n",
       "</table>\n",
       "<table class=\"simpletable\">\n",
       "<tr>\n",
       "      <td></td>         <th>coef</th>     <th>std err</th>      <th>t</th>      <th>P>|t|</th>  <th>[0.025</th>    <th>0.975]</th>  \n",
       "</tr>\n",
       "<tr>\n",
       "  <th>Intercept</th> <td>   36.4595</td> <td>    5.103</td> <td>    7.144</td> <td> 0.000</td> <td>   26.432</td> <td>   46.487</td>\n",
       "</tr>\n",
       "<tr>\n",
       "  <th>crim</th>      <td>   -0.1080</td> <td>    0.033</td> <td>   -3.287</td> <td> 0.001</td> <td>   -0.173</td> <td>   -0.043</td>\n",
       "</tr>\n",
       "<tr>\n",
       "  <th>zn</th>        <td>    0.0464</td> <td>    0.014</td> <td>    3.382</td> <td> 0.001</td> <td>    0.019</td> <td>    0.073</td>\n",
       "</tr>\n",
       "<tr>\n",
       "  <th>indus</th>     <td>    0.0206</td> <td>    0.061</td> <td>    0.334</td> <td> 0.738</td> <td>   -0.100</td> <td>    0.141</td>\n",
       "</tr>\n",
       "<tr>\n",
       "  <th>chas</th>      <td>    2.6867</td> <td>    0.862</td> <td>    3.118</td> <td> 0.002</td> <td>    0.994</td> <td>    4.380</td>\n",
       "</tr>\n",
       "<tr>\n",
       "  <th>nox</th>       <td>  -17.7666</td> <td>    3.820</td> <td>   -4.651</td> <td> 0.000</td> <td>  -25.272</td> <td>  -10.262</td>\n",
       "</tr>\n",
       "<tr>\n",
       "  <th>rm</th>        <td>    3.8099</td> <td>    0.418</td> <td>    9.116</td> <td> 0.000</td> <td>    2.989</td> <td>    4.631</td>\n",
       "</tr>\n",
       "<tr>\n",
       "  <th>age</th>       <td>    0.0007</td> <td>    0.013</td> <td>    0.052</td> <td> 0.958</td> <td>   -0.025</td> <td>    0.027</td>\n",
       "</tr>\n",
       "<tr>\n",
       "  <th>dis</th>       <td>   -1.4756</td> <td>    0.199</td> <td>   -7.398</td> <td> 0.000</td> <td>   -1.867</td> <td>   -1.084</td>\n",
       "</tr>\n",
       "<tr>\n",
       "  <th>rad</th>       <td>    0.3060</td> <td>    0.066</td> <td>    4.613</td> <td> 0.000</td> <td>    0.176</td> <td>    0.436</td>\n",
       "</tr>\n",
       "<tr>\n",
       "  <th>tax</th>       <td>   -0.0123</td> <td>    0.004</td> <td>   -3.280</td> <td> 0.001</td> <td>   -0.020</td> <td>   -0.005</td>\n",
       "</tr>\n",
       "<tr>\n",
       "  <th>ptratio</th>   <td>   -0.9527</td> <td>    0.131</td> <td>   -7.283</td> <td> 0.000</td> <td>   -1.210</td> <td>   -0.696</td>\n",
       "</tr>\n",
       "<tr>\n",
       "  <th>black</th>     <td>    0.0093</td> <td>    0.003</td> <td>    3.467</td> <td> 0.001</td> <td>    0.004</td> <td>    0.015</td>\n",
       "</tr>\n",
       "<tr>\n",
       "  <th>lstat</th>     <td>   -0.5248</td> <td>    0.051</td> <td>  -10.347</td> <td> 0.000</td> <td>   -0.624</td> <td>   -0.425</td>\n",
       "</tr>\n",
       "</table>\n",
       "<table class=\"simpletable\">\n",
       "<tr>\n",
       "  <th>Omnibus:</th>       <td>178.041</td> <th>  Durbin-Watson:     </th> <td>   1.078</td> \n",
       "</tr>\n",
       "<tr>\n",
       "  <th>Prob(Omnibus):</th> <td> 0.000</td>  <th>  Jarque-Bera (JB):  </th> <td> 783.126</td> \n",
       "</tr>\n",
       "<tr>\n",
       "  <th>Skew:</th>          <td> 1.521</td>  <th>  Prob(JB):          </th> <td>8.84e-171</td>\n",
       "</tr>\n",
       "<tr>\n",
       "  <th>Kurtosis:</th>      <td> 8.281</td>  <th>  Cond. No.          </th> <td>1.51e+04</td> \n",
       "</tr>\n",
       "</table><br/><br/>Notes:<br/>[1] Standard Errors assume that the covariance matrix of the errors is correctly specified.<br/>[2] The condition number is large, 1.51e+04. This might indicate that there are<br/>strong multicollinearity or other numerical problems."
      ],
      "text/plain": [
       "<class 'statsmodels.iolib.summary.Summary'>\n",
       "\"\"\"\n",
       "                            OLS Regression Results                            \n",
       "==============================================================================\n",
       "Dep. Variable:                   medv   R-squared:                       0.741\n",
       "Model:                            OLS   Adj. R-squared:                  0.734\n",
       "Method:                 Least Squares   F-statistic:                     108.1\n",
       "Date:                Tue, 08 Nov 2022   Prob (F-statistic):          6.72e-135\n",
       "Time:                        08:43:53   Log-Likelihood:                -1498.8\n",
       "No. Observations:                 506   AIC:                             3026.\n",
       "Df Residuals:                     492   BIC:                             3085.\n",
       "Df Model:                          13                                         \n",
       "Covariance Type:            nonrobust                                         \n",
       "==============================================================================\n",
       "                 coef    std err          t      P>|t|      [0.025      0.975]\n",
       "------------------------------------------------------------------------------\n",
       "Intercept     36.4595      5.103      7.144      0.000      26.432      46.487\n",
       "crim          -0.1080      0.033     -3.287      0.001      -0.173      -0.043\n",
       "zn             0.0464      0.014      3.382      0.001       0.019       0.073\n",
       "indus          0.0206      0.061      0.334      0.738      -0.100       0.141\n",
       "chas           2.6867      0.862      3.118      0.002       0.994       4.380\n",
       "nox          -17.7666      3.820     -4.651      0.000     -25.272     -10.262\n",
       "rm             3.8099      0.418      9.116      0.000       2.989       4.631\n",
       "age            0.0007      0.013      0.052      0.958      -0.025       0.027\n",
       "dis           -1.4756      0.199     -7.398      0.000      -1.867      -1.084\n",
       "rad            0.3060      0.066      4.613      0.000       0.176       0.436\n",
       "tax           -0.0123      0.004     -3.280      0.001      -0.020      -0.005\n",
       "ptratio       -0.9527      0.131     -7.283      0.000      -1.210      -0.696\n",
       "black          0.0093      0.003      3.467      0.001       0.004       0.015\n",
       "lstat         -0.5248      0.051    -10.347      0.000      -0.624      -0.425\n",
       "==============================================================================\n",
       "Omnibus:                      178.041   Durbin-Watson:                   1.078\n",
       "Prob(Omnibus):                  0.000   Jarque-Bera (JB):              783.126\n",
       "Skew:                           1.521   Prob(JB):                    8.84e-171\n",
       "Kurtosis:                       8.281   Cond. No.                     1.51e+04\n",
       "==============================================================================\n",
       "\n",
       "Notes:\n",
       "[1] Standard Errors assume that the covariance matrix of the errors is correctly specified.\n",
       "[2] The condition number is large, 1.51e+04. This might indicate that there are\n",
       "strong multicollinearity or other numerical problems.\n",
       "\"\"\""
      ]
     },
     "execution_count": 92,
     "metadata": {},
     "output_type": "execute_result"
    }
   ],
   "source": [
    "#3-1\n",
    "m = smf.ols(\"medv ~ crim + zn + indus + chas + nox + rm + age + dis + rad + tax + ptratio + black + lstat\", \n",
    "            data=dfBoston).fit()\n",
    "m.summary()"
   ]
  },
  {
   "cell_type": "code",
   "execution_count": 93,
   "id": "5f75b2a3-ccae-47db-b3cf-1c2829ffcec4",
   "metadata": {},
   "outputs": [],
   "source": [
    "#3-2-rm"
   ]
  },
  {
   "cell_type": "markdown",
   "id": "cb76c372-3386-4d8f-b3db-1c1cdaf6794b",
   "metadata": {},
   "source": [
    "The neighborhood's houses with one room larger have \\\\$3809.9 larger the mediean value of houses. It is still statistically significant because P is smaller 5%."
   ]
  },
  {
   "cell_type": "code",
   "execution_count": 94,
   "id": "ceaeac4f-b4c0-433a-897d-28a08adb8b83",
   "metadata": {},
   "outputs": [],
   "source": [
    "#3-2-age"
   ]
  },
  {
   "cell_type": "markdown",
   "id": "72580554-2175-42c3-a5b7-55e5e03332fc",
   "metadata": {},
   "source": [
    "The houses with one pct pt older and built prior to 1940 are \\$0.7 more expensive. However, it is no longer statistically significant because P is greater 5%."
   ]
  },
  {
   "cell_type": "code",
   "execution_count": 95,
   "id": "95d765b7-b4ed-4c3d-bc73-ae80a2e71618",
   "metadata": {},
   "outputs": [],
   "source": [
    "#3-3"
   ]
  },
  {
   "cell_type": "markdown",
   "id": "3551df9e-b6d7-428b-945e-dba7baf0b851",
   "metadata": {},
   "source": [
    "When it comes to multiple regression, some other variables may be correlated with age, which may lead to statistically insignificant p-values."
   ]
  }
 ],
 "metadata": {
  "kernelspec": {
   "display_name": "Python 3 (ipykernel)",
   "language": "python",
   "name": "python3"
  },
  "language_info": {
   "codemirror_mode": {
    "name": "ipython",
    "version": 3
   },
   "file_extension": ".py",
   "mimetype": "text/x-python",
   "name": "python",
   "nbconvert_exporter": "python",
   "pygments_lexer": "ipython3",
   "version": "3.9.7"
  }
 },
 "nbformat": 4,
 "nbformat_minor": 5
}
