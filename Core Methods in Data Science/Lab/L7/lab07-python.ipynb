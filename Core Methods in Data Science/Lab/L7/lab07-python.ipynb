{
 "cells": [
  {
   "cell_type": "markdown",
   "id": "3abcfdff-ccec-4095-9c22-be6e2b8d0d60",
   "metadata": {},
   "source": [
    "# INFO 370 Lab 7\n",
    "*Name: Brian Park*"
   ]
  },
  {
   "cell_type": "markdown",
   "id": "5c450410-d150-47b9-9330-c1fc8c5ad192",
   "metadata": {},
   "source": [
    "## 1. Confusion Matrix"
   ]
  },
  {
   "cell_type": "markdown",
   "id": "3e4d37c6-b335-4579-b9eb-f88b32c8af52",
   "metadata": {},
   "source": [
    "1. Show the confusion matrices for models M1 and M2. NB! construct these manually and show as markdown table! Do not create data frames and code! It is easy to find the relevant library routines, but we want you to understand what the concepts mean.\n",
    "2. Compute accuracy, precision, recall for both models.\n",
    "3. Prof. Joffe wants to get the app out tomorrow. Which model, M1 or M2 will you recommend him to use? Explain your reasoning\n",
    "4. Show the confusion matrices for M3 and M4.\n",
    "5. Compute the accuracy, precision, recall for both models.\n",
    "6. Cole-Tindall wants to commission the AI system tomorrow. Which model would you recommend her to use? Explain your reasoning! Be aware that Cole-Tindall is a policewoman who knows nothing about data science and coding. Explain it in a way that she can understand!\n",
    "7. Show the confusion matrix for M5 and M6.\n",
    "8. Compute accuracy, precision, recall, and F-score for both models.\n",
    "9. Prof Dong wants to submit his paper tomorrow. Which of these two models, M5or M6 will you recommend him? Explain to him.Note: prof Dong is a paleontologist who knows nothing about data science andsuch. But he wants to hear your suggestions and reasoning!"
   ]
  },
  {
   "cell_type": "code",
   "execution_count": 49,
   "id": "88e6db26-167c-4928-9771-0957062f8ef6",
   "metadata": {},
   "outputs": [],
   "source": [
    "#1-1-M1"
   ]
  },
  {
   "cell_type": "markdown",
   "id": "f2e74bf8-dcdc-4ccc-a915-55da47337235",
   "metadata": {},
   "source": [
    "| | **Predicted** | |\n",
    "| -------- | ------------: | ------:|\n",
    "| | Poisonous (N) | Edible (P) |\n",
    "|**Actual**| 3 | 0 |\n",
    "| | 3 | 4 |"
   ]
  },
  {
   "cell_type": "code",
   "execution_count": 50,
   "id": "ac087712-58d3-47c0-8319-41d1d50dffbc",
   "metadata": {},
   "outputs": [],
   "source": [
    "#1-1-M2"
   ]
  },
  {
   "cell_type": "markdown",
   "id": "ff07624e-3c88-4b54-b62d-f61f056e6898",
   "metadata": {},
   "source": [
    "| | **Predicted** | |\n",
    "| -------- | ------------: | ------:|\n",
    "| | Poisonous (N) | Edible (P) |\n",
    "|**Actual**| 2 | 1 |\n",
    "| | 0 | 7 |"
   ]
  },
  {
   "cell_type": "code",
   "execution_count": 51,
   "id": "3ca9511a-4b94-4a78-a34b-e9ec325a129a",
   "metadata": {},
   "outputs": [
    {
     "data": {
      "text/plain": [
       "(0.7, 1.0, 0.5714285714285714)"
      ]
     },
     "execution_count": 51,
     "metadata": {},
     "output_type": "execute_result"
    }
   ],
   "source": [
    "#1-2-M1\n",
    "a = (4 + 3) / (4 + 3 + 0 + 3)\n",
    "p = 4 / (4 + 0)\n",
    "r = 4 / (4 + 3)\n",
    "a, p, r"
   ]
  },
  {
   "cell_type": "code",
   "execution_count": 52,
   "id": "19569cd0-be76-4f3c-bfcb-a2c6b565d4b0",
   "metadata": {},
   "outputs": [
    {
     "data": {
      "text/plain": [
       "(0.9, 0.875, 1.0)"
      ]
     },
     "execution_count": 52,
     "metadata": {},
     "output_type": "execute_result"
    }
   ],
   "source": [
    "#1-2-M2\n",
    "a = (7 + 2) / (7 + 2 + 0 + 1)\n",
    "p = 7 / (7 + 1)\n",
    "r = 7 / (7 + 0)\n",
    "a, p, r"
   ]
  },
  {
   "cell_type": "code",
   "execution_count": 53,
   "id": "0693ee75-d521-4fc8-8fd2-dd475ea817b7",
   "metadata": {},
   "outputs": [],
   "source": [
    "#1-3"
   ]
  },
  {
   "cell_type": "markdown",
   "id": "5ec9d99a-29a5-4424-a3e3-ad77118d5342",
   "metadata": {},
   "source": [
    "* Looking at accuracy, M2 is better.\n",
    "* Looking at precision, M1 is better.\n",
    "* Looking at recall, M2 is better."
   ]
  },
  {
   "cell_type": "code",
   "execution_count": 54,
   "id": "98cff22d-2861-4c7c-a04f-3cff283238d4",
   "metadata": {},
   "outputs": [],
   "source": [
    "#1-4-M3"
   ]
  },
  {
   "cell_type": "markdown",
   "id": "666e5305-2356-4c85-b024-883a5bf1b1cb",
   "metadata": {},
   "source": [
    "| | **Predicted** | |\n",
    "| -------- | ------------: | ------:|\n",
    "| | Guilty (N) | Innocent (P) |\n",
    "|**Actual**| 4 | 1 |\n",
    "| | 2 | 3 |"
   ]
  },
  {
   "cell_type": "code",
   "execution_count": 55,
   "id": "2012e17d-6b9c-4420-8178-6f901197c26a",
   "metadata": {},
   "outputs": [],
   "source": [
    "#1-4-M4"
   ]
  },
  {
   "cell_type": "markdown",
   "id": "51d05a56-6883-4703-88fe-91b13c75f6f5",
   "metadata": {},
   "source": [
    "| | **Predicted** | |\n",
    "| -------- | ------------: | ------:|\n",
    "| | Guilty (N) | Innocent (P) |\n",
    "|**Actual**| 2 | 3 |\n",
    "| | 0 | 5 |"
   ]
  },
  {
   "cell_type": "code",
   "execution_count": 56,
   "id": "35b19aa7-0548-43e6-97b7-236355994c9a",
   "metadata": {},
   "outputs": [
    {
     "data": {
      "text/plain": [
       "(0.7, 0.75, 0.6)"
      ]
     },
     "execution_count": 56,
     "metadata": {},
     "output_type": "execute_result"
    }
   ],
   "source": [
    "#1-5-M3\n",
    "a = (3 + 4) / (3 + 4 + 1 + 2)\n",
    "p = 3 / (3 + 1)\n",
    "r = 3 / (3 + 2)\n",
    "a, p, r"
   ]
  },
  {
   "cell_type": "code",
   "execution_count": 57,
   "id": "b323c97f-b02f-4224-809a-7f3e1b2f31d0",
   "metadata": {},
   "outputs": [
    {
     "data": {
      "text/plain": [
       "(0.7, 0.625, 1.0)"
      ]
     },
     "execution_count": 57,
     "metadata": {},
     "output_type": "execute_result"
    }
   ],
   "source": [
    "#1-5-M4\n",
    "a = (5 + 2) / (5 + 2 + 0 + 3)\n",
    "p = 5 / (5 + 3)\n",
    "r = 5 / (5 + 0)\n",
    "a, p, r"
   ]
  },
  {
   "cell_type": "code",
   "execution_count": 58,
   "id": "b8c43395-0392-4111-92c0-4257f5f4a2b5",
   "metadata": {},
   "outputs": [],
   "source": [
    "#1-6"
   ]
  },
  {
   "cell_type": "markdown",
   "id": "6380d894-a89a-47df-8022-98e8672ea56f",
   "metadata": {},
   "source": [
    "* Looking at accuracy, both models are recommended.\n",
    "* Looking at precision, M3 is better.\n",
    "* Looking at recall, M4 is better."
   ]
  },
  {
   "cell_type": "code",
   "execution_count": 59,
   "id": "9906d546-980d-4fa7-a174-3db2c9c164f9",
   "metadata": {},
   "outputs": [],
   "source": [
    "#1-7-M5"
   ]
  },
  {
   "cell_type": "markdown",
   "id": "6e684e9e-bc82-48a4-81c9-c3861b6369fb",
   "metadata": {},
   "source": [
    "| | **Predicted** | |\n",
    "| -------- | ------------: | ------:|\n",
    "| | Other (N) | S. vorax (P) |\n",
    "|**Actual**| 3 | 2 |\n",
    "| | 1 | 4 |"
   ]
  },
  {
   "cell_type": "code",
   "execution_count": 60,
   "id": "74787e12-b522-4ec4-bc3a-ce1db1bace5c",
   "metadata": {},
   "outputs": [],
   "source": [
    "#1-7-M6"
   ]
  },
  {
   "cell_type": "markdown",
   "id": "c00897e5-2396-4197-ac9d-7dc0913ecba5",
   "metadata": {},
   "source": [
    "| | **Predicted** | |\n",
    "| -------- | ------------: | ------:|\n",
    "| | Other (N) | S. vorax (P) |\n",
    "|**Actual**| 2 | 3 |\n",
    "| | 0 | 5 |"
   ]
  },
  {
   "cell_type": "code",
   "execution_count": 61,
   "id": "c62a929a-7574-418f-9220-5b7ae5a8dab4",
   "metadata": {},
   "outputs": [
    {
     "data": {
      "text/plain": [
       "(0.7, 0.6666666666666666, 0.8, 0.7272727272727273)"
      ]
     },
     "execution_count": 61,
     "metadata": {},
     "output_type": "execute_result"
    }
   ],
   "source": [
    "#1-8-M5\n",
    "a = (4 + 3) / (4 + 3 + 1 + 2)\n",
    "p = 4 / (4 + 2)\n",
    "r = 4 / (4 + 1)\n",
    "f = (2 * 4) / ((2 * 4) + 2 + 1)\n",
    "a, p, r, f"
   ]
  },
  {
   "cell_type": "code",
   "execution_count": 62,
   "id": "e6e8f458-f586-45eb-99e2-87107d763987",
   "metadata": {},
   "outputs": [
    {
     "data": {
      "text/plain": [
       "(0.7, 0.625, 1.0, 0.7692307692307693)"
      ]
     },
     "execution_count": 62,
     "metadata": {},
     "output_type": "execute_result"
    }
   ],
   "source": [
    "#1-8-M6\n",
    "a = (5 + 2) / (5 + 2 + 0 + 3)\n",
    "p = 5 / (5 + 3)\n",
    "r = 5 / (5 + 0)\n",
    "f = (2 * 5) / ((2 * 5) + 3 + 0)\n",
    "a, p, r, f"
   ]
  },
  {
   "cell_type": "code",
   "execution_count": 63,
   "id": "a5cd56f4-488d-48df-959a-a56853d2f89c",
   "metadata": {},
   "outputs": [],
   "source": [
    "#1-9"
   ]
  },
  {
   "cell_type": "markdown",
   "id": "987ab18c-25d6-45b3-b87d-9e87076dd830",
   "metadata": {},
   "source": [
    "* Looking at accuracy, both models are recommended.\n",
    "* Looking at precision, M5 is better.\n",
    "* Looking at recall, M6 is better.\n",
    "* Looking at F-score, M6 is better."
   ]
  }
 ],
 "metadata": {
  "kernelspec": {
   "display_name": "Python 3 (ipykernel)",
   "language": "python",
   "name": "python3"
  },
  "language_info": {
   "codemirror_mode": {
    "name": "ipython",
    "version": 3
   },
   "file_extension": ".py",
   "mimetype": "text/x-python",
   "name": "python",
   "nbconvert_exporter": "python",
   "pygments_lexer": "ipython3",
   "version": "3.9.7"
  }
 },
 "nbformat": 4,
 "nbformat_minor": 5
}
