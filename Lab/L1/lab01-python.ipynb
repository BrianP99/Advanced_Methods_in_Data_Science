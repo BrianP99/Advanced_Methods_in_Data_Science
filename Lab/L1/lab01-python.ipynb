{
 "cells": [
  {
   "cell_type": "markdown",
   "id": "eae9e863-a0c2-441b-9dcd-d82066511a5a",
   "metadata": {},
   "source": [
    "# INFO 370 Lab 1\n",
    "*Name: Brian Park*"
   ]
  },
  {
   "cell_type": "markdown",
   "id": "451f9ce7-04e8-46b3-abb0-b801600f9889",
   "metadata": {
    "tags": []
   },
   "source": [
    "## Q1 Lists"
   ]
  },
  {
   "cell_type": "markdown",
   "id": "aaa0137d-194c-4a4e-961b-26d6778382a0",
   "metadata": {},
   "source": [
    "### 1. Create a list alphabet of lower case letters (minimum 10 letters). Print your list.\n"
   ]
  },
  {
   "cell_type": "code",
   "execution_count": 1,
   "id": "d80c7154-a92d-4d7b-9a9f-cf7e4f9d8597",
   "metadata": {},
   "outputs": [
    {
     "name": "stdout",
     "output_type": "stream",
     "text": [
      "['a', 'b', 'c', 'd', 'e', 'f', 'g', 'h', 'i', 'j']\n"
     ]
    }
   ],
   "source": [
    "alphabet = ['a', 'b', 'c', 'd', 'e', 'f', 'g', 'h', 'i', 'j']\n",
    "print(alphabet)"
   ]
  },
  {
   "cell_type": "markdown",
   "id": "ad525cf0-ad7f-46a4-ad72-72c0c2c5629f",
   "metadata": {},
   "source": [
    "### 2. Use list comprehension to convert your alphabet into upper case."
   ]
  },
  {
   "cell_type": "code",
   "execution_count": 4,
   "id": "e128cf4f-ae40-4ea2-99ec-510b831f6d3b",
   "metadata": {},
   "outputs": [
    {
     "name": "stdout",
     "output_type": "stream",
     "text": [
      "['A', 'B', 'C', 'D', 'E', 'F', 'G', 'H', 'I', 'J']\n"
     ]
    }
   ],
   "source": [
    "alphabet = [letter.upper() for letter in alphabet]\n",
    "print(alphabet)"
   ]
  },
  {
   "cell_type": "markdown",
   "id": "738fe06b-a011-4546-b635-b57581d2ab77",
   "metadata": {},
   "source": [
    "### 3. Try the following code using the alphabet you created above:"
   ]
  },
  {
   "cell_type": "code",
   "execution_count": 12,
   "id": "4fe3b384-4615-4364-b30a-a689f510bd85",
   "metadata": {},
   "outputs": [
    {
     "data": {
      "text/plain": [
       "['A', 'D', 'G', 'J']"
      ]
     },
     "execution_count": 12,
     "metadata": {},
     "output_type": "execute_result"
    }
   ],
   "source": [
    "alphabet[::3]"
   ]
  },
  {
   "cell_type": "markdown",
   "id": "c8c58bce-2bb0-4f5b-82e0-21772f364d28",
   "metadata": {},
   "source": [
    "Starts at the first element and returns every third value of the sequence."
   ]
  },
  {
   "cell_type": "code",
   "execution_count": 13,
   "id": "e39e9069-bd89-4227-91a9-d1d6cd760108",
   "metadata": {},
   "outputs": [
    {
     "data": {
      "text/plain": [
       "['B', 'E', 'H']"
      ]
     },
     "execution_count": 13,
     "metadata": {},
     "output_type": "execute_result"
    }
   ],
   "source": [
    "alphabet[1::3]"
   ]
  },
  {
   "cell_type": "markdown",
   "id": "93e3e42b-4454-4c44-abc9-97a77c0928f8",
   "metadata": {},
   "source": [
    "Starts at the second element and returns every third value of the sequence."
   ]
  },
  {
   "cell_type": "code",
   "execution_count": 14,
   "id": "33769d82-bf4a-4398-b6fd-220b0ca133a1",
   "metadata": {},
   "outputs": [
    {
     "data": {
      "text/plain": [
       "['C', 'F', 'I']"
      ]
     },
     "execution_count": 14,
     "metadata": {},
     "output_type": "execute_result"
    }
   ],
   "source": [
    "alphabet[2::3]"
   ]
  },
  {
   "cell_type": "markdown",
   "id": "4305986c-8cdb-42bf-b545-20b0d3e7da70",
   "metadata": {},
   "source": [
    "Starts at the third element and returns every third value of the sequence."
   ]
  },
  {
   "cell_type": "markdown",
   "id": "025205dd-be94-4d2d-89e1-584c73ddc932",
   "metadata": {},
   "source": [
    "### 4. Write a function power that takes a number, and return both its square and cube as a list (or tuple)."
   ]
  },
  {
   "cell_type": "code",
   "execution_count": 1,
   "id": "70141629-9a70-4e0c-bdc4-6a897da67bda",
   "metadata": {},
   "outputs": [
    {
     "name": "stdout",
     "output_type": "stream",
     "text": [
      "2 squared is 4 and 2 cubed is 8\n"
     ]
    }
   ],
   "source": [
    "def power(n):\n",
    "    return n**2, n**3\n",
    "\n",
    "square, cube = power(2)\n",
    "print(\"2 squared is \" + str(square) + \" and \" + \"2 cubed is \" + str(cube))"
   ]
  },
  {
   "cell_type": "markdown",
   "id": "545afafa-ffc5-4d42-bebd-cc837ae22a76",
   "metadata": {},
   "source": [
    "## Q2  Text Question"
   ]
  },
  {
   "cell_type": "markdown",
   "id": "9472a2ae-d471-46ee-8551-c86b158535c8",
   "metadata": {},
   "source": [
    "### 1. Why did you choose to take info370? What are the most valuable skills you hope to learn here?"
   ]
  },
  {
   "cell_type": "markdown",
   "id": "0eac0b8b-e530-4e5d-b1f6-baec8b67e9fa",
   "metadata": {},
   "source": [
    "I chose to take INFO 370 because I have been interested in data science and want to learn more about it. I don't have that much experience with Python, but I hope to take a lot of Python experience from this class and apply it to my future career. I'm very excited to be in this course and look forward to learning a lot about data science."
   ]
  },
  {
   "cell_type": "markdown",
   "id": "0592bc04-638e-481a-9289-a7a8726ed7df",
   "metadata": {},
   "source": [
    "## Q3 Dicts"
   ]
  },
  {
   "cell_type": "markdown",
   "id": "55b335a1-07e1-469d-85c1-b46de51e1d06",
   "metadata": {},
   "source": [
    "### 1. Create a dict of country-capital (at least 5 countries/capitals), e.g. Kenya: Nairobi, Cameroon: Yaoundé, ..."
   ]
  },
  {
   "cell_type": "code",
   "execution_count": 3,
   "id": "d1c223ad-4fcf-424b-a9d7-15c700675cfb",
   "metadata": {},
   "outputs": [
    {
     "data": {
      "text/plain": [
       "{'South Korea': 'Seoul',\n",
       " 'United States': 'Washington D.C.',\n",
       " 'China': 'Beijing',\n",
       " 'Japan': 'Tokyo',\n",
       " 'England': 'London'}"
      ]
     },
     "execution_count": 3,
     "metadata": {},
     "output_type": "execute_result"
    }
   ],
   "source": [
    "country_capital = {\"South Korea\": \"Seoul\", \"United States\": \"Washington D.C.\", \"China\": \"Beijing\", \"Japan\": \"Tokyo\", \"England\": \"London\"}\n",
    "country_capital"
   ]
  },
  {
   "cell_type": "markdown",
   "id": "570301d4-43b5-4bdb-b0c3-efe4e493c9b3",
   "metadata": {},
   "source": [
    "### 2. Extract all countries from your dict and make list of those."
   ]
  },
  {
   "cell_type": "code",
   "execution_count": 4,
   "id": "3de7cebe-c10b-4355-9d77-66eca48e3bed",
   "metadata": {},
   "outputs": [
    {
     "data": {
      "text/plain": [
       "['South Korea', 'United States', 'China', 'Japan', 'England']"
      ]
     },
     "execution_count": 4,
     "metadata": {},
     "output_type": "execute_result"
    }
   ],
   "source": [
    "countries = list(country_capital.keys())\n",
    "countries"
   ]
  },
  {
   "cell_type": "markdown",
   "id": "fdc565d2-6620-4c7d-8d20-1d2efa7e81ae",
   "metadata": {
    "tags": []
   },
   "source": [
    "### 3. Transform your dict into a capital-country one, e.g. Nairobi: Kenya, Yanoundé: Cameroon, ..."
   ]
  },
  {
   "cell_type": "code",
   "execution_count": 5,
   "id": "8db42c01-4aeb-44f3-8d77-5cf9bac0d082",
   "metadata": {},
   "outputs": [
    {
     "data": {
      "text/plain": [
       "{'Seoul': 'South Korea',\n",
       " 'Washington D.C.': 'United States',\n",
       " 'Beijing': 'China',\n",
       " 'Tokyo': 'Japan',\n",
       " 'London': 'England'}"
      ]
     },
     "execution_count": 5,
     "metadata": {},
     "output_type": "execute_result"
    }
   ],
   "source": [
    "transform = {}\n",
    "for country in country_capital.keys():\n",
    "    cap = country_capital[country]\n",
    "    transform[cap] = country\n",
    "transform"
   ]
  },
  {
   "cell_type": "markdown",
   "id": "5472b397-e057-424b-84a7-c23ab029d020",
   "metadata": {},
   "source": [
    "### 4. Make a function that achieves all the above: it takes country-capital list as an argument, and returns capital-country list. Demonstrate that it works correctly using the list you did above."
   ]
  },
  {
   "cell_type": "code",
   "execution_count": 7,
   "id": "3492e3d7-a7e8-4b9f-99b5-741157d50287",
   "metadata": {},
   "outputs": [
    {
     "data": {
      "text/plain": [
       "{'Seoul': 'South Korea',\n",
       " 'Washington D.C.': 'United States',\n",
       " 'Beijing': 'China',\n",
       " 'Tokyo': 'Japan',\n",
       " 'London': 'England'}"
      ]
     },
     "execution_count": 7,
     "metadata": {},
     "output_type": "execute_result"
    }
   ],
   "source": [
    "def func(dict):\n",
    "    new = {}\n",
    "    for key in dict.keys():\n",
    "        value = dict[key]\n",
    "        new[value] = key\n",
    "    return new\n",
    "func(country_capital)"
   ]
  }
 ],
 "metadata": {
  "kernelspec": {
   "display_name": "Python 3 (ipykernel)",
   "language": "python",
   "name": "python3"
  },
  "language_info": {
   "codemirror_mode": {
    "name": "ipython",
    "version": 3
   },
   "file_extension": ".py",
   "mimetype": "text/x-python",
   "name": "python",
   "nbconvert_exporter": "python",
   "pygments_lexer": "ipython3",
   "version": "3.9.7"
  }
 },
 "nbformat": 4,
 "nbformat_minor": 5
}
