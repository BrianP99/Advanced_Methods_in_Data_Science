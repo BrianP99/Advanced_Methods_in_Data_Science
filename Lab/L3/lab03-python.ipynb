{
 "cells": [
  {
   "cell_type": "markdown",
   "id": "d3ab9565-f91f-4bd5-a693-98036489041b",
   "metadata": {},
   "source": [
    "# INFO 370 Lab 3\n",
    "*Name: Brian Park*"
   ]
  },
  {
   "cell_type": "code",
   "execution_count": 35,
   "id": "2afb4df0-ed95-462c-95aa-096293c223b7",
   "metadata": {},
   "outputs": [],
   "source": [
    "import matplotlib.pyplot as plt\n",
    "import pandas as pd\n",
    "import numpy as np"
   ]
  },
  {
   "cell_type": "markdown",
   "id": "259c6230-90da-471d-ac61-7fdfb56c6cd2",
   "metadata": {},
   "source": [
    "## Q1 Toss two coins"
   ]
  },
  {
   "cell_type": "markdown",
   "id": "7c56fa27-f9bc-4894-91c0-f8a35c0699b2",
   "metadata": {},
   "source": [
    "### 1. Explain which object(s) are you flipping, and if you had two of these or just a single object."
   ]
  },
  {
   "cell_type": "markdown",
   "id": "27adcc4a-2968-414f-a18d-edd73fc0a70b",
   "metadata": {},
   "source": [
    "I chose to flip two bottle caps instead of two coins."
   ]
  },
  {
   "cell_type": "markdown",
   "id": "5d12ef3f-8451-4eb4-8d17-d7af4b342e88",
   "metadata": {},
   "source": [
    "### 2. Toss the coins (or whatever object you chose). For each toss, add a row in the table about the number of heads in each trial"
   ]
  },
  {
   "cell_type": "markdown",
   "id": "402542cb-be43-4aff-9f70-c676e2ecc4d7",
   "metadata": {},
   "source": [
    "| Trial | Heads |\n",
    "| :----: | :--------: |\n",
    "| 1 | 1 |\n",
    "| 2 | 1 |\n",
    "| 3 | 2 |\n",
    "| 4 | 0 |\n",
    "| 5 | 1 |\n",
    "| 6 | 1 |\n",
    "| 7 | 2 |\n",
    "| 8 | 0 |\n",
    "| 9 | 1 |\n",
    "| 10 | 1 |\n",
    "| 11 | 1 |\n",
    "| 12 | 0 |\n",
    "| 13 | 1 |\n",
    "| 14 | 2 |\n",
    "| 15 | 1 |\n",
    "| 16 | 0 |\n",
    "| 17 | 0 |\n",
    "| 18 | 1 |\n",
    "| 19 | 2 |\n",
    "| 20 | 0 |\n"
   ]
  },
  {
   "cell_type": "markdown",
   "id": "99e4b73c-2746-4bd6-9f71-b10c31fbf6e4",
   "metadata": {},
   "source": [
    "### 3. Show a summary table of your results: how many times did you get 0 heads, 1 hears, 2 heads."
   ]
  },
  {
   "cell_type": "markdown",
   "id": "8e093d0b-a001-4993-8d28-0b192d817bf9",
   "metadata": {},
   "source": [
    "After tossing the objects, I got six 0s, ten 1s, four 2s."
   ]
  },
  {
   "cell_type": "markdown",
   "id": "98cbb167-579b-43f2-b84e-9ecb46bdcd97",
   "metadata": {},
   "source": [
    "### 4. Compute the mean of your results (the number of the heads you got)"
   ]
  },
  {
   "cell_type": "code",
   "execution_count": 36,
   "id": "5d292f40-5433-4b1e-aa75-d647c83c8e0b",
   "metadata": {},
   "outputs": [
    {
     "data": {
      "text/plain": [
       "0.9"
      ]
     },
     "execution_count": 36,
     "metadata": {},
     "output_type": "execute_result"
    }
   ],
   "source": [
    "mn = ((6*0) + (10*1) + (4*2)) / 20\n",
    "mn"
   ]
  },
  {
   "cell_type": "markdown",
   "id": "1da7d691-3505-496e-ba45-995e9138d969",
   "metadata": {},
   "source": [
    "### 5. Compute the median (do not use the “median” function). Explain how do you do it."
   ]
  },
  {
   "cell_type": "code",
   "execution_count": 37,
   "id": "70971af1-9252-4e28-aec4-6ce08eb6222a",
   "metadata": {},
   "outputs": [
    {
     "data": {
      "text/plain": [
       "0     0\n",
       "1     0\n",
       "2     0\n",
       "3     0\n",
       "4     0\n",
       "5     0\n",
       "6     1\n",
       "7     1\n",
       "8     1\n",
       "9     1\n",
       "10    1\n",
       "11    1\n",
       "12    1\n",
       "13    1\n",
       "14    1\n",
       "15    1\n",
       "16    2\n",
       "17    2\n",
       "18    2\n",
       "19    2\n",
       "dtype: int64"
      ]
     },
     "execution_count": 37,
     "metadata": {},
     "output_type": "execute_result"
    }
   ],
   "source": [
    "s = pd.Series([1, 1, 2, 0, 1, 1, 2, 0, 1, 1, 1, 0, 1, 2, 1, 0, 0, 1, 2, 0])\n",
    "s = s.sort_values(ascending = True).reset_index(drop = True)\n",
    "s"
   ]
  },
  {
   "cell_type": "markdown",
   "id": "6a9e8877-8ba3-46d5-b6e7-b9820166cda3",
   "metadata": {},
   "source": [
    "I created a series to put in the results and sorted the list in ascending order. After that, I could find the median value 1 which was the number in the middle."
   ]
  },
  {
   "cell_type": "markdown",
   "id": "baefbd8d-64ce-4713-b91c-280acb9dc1de",
   "metadata": {},
   "source": [
    "### 6. Compute 25th percentile of your results (do not use the “percentile” function.) Explain how do you do it."
   ]
  },
  {
   "cell_type": "code",
   "execution_count": 38,
   "id": "d4a1325b-d630-4722-9b0f-24308cce2372",
   "metadata": {},
   "outputs": [
    {
     "data": {
      "text/plain": [
       "5.25"
      ]
     },
     "execution_count": 38,
     "metadata": {},
     "output_type": "execute_result"
    }
   ],
   "source": [
    "index = (25 / 100) * (20 + 1)\n",
    "index"
   ]
  },
  {
   "cell_type": "code",
   "execution_count": 39,
   "id": "53dd1b1d-f688-4bf2-b9f4-a9a8028a3bb4",
   "metadata": {},
   "outputs": [
    {
     "data": {
      "text/plain": [
       "0"
      ]
     },
     "execution_count": 39,
     "metadata": {},
     "output_type": "execute_result"
    }
   ],
   "source": [
    "s[int(index)]"
   ]
  },
  {
   "cell_type": "markdown",
   "id": "a36449df-d4c1-43d4-9d9e-4cff173efe72",
   "metadata": {},
   "source": [
    "I calculated the 25% point of the results and the closest index to 5.25 is 5. Therefore, the 25th percentile of my results is 0."
   ]
  },
  {
   "cell_type": "markdown",
   "id": "df3b5902-ce03-43fd-a9f0-2c0d98950542",
   "metadata": {},
   "source": [
    "### 7. Compute the variance of your results (the number of heads in your individual trials)."
   ]
  },
  {
   "cell_type": "code",
   "execution_count": 40,
   "id": "f26e6e02-9015-465e-bb3a-514a17f7165d",
   "metadata": {},
   "outputs": [
    {
     "data": {
      "text/plain": [
       "0.49000000000000005"
      ]
     },
     "execution_count": 40,
     "metadata": {},
     "output_type": "execute_result"
    }
   ],
   "source": [
    "var = ((((0 - 0.9) ** 2) * 6) + (((1 - 0.9) ** 2) * 10) + (((2 - 0.9) ** 2) * 4)) / 20\n",
    "var"
   ]
  },
  {
   "cell_type": "markdown",
   "id": "8aa6018b-76f5-4985-8be2-00313cc09d09",
   "metadata": {},
   "source": [
    "### 8. Compute standard deviation of your results"
   ]
  },
  {
   "cell_type": "code",
   "execution_count": 41,
   "id": "93cba2e9-0f06-4588-90cf-51c5e0ff3e9b",
   "metadata": {},
   "outputs": [
    {
     "data": {
      "text/plain": [
       "0.7000000000000001"
      ]
     },
     "execution_count": 41,
     "metadata": {},
     "output_type": "execute_result"
    }
   ],
   "source": [
    "std = np.sqrt(var)\n",
    "std"
   ]
  },
  {
   "cell_type": "markdown",
   "id": "a5213487-2080-4fb8-8c08-0a02fba42a91",
   "metadata": {},
   "source": [
    "### 9. Plot (or manually sketch) a histogram of your results"
   ]
  },
  {
   "cell_type": "code",
   "execution_count": 42,
   "id": "af1e90b2-b878-40b5-bfc5-d668b32d98b1",
   "metadata": {},
   "outputs": [
    {
     "data": {
      "image/png": "[encoded data removed]",
      "text/plain": [
       "<Figure size 432x288 with 1 Axes>"
      ]
     },
     "metadata": {
      "needs_background": "light"
     },
     "output_type": "display_data"
    }
   ],
   "source": [
    "_ = plt.hist(s, bins = 100)"
   ]
  },
  {
   "cell_type": "markdown",
   "id": "e7e33cd5-7007-4958-a1dc-2684f3c2bd06",
   "metadata": {},
   "source": [
    "### 10. Is your distribution left-skewed, symmetric, or right-skewed?"
   ]
  },
  {
   "cell_type": "markdown",
   "id": "d7145c04-e476-407a-a6e1-c7e675492617",
   "metadata": {},
   "source": [
    "My distribution is symmetric since we only had small sample size and only have 0, 1, or 2 for expected values."
   ]
  },
  {
   "cell_type": "markdown",
   "id": "163fbea7-e247-407f-9646-8834f2666acf",
   "metadata": {},
   "source": [
    "### 11. Does you data contain outliers? Can it contain outliers?"
   ]
  },
  {
   "cell_type": "markdown",
   "id": "9ce187e6-f4fa-47e6-a43d-4538a2b8c36a",
   "metadata": {},
   "source": [
    "My data doesn't and can't have outliers because the expected outcomes are only 0, 1, or 2. In order to have outliers, the expected values should have much larger numbers other than 0, 1, or 2."
   ]
  }
 ],
 "metadata": {
  "kernelspec": {
   "display_name": "Python 3 (ipykernel)",
   "language": "python",
   "name": "python3"
  },
  "language_info": {
   "codemirror_mode": {
    "name": "ipython",
    "version": 3
   },
   "file_extension": ".py",
   "mimetype": "text/x-python",
   "name": "python",
   "nbconvert_exporter": "python",
   "pygments_lexer": "ipython3",
   "version": "3.9.7"
  }
 },
 "nbformat": 4,
 "nbformat_minor": 5
}
