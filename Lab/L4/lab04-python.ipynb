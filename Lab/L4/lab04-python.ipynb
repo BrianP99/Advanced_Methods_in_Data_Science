{
 "cells": [
  {
   "cell_type": "markdown",
   "id": "b91599a3-0f0c-4c2a-9bc2-2d3ac0944600",
   "metadata": {},
   "source": [
    "# INFO 370 Lab 4\n",
    "*Name: Brian Park*"
   ]
  },
  {
   "cell_type": "code",
   "execution_count": 1,
   "id": "12f7e0eb-7a59-4add-8faf-39268ec86f5c",
   "metadata": {},
   "outputs": [],
   "source": [
    "import pandas as pd\n",
    "import numpy as np\n",
    "import matplotlib.pyplot as plt"
   ]
  },
  {
   "cell_type": "markdown",
   "id": "edfba1d7-505d-440c-8d5a-7c48cf2917da",
   "metadata": {},
   "source": [
    "## 1. Fair Coin"
   ]
  },
  {
   "cell_type": "markdown",
   "id": "fb8ee419-6abf-4d46-9813-7980a52c3f21",
   "metadata": {},
   "source": [
    "1. Compute expected value of X\n",
    "2. Compute variance of X\n",
    "3. Create a sample of S = 10 realizations of X. Compute (a) sample mean (b) sample variance Compare that with the expected value and variance you computed above\n",
    "4. Repeat with S = 100,000.\n",
    "5. Comment how similar are your sample values and theoretical values."
   ]
  },
  {
   "cell_type": "code",
   "execution_count": 2,
   "id": "ba7e22b1-b37c-4aa1-8a6a-2a754b290b63",
   "metadata": {},
   "outputs": [
    {
     "data": {
      "text/plain": [
       "0.5"
      ]
     },
     "execution_count": 2,
     "metadata": {},
     "output_type": "execute_result"
    }
   ],
   "source": [
    "#1-1\n",
    "EX = (0 * 0.5) + (1 * 0.5)\n",
    "EX"
   ]
  },
  {
   "cell_type": "code",
   "execution_count": 3,
   "id": "173d4e00-2dce-4e01-b0c1-7cb83d91f351",
   "metadata": {},
   "outputs": [
    {
     "data": {
      "text/plain": [
       "0.25"
      ]
     },
     "execution_count": 3,
     "metadata": {},
     "output_type": "execute_result"
    }
   ],
   "source": [
    "#1-2\n",
    "Var = (((0-EX)**2)*0.5) + (((1-EX)**2)*0.5)\n",
    "Var"
   ]
  },
  {
   "cell_type": "code",
   "execution_count": 22,
   "id": "352535b8-ccfd-47e8-b4bf-e13d1ed652c5",
   "metadata": {},
   "outputs": [
    {
     "data": {
      "text/plain": [
       "array([1, 0, 1, 1, 1, 0, 0, 1, 1, 0])"
      ]
     },
     "execution_count": 22,
     "metadata": {},
     "output_type": "execute_result"
    }
   ],
   "source": [
    "#1-3\n",
    "S = np.random.binomial(1, 0.5, size=10)\n",
    "S"
   ]
  },
  {
   "cell_type": "code",
   "execution_count": 23,
   "id": "8ed30900-726a-47bb-8f28-235df5af967f",
   "metadata": {},
   "outputs": [
    {
     "data": {
      "text/plain": [
       "0.6"
      ]
     },
     "execution_count": 23,
     "metadata": {},
     "output_type": "execute_result"
    }
   ],
   "source": [
    "#1-3-a\n",
    "np.mean(S)"
   ]
  },
  {
   "cell_type": "markdown",
   "id": "69036a3f-0e1f-424b-b903-753061c999b8",
   "metadata": {},
   "source": [
    "This sample mean is quite close to the expected value, but it is not exactly the same."
   ]
  },
  {
   "cell_type": "code",
   "execution_count": 24,
   "id": "57ecad40-5407-4f72-9145-8974f611d380",
   "metadata": {},
   "outputs": [
    {
     "data": {
      "text/plain": [
       "0.24"
      ]
     },
     "execution_count": 24,
     "metadata": {},
     "output_type": "execute_result"
    }
   ],
   "source": [
    "#1-3-b\n",
    "np.var(S)"
   ]
  },
  {
   "cell_type": "markdown",
   "id": "462ecaeb-f475-4bef-b798-b2763fad25e0",
   "metadata": {},
   "source": [
    "This sample variance is quite close to the variance computed in 1-2, but it is not exactly the same."
   ]
  },
  {
   "cell_type": "code",
   "execution_count": 5,
   "id": "e47fe8dc-ef33-4e23-b15a-c73f4440114c",
   "metadata": {},
   "outputs": [
    {
     "data": {
      "text/plain": [
       "0.49864"
      ]
     },
     "execution_count": 5,
     "metadata": {},
     "output_type": "execute_result"
    }
   ],
   "source": [
    "#1-4\n",
    "S2 = np.random.binomial(1, 0.5, size=100000)\n",
    "np.mean(S2)"
   ]
  },
  {
   "cell_type": "code",
   "execution_count": 6,
   "id": "f95735c5-658c-4d8e-84c9-117b1add8bd0",
   "metadata": {},
   "outputs": [
    {
     "data": {
      "text/plain": [
       "0.2499981504"
      ]
     },
     "execution_count": 6,
     "metadata": {},
     "output_type": "execute_result"
    }
   ],
   "source": [
    "#1-4\n",
    "np.var(S2)"
   ]
  },
  {
   "cell_type": "code",
   "execution_count": 29,
   "id": "c327b781-e5c8-4fc0-ad98-f728d02307dd",
   "metadata": {},
   "outputs": [],
   "source": [
    "#1-5"
   ]
  },
  {
   "cell_type": "markdown",
   "id": "83b81d31-7ca6-4f21-ad3c-adeca8b22a84",
   "metadata": {},
   "source": [
    "Increasing the sample size brought the sample values much closer to the theoretical values. The sample values are now more similar to the theoretical values computed above."
   ]
  },
  {
   "cell_type": "markdown",
   "id": "8e1f3d6d-8eed-48db-af2a-320e0c19a50a",
   "metadata": {},
   "source": [
    "## 2. Two biased coins"
   ]
  },
  {
   "cell_type": "markdown",
   "id": "1c73a879-9952-43a2-94c9-cce070f53c07",
   "metadata": {},
   "source": [
    "1. Compute expected value of Y\n",
    "2. Compute variance of Y\n",
    "3. Create a sample of S = 10 realizations of Y. Compute (a) sample mean (b) sample variance Compare that with the expected value and variance you computed above\n",
    "4. Repeat with S = 100, 000.\n",
    "5. Comment how similar are your sample values and theoretical values."
   ]
  },
  {
   "cell_type": "code",
   "execution_count": 8,
   "id": "391cbef2-7c37-4254-88fd-78d981c8b3f9",
   "metadata": {},
   "outputs": [
    {
     "data": {
      "text/plain": [
       "1.2"
      ]
     },
     "execution_count": 8,
     "metadata": {},
     "output_type": "execute_result"
    }
   ],
   "source": [
    "#2-1\n",
    "EY = (0 * 0.16) + (1 * 0.48) + (2 * 0.36)\n",
    "EY"
   ]
  },
  {
   "cell_type": "code",
   "execution_count": 9,
   "id": "1174dd0b-ab9a-4918-a4a8-daa5c123ef95",
   "metadata": {},
   "outputs": [
    {
     "data": {
      "text/plain": [
       "0.48000000000000004"
      ]
     },
     "execution_count": 9,
     "metadata": {},
     "output_type": "execute_result"
    }
   ],
   "source": [
    "#2-2\n",
    "yVar = (((0-EY)**2)*0.16) + (((1-EY)**2)*0.48) + (((2-EY)**2)*0.36)\n",
    "yVar"
   ]
  },
  {
   "cell_type": "code",
   "execution_count": 19,
   "id": "bcb7c2e4-3de7-441b-9a8f-1a89dc0f0a77",
   "metadata": {},
   "outputs": [
    {
     "data": {
      "text/plain": [
       "array([1, 1, 1, 2, 1, 2, 0, 2, 2, 2])"
      ]
     },
     "execution_count": 19,
     "metadata": {},
     "output_type": "execute_result"
    }
   ],
   "source": [
    "#2-3\n",
    "SY = np.random.binomial(2, 0.6, size=10)\n",
    "SY"
   ]
  },
  {
   "cell_type": "code",
   "execution_count": 20,
   "id": "b7bb9c94-639d-4234-b98c-eb3993c51577",
   "metadata": {},
   "outputs": [
    {
     "data": {
      "text/plain": [
       "1.4"
      ]
     },
     "execution_count": 20,
     "metadata": {},
     "output_type": "execute_result"
    }
   ],
   "source": [
    "#2-3-a\n",
    "np.mean(SY)"
   ]
  },
  {
   "cell_type": "markdown",
   "id": "9ce0c63d-1777-46c7-bffb-669c1fdf4cd8",
   "metadata": {},
   "source": [
    "The sample mean is 0.2 larger than the expected value and is not exactly equal."
   ]
  },
  {
   "cell_type": "code",
   "execution_count": 22,
   "id": "cfa8cb70-99a6-45b0-9cc7-366308a38762",
   "metadata": {},
   "outputs": [
    {
     "data": {
      "text/plain": [
       "0.44000000000000006"
      ]
     },
     "execution_count": 22,
     "metadata": {},
     "output_type": "execute_result"
    }
   ],
   "source": [
    "#2-3-b\n",
    "np.var(SY)"
   ]
  },
  {
   "cell_type": "markdown",
   "id": "5314b2aa-a358-42bb-a30d-4fa02ab2f91f",
   "metadata": {},
   "source": [
    "The sample variance is about 0.04 smaller than the expected variance and is not exactly equal."
   ]
  },
  {
   "cell_type": "code",
   "execution_count": 24,
   "id": "6e805084-afa4-45d3-8532-55a9e076633a",
   "metadata": {},
   "outputs": [
    {
     "data": {
      "text/plain": [
       "1.20313"
      ]
     },
     "execution_count": 24,
     "metadata": {},
     "output_type": "execute_result"
    }
   ],
   "source": [
    "#2-4\n",
    "SY2 = np.random.binomial(2, 0.6, size=100000)\n",
    "np.mean(SY2)"
   ]
  },
  {
   "cell_type": "code",
   "execution_count": 25,
   "id": "3999d73f-d3f7-4a74-b2a1-e3fccf48c34a",
   "metadata": {},
   "outputs": [
    {
     "data": {
      "text/plain": [
       "0.48006820310000003"
      ]
     },
     "execution_count": 25,
     "metadata": {},
     "output_type": "execute_result"
    }
   ],
   "source": [
    "#2-4\n",
    "np.var(SY2)"
   ]
  },
  {
   "cell_type": "code",
   "execution_count": 40,
   "id": "bcb5dd82-9a0a-4530-81dd-f6ba1f966425",
   "metadata": {},
   "outputs": [],
   "source": [
    "#2-5"
   ]
  },
  {
   "cell_type": "markdown",
   "id": "f91eb0bb-28e2-4026-b70c-3d1281b5f251",
   "metadata": {},
   "source": [
    "Both sample values approached the theoretical values after increasing the sample size. The sample values are now more similar to the theoretical values."
   ]
  },
  {
   "cell_type": "markdown",
   "id": "b218bca9-ad76-4f07-be3c-0dd8a4b08267",
   "metadata": {},
   "source": [
    "## 3. Pareto distribution"
   ]
  },
  {
   "cell_type": "markdown",
   "id": "6382daf5-4356-49d8-ae59-3e6531a61099",
   "metadata": {},
   "source": [
    "1. Pick a value for α. You should pick a number greater than 2, otherwise the results get tricky.\n",
    "2. Compute the expected value and variance using the formulas above.\n",
    "3. Repeat what you did above: Sample S = 10 and S = 100, 000 realizations of Z and compute the sample mean and variance.\n",
    "4. Comment on how close are your sample mean and variance to the theoretical ones, both in case of the small and the large sample.\n",
    "5. Finally, make a histogram of the large sample you created. It looks better if you set y to be in log scale. (It looks even better if you also set x in log scale.)"
   ]
  },
  {
   "cell_type": "code",
   "execution_count": 26,
   "id": "14093ae9-a316-428b-bb02-baf2c8a44c20",
   "metadata": {},
   "outputs": [
    {
     "data": {
      "text/plain": [
       "10"
      ]
     },
     "execution_count": 26,
     "metadata": {},
     "output_type": "execute_result"
    }
   ],
   "source": [
    "#3-1\n",
    "alpha = 10 # pick an alpha value\n",
    "alpha"
   ]
  },
  {
   "cell_type": "code",
   "execution_count": 27,
   "id": "2428f23f-9a80-44dc-aad0-b36afa5df285",
   "metadata": {},
   "outputs": [
    {
     "data": {
      "text/plain": [
       "0.1111111111111111"
      ]
     },
     "execution_count": 27,
     "metadata": {},
     "output_type": "execute_result"
    }
   ],
   "source": [
    "#3-2 Expected Value\n",
    "EZ = 1 / (alpha - 1)\n",
    "EZ"
   ]
  },
  {
   "cell_type": "code",
   "execution_count": 28,
   "id": "c6825c1c-03de-4637-9dbc-d73c497f6d02",
   "metadata": {},
   "outputs": [
    {
     "data": {
      "text/plain": [
       "0.015432098765432098"
      ]
     },
     "execution_count": 28,
     "metadata": {},
     "output_type": "execute_result"
    }
   ],
   "source": [
    "#3-2 Expected Variance\n",
    "VarZ = (alpha)/(((alpha-1)**2)*(alpha-2))\n",
    "VarZ"
   ]
  },
  {
   "cell_type": "code",
   "execution_count": 48,
   "id": "2c577f7b-cbec-44ac-b137-dc58ed4cebb4",
   "metadata": {},
   "outputs": [
    {
     "data": {
      "text/plain": [
       "(0.08219150073489367, 0.0023438741485526313)"
      ]
     },
     "execution_count": 48,
     "metadata": {},
     "output_type": "execute_result"
    }
   ],
   "source": [
    "#3-3-S10\n",
    "S10 = np.random.pareto(alpha, size=10)\n",
    "np.mean(S10), np.var(S10)"
   ]
  },
  {
   "cell_type": "code",
   "execution_count": 30,
   "id": "fd032f4d-834f-416a-96df-2cc4e5830368",
   "metadata": {},
   "outputs": [
    {
     "data": {
      "text/plain": [
       "(0.1111944167896593, 0.015251902977612315)"
      ]
     },
     "execution_count": 30,
     "metadata": {},
     "output_type": "execute_result"
    }
   ],
   "source": [
    "#3-3-S100000\n",
    "S100000 = np.random.pareto(alpha, size=100000)\n",
    "np.mean(S100000), np.var(S100000)"
   ]
  },
  {
   "cell_type": "code",
   "execution_count": 50,
   "id": "eeb03fb3-c596-4395-b2d8-952a67823105",
   "metadata": {},
   "outputs": [],
   "source": [
    "#3-4"
   ]
  },
  {
   "cell_type": "markdown",
   "id": "98c206e6-4f80-4372-8267-8fa32df66888",
   "metadata": {},
   "source": [
    "The sample mean and variance weren't quite close to the theoretical values with the small sample size. However, increasing the sample size with 100,000 brought more accuracy to the sample mean and variance, much closer to the theoretical values."
   ]
  },
  {
   "cell_type": "code",
   "execution_count": 35,
   "id": "25da53ce-4d6f-44f8-8bff-7fb1ff054c6c",
   "metadata": {},
   "outputs": [
    {
     "data": {
      "image/png": "[encoded data removed]",
      "text/plain": [
       "<Figure size 432x288 with 1 Axes>"
      ]
     },
     "metadata": {
      "needs_background": "light"
     },
     "output_type": "display_data"
    }
   ],
   "source": [
    "#3-5-y\n",
    "_ = plt.hist(S100000, bins = 100, edgecolor = \"black\")\n",
    "_ = plt.yscale(\"log\")"
   ]
  },
  {
   "cell_type": "code",
   "execution_count": 34,
   "id": "cf98151f-cc11-4b4c-bf83-b79ab52a9611",
   "metadata": {},
   "outputs": [
    {
     "data": {
      "image/png": "[encoded data removed]",
      "text/plain": [
       "<Figure size 432x288 with 1 Axes>"
      ]
     },
     "metadata": {
      "needs_background": "light"
     },
     "output_type": "display_data"
    }
   ],
   "source": [
    "#3-5-x\n",
    "_ = plt.hist(S100000, bins = 100, edgecolor = \"black\")\n",
    "_ = plt.xscale(\"log\")"
   ]
  }
 ],
 "metadata": {
  "kernelspec": {
   "display_name": "Python 3 (ipykernel)",
   "language": "python",
   "name": "python3"
  },
  "language_info": {
   "codemirror_mode": {
    "name": "ipython",
    "version": 3
   },
   "file_extension": ".py",
   "mimetype": "text/x-python",
   "name": "python",
   "nbconvert_exporter": "python",
   "pygments_lexer": "ipython3",
   "version": "3.9.7"
  }
 },
 "nbformat": 4,
 "nbformat_minor": 5
}
